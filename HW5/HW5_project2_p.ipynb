{
  "nbformat": 4,
  "nbformat_minor": 0,
  "metadata": {
    "colab": {
      "name": "HW5_project2_p.ipynb",
      "provenance": [],
      "collapsed_sections": [],
      "authorship_tag": "ABX9TyMC6HIKc29tqVawMCKiQVU+",
      "include_colab_link": true
    },
    "kernelspec": {
      "name": "python3",
      "display_name": "Python 3"
    },
    "language_info": {
      "name": "python"
    }
  },
  "cells": [
    {
      "cell_type": "markdown",
      "metadata": {
        "id": "view-in-github",
        "colab_type": "text"
      },
      "source": [
        "<a href=\"https://colab.research.google.com/github/nk755799/IDS/blob/main/HW5/HW5_project2_p.ipynb\" target=\"_parent\"><img src=\"https://colab.research.google.com/assets/colab-badge.svg\" alt=\"Open In Colab\"/></a>"
      ]
    },
    {
      "cell_type": "markdown",
      "source": [
        "Project5  (HW5)\n",
        "\n",
        "Naresh Kalluri (10755799)\n",
        "\n",
        "Github repository:https://github.com/nk755799/IDS/tree/main/HW5"
      ],
      "metadata": {
        "id": "bC2aRMBMBfPa"
      }
    },
    {
      "cell_type": "code",
      "source": [
        "#Importing the libraries\n",
        "import pandas as pd\n",
        "import numpy as np\n",
        "from sklearn import preprocessing\n"
      ],
      "metadata": {
        "id": "RZvK8DDn10Qo"
      },
      "execution_count": null,
      "outputs": []
    },
    {
      "cell_type": "markdown",
      "source": [
        "**Imported the Dataset from my Github (HW5) Repository**"
      ],
      "metadata": {
        "id": "eNW3JQUg7aJS"
      }
    },
    {
      "cell_type": "code",
      "source": [
        "wineFlagDF = pd.read_csv(\"https://raw.githubusercontent.com/nk755799/IDS/main/HW5/wine_flag_all.csv\")\n",
        "wineFlagDF.head()"
      ],
      "metadata": {
        "colab": {
          "base_uri": "https://localhost:8080/",
          "height": 206
        },
        "id": "C_jqbiJS104d",
        "outputId": "1a94d639-f13d-41f6-d36d-5d9b46d99f2f"
      },
      "execution_count": null,
      "outputs": [
        {
          "output_type": "execute_result",
          "data": {
            "text/plain": [
              "  Type Alcohol_flag Sugar_flag\n",
              "0  Red         High       High\n",
              "1  Red         High        Low\n",
              "2  Red          Low       High\n",
              "3  Red         High        Low\n",
              "4  Red          Low        Low"
            ],
            "text/html": [
              "\n",
              "  <div id=\"df-6a5a47c2-048b-4b99-9dbd-641bce63958b\">\n",
              "    <div class=\"colab-df-container\">\n",
              "      <div>\n",
              "<style scoped>\n",
              "    .dataframe tbody tr th:only-of-type {\n",
              "        vertical-align: middle;\n",
              "    }\n",
              "\n",
              "    .dataframe tbody tr th {\n",
              "        vertical-align: top;\n",
              "    }\n",
              "\n",
              "    .dataframe thead th {\n",
              "        text-align: right;\n",
              "    }\n",
              "</style>\n",
              "<table border=\"1\" class=\"dataframe\">\n",
              "  <thead>\n",
              "    <tr style=\"text-align: right;\">\n",
              "      <th></th>\n",
              "      <th>Type</th>\n",
              "      <th>Alcohol_flag</th>\n",
              "      <th>Sugar_flag</th>\n",
              "    </tr>\n",
              "  </thead>\n",
              "  <tbody>\n",
              "    <tr>\n",
              "      <th>0</th>\n",
              "      <td>Red</td>\n",
              "      <td>High</td>\n",
              "      <td>High</td>\n",
              "    </tr>\n",
              "    <tr>\n",
              "      <th>1</th>\n",
              "      <td>Red</td>\n",
              "      <td>High</td>\n",
              "      <td>Low</td>\n",
              "    </tr>\n",
              "    <tr>\n",
              "      <th>2</th>\n",
              "      <td>Red</td>\n",
              "      <td>Low</td>\n",
              "      <td>High</td>\n",
              "    </tr>\n",
              "    <tr>\n",
              "      <th>3</th>\n",
              "      <td>Red</td>\n",
              "      <td>High</td>\n",
              "      <td>Low</td>\n",
              "    </tr>\n",
              "    <tr>\n",
              "      <th>4</th>\n",
              "      <td>Red</td>\n",
              "      <td>Low</td>\n",
              "      <td>Low</td>\n",
              "    </tr>\n",
              "  </tbody>\n",
              "</table>\n",
              "</div>\n",
              "      <button class=\"colab-df-convert\" onclick=\"convertToInteractive('df-6a5a47c2-048b-4b99-9dbd-641bce63958b')\"\n",
              "              title=\"Convert this dataframe to an interactive table.\"\n",
              "              style=\"display:none;\">\n",
              "        \n",
              "  <svg xmlns=\"http://www.w3.org/2000/svg\" height=\"24px\"viewBox=\"0 0 24 24\"\n",
              "       width=\"24px\">\n",
              "    <path d=\"M0 0h24v24H0V0z\" fill=\"none\"/>\n",
              "    <path d=\"M18.56 5.44l.94 2.06.94-2.06 2.06-.94-2.06-.94-.94-2.06-.94 2.06-2.06.94zm-11 1L8.5 8.5l.94-2.06 2.06-.94-2.06-.94L8.5 2.5l-.94 2.06-2.06.94zm10 10l.94 2.06.94-2.06 2.06-.94-2.06-.94-.94-2.06-.94 2.06-2.06.94z\"/><path d=\"M17.41 7.96l-1.37-1.37c-.4-.4-.92-.59-1.43-.59-.52 0-1.04.2-1.43.59L10.3 9.45l-7.72 7.72c-.78.78-.78 2.05 0 2.83L4 21.41c.39.39.9.59 1.41.59.51 0 1.02-.2 1.41-.59l7.78-7.78 2.81-2.81c.8-.78.8-2.07 0-2.86zM5.41 20L4 18.59l7.72-7.72 1.47 1.35L5.41 20z\"/>\n",
              "  </svg>\n",
              "      </button>\n",
              "      \n",
              "  <style>\n",
              "    .colab-df-container {\n",
              "      display:flex;\n",
              "      flex-wrap:wrap;\n",
              "      gap: 12px;\n",
              "    }\n",
              "\n",
              "    .colab-df-convert {\n",
              "      background-color: #E8F0FE;\n",
              "      border: none;\n",
              "      border-radius: 50%;\n",
              "      cursor: pointer;\n",
              "      display: none;\n",
              "      fill: #1967D2;\n",
              "      height: 32px;\n",
              "      padding: 0 0 0 0;\n",
              "      width: 32px;\n",
              "    }\n",
              "\n",
              "    .colab-df-convert:hover {\n",
              "      background-color: #E2EBFA;\n",
              "      box-shadow: 0px 1px 2px rgba(60, 64, 67, 0.3), 0px 1px 3px 1px rgba(60, 64, 67, 0.15);\n",
              "      fill: #174EA6;\n",
              "    }\n",
              "\n",
              "    [theme=dark] .colab-df-convert {\n",
              "      background-color: #3B4455;\n",
              "      fill: #D2E3FC;\n",
              "    }\n",
              "\n",
              "    [theme=dark] .colab-df-convert:hover {\n",
              "      background-color: #434B5C;\n",
              "      box-shadow: 0px 1px 3px 1px rgba(0, 0, 0, 0.15);\n",
              "      filter: drop-shadow(0px 1px 2px rgba(0, 0, 0, 0.3));\n",
              "      fill: #FFFFFF;\n",
              "    }\n",
              "  </style>\n",
              "\n",
              "      <script>\n",
              "        const buttonEl =\n",
              "          document.querySelector('#df-6a5a47c2-048b-4b99-9dbd-641bce63958b button.colab-df-convert');\n",
              "        buttonEl.style.display =\n",
              "          google.colab.kernel.accessAllowed ? 'block' : 'none';\n",
              "\n",
              "        async function convertToInteractive(key) {\n",
              "          const element = document.querySelector('#df-6a5a47c2-048b-4b99-9dbd-641bce63958b');\n",
              "          const dataTable =\n",
              "            await google.colab.kernel.invokeFunction('convertToInteractive',\n",
              "                                                     [key], {});\n",
              "          if (!dataTable) return;\n",
              "\n",
              "          const docLinkHtml = 'Like what you see? Visit the ' +\n",
              "            '<a target=\"_blank\" href=https://colab.research.google.com/notebooks/data_table.ipynb>data table notebook</a>'\n",
              "            + ' to learn more about interactive tables.';\n",
              "          element.innerHTML = '';\n",
              "          dataTable['output_type'] = 'display_data';\n",
              "          await google.colab.output.renderOutput(dataTable, element);\n",
              "          const docLink = document.createElement('div');\n",
              "          docLink.innerHTML = docLinkHtml;\n",
              "          element.appendChild(docLink);\n",
              "        }\n",
              "      </script>\n",
              "    </div>\n",
              "  </div>\n",
              "  "
            ]
          },
          "metadata": {},
          "execution_count": 9
        }
      ]
    },
    {
      "cell_type": "markdown",
      "source": [
        "**Test for presence any missing attribute/target values and impute as necessary.** \n",
        "\n",
        "Finding is there any null values in the dataset"
      ],
      "metadata": {
        "id": "vvuH7PPQ8WCz"
      }
    },
    {
      "cell_type": "code",
      "source": [
        "#Checking whether the dataset has any null value\n",
        "wineFlagDF.isnull().sum()"
      ],
      "metadata": {
        "colab": {
          "base_uri": "https://localhost:8080/"
        },
        "id": "zO-NnOoB14ti",
        "outputId": "d325b0d3-3510-4851-91ab-f2587a810e46"
      },
      "execution_count": null,
      "outputs": [
        {
          "output_type": "execute_result",
          "data": {
            "text/plain": [
              "Type            0\n",
              "Alcohol_flag    0\n",
              "Sugar_flag      0\n",
              "dtype: int64"
            ]
          },
          "metadata": {},
          "execution_count": 10
        }
      ]
    },
    {
      "cell_type": "markdown",
      "source": [
        "Hence from the above we seen that there is no missing/null values in the dataset."
      ],
      "metadata": {
        "id": "UMLHJMVK830U"
      }
    },
    {
      "cell_type": "markdown",
      "source": [
        "**Encode all categoric attributes.**"
      ],
      "metadata": {
        "id": "YE-EBAS69G2X"
      }
    },
    {
      "cell_type": "code",
      "source": [
        "from sklearn import preprocessing\n",
        "le = preprocessing.LabelEncoder()\n",
        "\n",
        "# saving the encoding dataframe here\n",
        "encoded_wineFlagDF = pd.DataFrame()\n",
        "\n",
        "# Encode  only the categoric or boolean attributes\n",
        "for i in range(0, wineFlagDF.shape[1]):\n",
        "    if wineFlagDF.dtypes[i]=='object' or wineFlagDF.dtypes[i]=='bool':\n",
        "        encoded_wineFlagDF[wineFlagDF.columns[i]] = le.fit_transform(wineFlagDF[wineFlagDF.columns[i]])\n",
        "\n",
        "\n",
        "\n",
        "print(\"-=========================\")\n",
        "print(wineFlagDF)\n",
        "print(\"-=========================\")\n",
        "encoded_wineFlagDF"
      ],
      "metadata": {
        "colab": {
          "base_uri": "https://localhost:8080/",
          "height": 701
        },
        "id": "QeDS9cE714-c",
        "outputId": "20225b4b-0eb2-4177-fd51-0706080977c7"
      },
      "execution_count": null,
      "outputs": [
        {
          "output_type": "stream",
          "name": "stdout",
          "text": [
            "-=========================\n",
            "       Type Alcohol_flag Sugar_flag\n",
            "0       Red         High       High\n",
            "1       Red         High        Low\n",
            "2       Red          Low       High\n",
            "3       Red         High        Low\n",
            "4       Red          Low        Low\n",
            "...     ...          ...        ...\n",
            "3340  White         High       High\n",
            "3341  White         High        Low\n",
            "3342  White         High        Low\n",
            "3343  White         High        Low\n",
            "3344  White         High        Low\n",
            "\n",
            "[3345 rows x 3 columns]\n",
            "-=========================\n"
          ]
        },
        {
          "output_type": "execute_result",
          "data": {
            "text/plain": [
              "      Type  Alcohol_flag  Sugar_flag\n",
              "0        0             0           0\n",
              "1        0             0           1\n",
              "2        0             1           0\n",
              "3        0             0           1\n",
              "4        0             1           1\n",
              "...    ...           ...         ...\n",
              "3340     1             0           0\n",
              "3341     1             0           1\n",
              "3342     1             0           1\n",
              "3343     1             0           1\n",
              "3344     1             0           1\n",
              "\n",
              "[3345 rows x 3 columns]"
            ],
            "text/html": [
              "\n",
              "  <div id=\"df-8969a797-19cd-44ae-bb66-76e393b3dd3e\">\n",
              "    <div class=\"colab-df-container\">\n",
              "      <div>\n",
              "<style scoped>\n",
              "    .dataframe tbody tr th:only-of-type {\n",
              "        vertical-align: middle;\n",
              "    }\n",
              "\n",
              "    .dataframe tbody tr th {\n",
              "        vertical-align: top;\n",
              "    }\n",
              "\n",
              "    .dataframe thead th {\n",
              "        text-align: right;\n",
              "    }\n",
              "</style>\n",
              "<table border=\"1\" class=\"dataframe\">\n",
              "  <thead>\n",
              "    <tr style=\"text-align: right;\">\n",
              "      <th></th>\n",
              "      <th>Type</th>\n",
              "      <th>Alcohol_flag</th>\n",
              "      <th>Sugar_flag</th>\n",
              "    </tr>\n",
              "  </thead>\n",
              "  <tbody>\n",
              "    <tr>\n",
              "      <th>0</th>\n",
              "      <td>0</td>\n",
              "      <td>0</td>\n",
              "      <td>0</td>\n",
              "    </tr>\n",
              "    <tr>\n",
              "      <th>1</th>\n",
              "      <td>0</td>\n",
              "      <td>0</td>\n",
              "      <td>1</td>\n",
              "    </tr>\n",
              "    <tr>\n",
              "      <th>2</th>\n",
              "      <td>0</td>\n",
              "      <td>1</td>\n",
              "      <td>0</td>\n",
              "    </tr>\n",
              "    <tr>\n",
              "      <th>3</th>\n",
              "      <td>0</td>\n",
              "      <td>0</td>\n",
              "      <td>1</td>\n",
              "    </tr>\n",
              "    <tr>\n",
              "      <th>4</th>\n",
              "      <td>0</td>\n",
              "      <td>1</td>\n",
              "      <td>1</td>\n",
              "    </tr>\n",
              "    <tr>\n",
              "      <th>...</th>\n",
              "      <td>...</td>\n",
              "      <td>...</td>\n",
              "      <td>...</td>\n",
              "    </tr>\n",
              "    <tr>\n",
              "      <th>3340</th>\n",
              "      <td>1</td>\n",
              "      <td>0</td>\n",
              "      <td>0</td>\n",
              "    </tr>\n",
              "    <tr>\n",
              "      <th>3341</th>\n",
              "      <td>1</td>\n",
              "      <td>0</td>\n",
              "      <td>1</td>\n",
              "    </tr>\n",
              "    <tr>\n",
              "      <th>3342</th>\n",
              "      <td>1</td>\n",
              "      <td>0</td>\n",
              "      <td>1</td>\n",
              "    </tr>\n",
              "    <tr>\n",
              "      <th>3343</th>\n",
              "      <td>1</td>\n",
              "      <td>0</td>\n",
              "      <td>1</td>\n",
              "    </tr>\n",
              "    <tr>\n",
              "      <th>3344</th>\n",
              "      <td>1</td>\n",
              "      <td>0</td>\n",
              "      <td>1</td>\n",
              "    </tr>\n",
              "  </tbody>\n",
              "</table>\n",
              "<p>3345 rows × 3 columns</p>\n",
              "</div>\n",
              "      <button class=\"colab-df-convert\" onclick=\"convertToInteractive('df-8969a797-19cd-44ae-bb66-76e393b3dd3e')\"\n",
              "              title=\"Convert this dataframe to an interactive table.\"\n",
              "              style=\"display:none;\">\n",
              "        \n",
              "  <svg xmlns=\"http://www.w3.org/2000/svg\" height=\"24px\"viewBox=\"0 0 24 24\"\n",
              "       width=\"24px\">\n",
              "    <path d=\"M0 0h24v24H0V0z\" fill=\"none\"/>\n",
              "    <path d=\"M18.56 5.44l.94 2.06.94-2.06 2.06-.94-2.06-.94-.94-2.06-.94 2.06-2.06.94zm-11 1L8.5 8.5l.94-2.06 2.06-.94-2.06-.94L8.5 2.5l-.94 2.06-2.06.94zm10 10l.94 2.06.94-2.06 2.06-.94-2.06-.94-.94-2.06-.94 2.06-2.06.94z\"/><path d=\"M17.41 7.96l-1.37-1.37c-.4-.4-.92-.59-1.43-.59-.52 0-1.04.2-1.43.59L10.3 9.45l-7.72 7.72c-.78.78-.78 2.05 0 2.83L4 21.41c.39.39.9.59 1.41.59.51 0 1.02-.2 1.41-.59l7.78-7.78 2.81-2.81c.8-.78.8-2.07 0-2.86zM5.41 20L4 18.59l7.72-7.72 1.47 1.35L5.41 20z\"/>\n",
              "  </svg>\n",
              "      </button>\n",
              "      \n",
              "  <style>\n",
              "    .colab-df-container {\n",
              "      display:flex;\n",
              "      flex-wrap:wrap;\n",
              "      gap: 12px;\n",
              "    }\n",
              "\n",
              "    .colab-df-convert {\n",
              "      background-color: #E8F0FE;\n",
              "      border: none;\n",
              "      border-radius: 50%;\n",
              "      cursor: pointer;\n",
              "      display: none;\n",
              "      fill: #1967D2;\n",
              "      height: 32px;\n",
              "      padding: 0 0 0 0;\n",
              "      width: 32px;\n",
              "    }\n",
              "\n",
              "    .colab-df-convert:hover {\n",
              "      background-color: #E2EBFA;\n",
              "      box-shadow: 0px 1px 2px rgba(60, 64, 67, 0.3), 0px 1px 3px 1px rgba(60, 64, 67, 0.15);\n",
              "      fill: #174EA6;\n",
              "    }\n",
              "\n",
              "    [theme=dark] .colab-df-convert {\n",
              "      background-color: #3B4455;\n",
              "      fill: #D2E3FC;\n",
              "    }\n",
              "\n",
              "    [theme=dark] .colab-df-convert:hover {\n",
              "      background-color: #434B5C;\n",
              "      box-shadow: 0px 1px 3px 1px rgba(0, 0, 0, 0.15);\n",
              "      filter: drop-shadow(0px 1px 2px rgba(0, 0, 0, 0.3));\n",
              "      fill: #FFFFFF;\n",
              "    }\n",
              "  </style>\n",
              "\n",
              "      <script>\n",
              "        const buttonEl =\n",
              "          document.querySelector('#df-8969a797-19cd-44ae-bb66-76e393b3dd3e button.colab-df-convert');\n",
              "        buttonEl.style.display =\n",
              "          google.colab.kernel.accessAllowed ? 'block' : 'none';\n",
              "\n",
              "        async function convertToInteractive(key) {\n",
              "          const element = document.querySelector('#df-8969a797-19cd-44ae-bb66-76e393b3dd3e');\n",
              "          const dataTable =\n",
              "            await google.colab.kernel.invokeFunction('convertToInteractive',\n",
              "                                                     [key], {});\n",
              "          if (!dataTable) return;\n",
              "\n",
              "          const docLinkHtml = 'Like what you see? Visit the ' +\n",
              "            '<a target=\"_blank\" href=https://colab.research.google.com/notebooks/data_table.ipynb>data table notebook</a>'\n",
              "            + ' to learn more about interactive tables.';\n",
              "          element.innerHTML = '';\n",
              "          dataTable['output_type'] = 'display_data';\n",
              "          await google.colab.output.renderOutput(dataTable, element);\n",
              "          const docLink = document.createElement('div');\n",
              "          docLink.innerHTML = docLinkHtml;\n",
              "          element.appendChild(docLink);\n",
              "        }\n",
              "      </script>\n",
              "    </div>\n",
              "  </div>\n",
              "  "
            ]
          },
          "metadata": {},
          "execution_count": 11
        }
      ]
    },
    {
      "cell_type": "markdown",
      "source": [
        " **Create contingency tables (cross tabulations) for:      \n",
        "a. Type vs. alcohol content     \n",
        "b. Type vs. Sugar content**"
      ],
      "metadata": {
        "id": "ZkkfPIsn9k9e"
      }
    },
    {
      "cell_type": "code",
      "source": [
        "crossTab1 = pd.crosstab(wineFlagDF.Type,wineFlagDF.Sugar_flag)\n",
        "crossTab1"
      ],
      "metadata": {
        "colab": {
          "base_uri": "https://localhost:8080/",
          "height": 143
        },
        "id": "q6KB9gJE15yu",
        "outputId": "9ff29675-ee8f-4be2-b8fe-d8de523e0322"
      },
      "execution_count": null,
      "outputs": [
        {
          "output_type": "execute_result",
          "data": {
            "text/plain": [
              "Sugar_flag  High  Low\n",
              "Type                 \n",
              "Red          237  848\n",
              "White       1382  878"
            ],
            "text/html": [
              "\n",
              "  <div id=\"df-adae2fc7-2340-4d63-8123-5124d36832d6\">\n",
              "    <div class=\"colab-df-container\">\n",
              "      <div>\n",
              "<style scoped>\n",
              "    .dataframe tbody tr th:only-of-type {\n",
              "        vertical-align: middle;\n",
              "    }\n",
              "\n",
              "    .dataframe tbody tr th {\n",
              "        vertical-align: top;\n",
              "    }\n",
              "\n",
              "    .dataframe thead th {\n",
              "        text-align: right;\n",
              "    }\n",
              "</style>\n",
              "<table border=\"1\" class=\"dataframe\">\n",
              "  <thead>\n",
              "    <tr style=\"text-align: right;\">\n",
              "      <th>Sugar_flag</th>\n",
              "      <th>High</th>\n",
              "      <th>Low</th>\n",
              "    </tr>\n",
              "    <tr>\n",
              "      <th>Type</th>\n",
              "      <th></th>\n",
              "      <th></th>\n",
              "    </tr>\n",
              "  </thead>\n",
              "  <tbody>\n",
              "    <tr>\n",
              "      <th>Red</th>\n",
              "      <td>237</td>\n",
              "      <td>848</td>\n",
              "    </tr>\n",
              "    <tr>\n",
              "      <th>White</th>\n",
              "      <td>1382</td>\n",
              "      <td>878</td>\n",
              "    </tr>\n",
              "  </tbody>\n",
              "</table>\n",
              "</div>\n",
              "      <button class=\"colab-df-convert\" onclick=\"convertToInteractive('df-adae2fc7-2340-4d63-8123-5124d36832d6')\"\n",
              "              title=\"Convert this dataframe to an interactive table.\"\n",
              "              style=\"display:none;\">\n",
              "        \n",
              "  <svg xmlns=\"http://www.w3.org/2000/svg\" height=\"24px\"viewBox=\"0 0 24 24\"\n",
              "       width=\"24px\">\n",
              "    <path d=\"M0 0h24v24H0V0z\" fill=\"none\"/>\n",
              "    <path d=\"M18.56 5.44l.94 2.06.94-2.06 2.06-.94-2.06-.94-.94-2.06-.94 2.06-2.06.94zm-11 1L8.5 8.5l.94-2.06 2.06-.94-2.06-.94L8.5 2.5l-.94 2.06-2.06.94zm10 10l.94 2.06.94-2.06 2.06-.94-2.06-.94-.94-2.06-.94 2.06-2.06.94z\"/><path d=\"M17.41 7.96l-1.37-1.37c-.4-.4-.92-.59-1.43-.59-.52 0-1.04.2-1.43.59L10.3 9.45l-7.72 7.72c-.78.78-.78 2.05 0 2.83L4 21.41c.39.39.9.59 1.41.59.51 0 1.02-.2 1.41-.59l7.78-7.78 2.81-2.81c.8-.78.8-2.07 0-2.86zM5.41 20L4 18.59l7.72-7.72 1.47 1.35L5.41 20z\"/>\n",
              "  </svg>\n",
              "      </button>\n",
              "      \n",
              "  <style>\n",
              "    .colab-df-container {\n",
              "      display:flex;\n",
              "      flex-wrap:wrap;\n",
              "      gap: 12px;\n",
              "    }\n",
              "\n",
              "    .colab-df-convert {\n",
              "      background-color: #E8F0FE;\n",
              "      border: none;\n",
              "      border-radius: 50%;\n",
              "      cursor: pointer;\n",
              "      display: none;\n",
              "      fill: #1967D2;\n",
              "      height: 32px;\n",
              "      padding: 0 0 0 0;\n",
              "      width: 32px;\n",
              "    }\n",
              "\n",
              "    .colab-df-convert:hover {\n",
              "      background-color: #E2EBFA;\n",
              "      box-shadow: 0px 1px 2px rgba(60, 64, 67, 0.3), 0px 1px 3px 1px rgba(60, 64, 67, 0.15);\n",
              "      fill: #174EA6;\n",
              "    }\n",
              "\n",
              "    [theme=dark] .colab-df-convert {\n",
              "      background-color: #3B4455;\n",
              "      fill: #D2E3FC;\n",
              "    }\n",
              "\n",
              "    [theme=dark] .colab-df-convert:hover {\n",
              "      background-color: #434B5C;\n",
              "      box-shadow: 0px 1px 3px 1px rgba(0, 0, 0, 0.15);\n",
              "      filter: drop-shadow(0px 1px 2px rgba(0, 0, 0, 0.3));\n",
              "      fill: #FFFFFF;\n",
              "    }\n",
              "  </style>\n",
              "\n",
              "      <script>\n",
              "        const buttonEl =\n",
              "          document.querySelector('#df-adae2fc7-2340-4d63-8123-5124d36832d6 button.colab-df-convert');\n",
              "        buttonEl.style.display =\n",
              "          google.colab.kernel.accessAllowed ? 'block' : 'none';\n",
              "\n",
              "        async function convertToInteractive(key) {\n",
              "          const element = document.querySelector('#df-adae2fc7-2340-4d63-8123-5124d36832d6');\n",
              "          const dataTable =\n",
              "            await google.colab.kernel.invokeFunction('convertToInteractive',\n",
              "                                                     [key], {});\n",
              "          if (!dataTable) return;\n",
              "\n",
              "          const docLinkHtml = 'Like what you see? Visit the ' +\n",
              "            '<a target=\"_blank\" href=https://colab.research.google.com/notebooks/data_table.ipynb>data table notebook</a>'\n",
              "            + ' to learn more about interactive tables.';\n",
              "          element.innerHTML = '';\n",
              "          dataTable['output_type'] = 'display_data';\n",
              "          await google.colab.output.renderOutput(dataTable, element);\n",
              "          const docLink = document.createElement('div');\n",
              "          docLink.innerHTML = docLinkHtml;\n",
              "          element.appendChild(docLink);\n",
              "        }\n",
              "      </script>\n",
              "    </div>\n",
              "  </div>\n",
              "  "
            ]
          },
          "metadata": {},
          "execution_count": 12
        }
      ]
    },
    {
      "cell_type": "code",
      "source": [
        "crossTab2 = pd.crosstab(wineFlagDF.Type, wineFlagDF.Alcohol_flag)\n",
        "crossTab2"
      ],
      "metadata": {
        "colab": {
          "base_uri": "https://localhost:8080/",
          "height": 143
        },
        "id": "oJza0cvq17Rm",
        "outputId": "7872bb5c-5a13-4422-fc45-f2c86c688922"
      },
      "execution_count": null,
      "outputs": [
        {
          "output_type": "execute_result",
          "data": {
            "text/plain": [
              "Alcohol_flag  High   Low\n",
              "Type                    \n",
              "Red            485   600\n",
              "White         1176  1084"
            ],
            "text/html": [
              "\n",
              "  <div id=\"df-d0c4d6d0-dcfa-4780-9406-24cde97f74dd\">\n",
              "    <div class=\"colab-df-container\">\n",
              "      <div>\n",
              "<style scoped>\n",
              "    .dataframe tbody tr th:only-of-type {\n",
              "        vertical-align: middle;\n",
              "    }\n",
              "\n",
              "    .dataframe tbody tr th {\n",
              "        vertical-align: top;\n",
              "    }\n",
              "\n",
              "    .dataframe thead th {\n",
              "        text-align: right;\n",
              "    }\n",
              "</style>\n",
              "<table border=\"1\" class=\"dataframe\">\n",
              "  <thead>\n",
              "    <tr style=\"text-align: right;\">\n",
              "      <th>Alcohol_flag</th>\n",
              "      <th>High</th>\n",
              "      <th>Low</th>\n",
              "    </tr>\n",
              "    <tr>\n",
              "      <th>Type</th>\n",
              "      <th></th>\n",
              "      <th></th>\n",
              "    </tr>\n",
              "  </thead>\n",
              "  <tbody>\n",
              "    <tr>\n",
              "      <th>Red</th>\n",
              "      <td>485</td>\n",
              "      <td>600</td>\n",
              "    </tr>\n",
              "    <tr>\n",
              "      <th>White</th>\n",
              "      <td>1176</td>\n",
              "      <td>1084</td>\n",
              "    </tr>\n",
              "  </tbody>\n",
              "</table>\n",
              "</div>\n",
              "      <button class=\"colab-df-convert\" onclick=\"convertToInteractive('df-d0c4d6d0-dcfa-4780-9406-24cde97f74dd')\"\n",
              "              title=\"Convert this dataframe to an interactive table.\"\n",
              "              style=\"display:none;\">\n",
              "        \n",
              "  <svg xmlns=\"http://www.w3.org/2000/svg\" height=\"24px\"viewBox=\"0 0 24 24\"\n",
              "       width=\"24px\">\n",
              "    <path d=\"M0 0h24v24H0V0z\" fill=\"none\"/>\n",
              "    <path d=\"M18.56 5.44l.94 2.06.94-2.06 2.06-.94-2.06-.94-.94-2.06-.94 2.06-2.06.94zm-11 1L8.5 8.5l.94-2.06 2.06-.94-2.06-.94L8.5 2.5l-.94 2.06-2.06.94zm10 10l.94 2.06.94-2.06 2.06-.94-2.06-.94-.94-2.06-.94 2.06-2.06.94z\"/><path d=\"M17.41 7.96l-1.37-1.37c-.4-.4-.92-.59-1.43-.59-.52 0-1.04.2-1.43.59L10.3 9.45l-7.72 7.72c-.78.78-.78 2.05 0 2.83L4 21.41c.39.39.9.59 1.41.59.51 0 1.02-.2 1.41-.59l7.78-7.78 2.81-2.81c.8-.78.8-2.07 0-2.86zM5.41 20L4 18.59l7.72-7.72 1.47 1.35L5.41 20z\"/>\n",
              "  </svg>\n",
              "      </button>\n",
              "      \n",
              "  <style>\n",
              "    .colab-df-container {\n",
              "      display:flex;\n",
              "      flex-wrap:wrap;\n",
              "      gap: 12px;\n",
              "    }\n",
              "\n",
              "    .colab-df-convert {\n",
              "      background-color: #E8F0FE;\n",
              "      border: none;\n",
              "      border-radius: 50%;\n",
              "      cursor: pointer;\n",
              "      display: none;\n",
              "      fill: #1967D2;\n",
              "      height: 32px;\n",
              "      padding: 0 0 0 0;\n",
              "      width: 32px;\n",
              "    }\n",
              "\n",
              "    .colab-df-convert:hover {\n",
              "      background-color: #E2EBFA;\n",
              "      box-shadow: 0px 1px 2px rgba(60, 64, 67, 0.3), 0px 1px 3px 1px rgba(60, 64, 67, 0.15);\n",
              "      fill: #174EA6;\n",
              "    }\n",
              "\n",
              "    [theme=dark] .colab-df-convert {\n",
              "      background-color: #3B4455;\n",
              "      fill: #D2E3FC;\n",
              "    }\n",
              "\n",
              "    [theme=dark] .colab-df-convert:hover {\n",
              "      background-color: #434B5C;\n",
              "      box-shadow: 0px 1px 3px 1px rgba(0, 0, 0, 0.15);\n",
              "      filter: drop-shadow(0px 1px 2px rgba(0, 0, 0, 0.3));\n",
              "      fill: #FFFFFF;\n",
              "    }\n",
              "  </style>\n",
              "\n",
              "      <script>\n",
              "        const buttonEl =\n",
              "          document.querySelector('#df-d0c4d6d0-dcfa-4780-9406-24cde97f74dd button.colab-df-convert');\n",
              "        buttonEl.style.display =\n",
              "          google.colab.kernel.accessAllowed ? 'block' : 'none';\n",
              "\n",
              "        async function convertToInteractive(key) {\n",
              "          const element = document.querySelector('#df-d0c4d6d0-dcfa-4780-9406-24cde97f74dd');\n",
              "          const dataTable =\n",
              "            await google.colab.kernel.invokeFunction('convertToInteractive',\n",
              "                                                     [key], {});\n",
              "          if (!dataTable) return;\n",
              "\n",
              "          const docLinkHtml = 'Like what you see? Visit the ' +\n",
              "            '<a target=\"_blank\" href=https://colab.research.google.com/notebooks/data_table.ipynb>data table notebook</a>'\n",
              "            + ' to learn more about interactive tables.';\n",
              "          element.innerHTML = '';\n",
              "          dataTable['output_type'] = 'display_data';\n",
              "          await google.colab.output.renderOutput(dataTable, element);\n",
              "          const docLink = document.createElement('div');\n",
              "          docLink.innerHTML = docLinkHtml;\n",
              "          element.appendChild(docLink);\n",
              "        }\n",
              "      </script>\n",
              "    </div>\n",
              "  </div>\n",
              "  "
            ]
          },
          "metadata": {},
          "execution_count": 13
        }
      ]
    },
    {
      "cell_type": "markdown",
      "source": [
        "**Plot the two cross tabulations obtained in Step 5**      \n",
        "plotting the two cross validation got in step5."
      ],
      "metadata": {
        "id": "jpSljGmQ-ATs"
      }
    },
    {
      "cell_type": "code",
      "source": [
        "crossTab1.plot.bar()\n"
      ],
      "metadata": {
        "colab": {
          "base_uri": "https://localhost:8080/",
          "height": 315
        },
        "id": "1P7WNW4W18D3",
        "outputId": "3c04dd64-2531-4b49-df95-b3867b7ab571"
      },
      "execution_count": null,
      "outputs": [
        {
          "output_type": "execute_result",
          "data": {
            "text/plain": [
              "<matplotlib.axes._subplots.AxesSubplot at 0x7f9d3fe47fd0>"
            ]
          },
          "metadata": {},
          "execution_count": 14
        },
        {
          "output_type": "display_data",
          "data": {
            "text/plain": [
              "<Figure size 432x288 with 1 Axes>"
            ],
            "image/png": "[encoded data removed]"
          },
          "metadata": {
            "needs_background": "light"
          }
        }
      ]
    },
    {
      "cell_type": "code",
      "source": [
        "crossTab2.plot.bar()"
      ],
      "metadata": {
        "colab": {
          "base_uri": "https://localhost:8080/",
          "height": 315
        },
        "id": "vgnjnRuT19ad",
        "outputId": "1b4ad549-8a07-44f9-fed3-efdf288990c5"
      },
      "execution_count": null,
      "outputs": [
        {
          "output_type": "execute_result",
          "data": {
            "text/plain": [
              "<matplotlib.axes._subplots.AxesSubplot at 0x7f9d3fd430d0>"
            ]
          },
          "metadata": {},
          "execution_count": 15
        },
        {
          "output_type": "display_data",
          "data": {
            "text/plain": [
              "<Figure size 432x288 with 1 Axes>"
            ],
            "image/png": "[encoded data removed]"
          },
          "metadata": {
            "needs_background": "light"
          }
        }
      ]
    },
    {
      "cell_type": "markdown",
      "source": [
        "7."
      ],
      "metadata": {
        "id": "KSDZhT8Duq72"
      }
    },
    {
      "cell_type": "code",
      "source": [
        "# probability for type Red and White\n",
        "\n",
        "p_red=(1085/3345)\n",
        "p_white=(2260/3345)\n",
        "\n",
        "print(\"P(red)=\",p_red)\n",
        "print(\"P(White)=\",p_white)"
      ],
      "metadata": {
        "colab": {
          "base_uri": "https://localhost:8080/"
        },
        "id": "WDWY2opkus9d",
        "outputId": "ab193a9c-2bee-4ce2-b16f-7e3f9672c2eb"
      },
      "execution_count": null,
      "outputs": [
        {
          "output_type": "stream",
          "name": "stdout",
          "text": [
            "P(red)= 0.3243647234678625\n",
            "P(White)= 0.6756352765321375\n"
          ]
        }
      ]
    },
    {
      "cell_type": "code",
      "source": [
        "# probability for high and low Alcohol \n",
        "\n",
        "p_low_alcohol=(1684/3345)\n",
        "p_high_alcohol=(1661/3345)\n",
        "\n",
        "print(\"P(low_alcohol)=\",p_low_alcohol)\n",
        "print(\"P(high_alcohol)=\",p_high_alcohol)"
      ],
      "metadata": {
        "colab": {
          "base_uri": "https://localhost:8080/"
        },
        "id": "LH4U0Ks8utAI",
        "outputId": "1525f2e5-c0da-4d77-f28e-a4ecc97e946d"
      },
      "execution_count": null,
      "outputs": [
        {
          "output_type": "stream",
          "name": "stdout",
          "text": [
            "P(low_alcohol)= 0.5034379671150971\n",
            "P(high_alcohol)= 0.49656203288490286\n"
          ]
        }
      ]
    },
    {
      "cell_type": "code",
      "source": [
        "# c. The probability of high and low sugar content.\n",
        "\n",
        "p_low_sugar=(1726/3345)\n",
        "p_high_sugar=(1619/3345)\n",
        "\n",
        "print(\"P(low_sugar)=\",p_low_sugar)\n",
        "print(\"P(high_sugar)=\",p_high_sugar)"
      ],
      "metadata": {
        "colab": {
          "base_uri": "https://localhost:8080/"
        },
        "id": "sA-tD_9LutDn",
        "outputId": "10f29580-ce13-4579-fa4b-5141c894a35b"
      },
      "execution_count": null,
      "outputs": [
        {
          "output_type": "stream",
          "name": "stdout",
          "text": [
            "P(low_sugar)= 0.5159940209267564\n",
            "P(high_sugar)= 0.48400597907324366\n"
          ]
        }
      ]
    },
    {
      "cell_type": "code",
      "source": [
        "# The conditional probabilities p(Alcohol_flag = High ∣ Type = Red) and p(Alcohol_flag = Low ∣ Type = Red).\n",
        "\n",
        "p_alcohol_high_red=((485/1661)*(1661/3345))/(1085/3345)\n",
        "print(\"p(high_alcohol_red)=\",p_alcohol_high_red)\n",
        "\n",
        "# The conditional probabilities p(Alcohol_flag = Low ∣ Type = Red).\n",
        "\n",
        "p_alcohol_low_red=((600/1684)*(1684/3345))/(1085/3345)\n",
        "print(\"p(low_alcohol_red)=\",p_alcohol_low_red)"
      ],
      "metadata": {
        "colab": {
          "base_uri": "https://localhost:8080/"
        },
        "id": "AhdVFvvtutI1",
        "outputId": "29672591-b13f-4b7e-ac9b-ef2982c977af"
      },
      "execution_count": null,
      "outputs": [
        {
          "output_type": "stream",
          "name": "stdout",
          "text": [
            "p(high_alcohol_red)= 0.44700460829493094\n",
            "p(low_alcohol_red)= 0.5529953917050691\n"
          ]
        }
      ]
    },
    {
      "cell_type": "code",
      "source": [
        "#The conditional probabilities p(Sugar_flag = High ∣ Type = Red) and p(Sugar_flag = Low ∣ Type = Red).\n",
        "\n",
        "p_sugar_high_red=((237/1619)*(1619/3345))/(1085/3345)\n",
        "print(\"p(high_Sugar_red)=\",p_sugar_high_red)\n",
        "\n",
        "#The conditional probabilities p(Sugar_flag = Low ∣ Type = Red).\n",
        "\n",
        "p_sugar_low_red=((848/1726)*(1726/3345))/(1085/3345)\n",
        "print(\"p(low_Sugar_red)=\",p_sugar_low_red)"
      ],
      "metadata": {
        "colab": {
          "base_uri": "https://localhost:8080/"
        },
        "id": "jsTgh_9NutMh",
        "outputId": "db1602b6-30c6-4327-f4d3-96183a786ff4"
      },
      "execution_count": null,
      "outputs": [
        {
          "output_type": "stream",
          "name": "stdout",
          "text": [
            "p(high_Sugar_red)= 0.21843317972350232\n",
            "p(low_Sugar_red)= 0.7815668202764977\n"
          ]
        }
      ]
    },
    {
      "cell_type": "markdown",
      "source": [
        "**Create NB classifiers and record their accuracy on various training/test ratios, e.g., 80-20, 75-25, 70-30, 60-40, 50-50. Be sure to shuffle and stratify the data sets.** \n",
        "\n",
        "Creating NB Classifiers and recirding their accuracy on various training given by above ratios."
      ],
      "metadata": {
        "id": "nNl7E-Ud-j8Y"
      }
    },
    {
      "cell_type": "code",
      "source": [
        "# Generating the Gaussian Naive Bayes model\n",
        "from sklearn.naive_bayes import GaussianNB\n",
        "from sklearn.model_selection import train_test_split\n",
        "import matplotlib.pyplot as plt\n",
        "\n",
        "#Create a Gaussian Classifier\n",
        "NBmodel = GaussianNB()\n",
        "\n",
        "# Train the model using training set for approach #1\n",
        "# NBmodel.fit(features, labels) \n",
        "\n",
        "# Prepare input and output for learning\n",
        "X = encoded_wineFlagDF.iloc[:,1:3]\n",
        "y = encoded_wineFlagDF.iloc[:,0:1]"
      ],
      "metadata": {
        "id": "Lv8HQ6vF1-N6"
      },
      "execution_count": null,
      "outputs": []
    },
    {
      "cell_type": "code",
      "source": [
        "# In order to have the same proportion of 0 and 1 classes in a dataset to train, use 'stratify'\n",
        "X_train, X_test, y_train, y_test = \\\n",
        "    train_test_split(X, y, random_state=42, shuffle=True, test_size=0.2, stratify=y)\n",
        "\n",
        "# Display the sets\n",
        "print(X_train)\n",
        "print(X_test)\n"
      ],
      "metadata": {
        "colab": {
          "base_uri": "https://localhost:8080/"
        },
        "id": "Og9P3DKM2ARu",
        "outputId": "c1b6c48e-eebc-4b5d-fc27-f35abcbf9e45"
      },
      "execution_count": null,
      "outputs": [
        {
          "output_type": "stream",
          "name": "stdout",
          "text": [
            "      Alcohol_flag  Sugar_flag\n",
            "2688             0           1\n",
            "1824             1           0\n",
            "2483             0           0\n",
            "935              1           1\n",
            "2017             1           0\n",
            "...            ...         ...\n",
            "2650             0           1\n",
            "2246             1           1\n",
            "3001             0           1\n",
            "11               1           1\n",
            "2854             0           1\n",
            "\n",
            "[2676 rows x 2 columns]\n",
            "      Alcohol_flag  Sugar_flag\n",
            "288              0           1\n",
            "3047             0           1\n",
            "2197             1           1\n",
            "3132             0           0\n",
            "682              1           0\n",
            "...            ...         ...\n",
            "864              0           1\n",
            "2505             0           0\n",
            "232              1           1\n",
            "2467             0           0\n",
            "2634             0           0\n",
            "\n",
            "[669 rows x 2 columns]\n"
          ]
        }
      ]
    },
    {
      "cell_type": "code",
      "source": [
        "# Train the model \n",
        "NBmodel.fit(X_train, y_train)\n",
        "\n",
        "# Calculate model accuracy on both training and test data\n",
        "labels = [\"Training\", \"Test\"]\n",
        "\n",
        "scores1 = [NBmodel.score(X_train, y_train), NBmodel.score(X_test, y_test)]\n",
        "\n",
        "\n",
        "# Plot the accuracy claues\n",
        "fig = plt.figure()\n",
        "ax = fig.add_axes([0,0,1,1])\n",
        "ax.set_title('Model Classification Accuary on Training vs. Test Data')\n",
        "ax.bar(labels, scores1, color=\"orange\")\n",
        "ax.set_ylim(0, 1)\n",
        "plt.show()"
      ],
      "metadata": {
        "colab": {
          "base_uri": "https://localhost:8080/",
          "height": 407
        },
        "id": "KNzveP0f2BbE",
        "outputId": "1c3a6976-b14d-423d-ec84-9fdf15cba5a9"
      },
      "execution_count": null,
      "outputs": [
        {
          "output_type": "stream",
          "name": "stderr",
          "text": [
            "/usr/local/lib/python3.7/dist-packages/sklearn/utils/validation.py:993: DataConversionWarning: A column-vector y was passed when a 1d array was expected. Please change the shape of y to (n_samples, ), for example using ravel().\n",
            "  y = column_or_1d(y, warn=True)\n"
          ]
        },
        {
          "output_type": "display_data",
          "data": {
            "text/plain": [
              "<Figure size 432x288 with 1 Axes>"
            ],
            "image/png": "[encoded data removed]"
          },
          "metadata": {
            "needs_background": "light"
          }
        }
      ]
    },
    {
      "cell_type": "code",
      "source": [
        "# In order to have the same proportion of 0 and 1 classes in a dataset to train, use 'stratify'\n",
        "X_train, X_test, y_train, y_test = \\\n",
        "    train_test_split(X, y, random_state=42, shuffle=True, test_size=0.25, stratify=y)\n",
        "\n",
        "# Display the sets\n",
        "print(X_train)\n",
        "print(X_test)"
      ],
      "metadata": {
        "colab": {
          "base_uri": "https://localhost:8080/"
        },
        "id": "ilKirGTI2Ce7",
        "outputId": "edc6c66d-a48d-4d63-b488-9770bb01657f"
      },
      "execution_count": null,
      "outputs": [
        {
          "output_type": "stream",
          "name": "stdout",
          "text": [
            "      Alcohol_flag  Sugar_flag\n",
            "1184             1           0\n",
            "2433             1           0\n",
            "2765             0           1\n",
            "2217             1           1\n",
            "1555             0           0\n",
            "...            ...         ...\n",
            "2017             1           0\n",
            "3106             0           1\n",
            "2428             1           0\n",
            "11               1           1\n",
            "2343             1           1\n",
            "\n",
            "[2508 rows x 2 columns]\n",
            "      Alcohol_flag  Sugar_flag\n",
            "2253             1           0\n",
            "2797             0           0\n",
            "1005             1           1\n",
            "3264             0           0\n",
            "463              1           1\n",
            "...            ...         ...\n",
            "540              0           0\n",
            "855              0           1\n",
            "1862             1           0\n",
            "1619             1           0\n",
            "1719             1           0\n",
            "\n",
            "[837 rows x 2 columns]\n"
          ]
        }
      ]
    },
    {
      "cell_type": "code",
      "source": [
        "# Train the model \n",
        "NBmodel.fit(X_train, y_train)\n",
        "\n",
        "# Calculate model accuracy on both training and test data\n",
        "labels = [\"Training\", \"Test\"]\n",
        "scores2 = [NBmodel.score(X_train, y_train), NBmodel.score(X_test, y_test)]\n",
        "\n",
        "\n",
        "# Plot the accuracy claues\n",
        "fig = plt.figure()\n",
        "ax = fig.add_axes([0,0,1,1])\n",
        "ax.set_title('Model Classification Accuary on Training vs. Test Data')\n",
        "ax.bar(labels, scores2, color=\"orange\")\n",
        "ax.set_ylim(0, 1)\n",
        "plt.show()"
      ],
      "metadata": {
        "colab": {
          "base_uri": "https://localhost:8080/",
          "height": 407
        },
        "id": "ADS9ZpSr2Dew",
        "outputId": "f077ab9a-4d93-419b-cf74-2ffe69dc63d2"
      },
      "execution_count": null,
      "outputs": [
        {
          "output_type": "stream",
          "name": "stderr",
          "text": [
            "/usr/local/lib/python3.7/dist-packages/sklearn/utils/validation.py:993: DataConversionWarning: A column-vector y was passed when a 1d array was expected. Please change the shape of y to (n_samples, ), for example using ravel().\n",
            "  y = column_or_1d(y, warn=True)\n"
          ]
        },
        {
          "output_type": "display_data",
          "data": {
            "text/plain": [
              "<Figure size 432x288 with 1 Axes>"
            ],
            "image/png": "[encoded data removed]"
          },
          "metadata": {
            "needs_background": "light"
          }
        }
      ]
    },
    {
      "cell_type": "code",
      "source": [
        "# In order to have the same proportion of 0 and 1 classes in a dataset to train, use 'stratify'\n",
        "X_train, X_test, y_train, y_test = \\\n",
        "    train_test_split(X, y, random_state=42, shuffle=True, test_size=0.30, stratify=y)\n",
        "\n",
        "# Display the sets\n",
        "print(X_train)\n",
        "print(X_test)\n"
      ],
      "metadata": {
        "colab": {
          "base_uri": "https://localhost:8080/"
        },
        "id": "oP5VAUx32Eb_",
        "outputId": "e3a2f270-7bdb-4b93-b0e1-d61fa85220d4"
      },
      "execution_count": null,
      "outputs": [
        {
          "output_type": "stream",
          "name": "stdout",
          "text": [
            "      Alcohol_flag  Sugar_flag\n",
            "1768             1           0\n",
            "1792             1           1\n",
            "413              1           0\n",
            "1610             1           0\n",
            "1671             1           0\n",
            "...            ...         ...\n",
            "522              1           0\n",
            "893              1           0\n",
            "1924             1           1\n",
            "11               1           1\n",
            "1868             1           1\n",
            "\n",
            "[2341 rows x 2 columns]\n",
            "      Alcohol_flag  Sugar_flag\n",
            "1389             0           0\n",
            "1899             1           0\n",
            "162              1           1\n",
            "1889             1           0\n",
            "2982             0           0\n",
            "...            ...         ...\n",
            "941              0           0\n",
            "3223             0           0\n",
            "3219             0           1\n",
            "2221             1           0\n",
            "205              0           0\n",
            "\n",
            "[1004 rows x 2 columns]\n"
          ]
        }
      ]
    },
    {
      "cell_type": "code",
      "source": [
        "# Train the model \n",
        "NBmodel.fit(X_train, y_train)\n",
        "\n",
        "# Calculate model accuracy on both training and test data\n",
        "labels = [\"Training\", \"Test\"]\n",
        "scores3 = [NBmodel.score(X_train, y_train), NBmodel.score(X_test, y_test)]\n",
        "\n",
        "\n",
        "# Plot the accuracy claues\n",
        "fig = plt.figure()\n",
        "ax = fig.add_axes([0,0,1,1])\n",
        "ax.set_title('Model Classification Accuary on Training vs. Test Data')\n",
        "ax.bar(labels, scores3, color=\"orange\")\n",
        "ax.set_ylim(0, 1)\n",
        "plt.show()"
      ],
      "metadata": {
        "colab": {
          "base_uri": "https://localhost:8080/",
          "height": 407
        },
        "id": "O7PTRcUh2FaB",
        "outputId": "1927a050-2e44-47e7-a078-b7e38a0a6c0f"
      },
      "execution_count": null,
      "outputs": [
        {
          "output_type": "stream",
          "name": "stderr",
          "text": [
            "/usr/local/lib/python3.7/dist-packages/sklearn/utils/validation.py:993: DataConversionWarning: A column-vector y was passed when a 1d array was expected. Please change the shape of y to (n_samples, ), for example using ravel().\n",
            "  y = column_or_1d(y, warn=True)\n"
          ]
        },
        {
          "output_type": "display_data",
          "data": {
            "text/plain": [
              "<Figure size 432x288 with 1 Axes>"
            ],
            "image/png": "[encoded data removed]"
          },
          "metadata": {
            "needs_background": "light"
          }
        }
      ]
    },
    {
      "cell_type": "code",
      "source": [
        "# In order to have the same proportion of 0 and 1 classes in a dataset to train, use 'stratify'\n",
        "X_train, X_test, y_train, y_test = \\\n",
        "    train_test_split(X, y, random_state=42, shuffle=True, test_size=0.40, stratify=y)\n",
        "\n",
        "# Display the sets\n",
        "print(X_train)\n",
        "print(X_test)"
      ],
      "metadata": {
        "colab": {
          "base_uri": "https://localhost:8080/"
        },
        "id": "xcT2Bltg2Gkp",
        "outputId": "dd401bfb-8376-4308-8a39-5f2773caebbd"
      },
      "execution_count": null,
      "outputs": [
        {
          "output_type": "stream",
          "name": "stdout",
          "text": [
            "      Alcohol_flag  Sugar_flag\n",
            "3188             0           1\n",
            "1192             1           0\n",
            "1152             1           1\n",
            "1741             1           0\n",
            "1308             1           1\n",
            "...            ...         ...\n",
            "3203             0           1\n",
            "1129             1           1\n",
            "11               1           1\n",
            "2226             1           0\n",
            "2437             0           1\n",
            "\n",
            "[2007 rows x 2 columns]\n",
            "      Alcohol_flag  Sugar_flag\n",
            "1326             0           1\n",
            "520              1           1\n",
            "443              0           1\n",
            "1721             1           1\n",
            "2826             0           1\n",
            "...            ...         ...\n",
            "744              1           0\n",
            "3184             0           1\n",
            "1430             0           1\n",
            "2986             0           0\n",
            "1062             1           1\n",
            "\n",
            "[1338 rows x 2 columns]\n"
          ]
        }
      ]
    },
    {
      "cell_type": "code",
      "source": [
        "\n",
        "# Train the model \n",
        "NBmodel.fit(X_train, y_train)\n",
        "\n",
        "# Calculate model accuracy on both training and test data\n",
        "labels = [\"Training\", \"Test\"]\n",
        "scores4 = [NBmodel.score(X_train, y_train), NBmodel.score(X_test, y_test)]\n",
        "\n",
        "\n",
        "# Plot the accuracy claues\n",
        "fig = plt.figure()\n",
        "ax = fig.add_axes([0,0,1,1])\n",
        "ax.set_title('Model Classification Accuary on Training vs. Test Data')\n",
        "ax.bar(labels, scores4, color=\"orange\")\n",
        "ax.set_ylim(0, 1)\n",
        "plt.show()"
      ],
      "metadata": {
        "colab": {
          "base_uri": "https://localhost:8080/",
          "height": 407
        },
        "id": "QQU6BJsB2Hf2",
        "outputId": "2f9360c0-370f-40b2-a0df-ac2787c41419"
      },
      "execution_count": null,
      "outputs": [
        {
          "output_type": "stream",
          "name": "stderr",
          "text": [
            "/usr/local/lib/python3.7/dist-packages/sklearn/utils/validation.py:993: DataConversionWarning: A column-vector y was passed when a 1d array was expected. Please change the shape of y to (n_samples, ), for example using ravel().\n",
            "  y = column_or_1d(y, warn=True)\n"
          ]
        },
        {
          "output_type": "display_data",
          "data": {
            "text/plain": [
              "<Figure size 432x288 with 1 Axes>"
            ],
            "image/png": "[encoded data removed]"
          },
          "metadata": {
            "needs_background": "light"
          }
        }
      ]
    },
    {
      "cell_type": "code",
      "source": [
        "# In order to have the same proportion of 0 and 1 classes in a dataset to train, use 'stratify'\n",
        "X_train, X_test, y_train, y_test = \\\n",
        "    train_test_split(X, y, random_state=42, shuffle=True, test_size=0.50, stratify=y)\n",
        "\n",
        "# Display the sets\n",
        "print(X_train)\n",
        "print(X_test)"
      ],
      "metadata": {
        "colab": {
          "base_uri": "https://localhost:8080/"
        },
        "id": "JWHxlUBR2IfD",
        "outputId": "bf58fc1b-ac6e-4f4f-9e1d-9efc3f8e048e"
      },
      "execution_count": null,
      "outputs": [
        {
          "output_type": "stream",
          "name": "stdout",
          "text": [
            "      Alcohol_flag  Sugar_flag\n",
            "1097             1           1\n",
            "3003             0           0\n",
            "1341             0           0\n",
            "1685             1           0\n",
            "708              0           0\n",
            "...            ...         ...\n",
            "1803             1           1\n",
            "3297             0           0\n",
            "1129             1           1\n",
            "580              0           1\n",
            "770              1           1\n",
            "\n",
            "[1672 rows x 2 columns]\n",
            "      Alcohol_flag  Sugar_flag\n",
            "348              0           1\n",
            "1435             0           0\n",
            "1475             0           0\n",
            "3212             0           0\n",
            "1269             1           1\n",
            "...            ...         ...\n",
            "2899             0           1\n",
            "2773             0           1\n",
            "2584             0           0\n",
            "1219             1           1\n",
            "621              0           0\n",
            "\n",
            "[1673 rows x 2 columns]\n"
          ]
        }
      ]
    },
    {
      "cell_type": "code",
      "source": [
        "\n",
        "# Train the model \n",
        "NBmodel.fit(X_train, y_train)\n",
        "\n",
        "# Calculate model accuracy on both training and test data\n",
        "labels = [\"Training\", \"Test\"]\n",
        "scores5 = [NBmodel.score(X_train, y_train), NBmodel.score(X_test, y_test)]\n",
        "\n",
        "\n",
        "# Plot the accuracy claues\n",
        "fig = plt.figure()\n",
        "ax = fig.add_axes([0,0,1,1])\n",
        "ax.set_title('Model Classification Accuary on Training vs. Test Data')\n",
        "ax.bar(labels, scores5, color=\"orange\")\n",
        "ax.set_ylim(0, 1)\n",
        "plt.show()"
      ],
      "metadata": {
        "colab": {
          "base_uri": "https://localhost:8080/",
          "height": 407
        },
        "id": "ecyNw5tw2JYR",
        "outputId": "646073c5-5be8-4be6-8ba6-061cd60b5efa"
      },
      "execution_count": null,
      "outputs": [
        {
          "output_type": "stream",
          "name": "stderr",
          "text": [
            "/usr/local/lib/python3.7/dist-packages/sklearn/utils/validation.py:993: DataConversionWarning: A column-vector y was passed when a 1d array was expected. Please change the shape of y to (n_samples, ), for example using ravel().\n",
            "  y = column_or_1d(y, warn=True)\n"
          ]
        },
        {
          "output_type": "display_data",
          "data": {
            "text/plain": [
              "<Figure size 432x288 with 1 Axes>"
            ],
            "image/png": "[encoded data removed]"
          },
          "metadata": {
            "needs_background": "light"
          }
        }
      ]
    },
    {
      "cell_type": "code",
      "source": [
        "# Plot the accuracy claues\n",
        "labels = [\"80_20\", \"75_25\", \"70_30\", \"60_40\", \"50_50\"]\n",
        "scores = [scores1[0] , scores2[0],scores3[0], scores4[0], scores5[0]]\n",
        "plt.title('Model Classification Accuary on Training')\n",
        "plt.bar(x=labels, height=scores, color=\"orange\")\n",
        "plt.show()"
      ],
      "metadata": {
        "id": "nIWdkG8M2KWc",
        "colab": {
          "base_uri": "https://localhost:8080/",
          "height": 282
        },
        "outputId": "123b68e2-0e02-464b-8c12-0c1879319d09"
      },
      "execution_count": null,
      "outputs": [
        {
          "output_type": "display_data",
          "data": {
            "text/plain": [
              "<Figure size 432x288 with 1 Axes>"
            ],
            "image/png": "[encoded data removed]"
          },
          "metadata": {
            "needs_background": "light"
          }
        }
      ]
    },
    {
      "cell_type": "code",
      "source": [
        "# Plot the accuracy claues\n",
        "labels = [\"80_20\", \"75_25\", \"70_30\", \"60_40\", \"50_50\"]\n",
        "scores = [scores1[1] , scores2[1],scores3[1], scores4[1], scores5[1]]\n",
        "plt.title('Model Classification Accuary on Testing')\n",
        "plt.bar(x=labels, height=scores, color=\"orange\")\n",
        "plt.show()"
      ],
      "metadata": {
        "colab": {
          "base_uri": "https://localhost:8080/",
          "height": 282
        },
        "id": "2eHh2fERAvTW",
        "outputId": "41bdc40a-c516-4c57-ec10-05525b370d27"
      },
      "execution_count": null,
      "outputs": [
        {
          "output_type": "display_data",
          "data": {
            "text/plain": [
              "<Figure size 432x288 with 1 Axes>"
            ],
            "image/png": "[encoded data removed]"
          },
          "metadata": {
            "needs_background": "light"
          }
        }
      ]
    },
    {
      "cell_type": "markdown",
      "source": [
        "**Summary of my Findings:**"
      ],
      "metadata": {
        "id": "VTFJlYHw2MlH"
      }
    },
    {
      "cell_type": "markdown",
      "source": [
        "**1.By checking the null values it shows that there are no null values   \n",
        "2.Encoded all categorical attributes   \n",
        "3.Created contigency tables for type vs alocohol content and type vs Sugar content.   \n",
        "4.Plotted the two cross tabulations.   \n",
        "5.found the probabilities**"
      ],
      "metadata": {
        "id": "Xg5PeYiJCAXE"
      }
    }
  ]
}