{
  "nbformat": 4,
  "nbformat_minor": 0,
  "metadata": {
    "colab": {
      "name": "HW6r.ipynb",
      "provenance": [],
      "collapsed_sections": [],
      "authorship_tag": "ABX9TyMsxVv5Gjj3Qjvciy0hmsxt",
      "include_colab_link": true
    },
    "kernelspec": {
      "name": "ir",
      "display_name": "R"
    },
    "language_info": {
      "name": "R"
    }
  },
  "cells": [
    {
      "cell_type": "markdown",
      "metadata": {
        "id": "view-in-github",
        "colab_type": "text"
      },
      "source": [
        "<a href=\"https://colab.research.google.com/github/nk755799/IDS/blob/main/HW6/HW6r.ipynb\" target=\"_parent\"><img src=\"https://colab.research.google.com/assets/colab-badge.svg\" alt=\"Open In Colab\"/></a>"
      ]
    },
    {
      "cell_type": "markdown",
      "source": [
        "**Project6 (HW6)    \n",
        "Naresh Kalluri (10755799)   \n",
        "Github repository: https://github.com/nk755799/IDS/tree/main/HW6**"
      ],
      "metadata": {
        "id": "Ox8mulfP1_IQ"
      }
    },
    {
      "cell_type": "markdown",
      "source": [
        "**Installing all the required Libraries**"
      ],
      "metadata": {
        "id": "oQPBA9AZ2ECV"
      }
    },
    {
      "cell_type": "code",
      "execution_count": 1,
      "metadata": {
        "colab": {
          "base_uri": "https://localhost:8080/"
        },
        "id": "K0dXWwpLZCZG",
        "outputId": "9fb2ea84-4cdc-4150-cfb9-673333ad8c5e"
      },
      "outputs": [
        {
          "output_type": "stream",
          "name": "stderr",
          "text": [
            "Installing package into ‘/usr/local/lib/R/site-library’\n",
            "(as ‘lib’ is unspecified)\n",
            "\n",
            "Installing package into ‘/usr/local/lib/R/site-library’\n",
            "(as ‘lib’ is unspecified)\n",
            "\n",
            "also installing the dependencies ‘listenv’, ‘parallelly’, ‘future’, ‘globals’, ‘future.apply’, ‘progressr’, ‘numDeriv’, ‘SQUAREM’, ‘lava’, ‘prodlim’, ‘proxy’, ‘iterators’, ‘gower’, ‘hardhat’, ‘ipred’, ‘timeDate’, ‘e1071’, ‘foreach’, ‘ModelMetrics’, ‘pROC’, ‘recipes’\n",
            "\n",
            "\n",
            "Installing package into ‘/usr/local/lib/R/site-library’\n",
            "(as ‘lib’ is unspecified)\n",
            "\n"
          ]
        }
      ],
      "source": [
        "# installing all the required libraries for the project\n",
        "install.packages(\"C50\")\n",
        "install.packages(\"caret\")\n",
        "install.packages(\"rpart.plot\") "
      ]
    },
    {
      "cell_type": "markdown",
      "source": [
        "**Importing all the libraries**"
      ],
      "metadata": {
        "id": "OdsQ5B0N5ORb"
      }
    },
    {
      "cell_type": "code",
      "source": [
        "# Importing  libraries\n",
        "library(repr)\n",
        "library(rpart)\n",
        "library(caret)\n",
        "library(C50)\n",
        "library(rpart.plot)\n",
        "library(ggplot2)\n"
      ],
      "metadata": {
        "id": "Rzd7oiXBazOj"
      },
      "execution_count": 3,
      "outputs": []
    },
    {
      "cell_type": "code",
      "source": [
        "# importing the dataset from my github link\n",
        "train_DF <- read.csv(\"https://raw.githubusercontent.com/nk755799/IDS/main/HW6/Loans_Training.csv\")\n",
        "test_DF <- read.csv(\"https://raw.githubusercontent.com/nk755799/IDS/main/HW6/Loans_Test.csv\")"
      ],
      "metadata": {
        "id": "WaKeSJdea5MV"
      },
      "execution_count": 4,
      "outputs": []
    },
    {
      "cell_type": "code",
      "source": [
        "# Displaying the top row and column values\n",
        "head(train_DF)"
      ],
      "metadata": {
        "colab": {
          "base_uri": "https://localhost:8080/",
          "height": 286
        },
        "id": "Rwj9_MTbbPqU",
        "outputId": "d1be171b-ae8e-462d-af4e-a70e1d1bc6b0"
      },
      "execution_count": 5,
      "outputs": [
        {
          "output_type": "display_data",
          "data": {
            "text/html": [
              "<table class=\"dataframe\">\n",
              "<caption>A data.frame: 6 × 5</caption>\n",
              "<thead>\n",
              "\t<tr><th></th><th scope=col>Approval</th><th scope=col>Debt.to.Income.Ratio</th><th scope=col>FICO.Score</th><th scope=col>Request.Amount</th><th scope=col>Interest</th></tr>\n",
              "\t<tr><th></th><th scope=col>&lt;lgl&gt;</th><th scope=col>&lt;dbl&gt;</th><th scope=col>&lt;int&gt;</th><th scope=col>&lt;int&gt;</th><th scope=col>&lt;dbl&gt;</th></tr>\n",
              "</thead>\n",
              "<tbody>\n",
              "\t<tr><th scope=row>1</th><td>FALSE</td><td>0</td><td>397</td><td>1000</td><td> 450</td></tr>\n",
              "\t<tr><th scope=row>2</th><td>FALSE</td><td>0</td><td>403</td><td> 500</td><td> 225</td></tr>\n",
              "\t<tr><th scope=row>3</th><td>FALSE</td><td>0</td><td>408</td><td>1000</td><td> 450</td></tr>\n",
              "\t<tr><th scope=row>4</th><td>FALSE</td><td>0</td><td>408</td><td>2000</td><td> 900</td></tr>\n",
              "\t<tr><th scope=row>5</th><td>FALSE</td><td>0</td><td>411</td><td>5000</td><td>2250</td></tr>\n",
              "\t<tr><th scope=row>6</th><td>FALSE</td><td>0</td><td>413</td><td>5000</td><td>2250</td></tr>\n",
              "</tbody>\n",
              "</table>\n"
            ],
            "text/markdown": "\nA data.frame: 6 × 5\n\n| <!--/--> | Approval &lt;lgl&gt; | Debt.to.Income.Ratio &lt;dbl&gt; | FICO.Score &lt;int&gt; | Request.Amount &lt;int&gt; | Interest &lt;dbl&gt; |\n|---|---|---|---|---|---|\n| 1 | FALSE | 0 | 397 | 1000 |  450 |\n| 2 | FALSE | 0 | 403 |  500 |  225 |\n| 3 | FALSE | 0 | 408 | 1000 |  450 |\n| 4 | FALSE | 0 | 408 | 2000 |  900 |\n| 5 | FALSE | 0 | 411 | 5000 | 2250 |\n| 6 | FALSE | 0 | 413 | 5000 | 2250 |\n\n",
            "text/latex": "A data.frame: 6 × 5\n\\begin{tabular}{r|lllll}\n  & Approval & Debt.to.Income.Ratio & FICO.Score & Request.Amount & Interest\\\\\n  & <lgl> & <dbl> & <int> & <int> & <dbl>\\\\\n\\hline\n\t1 & FALSE & 0 & 397 & 1000 &  450\\\\\n\t2 & FALSE & 0 & 403 &  500 &  225\\\\\n\t3 & FALSE & 0 & 408 & 1000 &  450\\\\\n\t4 & FALSE & 0 & 408 & 2000 &  900\\\\\n\t5 & FALSE & 0 & 411 & 5000 & 2250\\\\\n\t6 & FALSE & 0 & 413 & 5000 & 2250\\\\\n\\end{tabular}\n",
            "text/plain": [
              "  Approval Debt.to.Income.Ratio FICO.Score Request.Amount Interest\n",
              "1 FALSE    0                    397        1000            450    \n",
              "2 FALSE    0                    403         500            225    \n",
              "3 FALSE    0                    408        1000            450    \n",
              "4 FALSE    0                    408        2000            900    \n",
              "5 FALSE    0                    411        5000           2250    \n",
              "6 FALSE    0                    413        5000           2250    "
            ]
          },
          "metadata": {}
        }
      ]
    },
    {
      "cell_type": "code",
      "source": [
        "#Shaiping the dataframe\n",
        "\n",
        "dim(train_DF)"
      ],
      "metadata": {
        "colab": {
          "base_uri": "https://localhost:8080/",
          "height": 35
        },
        "id": "ZLiNpHFobdS6",
        "outputId": "dfe02646-df54-40ca-bf1a-7572857f1432"
      },
      "execution_count": 6,
      "outputs": [
        {
          "output_type": "display_data",
          "data": {
            "text/html": [
              "<style>\n",
              ".list-inline {list-style: none; margin:0; padding: 0}\n",
              ".list-inline>li {display: inline-block}\n",
              ".list-inline>li:not(:last-child)::after {content: \"\\00b7\"; padding: 0 .5ex}\n",
              "</style>\n",
              "<ol class=list-inline><li>150302</li><li>5</li></ol>\n"
            ],
            "text/markdown": "1. 150302\n2. 5\n\n\n",
            "text/latex": "\\begin{enumerate*}\n\\item 150302\n\\item 5\n\\end{enumerate*}\n",
            "text/plain": [
              "[1] 150302      5"
            ]
          },
          "metadata": {}
        }
      ]
    },
    {
      "cell_type": "code",
      "source": [
        "#Displaying the column names\n",
        "colnames(train_DF)"
      ],
      "metadata": {
        "colab": {
          "base_uri": "https://localhost:8080/",
          "height": 35
        },
        "id": "oU8TLj0Ibiel",
        "outputId": "878fe13b-bf4e-4d85-fada-b64e2aadf562"
      },
      "execution_count": 7,
      "outputs": [
        {
          "output_type": "display_data",
          "data": {
            "text/html": [
              "<style>\n",
              ".list-inline {list-style: none; margin:0; padding: 0}\n",
              ".list-inline>li {display: inline-block}\n",
              ".list-inline>li:not(:last-child)::after {content: \"\\00b7\"; padding: 0 .5ex}\n",
              "</style>\n",
              "<ol class=list-inline><li>'Approval'</li><li>'Debt.to.Income.Ratio'</li><li>'FICO.Score'</li><li>'Request.Amount'</li><li>'Interest'</li></ol>\n"
            ],
            "text/markdown": "1. 'Approval'\n2. 'Debt.to.Income.Ratio'\n3. 'FICO.Score'\n4. 'Request.Amount'\n5. 'Interest'\n\n\n",
            "text/latex": "\\begin{enumerate*}\n\\item 'Approval'\n\\item 'Debt.to.Income.Ratio'\n\\item 'FICO.Score'\n\\item 'Request.Amount'\n\\item 'Interest'\n\\end{enumerate*}\n",
            "text/plain": [
              "[1] \"Approval\"             \"Debt.to.Income.Ratio\" \"FICO.Score\"          \n",
              "[4] \"Request.Amount\"       \"Interest\"            "
            ]
          },
          "metadata": {}
        }
      ]
    },
    {
      "cell_type": "code",
      "source": [
        "# checking is there any  null values in train_DF\n",
        "sum(is.na(train_DF))"
      ],
      "metadata": {
        "colab": {
          "base_uri": "https://localhost:8080/",
          "height": 35
        },
        "id": "23txlWENbYy2",
        "outputId": "8b6d187c-b688-4644-fef7-513deaa2270b"
      },
      "execution_count": 8,
      "outputs": [
        {
          "output_type": "display_data",
          "data": {
            "text/html": [
              "0"
            ],
            "text/markdown": "0",
            "text/latex": "0",
            "text/plain": [
              "[1] 0"
            ]
          },
          "metadata": {}
        }
      ]
    },
    {
      "cell_type": "code",
      "source": [
        "# checking is there any null values in test_DF\n",
        "sum(is.na(test_DF))"
      ],
      "metadata": {
        "colab": {
          "base_uri": "https://localhost:8080/",
          "height": 35
        },
        "id": "eYJ5BfWjbabv",
        "outputId": "4af0dea3-9ec2-454f-839e-a675b85a32fe"
      },
      "execution_count": 9,
      "outputs": [
        {
          "output_type": "display_data",
          "data": {
            "text/html": [
              "0"
            ],
            "text/markdown": "0",
            "text/latex": "0",
            "text/plain": [
              "[1] 0"
            ]
          },
          "metadata": {}
        }
      ]
    },
    {
      "cell_type": "code",
      "source": [
        "#Getting the summary f the dataset\n",
        "summary(train_DF)"
      ],
      "metadata": {
        "colab": {
          "base_uri": "https://localhost:8080/",
          "height": 260
        },
        "id": "CKR5O3MmbVNR",
        "outputId": "22defeaf-d315-464b-d666-788e28d2c3ae"
      },
      "execution_count": 10,
      "outputs": [
        {
          "output_type": "display_data",
          "data": {
            "text/plain": [
              "  Approval       Debt.to.Income.Ratio   FICO.Score  Request.Amount \n",
              " Mode :logical   Min.   :0.0000       Min.   :371   Min.   :  500  \n",
              " FALSE:75066     1st Qu.:0.0900       1st Qu.:647   1st Qu.: 6000  \n",
              " TRUE :75236     Median :0.1600       Median :684   Median :11000  \n",
              "                 Mean   :0.1835       Mean   :672   Mean   :13427  \n",
              "                 3rd Qu.:0.2400       3rd Qu.:714   3rd Qu.:19000  \n",
              "                 Max.   :1.0300       Max.   :869   Max.   :44000  \n",
              "    Interest    \n",
              " Min.   :  225  \n",
              " 1st Qu.: 2700  \n",
              " Median : 4950  \n",
              " Mean   : 6042  \n",
              " 3rd Qu.: 8550  \n",
              " Max.   :19800  "
            ]
          },
          "metadata": {}
        }
      ]
    },
    {
      "cell_type": "code",
      "source": [
        "#Getting the structure of  the dataframe\n",
        "\n",
        "str(train_DF)"
      ],
      "metadata": {
        "colab": {
          "base_uri": "https://localhost:8080/"
        },
        "id": "EW00PBwrbj6u",
        "outputId": "5c6ec06e-16eb-4f05-c8bb-7e6b9ff7a374"
      },
      "execution_count": 11,
      "outputs": [
        {
          "output_type": "stream",
          "name": "stdout",
          "text": [
            "'data.frame':\t150302 obs. of  5 variables:\n",
            " $ Approval            : logi  FALSE FALSE FALSE FALSE FALSE FALSE ...\n",
            " $ Debt.to.Income.Ratio: num  0 0 0 0 0 0 0 0 0 0 ...\n",
            " $ FICO.Score          : int  397 403 408 408 411 413 416 421 422 432 ...\n",
            " $ Request.Amount      : int  1000 500 1000 2000 5000 5000 6000 2000 12000 10000 ...\n",
            " $ Interest            : num  450 225 450 900 2250 2250 2700 900 5400 4500 ...\n"
          ]
        }
      ]
    },
    {
      "cell_type": "markdown",
      "source": [
        "# **Creating cart model**"
      ],
      "metadata": {
        "id": "kdjaCQ9ab2sM"
      }
    },
    {
      "cell_type": "code",
      "source": [
        "#creating cart_training\n",
        "cart_training1 <- rpart(Approval~., data = train_DF, cp=.01)"
      ],
      "metadata": {
        "id": "SteIsOs2bzZX"
      },
      "execution_count": 12,
      "outputs": []
    },
    {
      "cell_type": "code",
      "source": [
        "#Getting the summary of the Cart_training\n",
        "summary(cart_training1)"
      ],
      "metadata": {
        "colab": {
          "base_uri": "https://localhost:8080/"
        },
        "id": "nUwFFDgvb9fj",
        "outputId": "d075fad6-5da9-4d0e-f670-483ff7605ad3"
      },
      "execution_count": 13,
      "outputs": [
        {
          "output_type": "stream",
          "name": "stdout",
          "text": [
            "Call:\n",
            "rpart(formula = Approval ~ ., data = train_DF, cp = 0.01)\n",
            "  n= 150302 \n",
            "\n",
            "          CP nsplit rel error    xerror         xstd\n",
            "1 0.37536172      0 1.0000000 1.0000127 7.198212e-06\n",
            "2 0.12857983      1 0.6246383 0.6246530 2.065304e-03\n",
            "3 0.01133642      2 0.4960584 0.4964829 2.351455e-03\n",
            "4 0.01000000      3 0.4847220 0.4853270 2.336842e-03\n",
            "\n",
            "Variable importance\n",
            "          FICO.Score Debt.to.Income.Ratio             Interest \n",
            "                  71                   24                    3 \n",
            "      Request.Amount \n",
            "                   3 \n",
            "\n",
            "Node number 1: 150302 observations,    complexity param=0.3753617\n",
            "  mean=0.5005655, MSE=0.2499997 \n",
            "  left son=2 (46002 obs) right son=3 (104300 obs)\n",
            "  Primary splits:\n",
            "      FICO.Score           < 659.5 to the left,  improve=0.37536170, (0 missing)\n",
            "      Debt.to.Income.Ratio < 0.305 to the right, improve=0.11958450, (0 missing)\n",
            "      Request.Amount       < 25500 to the right, improve=0.01585947, (0 missing)\n",
            "      Interest             < 11475 to the right, improve=0.01585947, (0 missing)\n",
            "  Surrogate splits:\n",
            "      Request.Amount       < 1500  to the left,  agree=0.696, adj=0.006, (0 split)\n",
            "      Interest             < 675   to the left,  agree=0.696, adj=0.006, (0 split)\n",
            "      Debt.to.Income.Ratio < 1.005 to the right, agree=0.694, adj=0.000, (0 split)\n",
            "\n",
            "Node number 2: 46002 observations\n",
            "  mean=0.03930264, MSE=0.03775794 \n",
            "\n",
            "Node number 3: 104300 observations,    complexity param=0.1285798\n",
            "  mean=0.7040077, MSE=0.2083809 \n",
            "  left son=6 (12873 obs) right son=7 (91427 obs)\n",
            "  Primary splits:\n",
            "      Debt.to.Income.Ratio < 0.305 to the right, improve=0.22229770, (0 missing)\n",
            "      Request.Amount       < 24500 to the right, improve=0.04356445, (0 missing)\n",
            "      Interest             < 11025 to the right, improve=0.04356445, (0 missing)\n",
            "      FICO.Score           < 671.5 to the left,  improve=0.01908885, (0 missing)\n",
            "\n",
            "Node number 6: 12873 observations\n",
            "  mean=0.130428, MSE=0.1134166 \n",
            "\n",
            "Node number 7: 91427 observations,    complexity param=0.01133642\n",
            "  mean=0.7847682, MSE=0.1689071 \n",
            "  left son=14 (10828 obs) right son=15 (80599 obs)\n",
            "  Primary splits:\n",
            "      Request.Amount       < 25500 to the right, improve=0.02758403, (0 missing)\n",
            "      Interest             < 11475 to the right, improve=0.02758403, (0 missing)\n",
            "      Debt.to.Income.Ratio < 0.255 to the right, improve=0.02606069, (0 missing)\n",
            "      FICO.Score           < 671.5 to the left,  improve=0.02065494, (0 missing)\n",
            "  Surrogate splits:\n",
            "      Interest < 11475 to the right, agree=1, adj=1, (0 split)\n",
            "\n",
            "Node number 14: 10828 observations\n",
            "  mean=0.5985408, MSE=0.2402897 \n",
            "\n",
            "Node number 15: 80599 observations\n",
            "  mean=0.8097867, MSE=0.1540322 \n",
            "\n"
          ]
        }
      ]
    },
    {
      "cell_type": "markdown",
      "source": [
        "# Visualize the decision tree for cart model"
      ],
      "metadata": {
        "id": "YRZh85o9cH6Q"
      }
    },
    {
      "cell_type": "code",
      "source": [
        "rpart.plot(cart_training1)"
      ],
      "metadata": {
        "colab": {
          "base_uri": "https://localhost:8080/",
          "height": 437
        },
        "id": "9pjQ6sz-cHG9",
        "outputId": "568a07e6-9cb9-4867-cef0-bad052214a2c"
      },
      "execution_count": 14,
      "outputs": [
        {
          "output_type": "display_data",
          "data": {
            "text/plain": [
              "plot without title"
            ],
            "image/png": "[encoded data removed]"
          },
          "metadata": {
            "image/png": {
              "width": 420,
              "height": 420
            }
          }
        }
      ]
    },
    {
      "cell_type": "markdown",
      "source": [
        "# Confusion matrix for cart model\n"
      ],
      "metadata": {
        "id": "wPnhARGhcRRn"
      }
    },
    {
      "cell_type": "code",
      "source": [
        "cart_model_prediction <- predict(cart_training1, train_DF, type = \"vector\") >= 0.5"
      ],
      "metadata": {
        "id": "Yrc57bjwcM8n"
      },
      "execution_count": 15,
      "outputs": []
    },
    {
      "cell_type": "code",
      "source": [
        "confusionMatrix(table(train_DF$Approval, cart_model_prediction))"
      ],
      "metadata": {
        "colab": {
          "base_uri": "https://localhost:8080/",
          "height": 485
        },
        "id": "3z8Qe66ljQZl",
        "outputId": "d8ad2edd-c2dd-4bb6-f7b2-95477d527d47"
      },
      "execution_count": 16,
      "outputs": [
        {
          "output_type": "display_data",
          "data": {
            "text/plain": [
              "Confusion Matrix and Statistics\n",
              "\n",
              "       cart_model_prediction\n",
              "        FALSE  TRUE\n",
              "  FALSE 55388 19678\n",
              "  TRUE   3487 71749\n",
              "                                         \n",
              "               Accuracy : 0.8459         \n",
              "                 95% CI : (0.844, 0.8477)\n",
              "    No Information Rate : 0.6083         \n",
              "    P-Value [Acc > NIR] : < 2.2e-16      \n",
              "                                         \n",
              "                  Kappa : 0.6917         \n",
              "                                         \n",
              " Mcnemar's Test P-Value : < 2.2e-16      \n",
              "                                         \n",
              "            Sensitivity : 0.9408         \n",
              "            Specificity : 0.7848         \n",
              "         Pos Pred Value : 0.7379         \n",
              "         Neg Pred Value : 0.9537         \n",
              "             Prevalence : 0.3917         \n",
              "         Detection Rate : 0.3685         \n",
              "   Detection Prevalence : 0.4994         \n",
              "      Balanced Accuracy : 0.8628         \n",
              "                                         \n",
              "       'Positive' Class : FALSE          \n",
              "                                         "
            ]
          },
          "metadata": {}
        }
      ]
    },
    {
      "cell_type": "markdown",
      "source": [
        "#Getting the accuracy for the cart_model"
      ],
      "metadata": {
        "id": "TvAjqxNRcZWi"
      }
    },
    {
      "cell_type": "code",
      "source": [
        "accuracy1 <- sum( cart_model_prediction == train_DF$Approval ) / length( cart_model_prediction )\n",
        "accuracy1"
      ],
      "metadata": {
        "colab": {
          "base_uri": "https://localhost:8080/",
          "height": 35
        },
        "id": "SmzV2M7-cVvt",
        "outputId": "5209ce93-bfb3-460c-ded1-f29cb9cc9764"
      },
      "execution_count": 17,
      "outputs": [
        {
          "output_type": "display_data",
          "data": {
            "text/html": [
              "0.845876967705021"
            ],
            "text/markdown": "0.845876967705021",
            "text/latex": "0.845876967705021",
            "text/plain": [
              "[1] 0.845877"
            ]
          },
          "metadata": {}
        }
      ]
    },
    {
      "cell_type": "markdown",
      "source": [
        "# **C5.0 Model Creation**"
      ],
      "metadata": {
        "id": "cQP_prYkcwYN"
      }
    },
    {
      "cell_type": "code",
      "source": [
        "#creating the c5model_train\n",
        "c5model_train <- C5.0(x = train_DF[, -1], y = as.factor(train_DF$Approval), control=C5.0Control(minCases=1000))"
      ],
      "metadata": {
        "id": "Q1bW7rQWcsqq"
      },
      "execution_count": 18,
      "outputs": []
    },
    {
      "cell_type": "code",
      "source": [
        "#getting the summary of C5model_train\n",
        "summary(c5model_train)"
      ],
      "metadata": {
        "colab": {
          "base_uri": "https://localhost:8080/",
          "height": 954
        },
        "id": "567jqmGhjd2f",
        "outputId": "44c1562c-5a74-40f7-e5b1-247d93dff76d"
      },
      "execution_count": 19,
      "outputs": [
        {
          "output_type": "display_data",
          "data": {
            "text/plain": [
              "\n",
              "Call:\n",
              "C5.0.default(x = train_DF[, -1], y = as.factor(train_DF$Approval), control\n",
              " = C5.0Control(minCases = 1000))\n",
              "\n",
              "\n",
              "C5.0 [Release 2.07 GPL Edition]  \tWed Apr 20 04:40:06 2022\n",
              "-------------------------------\n",
              "\n",
              "Class specified by attribute `outcome'\n",
              "\n",
              "Read 150302 cases (5 attributes) from undefined.data\n",
              "\n",
              "Decision tree:\n",
              "\n",
              "Debt.to.Income.Ratio > 0.31: FALSE (19884/1160)\n",
              "Debt.to.Income.Ratio <= 0.31:\n",
              ":...FICO.Score <= 655: FALSE (35346/894)\n",
              "    FICO.Score > 655:\n",
              "    :...FICO.Score <= 669:\n",
              "        :...Request.Amount > 23000: FALSE (1547/529)\n",
              "        :   Request.Amount <= 23000:\n",
              "        :   :...FICO.Score <= 661: FALSE (3246/1418)\n",
              "        :       FICO.Score > 661: TRUE (5892/2056)\n",
              "        FICO.Score > 669:\n",
              "        :...Debt.to.Income.Ratio <= 0.25: TRUE (75846/13356)\n",
              "            Debt.to.Income.Ratio > 0.25:\n",
              "            :...Request.Amount <= 25000: TRUE (7112/2658)\n",
              "                Request.Amount > 25000: FALSE (1429/455)\n",
              "\n",
              "\n",
              "Evaluation on training data (150302 cases):\n",
              "\n",
              "\t    Decision Tree   \n",
              "\t  ----------------  \n",
              "\t  Size      Errors  \n",
              "\n",
              "\t     8 22526(15.0%)   <<\n",
              "\n",
              "\n",
              "\t   (a)   (b)    <-classified as\n",
              "\t  ----  ----\n",
              "\t 56996 18070    (a): class FALSE\n",
              "\t  4456 70780    (b): class TRUE\n",
              "\n",
              "\n",
              "\tAttribute usage:\n",
              "\n",
              "\t100.00%\tDebt.to.Income.Ratio\n",
              "\t 86.77%\tFICO.Score\n",
              "\t 12.79%\tRequest.Amount\n",
              "\n",
              "\n",
              "Time: 0.5 secs\n"
            ]
          },
          "metadata": {}
        }
      ]
    },
    {
      "cell_type": "markdown",
      "source": [
        "# Decision Tree for C5.0 model"
      ],
      "metadata": {
        "id": "kGkaEW5QdE2H"
      }
    },
    {
      "cell_type": "code",
      "source": [
        "#plotting the c5model\n",
        "plot(c5model_train)"
      ],
      "metadata": {
        "colab": {
          "base_uri": "https://localhost:8080/",
          "height": 437
        },
        "id": "2wBOIKXbdFyV",
        "outputId": "0fe66edc-5f94-48cd-c1c2-8659145b1b79"
      },
      "execution_count": 20,
      "outputs": [
        {
          "output_type": "display_data",
          "data": {
            "text/plain": [
              "plot without title"
            ],
            "image/png": "[encoded data removed]"
          },
          "metadata": {
            "image/png": {
              "width": 420,
              "height": 420
            }
          }
        }
      ]
    },
    {
      "cell_type": "markdown",
      "source": [
        "# Display confusion matrix "
      ],
      "metadata": {
        "id": "YW2AbiK-dOC4"
      }
    },
    {
      "cell_type": "code",
      "source": [
        "c5_model_prediction <- predict(c5model_train, train_DF, type = \"class\") "
      ],
      "metadata": {
        "id": "jAldnXatdPm-"
      },
      "execution_count": 21,
      "outputs": []
    },
    {
      "cell_type": "code",
      "source": [
        "confusionMatrix(table(train_DF$Approval, c5_model_prediction))"
      ],
      "metadata": {
        "id": "il-NNRxNji-J",
        "outputId": "062ac2c1-fa4a-4818-b39e-beb546477a45",
        "colab": {
          "base_uri": "https://localhost:8080/",
          "height": 485
        }
      },
      "execution_count": 22,
      "outputs": [
        {
          "output_type": "display_data",
          "data": {
            "text/plain": [
              "Confusion Matrix and Statistics\n",
              "\n",
              "       c5_model_prediction\n",
              "        FALSE  TRUE\n",
              "  FALSE 56996 18070\n",
              "  TRUE   4456 70780\n",
              "                                          \n",
              "               Accuracy : 0.8501          \n",
              "                 95% CI : (0.8483, 0.8519)\n",
              "    No Information Rate : 0.5911          \n",
              "    P-Value [Acc > NIR] : < 2.2e-16       \n",
              "                                          \n",
              "                  Kappa : 0.7002          \n",
              "                                          \n",
              " Mcnemar's Test P-Value : < 2.2e-16       \n",
              "                                          \n",
              "            Sensitivity : 0.9275          \n",
              "            Specificity : 0.7966          \n",
              "         Pos Pred Value : 0.7593          \n",
              "         Neg Pred Value : 0.9408          \n",
              "             Prevalence : 0.4089          \n",
              "         Detection Rate : 0.3792          \n",
              "   Detection Prevalence : 0.4994          \n",
              "      Balanced Accuracy : 0.8621          \n",
              "                                          \n",
              "       'Positive' Class : FALSE           \n",
              "                                          "
            ]
          },
          "metadata": {}
        }
      ]
    },
    {
      "cell_type": "markdown",
      "source": [
        "# Accuracy for c5.0 model"
      ],
      "metadata": {
        "id": "TSVfPm3jdVHM"
      }
    },
    {
      "cell_type": "code",
      "source": [
        "#getting the accuracy for c5 model\n",
        "accuracy2 <- sum( c5_model_prediction == train_DF$Approval ) / length( c5_model_prediction )\n",
        "accuracy2"
      ],
      "metadata": {
        "colab": {
          "base_uri": "https://localhost:8080/",
          "height": 35
        },
        "id": "gw3dMTtXdVym",
        "outputId": "44110264-8d8c-4a37-8bcf-5284e12a1cad"
      },
      "execution_count": 23,
      "outputs": [
        {
          "output_type": "display_data",
          "data": {
            "text/html": [
              "0.850128408138282"
            ],
            "text/markdown": "0.850128408138282",
            "text/latex": "0.850128408138282",
            "text/plain": [
              "[1] 0.8501284"
            ]
          },
          "metadata": {}
        }
      ]
    },
    {
      "cell_type": "markdown",
      "source": [
        "\n",
        "it is showing that the cart model has 0.84% accuracy"
      ],
      "metadata": {
        "id": "-jnOP4AUdgHU"
      }
    },
    {
      "cell_type": "markdown",
      "source": [
        "# Comparing the models\n",
        "\n"
      ],
      "metadata": {
        "id": "JsjtYe9rdkIo"
      }
    },
    {
      "cell_type": "code",
      "source": [
        "#comparing the cart and c5 models\n",
        "modelnames <- c(\"CART\",\"C5.0\")\n",
        "accuracy_model = c(accuracy1, accuracy2)"
      ],
      "metadata": {
        "id": "CssgV7EgdZJj"
      },
      "execution_count": 27,
      "outputs": []
    },
    {
      "cell_type": "code",
      "source": [
        "#plotting the barplot\n",
        "barplot(accuracy_model, main = \"Accuracy Model\",\n",
        "            ylab = \"count\",names.arg = modelnames,col=\"red\")"
      ],
      "metadata": {
        "colab": {
          "base_uri": "https://localhost:8080/",
          "height": 437
        },
        "id": "q9RfNK-6do8H",
        "outputId": "bf3c2165-4da7-488f-849b-d6c691d8b273"
      },
      "execution_count": 28,
      "outputs": [
        {
          "output_type": "display_data",
          "data": {
            "text/plain": [
              "Plot with title “Accuracy Model”"
            ],
            "image/png": "[encoded data removed]"
          },
          "metadata": {
            "image/png": {
              "width": 420,
              "height": 420
            }
          }
        }
      ]
    },
    {
      "cell_type": "code",
      "source": [
        ""
      ],
      "metadata": {
        "id": "Az0z2PRrj2HH"
      },
      "execution_count": 26,
      "outputs": []
    }
  ]
}