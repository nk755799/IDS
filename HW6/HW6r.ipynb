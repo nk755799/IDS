{
  "nbformat": 4,
  "nbformat_minor": 0,
  "metadata": {
    "colab": {
      "name": "HW6r.ipynb",
      "provenance": [],
      "collapsed_sections": [],
      "authorship_tag": "ABX9TyOekytFDg1Y0qvXLi6+Meiw",
      "include_colab_link": true
    },
    "kernelspec": {
      "name": "ir",
      "display_name": "R"
    },
    "language_info": {
      "name": "R"
    }
  },
  "cells": [
    {
      "cell_type": "markdown",
      "metadata": {
        "id": "view-in-github",
        "colab_type": "text"
      },
      "source": [
        "<a href=\"https://colab.research.google.com/github/nk755799/IDS/blob/main/HW6/HW6r.ipynb\" target=\"_parent\"><img src=\"https://colab.research.google.com/assets/colab-badge.svg\" alt=\"Open In Colab\"/></a>"
      ]
    },
    {
      "cell_type": "markdown",
      "source": [
        "**Project6 (HW6)    \n",
        "Naresh Kalluri (10755799)   \n",
        "Github repository: https://github.com/nk755799/IDS/tree/main/HW6**"
      ],
      "metadata": {
        "id": "Ox8mulfP1_IQ"
      }
    },
    {
      "cell_type": "markdown",
      "source": [
        "Installling all the required "
      ],
      "metadata": {
        "id": "oQPBA9AZ2ECV"
      }
    },
    {
      "cell_type": "code",
      "execution_count": 72,
      "metadata": {
        "colab": {
          "base_uri": "https://localhost:8080/"
        },
        "id": "K0dXWwpLZCZG",
        "outputId": "7704e8f0-f4bb-4375-9488-35ae0755b9b0"
      },
      "outputs": [
        {
          "output_type": "stream",
          "name": "stderr",
          "text": [
            "Installing package into ‘/usr/local/lib/R/site-library’\n",
            "(as ‘lib’ is unspecified)\n",
            "\n",
            "Installing package into ‘/usr/local/lib/R/site-library’\n",
            "(as ‘lib’ is unspecified)\n",
            "\n",
            "Installing package into ‘/usr/local/lib/R/site-library’\n",
            "(as ‘lib’ is unspecified)\n",
            "\n",
            "Installing package into ‘/usr/local/lib/R/site-library’\n",
            "(as ‘lib’ is unspecified)\n",
            "\n"
          ]
        }
      ],
      "source": [
        "# installing required lib\n",
        "install.packages(\"C50\")\n",
        "install.packages(\"caret\")\n",
        "install.packages(\"rpart.plot\")  \n",
        "install.packages('party')"
      ]
    },
    {
      "cell_type": "code",
      "source": [
        "# Importing all the libraries\n",
        "library(repr)\n",
        "library(rpart)\n",
        "library(caret)\n",
        "library(C50)\n",
        "library(rpart.plot)\n",
        "library(ggplot2)\n",
        "library(party)"
      ],
      "metadata": {
        "id": "Rzd7oiXBazOj"
      },
      "execution_count": 74,
      "outputs": []
    },
    {
      "cell_type": "code",
      "source": [
        "# import dataset\n",
        "train_DF <- read.csv(\"https://raw.githubusercontent.com/nk755799/IDS/main/HW6/Loans_Training.csv\")\n",
        "test_DF <- read.csv(\"https://raw.githubusercontent.com/nk755799/IDS/main/HW6/Loans_Test.csv\")"
      ],
      "metadata": {
        "id": "WaKeSJdea5MV"
      },
      "execution_count": 75,
      "outputs": []
    },
    {
      "cell_type": "code",
      "source": [
        "# display rows\n",
        "head(train_DF)"
      ],
      "metadata": {
        "colab": {
          "base_uri": "https://localhost:8080/",
          "height": 286
        },
        "id": "Rwj9_MTbbPqU",
        "outputId": "37c79a5a-51f2-45f1-c8b3-acb17941debe"
      },
      "execution_count": 76,
      "outputs": [
        {
          "output_type": "display_data",
          "data": {
            "text/html": [
              "<table class=\"dataframe\">\n",
              "<caption>A data.frame: 6 × 5</caption>\n",
              "<thead>\n",
              "\t<tr><th></th><th scope=col>Approval</th><th scope=col>Debt.to.Income.Ratio</th><th scope=col>FICO.Score</th><th scope=col>Request.Amount</th><th scope=col>Interest</th></tr>\n",
              "\t<tr><th></th><th scope=col>&lt;lgl&gt;</th><th scope=col>&lt;dbl&gt;</th><th scope=col>&lt;int&gt;</th><th scope=col>&lt;int&gt;</th><th scope=col>&lt;dbl&gt;</th></tr>\n",
              "</thead>\n",
              "<tbody>\n",
              "\t<tr><th scope=row>1</th><td>FALSE</td><td>0</td><td>397</td><td>1000</td><td> 450</td></tr>\n",
              "\t<tr><th scope=row>2</th><td>FALSE</td><td>0</td><td>403</td><td> 500</td><td> 225</td></tr>\n",
              "\t<tr><th scope=row>3</th><td>FALSE</td><td>0</td><td>408</td><td>1000</td><td> 450</td></tr>\n",
              "\t<tr><th scope=row>4</th><td>FALSE</td><td>0</td><td>408</td><td>2000</td><td> 900</td></tr>\n",
              "\t<tr><th scope=row>5</th><td>FALSE</td><td>0</td><td>411</td><td>5000</td><td>2250</td></tr>\n",
              "\t<tr><th scope=row>6</th><td>FALSE</td><td>0</td><td>413</td><td>5000</td><td>2250</td></tr>\n",
              "</tbody>\n",
              "</table>\n"
            ],
            "text/markdown": "\nA data.frame: 6 × 5\n\n| <!--/--> | Approval &lt;lgl&gt; | Debt.to.Income.Ratio &lt;dbl&gt; | FICO.Score &lt;int&gt; | Request.Amount &lt;int&gt; | Interest &lt;dbl&gt; |\n|---|---|---|---|---|---|\n| 1 | FALSE | 0 | 397 | 1000 |  450 |\n| 2 | FALSE | 0 | 403 |  500 |  225 |\n| 3 | FALSE | 0 | 408 | 1000 |  450 |\n| 4 | FALSE | 0 | 408 | 2000 |  900 |\n| 5 | FALSE | 0 | 411 | 5000 | 2250 |\n| 6 | FALSE | 0 | 413 | 5000 | 2250 |\n\n",
            "text/latex": "A data.frame: 6 × 5\n\\begin{tabular}{r|lllll}\n  & Approval & Debt.to.Income.Ratio & FICO.Score & Request.Amount & Interest\\\\\n  & <lgl> & <dbl> & <int> & <int> & <dbl>\\\\\n\\hline\n\t1 & FALSE & 0 & 397 & 1000 &  450\\\\\n\t2 & FALSE & 0 & 403 &  500 &  225\\\\\n\t3 & FALSE & 0 & 408 & 1000 &  450\\\\\n\t4 & FALSE & 0 & 408 & 2000 &  900\\\\\n\t5 & FALSE & 0 & 411 & 5000 & 2250\\\\\n\t6 & FALSE & 0 & 413 & 5000 & 2250\\\\\n\\end{tabular}\n",
            "text/plain": [
              "  Approval Debt.to.Income.Ratio FICO.Score Request.Amount Interest\n",
              "1 FALSE    0                    397        1000            450    \n",
              "2 FALSE    0                    403         500            225    \n",
              "3 FALSE    0                    408        1000            450    \n",
              "4 FALSE    0                    408        2000            900    \n",
              "5 FALSE    0                    411        5000           2250    \n",
              "6 FALSE    0                    413        5000           2250    "
            ]
          },
          "metadata": {}
        }
      ]
    },
    {
      "cell_type": "code",
      "source": [
        "# shape of the data frame\n",
        "\n",
        "dim(train_DF)"
      ],
      "metadata": {
        "colab": {
          "base_uri": "https://localhost:8080/",
          "height": 35
        },
        "id": "ZLiNpHFobdS6",
        "outputId": "eb5af20b-a502-46fb-e740-51df79e1bab9"
      },
      "execution_count": 77,
      "outputs": [
        {
          "output_type": "display_data",
          "data": {
            "text/html": [
              "<style>\n",
              ".list-inline {list-style: none; margin:0; padding: 0}\n",
              ".list-inline>li {display: inline-block}\n",
              ".list-inline>li:not(:last-child)::after {content: \"\\00b7\"; padding: 0 .5ex}\n",
              "</style>\n",
              "<ol class=list-inline><li>150302</li><li>5</li></ol>\n"
            ],
            "text/markdown": "1. 150302\n2. 5\n\n\n",
            "text/latex": "\\begin{enumerate*}\n\\item 150302\n\\item 5\n\\end{enumerate*}\n",
            "text/plain": [
              "[1] 150302      5"
            ]
          },
          "metadata": {}
        }
      ]
    },
    {
      "cell_type": "code",
      "source": [
        "# Column names\n",
        "colnames(train_DF)"
      ],
      "metadata": {
        "colab": {
          "base_uri": "https://localhost:8080/",
          "height": 35
        },
        "id": "oU8TLj0Ibiel",
        "outputId": "979daeea-e12d-4d2f-8140-1a22f6cf1aa3"
      },
      "execution_count": 78,
      "outputs": [
        {
          "output_type": "display_data",
          "data": {
            "text/html": [
              "<style>\n",
              ".list-inline {list-style: none; margin:0; padding: 0}\n",
              ".list-inline>li {display: inline-block}\n",
              ".list-inline>li:not(:last-child)::after {content: \"\\00b7\"; padding: 0 .5ex}\n",
              "</style>\n",
              "<ol class=list-inline><li>'Approval'</li><li>'Debt.to.Income.Ratio'</li><li>'FICO.Score'</li><li>'Request.Amount'</li><li>'Interest'</li></ol>\n"
            ],
            "text/markdown": "1. 'Approval'\n2. 'Debt.to.Income.Ratio'\n3. 'FICO.Score'\n4. 'Request.Amount'\n5. 'Interest'\n\n\n",
            "text/latex": "\\begin{enumerate*}\n\\item 'Approval'\n\\item 'Debt.to.Income.Ratio'\n\\item 'FICO.Score'\n\\item 'Request.Amount'\n\\item 'Interest'\n\\end{enumerate*}\n",
            "text/plain": [
              "[1] \"Approval\"             \"Debt.to.Income.Ratio\" \"FICO.Score\"          \n",
              "[4] \"Request.Amount\"       \"Interest\"            "
            ]
          },
          "metadata": {}
        }
      ]
    },
    {
      "cell_type": "code",
      "source": [
        "# check null values in trainingDF\n",
        "sum(is.na(train_DF))"
      ],
      "metadata": {
        "colab": {
          "base_uri": "https://localhost:8080/",
          "height": 35
        },
        "id": "23txlWENbYy2",
        "outputId": "674a7cc7-6042-4f8c-bcc6-84774ed23fe6"
      },
      "execution_count": 79,
      "outputs": [
        {
          "output_type": "display_data",
          "data": {
            "text/html": [
              "0"
            ],
            "text/markdown": "0",
            "text/latex": "0",
            "text/plain": [
              "[1] 0"
            ]
          },
          "metadata": {}
        }
      ]
    },
    {
      "cell_type": "code",
      "source": [
        "# check null values in testDF\n",
        "sum(is.na(test_DF))"
      ],
      "metadata": {
        "colab": {
          "base_uri": "https://localhost:8080/",
          "height": 35
        },
        "id": "eYJ5BfWjbabv",
        "outputId": "d72c3980-c567-4d7c-bed4-0523cc2ed635"
      },
      "execution_count": 80,
      "outputs": [
        {
          "output_type": "display_data",
          "data": {
            "text/html": [
              "0"
            ],
            "text/markdown": "0",
            "text/latex": "0",
            "text/plain": [
              "[1] 0"
            ]
          },
          "metadata": {}
        }
      ]
    },
    {
      "cell_type": "code",
      "source": [
        "# summary of dataset\n",
        "summary(train_DF)"
      ],
      "metadata": {
        "colab": {
          "base_uri": "https://localhost:8080/",
          "height": 260
        },
        "id": "CKR5O3MmbVNR",
        "outputId": "0f5237ec-114b-489a-bd21-f0358d802cff"
      },
      "execution_count": 81,
      "outputs": [
        {
          "output_type": "display_data",
          "data": {
            "text/plain": [
              "  Approval       Debt.to.Income.Ratio   FICO.Score  Request.Amount \n",
              " Mode :logical   Min.   :0.0000       Min.   :371   Min.   :  500  \n",
              " FALSE:75066     1st Qu.:0.0900       1st Qu.:647   1st Qu.: 6000  \n",
              " TRUE :75236     Median :0.1600       Median :684   Median :11000  \n",
              "                 Mean   :0.1835       Mean   :672   Mean   :13427  \n",
              "                 3rd Qu.:0.2400       3rd Qu.:714   3rd Qu.:19000  \n",
              "                 Max.   :1.0300       Max.   :869   Max.   :44000  \n",
              "    Interest    \n",
              " Min.   :  225  \n",
              " 1st Qu.: 2700  \n",
              " Median : 4950  \n",
              " Mean   : 6042  \n",
              " 3rd Qu.: 8550  \n",
              " Max.   :19800  "
            ]
          },
          "metadata": {}
        }
      ]
    },
    {
      "cell_type": "code",
      "source": [
        "# Describe the structure of the data frame\n",
        "\n",
        "str(train_DF)"
      ],
      "metadata": {
        "colab": {
          "base_uri": "https://localhost:8080/"
        },
        "id": "EW00PBwrbj6u",
        "outputId": "1ae8692c-adfd-4636-f910-d24f1203d0ee"
      },
      "execution_count": 82,
      "outputs": [
        {
          "output_type": "stream",
          "name": "stdout",
          "text": [
            "'data.frame':\t150302 obs. of  5 variables:\n",
            " $ Approval            : logi  FALSE FALSE FALSE FALSE FALSE FALSE ...\n",
            " $ Debt.to.Income.Ratio: num  0 0 0 0 0 0 0 0 0 0 ...\n",
            " $ FICO.Score          : int  397 403 408 408 411 413 416 421 422 432 ...\n",
            " $ Request.Amount      : int  1000 500 1000 2000 5000 5000 6000 2000 12000 10000 ...\n",
            " $ Interest            : num  450 225 450 900 2250 2250 2700 900 5400 4500 ...\n"
          ]
        }
      ]
    },
    {
      "cell_type": "markdown",
      "source": [
        "# **Creating cart model**"
      ],
      "metadata": {
        "id": "kdjaCQ9ab2sM"
      }
    },
    {
      "cell_type": "code",
      "source": [
        "cart_training1 <- rpart(Approval~., data = train_DF, cp=.01)"
      ],
      "metadata": {
        "id": "SteIsOs2bzZX"
      },
      "execution_count": 84,
      "outputs": []
    },
    {
      "cell_type": "code",
      "source": [
        "summary(cart_training1)"
      ],
      "metadata": {
        "colab": {
          "base_uri": "https://localhost:8080/"
        },
        "id": "nUwFFDgvb9fj",
        "outputId": "c65bfd4c-0241-4920-c730-2763d31fd319"
      },
      "execution_count": 85,
      "outputs": [
        {
          "output_type": "stream",
          "name": "stdout",
          "text": [
            "Call:\n",
            "rpart(formula = Approval ~ ., data = train_DF, cp = 0.01)\n",
            "  n= 150302 \n",
            "\n",
            "          CP nsplit rel error    xerror         xstd\n",
            "1 0.37536172      0 1.0000000 1.0000088 6.814015e-06\n",
            "2 0.12857983      1 0.6246383 0.6250474 2.069369e-03\n",
            "3 0.01133642      2 0.4960584 0.4965429 2.355135e-03\n",
            "4 0.01000000      3 0.4847220 0.4852428 2.338719e-03\n",
            "\n",
            "Variable importance\n",
            "          FICO.Score Debt.to.Income.Ratio             Interest \n",
            "                  71                   24                    3 \n",
            "      Request.Amount \n",
            "                   3 \n",
            "\n",
            "Node number 1: 150302 observations,    complexity param=0.3753617\n",
            "  mean=0.5005655, MSE=0.2499997 \n",
            "  left son=2 (46002 obs) right son=3 (104300 obs)\n",
            "  Primary splits:\n",
            "      FICO.Score           < 659.5 to the left,  improve=0.37536170, (0 missing)\n",
            "      Debt.to.Income.Ratio < 0.305 to the right, improve=0.11958450, (0 missing)\n",
            "      Request.Amount       < 25500 to the right, improve=0.01585947, (0 missing)\n",
            "      Interest             < 11475 to the right, improve=0.01585947, (0 missing)\n",
            "  Surrogate splits:\n",
            "      Request.Amount       < 1500  to the left,  agree=0.696, adj=0.006, (0 split)\n",
            "      Interest             < 675   to the left,  agree=0.696, adj=0.006, (0 split)\n",
            "      Debt.to.Income.Ratio < 1.005 to the right, agree=0.694, adj=0.000, (0 split)\n",
            "\n",
            "Node number 2: 46002 observations\n",
            "  mean=0.03930264, MSE=0.03775794 \n",
            "\n",
            "Node number 3: 104300 observations,    complexity param=0.1285798\n",
            "  mean=0.7040077, MSE=0.2083809 \n",
            "  left son=6 (12873 obs) right son=7 (91427 obs)\n",
            "  Primary splits:\n",
            "      Debt.to.Income.Ratio < 0.305 to the right, improve=0.22229770, (0 missing)\n",
            "      Request.Amount       < 24500 to the right, improve=0.04356445, (0 missing)\n",
            "      Interest             < 11025 to the right, improve=0.04356445, (0 missing)\n",
            "      FICO.Score           < 671.5 to the left,  improve=0.01908885, (0 missing)\n",
            "\n",
            "Node number 6: 12873 observations\n",
            "  mean=0.130428, MSE=0.1134166 \n",
            "\n",
            "Node number 7: 91427 observations,    complexity param=0.01133642\n",
            "  mean=0.7847682, MSE=0.1689071 \n",
            "  left son=14 (10828 obs) right son=15 (80599 obs)\n",
            "  Primary splits:\n",
            "      Request.Amount       < 25500 to the right, improve=0.02758403, (0 missing)\n",
            "      Interest             < 11475 to the right, improve=0.02758403, (0 missing)\n",
            "      Debt.to.Income.Ratio < 0.255 to the right, improve=0.02606069, (0 missing)\n",
            "      FICO.Score           < 671.5 to the left,  improve=0.02065494, (0 missing)\n",
            "  Surrogate splits:\n",
            "      Interest < 11475 to the right, agree=1, adj=1, (0 split)\n",
            "\n",
            "Node number 14: 10828 observations\n",
            "  mean=0.5985408, MSE=0.2402897 \n",
            "\n",
            "Node number 15: 80599 observations\n",
            "  mean=0.8097867, MSE=0.1540322 \n",
            "\n"
          ]
        }
      ]
    },
    {
      "cell_type": "markdown",
      "source": [
        "# Visualize the decision tree for cart model"
      ],
      "metadata": {
        "id": "YRZh85o9cH6Q"
      }
    },
    {
      "cell_type": "code",
      "source": [
        "rpart.plot(cart_training1, box.palette=\"pink\", shadow.col=\"black\", nn=TRUE)"
      ],
      "metadata": {
        "colab": {
          "base_uri": "https://localhost:8080/",
          "height": 437
        },
        "id": "9pjQ6sz-cHG9",
        "outputId": "07170992-e910-4330-f5e2-a84641793fa5"
      },
      "execution_count": 86,
      "outputs": [
        {
          "output_type": "display_data",
          "data": {
            "text/plain": [
              "plot without title"
            ],
            "image/png": "[encoded data removed]"
          },
          "metadata": {
            "image/png": {
              "width": 420,
              "height": 420
            }
          }
        }
      ]
    },
    {
      "cell_type": "markdown",
      "source": [
        "# Confusion matrix for cart model\n"
      ],
      "metadata": {
        "id": "wPnhARGhcRRn"
      }
    },
    {
      "cell_type": "code",
      "source": [
        "cart_model_prediction <- predict(cart_training1, test_DF, type = \"vector\") >= 0.5"
      ],
      "metadata": {
        "id": "Yrc57bjwcM8n"
      },
      "execution_count": 88,
      "outputs": []
    },
    {
      "cell_type": "code",
      "source": [
        "confusionMatrix(table(test_DF$Approval, cart_model_prediction))"
      ],
      "metadata": {
        "colab": {
          "base_uri": "https://localhost:8080/",
          "height": 485
        },
        "id": "3z8Qe66ljQZl",
        "outputId": "17efa76f-4901-4d1b-97a7-4b27400ad9f3"
      },
      "execution_count": 89,
      "outputs": [
        {
          "output_type": "display_data",
          "data": {
            "text/plain": [
              "Confusion Matrix and Statistics\n",
              "\n",
              "       cart_model_prediction\n",
              "        FALSE  TRUE\n",
              "  FALSE 18314  6620\n",
              "  TRUE   1171 23593\n",
              "                                        \n",
              "               Accuracy : 0.8432        \n",
              "                 95% CI : (0.84, 0.8464)\n",
              "    No Information Rate : 0.6079        \n",
              "    P-Value [Acc > NIR] : < 2.2e-16     \n",
              "                                        \n",
              "                  Kappa : 0.6867        \n",
              "                                        \n",
              " Mcnemar's Test P-Value : < 2.2e-16     \n",
              "                                        \n",
              "            Sensitivity : 0.9399        \n",
              "            Specificity : 0.7809        \n",
              "         Pos Pred Value : 0.7345        \n",
              "         Neg Pred Value : 0.9527        \n",
              "             Prevalence : 0.3921        \n",
              "         Detection Rate : 0.3685        \n",
              "   Detection Prevalence : 0.5017        \n",
              "      Balanced Accuracy : 0.8604        \n",
              "                                        \n",
              "       'Positive' Class : FALSE         \n",
              "                                        "
            ]
          },
          "metadata": {}
        }
      ]
    },
    {
      "cell_type": "markdown",
      "source": [
        "# Accuracy for cart model "
      ],
      "metadata": {
        "id": "TvAjqxNRcZWi"
      }
    },
    {
      "cell_type": "code",
      "source": [
        "accuracy <- sum( cart_model_prediction == test_DF$Approval ) / length( cart_model_prediction )\n",
        "accuracy"
      ],
      "metadata": {
        "colab": {
          "base_uri": "https://localhost:8080/",
          "height": 35
        },
        "id": "SmzV2M7-cVvt",
        "outputId": "f506386f-5550-494b-a3cd-0e55318bd619"
      },
      "execution_count": 90,
      "outputs": [
        {
          "output_type": "display_data",
          "data": {
            "text/html": [
              "0.843233128093686"
            ],
            "text/markdown": "0.843233128093686",
            "text/latex": "0.843233128093686",
            "text/plain": [
              "[1] 0.8432331"
            ]
          },
          "metadata": {}
        }
      ]
    },
    {
      "cell_type": "markdown",
      "source": [
        "# **Creating C5.0 model**"
      ],
      "metadata": {
        "id": "cQP_prYkcwYN"
      }
    },
    {
      "cell_type": "code",
      "source": [
        "c5model_train <- C5.0(x = train_DF[, -1], y = as.factor(train_DF$Approval), control=C5.0Control(minCases=1000))"
      ],
      "metadata": {
        "id": "Q1bW7rQWcsqq"
      },
      "execution_count": 91,
      "outputs": []
    },
    {
      "cell_type": "code",
      "source": [
        "summary(c5model_train)"
      ],
      "metadata": {
        "colab": {
          "base_uri": "https://localhost:8080/",
          "height": 954
        },
        "id": "567jqmGhjd2f",
        "outputId": "b621e130-7ef5-45a0-f269-d0478429a23e"
      },
      "execution_count": 92,
      "outputs": [
        {
          "output_type": "display_data",
          "data": {
            "text/plain": [
              "\n",
              "Call:\n",
              "C5.0.default(x = train_DF[, -1], y = as.factor(train_DF$Approval), control\n",
              " = C5.0Control(minCases = 1000))\n",
              "\n",
              "\n",
              "C5.0 [Release 2.07 GPL Edition]  \tWed Apr 20 01:19:53 2022\n",
              "-------------------------------\n",
              "\n",
              "Class specified by attribute `outcome'\n",
              "\n",
              "Read 150302 cases (5 attributes) from undefined.data\n",
              "\n",
              "Decision tree:\n",
              "\n",
              "Debt.to.Income.Ratio > 0.31: FALSE (19884/1160)\n",
              "Debt.to.Income.Ratio <= 0.31:\n",
              ":...FICO.Score <= 655: FALSE (35346/894)\n",
              "    FICO.Score > 655:\n",
              "    :...FICO.Score <= 669:\n",
              "        :...Request.Amount > 23000: FALSE (1547/529)\n",
              "        :   Request.Amount <= 23000:\n",
              "        :   :...FICO.Score <= 661: FALSE (3246/1418)\n",
              "        :       FICO.Score > 661: TRUE (5892/2056)\n",
              "        FICO.Score > 669:\n",
              "        :...Debt.to.Income.Ratio <= 0.25: TRUE (75846/13356)\n",
              "            Debt.to.Income.Ratio > 0.25:\n",
              "            :...Request.Amount <= 25000: TRUE (7112/2658)\n",
              "                Request.Amount > 25000: FALSE (1429/455)\n",
              "\n",
              "\n",
              "Evaluation on training data (150302 cases):\n",
              "\n",
              "\t    Decision Tree   \n",
              "\t  ----------------  \n",
              "\t  Size      Errors  \n",
              "\n",
              "\t     8 22526(15.0%)   <<\n",
              "\n",
              "\n",
              "\t   (a)   (b)    <-classified as\n",
              "\t  ----  ----\n",
              "\t 56996 18070    (a): class FALSE\n",
              "\t  4456 70780    (b): class TRUE\n",
              "\n",
              "\n",
              "\tAttribute usage:\n",
              "\n",
              "\t100.00%\tDebt.to.Income.Ratio\n",
              "\t 86.77%\tFICO.Score\n",
              "\t 12.79%\tRequest.Amount\n",
              "\n",
              "\n",
              "Time: 0.5 secs\n"
            ]
          },
          "metadata": {}
        }
      ]
    },
    {
      "cell_type": "markdown",
      "source": [
        "# Decision Tree for C5.0 model"
      ],
      "metadata": {
        "id": "kGkaEW5QdE2H"
      }
    },
    {
      "cell_type": "code",
      "source": [
        "plot(c5model_train)"
      ],
      "metadata": {
        "colab": {
          "base_uri": "https://localhost:8080/",
          "height": 437
        },
        "id": "2wBOIKXbdFyV",
        "outputId": "9fce4a7f-ba16-4d55-e3b9-f994795c329c"
      },
      "execution_count": 65,
      "outputs": [
        {
          "output_type": "display_data",
          "data": {
            "text/plain": [
              "plot without title"
            ],
            "image/png": "[encoded data removed]"
          },
          "metadata": {
            "image/png": {
              "width": 420,
              "height": 420
            }
          }
        }
      ]
    },
    {
      "cell_type": "markdown",
      "source": [
        "# Display confusion matrix "
      ],
      "metadata": {
        "id": "YW2AbiK-dOC4"
      }
    },
    {
      "cell_type": "code",
      "source": [
        "c5_model_prediction <- predict(c5model_train, test_DF, type = \"class\") "
      ],
      "metadata": {
        "colab": {
          "base_uri": "https://localhost:8080/",
          "height": 485
        },
        "id": "jAldnXatdPm-",
        "outputId": "46dcef7d-96f4-469b-9f8a-d272b4c7e331"
      },
      "execution_count": 66,
      "outputs": [
        {
          "output_type": "display_data",
          "data": {
            "text/plain": [
              "Confusion Matrix and Statistics\n",
              "\n",
              "       c5_model_prediction\n",
              "        FALSE  TRUE\n",
              "  FALSE 18842  6092\n",
              "  TRUE   1504 23260\n",
              "                                         \n",
              "               Accuracy : 0.8472         \n",
              "                 95% CI : (0.844, 0.8503)\n",
              "    No Information Rate : 0.5906         \n",
              "    P-Value [Acc > NIR] : < 2.2e-16      \n",
              "                                         \n",
              "                  Kappa : 0.6945         \n",
              "                                         \n",
              " Mcnemar's Test P-Value : < 2.2e-16      \n",
              "                                         \n",
              "            Sensitivity : 0.9261         \n",
              "            Specificity : 0.7925         \n",
              "         Pos Pred Value : 0.7557         \n",
              "         Neg Pred Value : 0.9393         \n",
              "             Prevalence : 0.4094         \n",
              "         Detection Rate : 0.3791         \n",
              "   Detection Prevalence : 0.5017         \n",
              "      Balanced Accuracy : 0.8593         \n",
              "                                         \n",
              "       'Positive' Class : FALSE          \n",
              "                                         "
            ]
          },
          "metadata": {}
        }
      ]
    },
    {
      "cell_type": "code",
      "source": [
        "confusionMatrix(table(test_DF$Approval, c5_model_prediction))"
      ],
      "metadata": {
        "id": "il-NNRxNji-J"
      },
      "execution_count": null,
      "outputs": []
    },
    {
      "cell_type": "markdown",
      "source": [
        "# Accuracy for c5.0 model"
      ],
      "metadata": {
        "id": "TSVfPm3jdVHM"
      }
    },
    {
      "cell_type": "code",
      "source": [
        "accuracy2 <- sum( c5_model_prediction == test_DF$Approval ) / length( c5_model_prediction )\n",
        "accuracy2"
      ],
      "metadata": {
        "colab": {
          "base_uri": "https://localhost:8080/",
          "height": 35
        },
        "id": "gw3dMTtXdVym",
        "outputId": "f4a36e34-1b96-46d1-f1ef-ba90846097f9"
      },
      "execution_count": 93,
      "outputs": [
        {
          "output_type": "display_data",
          "data": {
            "text/html": [
              "0.847156827236509"
            ],
            "text/markdown": "0.847156827236509",
            "text/latex": "0.847156827236509",
            "text/plain": [
              "[1] 0.8471568"
            ]
          },
          "metadata": {}
        }
      ]
    },
    {
      "cell_type": "markdown",
      "source": [
        "We are getting 0.84 percent of accuracy using cart model."
      ],
      "metadata": {
        "id": "-jnOP4AUdgHU"
      }
    },
    {
      "cell_type": "markdown",
      "source": [
        "# Compare model\n",
        "\n"
      ],
      "metadata": {
        "id": "JsjtYe9rdkIo"
      }
    },
    {
      "cell_type": "code",
      "source": [
        "modelnames <- c(\"CART\",\"C5.0\")\n",
        "accuracy_model = c(cart_model_accuracy, c5_model_accuracy)"
      ],
      "metadata": {
        "id": "CssgV7EgdZJj"
      },
      "execution_count": 96,
      "outputs": []
    },
    {
      "cell_type": "code",
      "source": [
        "barplot(accuracy_model, main = \"Accuracy Model\",\n",
        "            ylab = \"count\",names.arg = modelnames,col=\"red\")"
      ],
      "metadata": {
        "colab": {
          "base_uri": "https://localhost:8080/",
          "height": 437
        },
        "id": "q9RfNK-6do8H",
        "outputId": "244e4f80-e30f-45fb-9d81-f236d585192d"
      },
      "execution_count": 98,
      "outputs": [
        {
          "output_type": "display_data",
          "data": {
            "text/plain": [
              "Plot with title “Accuracy Model”"
            ],
            "image/png": "[encoded data removed]"
          },
          "metadata": {
            "image/png": {
              "width": 420,
              "height": 420
            }
          }
        }
      ]
    },
    {
      "cell_type": "code",
      "source": [
        ""
      ],
      "metadata": {
        "id": "Az0z2PRrj2HH"
      },
      "execution_count": null,
      "outputs": []
    }
  ]
}