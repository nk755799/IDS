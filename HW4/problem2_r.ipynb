{
  "nbformat": 4,
  "nbformat_minor": 0,
  "metadata": {
    "colab": {
      "name": "problem2_r.ipynb",
      "provenance": [],
      "authorship_tag": "ABX9TyPx/Hd2fyjr+7+cGooNVzxO",
      "include_colab_link": true
    },
    "kernelspec": {
      "name": "ir",
      "display_name": "R"
    },
    "language_info": {
      "name": "R"
    }
  },
  "cells": [
    {
      "cell_type": "markdown",
      "metadata": {
        "id": "view-in-github",
        "colab_type": "text"
      },
      "source": [
        "<a href=\"https://colab.research.google.com/github/nk755799/IDS/blob/main/HW4/problem2_r.ipynb\" target=\"_parent\"><img src=\"https://colab.research.google.com/assets/colab-badge.svg\" alt=\"Open In Colab\"/></a>"
      ]
    },
    {
      "cell_type": "code",
      "execution_count": 1,
      "metadata": {
        "id": "raH_xfS89Y2-"
      },
      "outputs": [],
      "source": [
        "#Importing required library\n",
        "library(readr)"
      ]
    },
    {
      "cell_type": "code",
      "source": [
        "# importing csv into dataframe\n",
        "nutrition_DF <- read_csv(\"https://raw.githubusercontent.com/nk755799/IDS/main/HW4/nutrition_subset.csv\")"
      ],
      "metadata": {
        "colab": {
          "base_uri": "https://localhost:8080/"
        },
        "id": "d1mtBpZm9n0e",
        "outputId": "5255ce5a-488d-47a0-dd3a-d8f9950aee82"
      },
      "execution_count": 2,
      "outputs": [
        {
          "output_type": "stream",
          "name": "stderr",
          "text": [
            "\u001b[1mRows: \u001b[22m\u001b[34m961\u001b[39m \u001b[1mColumns: \u001b[22m\u001b[34m4\u001b[39m\n",
            "\u001b[36m──\u001b[39m \u001b[1mColumn specification\u001b[22m \u001b[36m────────────────────────────────────────────────────────\u001b[39m\n",
            "\u001b[1mDelimiter:\u001b[22m \",\"\n",
            "\u001b[31mchr\u001b[39m (1): food item\n",
            "\u001b[32mdbl\u001b[39m (3): weight_in_grams, saturated_fat, cholesterol\n",
            "\n",
            "\u001b[36mℹ\u001b[39m Use `spec()` to retrieve the full column specification for this data.\n",
            "\u001b[36mℹ\u001b[39m Specify the column types or set `show_col_types = FALSE` to quiet this message.\n"
          ]
        }
      ]
    },
    {
      "cell_type": "markdown",
      "source": [
        "**2.The elements in the data set are food items of various sizes, ranging from a teaspoon of cinnamon to an entire carrot cake.**"
      ],
      "metadata": {
        "id": "Npmk8mb-9-Ax"
      }
    },
    {
      "cell_type": "code",
      "source": [
        "#displaying all the food items in the dataframe\n",
        "nutrition_DF['food item']"
      ],
      "metadata": {
        "colab": {
          "base_uri": "https://localhost:8080/",
          "height": 1000
        },
        "id": "ynGUcINK92w7",
        "outputId": "4360cb75-fbf3-46df-88f5-d4742858bef1"
      },
      "execution_count": 3,
      "outputs": [
        {
          "output_type": "display_data",
          "data": {
            "text/html": [
              "<table class=\"dataframe\">\n",
              "<caption>A tibble: 961 × 1</caption>\n",
              "<thead>\n",
              "\t<tr><th scope=col>food item</th></tr>\n",
              "\t<tr><th scope=col>&lt;chr&gt;</th></tr>\n",
              "</thead>\n",
              "<tbody>\n",
              "\t<tr><td>GELATIN; DRY                  1 ENVELP</td></tr>\n",
              "\t<tr><td>SEAWEED; SPIRULINA; DRIED     1 OZ    </td></tr>\n",
              "\t<tr><td>YEAST; BAKERS; DRY; ACTIVE    1 PKG   </td></tr>\n",
              "\t<tr><td>PARMESAN CHEESE; GRATED       1 OZ    </td></tr>\n",
              "\t<tr><td>PARMESAN CHEESE; GRATED       1 CUP   </td></tr>\n",
              "\t<tr><td>PARMESAN CHEESE; GRATED       1 TBSP  </td></tr>\n",
              "\t<tr><td>YEAST; BREWERS; DRY           1 TBSP  </td></tr>\n",
              "\t<tr><td>LAMB;CHOPS;ARM;BRAISED;LEAN   1.7 OZ  </td></tr>\n",
              "\t<tr><td>TUNA; CANND; DRND;WATR; WHITE 3 OZ    </td></tr>\n",
              "\t<tr><td>NONFAT DRY MILK; INSTANTIZED  1 CUP   </td></tr>\n",
              "\t<tr><td>NONFAT DRY MILK; INSTANTIZED  1 ENVLPE</td></tr>\n",
              "\t<tr><td>BUTTERMILK; DRIED             1 CUP   </td></tr>\n",
              "\t<tr><td>BEEF; DRIED; CHIPPED          2.5 OZ  </td></tr>\n",
              "\t<tr><td>PORK SHOULDER; BRAISD; LEAN   2.4 OZ  </td></tr>\n",
              "\t<tr><td>BEEF; CKD;BTTM ROUND;LEAN ONLY2.8 OZ  </td></tr>\n",
              "\t<tr><td>PORK CHOP; LOIN; BROIL; LEAN  2.5 OZ  </td></tr>\n",
              "\t<tr><td>LAMB;CHOPS;ARM;BRAISED;LEAN+FT2.2 OZ  </td></tr>\n",
              "\t<tr><td>CHICKEN; FRIED; FLOUR; BREAST 3.5 OZ  </td></tr>\n",
              "\t<tr><td>PORK; CURED; BACON; REGUL;CKED3 SLICE </td></tr>\n",
              "\t<tr><td>CHICKEN; ROASTED; BREAST      3.0 OZ  </td></tr>\n",
              "\t<tr><td>PEANUT BUTTER                 1 TBSP  </td></tr>\n",
              "\t<tr><td>BEEF; CKD;CHUCK BLADE;LEANONLY2.2 OZ  </td></tr>\n",
              "\t<tr><td>BEEF STEAK;SIRLOIN;BROIL;LEAN 2.5 OZ  </td></tr>\n",
              "\t<tr><td>LAMB;CHOPS;LOIN;BROIL;LEAN    2.3 OZ  </td></tr>\n",
              "\t<tr><td>BEEF; CKD;BTTM ROUND;LEAN+ FAT3 OZ    </td></tr>\n",
              "\t<tr><td>TURKEY; ROASTED; LIGHT + DARK 3 PIECES</td></tr>\n",
              "\t<tr><td>TURKEY; ROASTED; LIGHT MEAT   2 PIECES</td></tr>\n",
              "\t<tr><td>BEEF ROAST; EYE O RND; LEAN   2.6 OZ  </td></tr>\n",
              "\t<tr><td>TURKEY; ROASTED; LIGHT + DARK 1 CUP   </td></tr>\n",
              "\t<tr><td>PORK CHOP; LOIN;PANFRY; LEAN  2.4 OZ  </td></tr>\n",
              "\t<tr><td>⋮</td></tr>\n",
              "\t<tr><td>TABLE SYRUP (CORN AND MAPLE)  2 TBSP  </td></tr>\n",
              "\t<tr><td>JELLIES                       1 PKT   </td></tr>\n",
              "\t<tr><td>GIN;RUM;VODKA;WHISKY 90-PROOF 1.5 F OZ</td></tr>\n",
              "\t<tr><td>GIN;RUM;VODKA;WHISKY 86-PROOF 1.5 F OZ</td></tr>\n",
              "\t<tr><td>IMITATN WHIPD TOPING;PWDRD;PRP1 TBSP  </td></tr>\n",
              "\t<tr><td>IMITATN WHIPD TOPING;PRESSRZD 1 TBSP  </td></tr>\n",
              "\t<tr><td>MAYONNAISE; IMITATION         1 TBSP  </td></tr>\n",
              "\t<tr><td>GIN;RUM;VODKA;WHISKY 80-PROOF 1.5 F OZ</td></tr>\n",
              "\t<tr><td>SOUR CREAM                    1 TBSP  </td></tr>\n",
              "\t<tr><td>LIGHT; COFFEE OR TABLE CREAM  1 TBSP  </td></tr>\n",
              "\t<tr><td>BAKING POWDER;SAS;CAPO4+CASO4 1 TSP   </td></tr>\n",
              "\t<tr><td>IMITATN SOUR DRESSING         1 TBSP  </td></tr>\n",
              "\t<tr><td>BAKING POWDER;SAS; CA PO4     1 TSP   </td></tr>\n",
              "\t<tr><td>FRENCH SALAD DRESSING; LOCALOR1 TBSP  </td></tr>\n",
              "\t<tr><td>HALF AND HALF; CREAM          1 TBSP  </td></tr>\n",
              "\t<tr><td>IMITATION CREAMERS; LIQUID FRZ1 TBSP  </td></tr>\n",
              "\t<tr><td>BAKING POWDER; STRGHT PHOSPHAT1 TSP   </td></tr>\n",
              "\t<tr><td>BAKING POWDER; LOW SODIUM     1 TSP   </td></tr>\n",
              "\t<tr><td>POPSICLE                      1 POPCLE</td></tr>\n",
              "\t<tr><td>PLUMS; RAW; 1-1/2-IN DIAM     1 PLUM  </td></tr>\n",
              "\t<tr><td>LIMEADE;CONCEN;FROZEN;DILUTED 6 FL OZ </td></tr>\n",
              "\t<tr><td>ITALIAN SALAD DRESSING;LOCALOR1 TBSP  </td></tr>\n",
              "\t<tr><td>LEMON JUICE; CANNED           1 TBSP  </td></tr>\n",
              "\t<tr><td>TEA;INSTANT;PREPARD;SWEETENED 8 FL OZ </td></tr>\n",
              "\t<tr><td>CLUB SODA                     12 FL OZ</td></tr>\n",
              "\t<tr><td>COFFEE; BREWED                6 FL OZ </td></tr>\n",
              "\t<tr><td>TEA; BREWED                   8 FL OZ </td></tr>\n",
              "\t<tr><td>TEA; INSTANT;PREPRD;UNSWEETEND8 FL OZ </td></tr>\n",
              "\t<tr><td>LETTUCE; BUTTERHEAD; RAW;LEAVE1 LEAF  </td></tr>\n",
              "\t<tr><td>SALT                          1 TSP   </td></tr>\n",
              "</tbody>\n",
              "</table>\n"
            ],
            "text/markdown": "\nA tibble: 961 × 1\n\n| food item &lt;chr&gt; |\n|---|\n| GELATIN; DRY                  1 ENVELP |\n| SEAWEED; SPIRULINA; DRIED     1 OZ     |\n| YEAST; BAKERS; DRY; ACTIVE    1 PKG    |\n| PARMESAN CHEESE; GRATED       1 OZ     |\n| PARMESAN CHEESE; GRATED       1 CUP    |\n| PARMESAN CHEESE; GRATED       1 TBSP   |\n| YEAST; BREWERS; DRY           1 TBSP   |\n| LAMB;CHOPS;ARM;BRAISED;LEAN   1.7 OZ   |\n| TUNA; CANND; DRND;WATR; WHITE 3 OZ     |\n| NONFAT DRY MILK; INSTANTIZED  1 CUP    |\n| NONFAT DRY MILK; INSTANTIZED  1 ENVLPE |\n| BUTTERMILK; DRIED             1 CUP    |\n| BEEF; DRIED; CHIPPED          2.5 OZ   |\n| PORK SHOULDER; BRAISD; LEAN   2.4 OZ   |\n| BEEF; CKD;BTTM ROUND;LEAN ONLY2.8 OZ   |\n| PORK CHOP; LOIN; BROIL; LEAN  2.5 OZ   |\n| LAMB;CHOPS;ARM;BRAISED;LEAN+FT2.2 OZ   |\n| CHICKEN; FRIED; FLOUR; BREAST 3.5 OZ   |\n| PORK; CURED; BACON; REGUL;CKED3 SLICE  |\n| CHICKEN; ROASTED; BREAST      3.0 OZ   |\n| PEANUT BUTTER                 1 TBSP   |\n| BEEF; CKD;CHUCK BLADE;LEANONLY2.2 OZ   |\n| BEEF STEAK;SIRLOIN;BROIL;LEAN 2.5 OZ   |\n| LAMB;CHOPS;LOIN;BROIL;LEAN    2.3 OZ   |\n| BEEF; CKD;BTTM ROUND;LEAN+ FAT3 OZ     |\n| TURKEY; ROASTED; LIGHT + DARK 3 PIECES |\n| TURKEY; ROASTED; LIGHT MEAT   2 PIECES |\n| BEEF ROAST; EYE O RND; LEAN   2.6 OZ   |\n| TURKEY; ROASTED; LIGHT + DARK 1 CUP    |\n| PORK CHOP; LOIN;PANFRY; LEAN  2.4 OZ   |\n| ⋮ |\n| TABLE SYRUP (CORN AND MAPLE)  2 TBSP   |\n| JELLIES                       1 PKT    |\n| GIN;RUM;VODKA;WHISKY 90-PROOF 1.5 F OZ |\n| GIN;RUM;VODKA;WHISKY 86-PROOF 1.5 F OZ |\n| IMITATN WHIPD TOPING;PWDRD;PRP1 TBSP   |\n| IMITATN WHIPD TOPING;PRESSRZD 1 TBSP   |\n| MAYONNAISE; IMITATION         1 TBSP   |\n| GIN;RUM;VODKA;WHISKY 80-PROOF 1.5 F OZ |\n| SOUR CREAM                    1 TBSP   |\n| LIGHT; COFFEE OR TABLE CREAM  1 TBSP   |\n| BAKING POWDER;SAS;CAPO4+CASO4 1 TSP    |\n| IMITATN SOUR DRESSING         1 TBSP   |\n| BAKING POWDER;SAS; CA PO4     1 TSP    |\n| FRENCH SALAD DRESSING; LOCALOR1 TBSP   |\n| HALF AND HALF; CREAM          1 TBSP   |\n| IMITATION CREAMERS; LIQUID FRZ1 TBSP   |\n| BAKING POWDER; STRGHT PHOSPHAT1 TSP    |\n| BAKING POWDER; LOW SODIUM     1 TSP    |\n| POPSICLE                      1 POPCLE |\n| PLUMS; RAW; 1-1/2-IN DIAM     1 PLUM   |\n| LIMEADE;CONCEN;FROZEN;DILUTED 6 FL OZ  |\n| ITALIAN SALAD DRESSING;LOCALOR1 TBSP   |\n| LEMON JUICE; CANNED           1 TBSP   |\n| TEA;INSTANT;PREPARD;SWEETENED 8 FL OZ  |\n| CLUB SODA                     12 FL OZ |\n| COFFEE; BREWED                6 FL OZ  |\n| TEA; BREWED                   8 FL OZ  |\n| TEA; INSTANT;PREPRD;UNSWEETEND8 FL OZ  |\n| LETTUCE; BUTTERHEAD; RAW;LEAVE1 LEAF   |\n| SALT                          1 TSP    |\n\n",
            "text/latex": "A tibble: 961 × 1\n\\begin{tabular}{l}\n food item\\\\\n <chr>\\\\\n\\hline\n\t GELATIN; DRY                  1 ENVELP\\\\\n\t SEAWEED; SPIRULINA; DRIED     1 OZ    \\\\\n\t YEAST; BAKERS; DRY; ACTIVE    1 PKG   \\\\\n\t PARMESAN CHEESE; GRATED       1 OZ    \\\\\n\t PARMESAN CHEESE; GRATED       1 CUP   \\\\\n\t PARMESAN CHEESE; GRATED       1 TBSP  \\\\\n\t YEAST; BREWERS; DRY           1 TBSP  \\\\\n\t LAMB;CHOPS;ARM;BRAISED;LEAN   1.7 OZ  \\\\\n\t TUNA; CANND; DRND;WATR; WHITE 3 OZ    \\\\\n\t NONFAT DRY MILK; INSTANTIZED  1 CUP   \\\\\n\t NONFAT DRY MILK; INSTANTIZED  1 ENVLPE\\\\\n\t BUTTERMILK; DRIED             1 CUP   \\\\\n\t BEEF; DRIED; CHIPPED          2.5 OZ  \\\\\n\t PORK SHOULDER; BRAISD; LEAN   2.4 OZ  \\\\\n\t BEEF; CKD;BTTM ROUND;LEAN ONLY2.8 OZ  \\\\\n\t PORK CHOP; LOIN; BROIL; LEAN  2.5 OZ  \\\\\n\t LAMB;CHOPS;ARM;BRAISED;LEAN+FT2.2 OZ  \\\\\n\t CHICKEN; FRIED; FLOUR; BREAST 3.5 OZ  \\\\\n\t PORK; CURED; BACON; REGUL;CKED3 SLICE \\\\\n\t CHICKEN; ROASTED; BREAST      3.0 OZ  \\\\\n\t PEANUT BUTTER                 1 TBSP  \\\\\n\t BEEF; CKD;CHUCK BLADE;LEANONLY2.2 OZ  \\\\\n\t BEEF STEAK;SIRLOIN;BROIL;LEAN 2.5 OZ  \\\\\n\t LAMB;CHOPS;LOIN;BROIL;LEAN    2.3 OZ  \\\\\n\t BEEF; CKD;BTTM ROUND;LEAN+ FAT3 OZ    \\\\\n\t TURKEY; ROASTED; LIGHT + DARK 3 PIECES\\\\\n\t TURKEY; ROASTED; LIGHT MEAT   2 PIECES\\\\\n\t BEEF ROAST; EYE O RND; LEAN   2.6 OZ  \\\\\n\t TURKEY; ROASTED; LIGHT + DARK 1 CUP   \\\\\n\t PORK CHOP; LOIN;PANFRY; LEAN  2.4 OZ  \\\\\n\t ⋮\\\\\n\t TABLE SYRUP (CORN AND MAPLE)  2 TBSP  \\\\\n\t JELLIES                       1 PKT   \\\\\n\t GIN;RUM;VODKA;WHISKY 90-PROOF 1.5 F OZ\\\\\n\t GIN;RUM;VODKA;WHISKY 86-PROOF 1.5 F OZ\\\\\n\t IMITATN WHIPD TOPING;PWDRD;PRP1 TBSP  \\\\\n\t IMITATN WHIPD TOPING;PRESSRZD 1 TBSP  \\\\\n\t MAYONNAISE; IMITATION         1 TBSP  \\\\\n\t GIN;RUM;VODKA;WHISKY 80-PROOF 1.5 F OZ\\\\\n\t SOUR CREAM                    1 TBSP  \\\\\n\t LIGHT; COFFEE OR TABLE CREAM  1 TBSP  \\\\\n\t BAKING POWDER;SAS;CAPO4+CASO4 1 TSP   \\\\\n\t IMITATN SOUR DRESSING         1 TBSP  \\\\\n\t BAKING POWDER;SAS; CA PO4     1 TSP   \\\\\n\t FRENCH SALAD DRESSING; LOCALOR1 TBSP  \\\\\n\t HALF AND HALF; CREAM          1 TBSP  \\\\\n\t IMITATION CREAMERS; LIQUID FRZ1 TBSP  \\\\\n\t BAKING POWDER; STRGHT PHOSPHAT1 TSP   \\\\\n\t BAKING POWDER; LOW SODIUM     1 TSP   \\\\\n\t POPSICLE                      1 POPCLE\\\\\n\t PLUMS; RAW; 1-1/2-IN DIAM     1 PLUM  \\\\\n\t LIMEADE;CONCEN;FROZEN;DILUTED 6 FL OZ \\\\\n\t ITALIAN SALAD DRESSING;LOCALOR1 TBSP  \\\\\n\t LEMON JUICE; CANNED           1 TBSP  \\\\\n\t TEA;INSTANT;PREPARD;SWEETENED 8 FL OZ \\\\\n\t CLUB SODA                     12 FL OZ\\\\\n\t COFFEE; BREWED                6 FL OZ \\\\\n\t TEA; BREWED                   8 FL OZ \\\\\n\t TEA; INSTANT;PREPRD;UNSWEETEND8 FL OZ \\\\\n\t LETTUCE; BUTTERHEAD; RAW;LEAVE1 LEAF  \\\\\n\t SALT                          1 TSP   \\\\\n\\end{tabular}\n",
            "text/plain": [
              "    food item                             \n",
              "1   GELATIN; DRY                  1 ENVELP\n",
              "2   SEAWEED; SPIRULINA; DRIED     1 OZ    \n",
              "3   YEAST; BAKERS; DRY; ACTIVE    1 PKG   \n",
              "4   PARMESAN CHEESE; GRATED       1 OZ    \n",
              "5   PARMESAN CHEESE; GRATED       1 CUP   \n",
              "6   PARMESAN CHEESE; GRATED       1 TBSP  \n",
              "7   YEAST; BREWERS; DRY           1 TBSP  \n",
              "8   LAMB;CHOPS;ARM;BRAISED;LEAN   1.7 OZ  \n",
              "9   TUNA; CANND; DRND;WATR; WHITE 3 OZ    \n",
              "10  NONFAT DRY MILK; INSTANTIZED  1 CUP   \n",
              "11  NONFAT DRY MILK; INSTANTIZED  1 ENVLPE\n",
              "12  BUTTERMILK; DRIED             1 CUP   \n",
              "13  BEEF; DRIED; CHIPPED          2.5 OZ  \n",
              "14  PORK SHOULDER; BRAISD; LEAN   2.4 OZ  \n",
              "15  BEEF; CKD;BTTM ROUND;LEAN ONLY2.8 OZ  \n",
              "16  PORK CHOP; LOIN; BROIL; LEAN  2.5 OZ  \n",
              "17  LAMB;CHOPS;ARM;BRAISED;LEAN+FT2.2 OZ  \n",
              "18  CHICKEN; FRIED; FLOUR; BREAST 3.5 OZ  \n",
              "19  PORK; CURED; BACON; REGUL;CKED3 SLICE \n",
              "20  CHICKEN; ROASTED; BREAST      3.0 OZ  \n",
              "21  PEANUT BUTTER                 1 TBSP  \n",
              "22  BEEF; CKD;CHUCK BLADE;LEANONLY2.2 OZ  \n",
              "23  BEEF STEAK;SIRLOIN;BROIL;LEAN 2.5 OZ  \n",
              "24  LAMB;CHOPS;LOIN;BROIL;LEAN    2.3 OZ  \n",
              "25  BEEF; CKD;BTTM ROUND;LEAN+ FAT3 OZ    \n",
              "26  TURKEY; ROASTED; LIGHT + DARK 3 PIECES\n",
              "27  TURKEY; ROASTED; LIGHT MEAT   2 PIECES\n",
              "28  BEEF ROAST; EYE O RND; LEAN   2.6 OZ  \n",
              "29  TURKEY; ROASTED; LIGHT + DARK 1 CUP   \n",
              "30  PORK CHOP; LOIN;PANFRY; LEAN  2.4 OZ  \n",
              "⋮   ⋮                                     \n",
              "932 TABLE SYRUP (CORN AND MAPLE)  2 TBSP  \n",
              "933 JELLIES                       1 PKT   \n",
              "934 GIN;RUM;VODKA;WHISKY 90-PROOF 1.5 F OZ\n",
              "935 GIN;RUM;VODKA;WHISKY 86-PROOF 1.5 F OZ\n",
              "936 IMITATN WHIPD TOPING;PWDRD;PRP1 TBSP  \n",
              "937 IMITATN WHIPD TOPING;PRESSRZD 1 TBSP  \n",
              "938 MAYONNAISE; IMITATION         1 TBSP  \n",
              "939 GIN;RUM;VODKA;WHISKY 80-PROOF 1.5 F OZ\n",
              "940 SOUR CREAM                    1 TBSP  \n",
              "941 LIGHT; COFFEE OR TABLE CREAM  1 TBSP  \n",
              "942 BAKING POWDER;SAS;CAPO4+CASO4 1 TSP   \n",
              "943 IMITATN SOUR DRESSING         1 TBSP  \n",
              "944 BAKING POWDER;SAS; CA PO4     1 TSP   \n",
              "945 FRENCH SALAD DRESSING; LOCALOR1 TBSP  \n",
              "946 HALF AND HALF; CREAM          1 TBSP  \n",
              "947 IMITATION CREAMERS; LIQUID FRZ1 TBSP  \n",
              "948 BAKING POWDER; STRGHT PHOSPHAT1 TSP   \n",
              "949 BAKING POWDER; LOW SODIUM     1 TSP   \n",
              "950 POPSICLE                      1 POPCLE\n",
              "951 PLUMS; RAW; 1-1/2-IN DIAM     1 PLUM  \n",
              "952 LIMEADE;CONCEN;FROZEN;DILUTED 6 FL OZ \n",
              "953 ITALIAN SALAD DRESSING;LOCALOR1 TBSP  \n",
              "954 LEMON JUICE; CANNED           1 TBSP  \n",
              "955 TEA;INSTANT;PREPARD;SWEETENED 8 FL OZ \n",
              "956 CLUB SODA                     12 FL OZ\n",
              "957 COFFEE; BREWED                6 FL OZ \n",
              "958 TEA; BREWED                   8 FL OZ \n",
              "959 TEA; INSTANT;PREPRD;UNSWEETEND8 FL OZ \n",
              "960 LETTUCE; BUTTERHEAD; RAW;LEAVE1 LEAF  \n",
              "961 SALT                          1 TSP   "
            ]
          },
          "metadata": {}
        }
      ]
    },
    {
      "cell_type": "markdown",
      "source": [
        "yes from above data we are showig that in this data set is about various food items with different sizes ranging from a teasppon of cinnamon to an entire carrot cake."
      ],
      "metadata": {
        "id": "mJNnXXlz-Ket"
      }
    },
    {
      "cell_type": "markdown",
      "source": [
        "**3.Sort the data set by saturated_ fat and produce a listing of the five food items highest in saturated fat. Comment on the validity of comparing food items of different sizes.**"
      ],
      "metadata": {
        "id": "ruY-rqt_-Mls"
      }
    },
    {
      "cell_type": "code",
      "source": [
        "nutrition_DF_sorted <- (nutrition_DF[order(nutrition_DF$saturated_fat, decreasing = TRUE),])\n",
        "nutrition_DF_sorted"
      ],
      "metadata": {
        "colab": {
          "base_uri": "https://localhost:8080/",
          "height": 1000
        },
        "id": "w09OXm8y-Kxc",
        "outputId": "4488830c-9819-4ce6-f106-d5e178e7a061"
      },
      "execution_count": 4,
      "outputs": [
        {
          "output_type": "display_data",
          "data": {
            "text/html": [
              "<table class=\"dataframe\">\n",
              "<caption>A tibble: 961 × 4</caption>\n",
              "<thead>\n",
              "\t<tr><th scope=col>food item</th><th scope=col>weight_in_grams</th><th scope=col>saturated_fat</th><th scope=col>cholesterol</th></tr>\n",
              "\t<tr><th scope=col>&lt;chr&gt;</th><th scope=col>&lt;dbl&gt;</th><th scope=col>&lt;dbl&gt;</th><th scope=col>&lt;dbl&gt;</th></tr>\n",
              "</thead>\n",
              "<tbody>\n",
              "\t<tr><td>CHEESECAKE                    1 CAKE  </td><td>1110</td><td>119.9</td><td>2053</td></tr>\n",
              "\t<tr><td>ICE CREAM; VANLLA; RICH 16% FT1/2 GAL </td><td>1188</td><td>118.3</td><td> 703</td></tr>\n",
              "\t<tr><td>YELLOWCAKE W/ CHOCFRSTNG;COMML1 CAKE  </td><td>1108</td><td> 92.0</td><td> 609</td></tr>\n",
              "\t<tr><td>CREME PIE                     1 PIE   </td><td> 910</td><td> 90.1</td><td>  46</td></tr>\n",
              "\t<tr><td>LARD                          1 CUP   </td><td> 205</td><td> 80.4</td><td> 195</td></tr>\n",
              "\t<tr><td>ICE CREAM; VANLLA; REGULR 11% 1/2 GALN</td><td>1064</td><td> 71.3</td><td> 476</td></tr>\n",
              "\t<tr><td>CARROT CAKE;CREMCHESE FRST;REC1 CAKE  </td><td>1536</td><td> 66.0</td><td>1183</td></tr>\n",
              "\t<tr><td>BUTTER; SALTED                1/2 CUP </td><td> 113</td><td> 57.1</td><td> 247</td></tr>\n",
              "\t<tr><td>BUTTER; UNSALTED              1/2 CUP </td><td> 113</td><td> 57.1</td><td> 247</td></tr>\n",
              "\t<tr><td>DEVIL'S FOOD CAKE;CHOCFRST;FMX1 CAKE  </td><td>1107</td><td> 55.6</td><td> 598</td></tr>\n",
              "\t<tr><td>WHIPPING CREAM; UNWHIPED;HEAVY1 CUP   </td><td> 238</td><td> 54.8</td><td> 326</td></tr>\n",
              "\t<tr><td>POUND CAKE; COMMERCIAL        1 LOAF  </td><td> 500</td><td> 52.0</td><td>1100</td></tr>\n",
              "\t<tr><td>FATS; COOKING/VEGETBL SHORTENG1 CUP   </td><td> 205</td><td> 51.3</td><td>   0</td></tr>\n",
              "\t<tr><td>YELLOW CAKE W/ CHOC FRST;FRMIX1 CAKE  </td><td>1108</td><td> 47.8</td><td> 576</td></tr>\n",
              "\t<tr><td>FRUITCAKE;DARK; FROM HOMERECIP1 CAKE  </td><td>1361</td><td> 47.6</td><td> 640</td></tr>\n",
              "\t<tr><td>WHIPPING CREAM; UNWHIPED;LIGHT1 CUP   </td><td> 239</td><td> 46.2</td><td> 265</td></tr>\n",
              "\t<tr><td>SHEETCAKE;W/ WHFRSTNG;HOMERCIP1 CAKE  </td><td>1096</td><td> 41.6</td><td> 636</td></tr>\n",
              "\t<tr><td>SOYBEAN-COTTONSEED OIL; HYDRGN1 CUP   </td><td> 218</td><td> 39.2</td><td>   0</td></tr>\n",
              "\t<tr><td>PUMPKIN PIE                   1 PIE   </td><td> 910</td><td> 38.2</td><td> 655</td></tr>\n",
              "\t<tr><td>PEANUT OIL                    1 CUP   </td><td> 216</td><td> 36.5</td><td>   0</td></tr>\n",
              "\t<tr><td>SEMISWEET CHOCOLATE           1 CUP   </td><td> 170</td><td> 36.2</td><td>   0</td></tr>\n",
              "\t<tr><td>CUSTARD PIE                   1 PIE   </td><td> 910</td><td> 33.7</td><td>1010</td></tr>\n",
              "\t<tr><td>WHITE CAKE W/ WHT FRSTNG;COMML1 CAKE  </td><td>1140</td><td> 33.1</td><td>  46</td></tr>\n",
              "\t<tr><td>SOYBEAN OIL; HYDROGENATED     1 CUP   </td><td> 218</td><td> 32.5</td><td>   0</td></tr>\n",
              "\t<tr><td>MARGARINE; REGULR;SOFT;80% FAT8 OZ    </td><td> 227</td><td> 31.3</td><td>   0</td></tr>\n",
              "\t<tr><td>IMITATN SOUR DRESSING         1 CUP   </td><td> 235</td><td> 31.2</td><td>  13</td></tr>\n",
              "\t<tr><td>SOUR CREAM                    1 CUP   </td><td> 230</td><td> 30.0</td><td> 102</td></tr>\n",
              "\t<tr><td>SHEETCAKE W/O FRSTNG;HOMERECIP1 CAKE  </td><td> 777</td><td> 29.5</td><td> 552</td></tr>\n",
              "\t<tr><td>COCONUT; DRIED; SWEETND;SHREDD1 CUP   </td><td>  93</td><td> 29.3</td><td>   0</td></tr>\n",
              "\t<tr><td>OLIVE OIL                     1 CUP   </td><td> 216</td><td> 29.2</td><td>   0</td></tr>\n",
              "\t<tr><td>⋮</td><td>⋮</td><td>⋮</td><td>⋮</td></tr>\n",
              "\t<tr><td>COLA; REGULAR                 12 FL OZ</td><td>369.0</td><td>0</td><td>0</td></tr>\n",
              "\t<tr><td>ROOT BEER                     12 FL OZ</td><td>370.0</td><td>0</td><td>0</td></tr>\n",
              "\t<tr><td>LEMONADE;CONCEN;FRZEN;DILUTED 6 FL OZ </td><td>185.0</td><td>0</td><td>0</td></tr>\n",
              "\t<tr><td>SUGAR; WHITE; GRANULATED      1 CUP   </td><td>200.0</td><td>0</td><td>0</td></tr>\n",
              "\t<tr><td>GINGER ALE                    12 FL OZ</td><td>366.0</td><td>0</td><td>0</td></tr>\n",
              "\t<tr><td>PEPPER-TYPE SODA              12 FL OZ</td><td>369.0</td><td>0</td><td>0</td></tr>\n",
              "\t<tr><td>SUGAR; WHITE; GRANULATED      1 PKT   </td><td>  6.0</td><td>0</td><td>0</td></tr>\n",
              "\t<tr><td>SUGAR; POWDERED; SIFTED       1 CUP   </td><td>100.0</td><td>0</td><td>0</td></tr>\n",
              "\t<tr><td>SUGAR; WHITE; GRANULATED      1 TBSP  </td><td> 12.0</td><td>0</td><td>0</td></tr>\n",
              "\t<tr><td>TABLE SYRUP (CORN AND MAPLE)  2 TBSP  </td><td> 42.0</td><td>0</td><td>0</td></tr>\n",
              "\t<tr><td>JELLIES                       1 PKT   </td><td> 14.0</td><td>0</td><td>0</td></tr>\n",
              "\t<tr><td>GIN;RUM;VODKA;WHISKY 90-PROOF 1.5 F OZ</td><td> 42.0</td><td>0</td><td>0</td></tr>\n",
              "\t<tr><td>GIN;RUM;VODKA;WHISKY 86-PROOF 1.5 F OZ</td><td> 42.0</td><td>0</td><td>0</td></tr>\n",
              "\t<tr><td>GIN;RUM;VODKA;WHISKY 80-PROOF 1.5 F OZ</td><td> 42.0</td><td>0</td><td>0</td></tr>\n",
              "\t<tr><td>BAKING POWDER;SAS;CAPO4+CASO4 1 TSP   </td><td>  2.9</td><td>0</td><td>0</td></tr>\n",
              "\t<tr><td>BAKING POWDER;SAS; CA PO4     1 TSP   </td><td>  3.0</td><td>0</td><td>0</td></tr>\n",
              "\t<tr><td>BAKING POWDER; STRGHT PHOSPHAT1 TSP   </td><td>  3.8</td><td>0</td><td>0</td></tr>\n",
              "\t<tr><td>BAKING POWDER; LOW SODIUM     1 TSP   </td><td>  4.3</td><td>0</td><td>0</td></tr>\n",
              "\t<tr><td>POPSICLE                      1 POPCLE</td><td> 95.0</td><td>0</td><td>0</td></tr>\n",
              "\t<tr><td>PLUMS; RAW; 1-1/2-IN DIAM     1 PLUM  </td><td> 28.0</td><td>0</td><td>0</td></tr>\n",
              "\t<tr><td>LIMEADE;CONCEN;FROZEN;DILUTED 6 FL OZ </td><td>185.0</td><td>0</td><td>0</td></tr>\n",
              "\t<tr><td>ITALIAN SALAD DRESSING;LOCALOR1 TBSP  </td><td> 15.0</td><td>0</td><td>0</td></tr>\n",
              "\t<tr><td>LEMON JUICE; CANNED           1 TBSP  </td><td> 15.0</td><td>0</td><td>0</td></tr>\n",
              "\t<tr><td>TEA;INSTANT;PREPARD;SWEETENED 8 FL OZ </td><td>262.0</td><td>0</td><td>0</td></tr>\n",
              "\t<tr><td>CLUB SODA                     12 FL OZ</td><td>355.0</td><td>0</td><td>0</td></tr>\n",
              "\t<tr><td>COFFEE; BREWED                6 FL OZ </td><td>180.0</td><td>0</td><td>0</td></tr>\n",
              "\t<tr><td>TEA; BREWED                   8 FL OZ </td><td>240.0</td><td>0</td><td>0</td></tr>\n",
              "\t<tr><td>TEA; INSTANT;PREPRD;UNSWEETEND8 FL OZ </td><td>241.0</td><td>0</td><td>0</td></tr>\n",
              "\t<tr><td>LETTUCE; BUTTERHEAD; RAW;LEAVE1 LEAF  </td><td> 15.0</td><td>0</td><td>0</td></tr>\n",
              "\t<tr><td>SALT                          1 TSP   </td><td>  5.5</td><td>0</td><td>0</td></tr>\n",
              "</tbody>\n",
              "</table>\n"
            ],
            "text/markdown": "\nA tibble: 961 × 4\n\n| food item &lt;chr&gt; | weight_in_grams &lt;dbl&gt; | saturated_fat &lt;dbl&gt; | cholesterol &lt;dbl&gt; |\n|---|---|---|---|\n| CHEESECAKE                    1 CAKE   | 1110 | 119.9 | 2053 |\n| ICE CREAM; VANLLA; RICH 16% FT1/2 GAL  | 1188 | 118.3 |  703 |\n| YELLOWCAKE W/ CHOCFRSTNG;COMML1 CAKE   | 1108 |  92.0 |  609 |\n| CREME PIE                     1 PIE    |  910 |  90.1 |   46 |\n| LARD                          1 CUP    |  205 |  80.4 |  195 |\n| ICE CREAM; VANLLA; REGULR 11% 1/2 GALN | 1064 |  71.3 |  476 |\n| CARROT CAKE;CREMCHESE FRST;REC1 CAKE   | 1536 |  66.0 | 1183 |\n| BUTTER; SALTED                1/2 CUP  |  113 |  57.1 |  247 |\n| BUTTER; UNSALTED              1/2 CUP  |  113 |  57.1 |  247 |\n| DEVIL'S FOOD CAKE;CHOCFRST;FMX1 CAKE   | 1107 |  55.6 |  598 |\n| WHIPPING CREAM; UNWHIPED;HEAVY1 CUP    |  238 |  54.8 |  326 |\n| POUND CAKE; COMMERCIAL        1 LOAF   |  500 |  52.0 | 1100 |\n| FATS; COOKING/VEGETBL SHORTENG1 CUP    |  205 |  51.3 |    0 |\n| YELLOW CAKE W/ CHOC FRST;FRMIX1 CAKE   | 1108 |  47.8 |  576 |\n| FRUITCAKE;DARK; FROM HOMERECIP1 CAKE   | 1361 |  47.6 |  640 |\n| WHIPPING CREAM; UNWHIPED;LIGHT1 CUP    |  239 |  46.2 |  265 |\n| SHEETCAKE;W/ WHFRSTNG;HOMERCIP1 CAKE   | 1096 |  41.6 |  636 |\n| SOYBEAN-COTTONSEED OIL; HYDRGN1 CUP    |  218 |  39.2 |    0 |\n| PUMPKIN PIE                   1 PIE    |  910 |  38.2 |  655 |\n| PEANUT OIL                    1 CUP    |  216 |  36.5 |    0 |\n| SEMISWEET CHOCOLATE           1 CUP    |  170 |  36.2 |    0 |\n| CUSTARD PIE                   1 PIE    |  910 |  33.7 | 1010 |\n| WHITE CAKE W/ WHT FRSTNG;COMML1 CAKE   | 1140 |  33.1 |   46 |\n| SOYBEAN OIL; HYDROGENATED     1 CUP    |  218 |  32.5 |    0 |\n| MARGARINE; REGULR;SOFT;80% FAT8 OZ     |  227 |  31.3 |    0 |\n| IMITATN SOUR DRESSING         1 CUP    |  235 |  31.2 |   13 |\n| SOUR CREAM                    1 CUP    |  230 |  30.0 |  102 |\n| SHEETCAKE W/O FRSTNG;HOMERECIP1 CAKE   |  777 |  29.5 |  552 |\n| COCONUT; DRIED; SWEETND;SHREDD1 CUP    |   93 |  29.3 |    0 |\n| OLIVE OIL                     1 CUP    |  216 |  29.2 |    0 |\n| ⋮ | ⋮ | ⋮ | ⋮ |\n| COLA; REGULAR                 12 FL OZ | 369.0 | 0 | 0 |\n| ROOT BEER                     12 FL OZ | 370.0 | 0 | 0 |\n| LEMONADE;CONCEN;FRZEN;DILUTED 6 FL OZ  | 185.0 | 0 | 0 |\n| SUGAR; WHITE; GRANULATED      1 CUP    | 200.0 | 0 | 0 |\n| GINGER ALE                    12 FL OZ | 366.0 | 0 | 0 |\n| PEPPER-TYPE SODA              12 FL OZ | 369.0 | 0 | 0 |\n| SUGAR; WHITE; GRANULATED      1 PKT    |   6.0 | 0 | 0 |\n| SUGAR; POWDERED; SIFTED       1 CUP    | 100.0 | 0 | 0 |\n| SUGAR; WHITE; GRANULATED      1 TBSP   |  12.0 | 0 | 0 |\n| TABLE SYRUP (CORN AND MAPLE)  2 TBSP   |  42.0 | 0 | 0 |\n| JELLIES                       1 PKT    |  14.0 | 0 | 0 |\n| GIN;RUM;VODKA;WHISKY 90-PROOF 1.5 F OZ |  42.0 | 0 | 0 |\n| GIN;RUM;VODKA;WHISKY 86-PROOF 1.5 F OZ |  42.0 | 0 | 0 |\n| GIN;RUM;VODKA;WHISKY 80-PROOF 1.5 F OZ |  42.0 | 0 | 0 |\n| BAKING POWDER;SAS;CAPO4+CASO4 1 TSP    |   2.9 | 0 | 0 |\n| BAKING POWDER;SAS; CA PO4     1 TSP    |   3.0 | 0 | 0 |\n| BAKING POWDER; STRGHT PHOSPHAT1 TSP    |   3.8 | 0 | 0 |\n| BAKING POWDER; LOW SODIUM     1 TSP    |   4.3 | 0 | 0 |\n| POPSICLE                      1 POPCLE |  95.0 | 0 | 0 |\n| PLUMS; RAW; 1-1/2-IN DIAM     1 PLUM   |  28.0 | 0 | 0 |\n| LIMEADE;CONCEN;FROZEN;DILUTED 6 FL OZ  | 185.0 | 0 | 0 |\n| ITALIAN SALAD DRESSING;LOCALOR1 TBSP   |  15.0 | 0 | 0 |\n| LEMON JUICE; CANNED           1 TBSP   |  15.0 | 0 | 0 |\n| TEA;INSTANT;PREPARD;SWEETENED 8 FL OZ  | 262.0 | 0 | 0 |\n| CLUB SODA                     12 FL OZ | 355.0 | 0 | 0 |\n| COFFEE; BREWED                6 FL OZ  | 180.0 | 0 | 0 |\n| TEA; BREWED                   8 FL OZ  | 240.0 | 0 | 0 |\n| TEA; INSTANT;PREPRD;UNSWEETEND8 FL OZ  | 241.0 | 0 | 0 |\n| LETTUCE; BUTTERHEAD; RAW;LEAVE1 LEAF   |  15.0 | 0 | 0 |\n| SALT                          1 TSP    |   5.5 | 0 | 0 |\n\n",
            "text/latex": "A tibble: 961 × 4\n\\begin{tabular}{llll}\n food item & weight\\_in\\_grams & saturated\\_fat & cholesterol\\\\\n <chr> & <dbl> & <dbl> & <dbl>\\\\\n\\hline\n\t CHEESECAKE                    1 CAKE   & 1110 & 119.9 & 2053\\\\\n\t ICE CREAM; VANLLA; RICH 16\\% FT1/2 GAL  & 1188 & 118.3 &  703\\\\\n\t YELLOWCAKE W/ CHOCFRSTNG;COMML1 CAKE   & 1108 &  92.0 &  609\\\\\n\t CREME PIE                     1 PIE    &  910 &  90.1 &   46\\\\\n\t LARD                          1 CUP    &  205 &  80.4 &  195\\\\\n\t ICE CREAM; VANLLA; REGULR 11\\% 1/2 GALN & 1064 &  71.3 &  476\\\\\n\t CARROT CAKE;CREMCHESE FRST;REC1 CAKE   & 1536 &  66.0 & 1183\\\\\n\t BUTTER; SALTED                1/2 CUP  &  113 &  57.1 &  247\\\\\n\t BUTTER; UNSALTED              1/2 CUP  &  113 &  57.1 &  247\\\\\n\t DEVIL'S FOOD CAKE;CHOCFRST;FMX1 CAKE   & 1107 &  55.6 &  598\\\\\n\t WHIPPING CREAM; UNWHIPED;HEAVY1 CUP    &  238 &  54.8 &  326\\\\\n\t POUND CAKE; COMMERCIAL        1 LOAF   &  500 &  52.0 & 1100\\\\\n\t FATS; COOKING/VEGETBL SHORTENG1 CUP    &  205 &  51.3 &    0\\\\\n\t YELLOW CAKE W/ CHOC FRST;FRMIX1 CAKE   & 1108 &  47.8 &  576\\\\\n\t FRUITCAKE;DARK; FROM HOMERECIP1 CAKE   & 1361 &  47.6 &  640\\\\\n\t WHIPPING CREAM; UNWHIPED;LIGHT1 CUP    &  239 &  46.2 &  265\\\\\n\t SHEETCAKE;W/ WHFRSTNG;HOMERCIP1 CAKE   & 1096 &  41.6 &  636\\\\\n\t SOYBEAN-COTTONSEED OIL; HYDRGN1 CUP    &  218 &  39.2 &    0\\\\\n\t PUMPKIN PIE                   1 PIE    &  910 &  38.2 &  655\\\\\n\t PEANUT OIL                    1 CUP    &  216 &  36.5 &    0\\\\\n\t SEMISWEET CHOCOLATE           1 CUP    &  170 &  36.2 &    0\\\\\n\t CUSTARD PIE                   1 PIE    &  910 &  33.7 & 1010\\\\\n\t WHITE CAKE W/ WHT FRSTNG;COMML1 CAKE   & 1140 &  33.1 &   46\\\\\n\t SOYBEAN OIL; HYDROGENATED     1 CUP    &  218 &  32.5 &    0\\\\\n\t MARGARINE; REGULR;SOFT;80\\% FAT8 OZ     &  227 &  31.3 &    0\\\\\n\t IMITATN SOUR DRESSING         1 CUP    &  235 &  31.2 &   13\\\\\n\t SOUR CREAM                    1 CUP    &  230 &  30.0 &  102\\\\\n\t SHEETCAKE W/O FRSTNG;HOMERECIP1 CAKE   &  777 &  29.5 &  552\\\\\n\t COCONUT; DRIED; SWEETND;SHREDD1 CUP    &   93 &  29.3 &    0\\\\\n\t OLIVE OIL                     1 CUP    &  216 &  29.2 &    0\\\\\n\t ⋮ & ⋮ & ⋮ & ⋮\\\\\n\t COLA; REGULAR                 12 FL OZ & 369.0 & 0 & 0\\\\\n\t ROOT BEER                     12 FL OZ & 370.0 & 0 & 0\\\\\n\t LEMONADE;CONCEN;FRZEN;DILUTED 6 FL OZ  & 185.0 & 0 & 0\\\\\n\t SUGAR; WHITE; GRANULATED      1 CUP    & 200.0 & 0 & 0\\\\\n\t GINGER ALE                    12 FL OZ & 366.0 & 0 & 0\\\\\n\t PEPPER-TYPE SODA              12 FL OZ & 369.0 & 0 & 0\\\\\n\t SUGAR; WHITE; GRANULATED      1 PKT    &   6.0 & 0 & 0\\\\\n\t SUGAR; POWDERED; SIFTED       1 CUP    & 100.0 & 0 & 0\\\\\n\t SUGAR; WHITE; GRANULATED      1 TBSP   &  12.0 & 0 & 0\\\\\n\t TABLE SYRUP (CORN AND MAPLE)  2 TBSP   &  42.0 & 0 & 0\\\\\n\t JELLIES                       1 PKT    &  14.0 & 0 & 0\\\\\n\t GIN;RUM;VODKA;WHISKY 90-PROOF 1.5 F OZ &  42.0 & 0 & 0\\\\\n\t GIN;RUM;VODKA;WHISKY 86-PROOF 1.5 F OZ &  42.0 & 0 & 0\\\\\n\t GIN;RUM;VODKA;WHISKY 80-PROOF 1.5 F OZ &  42.0 & 0 & 0\\\\\n\t BAKING POWDER;SAS;CAPO4+CASO4 1 TSP    &   2.9 & 0 & 0\\\\\n\t BAKING POWDER;SAS; CA PO4     1 TSP    &   3.0 & 0 & 0\\\\\n\t BAKING POWDER; STRGHT PHOSPHAT1 TSP    &   3.8 & 0 & 0\\\\\n\t BAKING POWDER; LOW SODIUM     1 TSP    &   4.3 & 0 & 0\\\\\n\t POPSICLE                      1 POPCLE &  95.0 & 0 & 0\\\\\n\t PLUMS; RAW; 1-1/2-IN DIAM     1 PLUM   &  28.0 & 0 & 0\\\\\n\t LIMEADE;CONCEN;FROZEN;DILUTED 6 FL OZ  & 185.0 & 0 & 0\\\\\n\t ITALIAN SALAD DRESSING;LOCALOR1 TBSP   &  15.0 & 0 & 0\\\\\n\t LEMON JUICE; CANNED           1 TBSP   &  15.0 & 0 & 0\\\\\n\t TEA;INSTANT;PREPARD;SWEETENED 8 FL OZ  & 262.0 & 0 & 0\\\\\n\t CLUB SODA                     12 FL OZ & 355.0 & 0 & 0\\\\\n\t COFFEE; BREWED                6 FL OZ  & 180.0 & 0 & 0\\\\\n\t TEA; BREWED                   8 FL OZ  & 240.0 & 0 & 0\\\\\n\t TEA; INSTANT;PREPRD;UNSWEETEND8 FL OZ  & 241.0 & 0 & 0\\\\\n\t LETTUCE; BUTTERHEAD; RAW;LEAVE1 LEAF   &  15.0 & 0 & 0\\\\\n\t SALT                          1 TSP    &   5.5 & 0 & 0\\\\\n\\end{tabular}\n",
            "text/plain": [
              "    food item                              weight_in_grams saturated_fat\n",
              "1   CHEESECAKE                    1 CAKE   1110            119.9        \n",
              "2   ICE CREAM; VANLLA; RICH 16% FT1/2 GAL  1188            118.3        \n",
              "3   YELLOWCAKE W/ CHOCFRSTNG;COMML1 CAKE   1108             92.0        \n",
              "4   CREME PIE                     1 PIE     910             90.1        \n",
              "5   LARD                          1 CUP     205             80.4        \n",
              "6   ICE CREAM; VANLLA; REGULR 11% 1/2 GALN 1064             71.3        \n",
              "7   CARROT CAKE;CREMCHESE FRST;REC1 CAKE   1536             66.0        \n",
              "8   BUTTER; SALTED                1/2 CUP   113             57.1        \n",
              "9   BUTTER; UNSALTED              1/2 CUP   113             57.1        \n",
              "10  DEVIL'S FOOD CAKE;CHOCFRST;FMX1 CAKE   1107             55.6        \n",
              "11  WHIPPING CREAM; UNWHIPED;HEAVY1 CUP     238             54.8        \n",
              "12  POUND CAKE; COMMERCIAL        1 LOAF    500             52.0        \n",
              "13  FATS; COOKING/VEGETBL SHORTENG1 CUP     205             51.3        \n",
              "14  YELLOW CAKE W/ CHOC FRST;FRMIX1 CAKE   1108             47.8        \n",
              "15  FRUITCAKE;DARK; FROM HOMERECIP1 CAKE   1361             47.6        \n",
              "16  WHIPPING CREAM; UNWHIPED;LIGHT1 CUP     239             46.2        \n",
              "17  SHEETCAKE;W/ WHFRSTNG;HOMERCIP1 CAKE   1096             41.6        \n",
              "18  SOYBEAN-COTTONSEED OIL; HYDRGN1 CUP     218             39.2        \n",
              "19  PUMPKIN PIE                   1 PIE     910             38.2        \n",
              "20  PEANUT OIL                    1 CUP     216             36.5        \n",
              "21  SEMISWEET CHOCOLATE           1 CUP     170             36.2        \n",
              "22  CUSTARD PIE                   1 PIE     910             33.7        \n",
              "23  WHITE CAKE W/ WHT FRSTNG;COMML1 CAKE   1140             33.1        \n",
              "24  SOYBEAN OIL; HYDROGENATED     1 CUP     218             32.5        \n",
              "25  MARGARINE; REGULR;SOFT;80% FAT8 OZ      227             31.3        \n",
              "26  IMITATN SOUR DRESSING         1 CUP     235             31.2        \n",
              "27  SOUR CREAM                    1 CUP     230             30.0        \n",
              "28  SHEETCAKE W/O FRSTNG;HOMERECIP1 CAKE    777             29.5        \n",
              "29  COCONUT; DRIED; SWEETND;SHREDD1 CUP      93             29.3        \n",
              "30  OLIVE OIL                     1 CUP     216             29.2        \n",
              "⋮   ⋮                                      ⋮               ⋮            \n",
              "932 COLA; REGULAR                 12 FL OZ 369.0           0            \n",
              "933 ROOT BEER                     12 FL OZ 370.0           0            \n",
              "934 LEMONADE;CONCEN;FRZEN;DILUTED 6 FL OZ  185.0           0            \n",
              "935 SUGAR; WHITE; GRANULATED      1 CUP    200.0           0            \n",
              "936 GINGER ALE                    12 FL OZ 366.0           0            \n",
              "937 PEPPER-TYPE SODA              12 FL OZ 369.0           0            \n",
              "938 SUGAR; WHITE; GRANULATED      1 PKT      6.0           0            \n",
              "939 SUGAR; POWDERED; SIFTED       1 CUP    100.0           0            \n",
              "940 SUGAR; WHITE; GRANULATED      1 TBSP    12.0           0            \n",
              "941 TABLE SYRUP (CORN AND MAPLE)  2 TBSP    42.0           0            \n",
              "942 JELLIES                       1 PKT     14.0           0            \n",
              "943 GIN;RUM;VODKA;WHISKY 90-PROOF 1.5 F OZ  42.0           0            \n",
              "944 GIN;RUM;VODKA;WHISKY 86-PROOF 1.5 F OZ  42.0           0            \n",
              "945 GIN;RUM;VODKA;WHISKY 80-PROOF 1.5 F OZ  42.0           0            \n",
              "946 BAKING POWDER;SAS;CAPO4+CASO4 1 TSP      2.9           0            \n",
              "947 BAKING POWDER;SAS; CA PO4     1 TSP      3.0           0            \n",
              "948 BAKING POWDER; STRGHT PHOSPHAT1 TSP      3.8           0            \n",
              "949 BAKING POWDER; LOW SODIUM     1 TSP      4.3           0            \n",
              "950 POPSICLE                      1 POPCLE  95.0           0            \n",
              "951 PLUMS; RAW; 1-1/2-IN DIAM     1 PLUM    28.0           0            \n",
              "952 LIMEADE;CONCEN;FROZEN;DILUTED 6 FL OZ  185.0           0            \n",
              "953 ITALIAN SALAD DRESSING;LOCALOR1 TBSP    15.0           0            \n",
              "954 LEMON JUICE; CANNED           1 TBSP    15.0           0            \n",
              "955 TEA;INSTANT;PREPARD;SWEETENED 8 FL OZ  262.0           0            \n",
              "956 CLUB SODA                     12 FL OZ 355.0           0            \n",
              "957 COFFEE; BREWED                6 FL OZ  180.0           0            \n",
              "958 TEA; BREWED                   8 FL OZ  240.0           0            \n",
              "959 TEA; INSTANT;PREPRD;UNSWEETEND8 FL OZ  241.0           0            \n",
              "960 LETTUCE; BUTTERHEAD; RAW;LEAVE1 LEAF    15.0           0            \n",
              "961 SALT                          1 TSP      5.5           0            \n",
              "    cholesterol\n",
              "1   2053       \n",
              "2    703       \n",
              "3    609       \n",
              "4     46       \n",
              "5    195       \n",
              "6    476       \n",
              "7   1183       \n",
              "8    247       \n",
              "9    247       \n",
              "10   598       \n",
              "11   326       \n",
              "12  1100       \n",
              "13     0       \n",
              "14   576       \n",
              "15   640       \n",
              "16   265       \n",
              "17   636       \n",
              "18     0       \n",
              "19   655       \n",
              "20     0       \n",
              "21     0       \n",
              "22  1010       \n",
              "23    46       \n",
              "24     0       \n",
              "25     0       \n",
              "26    13       \n",
              "27   102       \n",
              "28   552       \n",
              "29     0       \n",
              "30     0       \n",
              "⋮   ⋮          \n",
              "932 0          \n",
              "933 0          \n",
              "934 0          \n",
              "935 0          \n",
              "936 0          \n",
              "937 0          \n",
              "938 0          \n",
              "939 0          \n",
              "940 0          \n",
              "941 0          \n",
              "942 0          \n",
              "943 0          \n",
              "944 0          \n",
              "945 0          \n",
              "946 0          \n",
              "947 0          \n",
              "948 0          \n",
              "949 0          \n",
              "950 0          \n",
              "951 0          \n",
              "952 0          \n",
              "953 0          \n",
              "954 0          \n",
              "955 0          \n",
              "956 0          \n",
              "957 0          \n",
              "958 0          \n",
              "959 0          \n",
              "960 0          \n",
              "961 0          "
            ]
          },
          "metadata": {}
        }
      ]
    },
    {
      "cell_type": "markdown",
      "source": [
        "As a result, the first five foods with the greatest saturated fat content are:\n",
        "\n",
        "\n",
        "1. CHEESECAKE 1 CAKE\n",
        "2. ICE CREAM; VANLLA; RICH 16% FT1/2 GAL\n",
        "3. YELLOWCAKE W/ CHOCFRSTNG;COMML1 CAKE\n",
        "4. CREME PIE 1 PIE\n",
        "5. LARD 1 CUP\n",
        "And CHEESECAKE 1 CAKE has the highest saturated fat."
      ],
      "metadata": {
        "id": "6Z6QpVTD-jJ0"
      }
    },
    {
      "cell_type": "markdown",
      "source": [
        "**4.Create a new variable, saturated fat pergram, by dividing the amount of saturated fat by the weight in grams. Sort the data set by saturated fat_ per_gram and produce a listing of the five food items highest in saturated fat per gram. Which food has the most saturated fat per gram?**"
      ],
      "metadata": {
        "id": "7t4g2XBn-1l_"
      }
    },
    {
      "cell_type": "markdown",
      "source": [
        "Creating a new variable in the dataframe called \"saturated_fat_per_gram\" by dividing the amount of saturated fat by the weight in grams.\n",
        "\n",
        "Sorting the entire dataframe based on the variable \"saturated_fat_per_gram\" and provide a list of the five food items with the highest content of saturated fat per gram."
      ],
      "metadata": {
        "id": "aI2MdE0X-7xD"
      }
    },
    {
      "cell_type": "code",
      "source": [
        "nutrition_DF['saturated_fat_per_gram'] <- nutrition_DF$saturated_fat/nutrition_DF$weight_in_grams\n",
        "nutrition_DF"
      ],
      "metadata": {
        "colab": {
          "base_uri": "https://localhost:8080/",
          "height": 1000
        },
        "id": "Y-AT475F-QYX",
        "outputId": "8194d971-84e4-4f21-dc6b-c0ed3cb43b59"
      },
      "execution_count": 5,
      "outputs": [
        {
          "output_type": "display_data",
          "data": {
            "text/html": [
              "<table class=\"dataframe\">\n",
              "<caption>A spec_tbl_df: 961 × 5</caption>\n",
              "<thead>\n",
              "\t<tr><th scope=col>food item</th><th scope=col>weight_in_grams</th><th scope=col>saturated_fat</th><th scope=col>cholesterol</th><th scope=col>saturated_fat_per_gram</th></tr>\n",
              "\t<tr><th scope=col>&lt;chr&gt;</th><th scope=col>&lt;dbl&gt;</th><th scope=col>&lt;dbl&gt;</th><th scope=col>&lt;dbl&gt;</th><th scope=col>&lt;dbl&gt;</th></tr>\n",
              "</thead>\n",
              "<tbody>\n",
              "\t<tr><td>GELATIN; DRY                  1 ENVELP</td><td>  7.00</td><td> 0.0</td><td>  0</td><td>0.000000000</td></tr>\n",
              "\t<tr><td>SEAWEED; SPIRULINA; DRIED     1 OZ    </td><td> 28.35</td><td> 0.8</td><td>  0</td><td>0.028218695</td></tr>\n",
              "\t<tr><td>YEAST; BAKERS; DRY; ACTIVE    1 PKG   </td><td>  7.00</td><td> 0.0</td><td>  0</td><td>0.000000000</td></tr>\n",
              "\t<tr><td>PARMESAN CHEESE; GRATED       1 OZ    </td><td> 28.35</td><td> 5.4</td><td> 22</td><td>0.190476190</td></tr>\n",
              "\t<tr><td>PARMESAN CHEESE; GRATED       1 CUP   </td><td>100.00</td><td>19.1</td><td> 79</td><td>0.191000000</td></tr>\n",
              "\t<tr><td>PARMESAN CHEESE; GRATED       1 TBSP  </td><td>  5.00</td><td> 1.0</td><td>  4</td><td>0.200000000</td></tr>\n",
              "\t<tr><td>YEAST; BREWERS; DRY           1 TBSP  </td><td>  8.00</td><td> 0.0</td><td>  0</td><td>0.000000000</td></tr>\n",
              "\t<tr><td>LAMB;CHOPS;ARM;BRAISED;LEAN   1.7 OZ  </td><td> 48.00</td><td> 2.9</td><td> 59</td><td>0.060416667</td></tr>\n",
              "\t<tr><td>TUNA; CANND; DRND;WATR; WHITE 3 OZ    </td><td> 85.00</td><td> 0.3</td><td> 48</td><td>0.003529412</td></tr>\n",
              "\t<tr><td>NONFAT DRY MILK; INSTANTIZED  1 CUP   </td><td> 68.00</td><td> 0.3</td><td> 12</td><td>0.004411765</td></tr>\n",
              "\t<tr><td>NONFAT DRY MILK; INSTANTIZED  1 ENVLPE</td><td> 91.00</td><td> 0.4</td><td> 17</td><td>0.004395604</td></tr>\n",
              "\t<tr><td>BUTTERMILK; DRIED             1 CUP   </td><td>120.00</td><td> 4.3</td><td> 83</td><td>0.035833333</td></tr>\n",
              "\t<tr><td>BEEF; DRIED; CHIPPED          2.5 OZ  </td><td> 72.00</td><td> 1.8</td><td> 46</td><td>0.025000000</td></tr>\n",
              "\t<tr><td>PORK SHOULDER; BRAISD; LEAN   2.4 OZ  </td><td> 67.00</td><td> 2.8</td><td> 76</td><td>0.041791045</td></tr>\n",
              "\t<tr><td>BEEF; CKD;BTTM ROUND;LEAN ONLY2.8 OZ  </td><td> 78.00</td><td> 2.7</td><td> 75</td><td>0.034615385</td></tr>\n",
              "\t<tr><td>PORK CHOP; LOIN; BROIL; LEAN  2.5 OZ  </td><td> 72.00</td><td> 2.6</td><td> 71</td><td>0.036111111</td></tr>\n",
              "\t<tr><td>LAMB;CHOPS;ARM;BRAISED;LEAN+FT2.2 OZ  </td><td> 63.00</td><td> 6.9</td><td> 77</td><td>0.109523810</td></tr>\n",
              "\t<tr><td>CHICKEN; FRIED; FLOUR; BREAST 3.5 OZ  </td><td> 98.00</td><td> 2.4</td><td> 87</td><td>0.024489796</td></tr>\n",
              "\t<tr><td>PORK; CURED; BACON; REGUL;CKED3 SLICE </td><td> 19.00</td><td> 3.3</td><td> 16</td><td>0.173684211</td></tr>\n",
              "\t<tr><td>CHICKEN; ROASTED; BREAST      3.0 OZ  </td><td> 86.00</td><td> 0.9</td><td> 73</td><td>0.010465116</td></tr>\n",
              "\t<tr><td>PEANUT BUTTER                 1 TBSP  </td><td> 16.00</td><td> 1.4</td><td>  0</td><td>0.087500000</td></tr>\n",
              "\t<tr><td>BEEF; CKD;CHUCK BLADE;LEANONLY2.2 OZ  </td><td> 62.00</td><td> 3.9</td><td> 66</td><td>0.062903226</td></tr>\n",
              "\t<tr><td>BEEF STEAK;SIRLOIN;BROIL;LEAN 2.5 OZ  </td><td> 72.00</td><td> 2.6</td><td> 64</td><td>0.036111111</td></tr>\n",
              "\t<tr><td>LAMB;CHOPS;LOIN;BROIL;LEAN    2.3 OZ  </td><td> 64.00</td><td> 2.6</td><td> 60</td><td>0.040625000</td></tr>\n",
              "\t<tr><td>BEEF; CKD;BTTM ROUND;LEAN+ FAT3 OZ    </td><td> 85.00</td><td> 4.8</td><td> 81</td><td>0.056470588</td></tr>\n",
              "\t<tr><td>TURKEY; ROASTED; LIGHT + DARK 3 PIECES</td><td> 85.00</td><td> 1.4</td><td> 65</td><td>0.016470588</td></tr>\n",
              "\t<tr><td>TURKEY; ROASTED; LIGHT MEAT   2 PIECES</td><td> 85.00</td><td> 0.9</td><td> 59</td><td>0.010588235</td></tr>\n",
              "\t<tr><td>BEEF ROAST; EYE O RND; LEAN   2.6 OZ  </td><td> 75.00</td><td> 1.9</td><td> 52</td><td>0.025333333</td></tr>\n",
              "\t<tr><td>TURKEY; ROASTED; LIGHT + DARK 1 CUP   </td><td>140.00</td><td> 2.3</td><td>106</td><td>0.016428571</td></tr>\n",
              "\t<tr><td>PORK CHOP; LOIN;PANFRY; LEAN  2.4 OZ  </td><td> 67.00</td><td> 3.7</td><td> 72</td><td>0.055223881</td></tr>\n",
              "\t<tr><td>⋮</td><td>⋮</td><td>⋮</td><td>⋮</td><td>⋮</td></tr>\n",
              "\t<tr><td>TABLE SYRUP (CORN AND MAPLE)  2 TBSP  </td><td> 42.0</td><td>0.0</td><td> 0</td><td>0.00000000</td></tr>\n",
              "\t<tr><td>JELLIES                       1 PKT   </td><td> 14.0</td><td>0.0</td><td> 0</td><td>0.00000000</td></tr>\n",
              "\t<tr><td>GIN;RUM;VODKA;WHISKY 90-PROOF 1.5 F OZ</td><td> 42.0</td><td>0.0</td><td> 0</td><td>0.00000000</td></tr>\n",
              "\t<tr><td>GIN;RUM;VODKA;WHISKY 86-PROOF 1.5 F OZ</td><td> 42.0</td><td>0.0</td><td> 0</td><td>0.00000000</td></tr>\n",
              "\t<tr><td>IMITATN WHIPD TOPING;PWDRD;PRP1 TBSP  </td><td>  4.0</td><td>0.4</td><td> 0</td><td>0.10000000</td></tr>\n",
              "\t<tr><td>IMITATN WHIPD TOPING;PRESSRZD 1 TBSP  </td><td>  4.0</td><td>0.8</td><td> 0</td><td>0.20000000</td></tr>\n",
              "\t<tr><td>MAYONNAISE; IMITATION         1 TBSP  </td><td> 15.0</td><td>0.5</td><td> 4</td><td>0.03333333</td></tr>\n",
              "\t<tr><td>GIN;RUM;VODKA;WHISKY 80-PROOF 1.5 F OZ</td><td> 42.0</td><td>0.0</td><td> 0</td><td>0.00000000</td></tr>\n",
              "\t<tr><td>SOUR CREAM                    1 TBSP  </td><td> 12.0</td><td>1.6</td><td> 5</td><td>0.13333333</td></tr>\n",
              "\t<tr><td>LIGHT; COFFEE OR TABLE CREAM  1 TBSP  </td><td> 15.0</td><td>1.8</td><td>10</td><td>0.12000000</td></tr>\n",
              "\t<tr><td>BAKING POWDER;SAS;CAPO4+CASO4 1 TSP   </td><td>  2.9</td><td>0.0</td><td> 0</td><td>0.00000000</td></tr>\n",
              "\t<tr><td>IMITATN SOUR DRESSING         1 TBSP  </td><td> 12.0</td><td>1.6</td><td> 1</td><td>0.13333333</td></tr>\n",
              "\t<tr><td>BAKING POWDER;SAS; CA PO4     1 TSP   </td><td>  3.0</td><td>0.0</td><td> 0</td><td>0.00000000</td></tr>\n",
              "\t<tr><td>FRENCH SALAD DRESSING; LOCALOR1 TBSP  </td><td> 16.0</td><td>0.2</td><td> 0</td><td>0.01250000</td></tr>\n",
              "\t<tr><td>HALF AND HALF; CREAM          1 TBSP  </td><td> 15.0</td><td>1.1</td><td> 6</td><td>0.07333333</td></tr>\n",
              "\t<tr><td>IMITATION CREAMERS; LIQUID FRZ1 TBSP  </td><td> 15.0</td><td>1.4</td><td> 0</td><td>0.09333333</td></tr>\n",
              "\t<tr><td>BAKING POWDER; STRGHT PHOSPHAT1 TSP   </td><td>  3.8</td><td>0.0</td><td> 0</td><td>0.00000000</td></tr>\n",
              "\t<tr><td>BAKING POWDER; LOW SODIUM     1 TSP   </td><td>  4.3</td><td>0.0</td><td> 0</td><td>0.00000000</td></tr>\n",
              "\t<tr><td>POPSICLE                      1 POPCLE</td><td> 95.0</td><td>0.0</td><td> 0</td><td>0.00000000</td></tr>\n",
              "\t<tr><td>PLUMS; RAW; 1-1/2-IN DIAM     1 PLUM  </td><td> 28.0</td><td>0.0</td><td> 0</td><td>0.00000000</td></tr>\n",
              "\t<tr><td>LIMEADE;CONCEN;FROZEN;DILUTED 6 FL OZ </td><td>185.0</td><td>0.0</td><td> 0</td><td>0.00000000</td></tr>\n",
              "\t<tr><td>ITALIAN SALAD DRESSING;LOCALOR1 TBSP  </td><td> 15.0</td><td>0.0</td><td> 0</td><td>0.00000000</td></tr>\n",
              "\t<tr><td>LEMON JUICE; CANNED           1 TBSP  </td><td> 15.0</td><td>0.0</td><td> 0</td><td>0.00000000</td></tr>\n",
              "\t<tr><td>TEA;INSTANT;PREPARD;SWEETENED 8 FL OZ </td><td>262.0</td><td>0.0</td><td> 0</td><td>0.00000000</td></tr>\n",
              "\t<tr><td>CLUB SODA                     12 FL OZ</td><td>355.0</td><td>0.0</td><td> 0</td><td>0.00000000</td></tr>\n",
              "\t<tr><td>COFFEE; BREWED                6 FL OZ </td><td>180.0</td><td>0.0</td><td> 0</td><td>0.00000000</td></tr>\n",
              "\t<tr><td>TEA; BREWED                   8 FL OZ </td><td>240.0</td><td>0.0</td><td> 0</td><td>0.00000000</td></tr>\n",
              "\t<tr><td>TEA; INSTANT;PREPRD;UNSWEETEND8 FL OZ </td><td>241.0</td><td>0.0</td><td> 0</td><td>0.00000000</td></tr>\n",
              "\t<tr><td>LETTUCE; BUTTERHEAD; RAW;LEAVE1 LEAF  </td><td> 15.0</td><td>0.0</td><td> 0</td><td>0.00000000</td></tr>\n",
              "\t<tr><td>SALT                          1 TSP   </td><td>  5.5</td><td>0.0</td><td> 0</td><td>0.00000000</td></tr>\n",
              "</tbody>\n",
              "</table>\n"
            ],
            "text/markdown": "\nA spec_tbl_df: 961 × 5\n\n| food item &lt;chr&gt; | weight_in_grams &lt;dbl&gt; | saturated_fat &lt;dbl&gt; | cholesterol &lt;dbl&gt; | saturated_fat_per_gram &lt;dbl&gt; |\n|---|---|---|---|---|\n| GELATIN; DRY                  1 ENVELP |   7.00 |  0.0 |   0 | 0.000000000 |\n| SEAWEED; SPIRULINA; DRIED     1 OZ     |  28.35 |  0.8 |   0 | 0.028218695 |\n| YEAST; BAKERS; DRY; ACTIVE    1 PKG    |   7.00 |  0.0 |   0 | 0.000000000 |\n| PARMESAN CHEESE; GRATED       1 OZ     |  28.35 |  5.4 |  22 | 0.190476190 |\n| PARMESAN CHEESE; GRATED       1 CUP    | 100.00 | 19.1 |  79 | 0.191000000 |\n| PARMESAN CHEESE; GRATED       1 TBSP   |   5.00 |  1.0 |   4 | 0.200000000 |\n| YEAST; BREWERS; DRY           1 TBSP   |   8.00 |  0.0 |   0 | 0.000000000 |\n| LAMB;CHOPS;ARM;BRAISED;LEAN   1.7 OZ   |  48.00 |  2.9 |  59 | 0.060416667 |\n| TUNA; CANND; DRND;WATR; WHITE 3 OZ     |  85.00 |  0.3 |  48 | 0.003529412 |\n| NONFAT DRY MILK; INSTANTIZED  1 CUP    |  68.00 |  0.3 |  12 | 0.004411765 |\n| NONFAT DRY MILK; INSTANTIZED  1 ENVLPE |  91.00 |  0.4 |  17 | 0.004395604 |\n| BUTTERMILK; DRIED             1 CUP    | 120.00 |  4.3 |  83 | 0.035833333 |\n| BEEF; DRIED; CHIPPED          2.5 OZ   |  72.00 |  1.8 |  46 | 0.025000000 |\n| PORK SHOULDER; BRAISD; LEAN   2.4 OZ   |  67.00 |  2.8 |  76 | 0.041791045 |\n| BEEF; CKD;BTTM ROUND;LEAN ONLY2.8 OZ   |  78.00 |  2.7 |  75 | 0.034615385 |\n| PORK CHOP; LOIN; BROIL; LEAN  2.5 OZ   |  72.00 |  2.6 |  71 | 0.036111111 |\n| LAMB;CHOPS;ARM;BRAISED;LEAN+FT2.2 OZ   |  63.00 |  6.9 |  77 | 0.109523810 |\n| CHICKEN; FRIED; FLOUR; BREAST 3.5 OZ   |  98.00 |  2.4 |  87 | 0.024489796 |\n| PORK; CURED; BACON; REGUL;CKED3 SLICE  |  19.00 |  3.3 |  16 | 0.173684211 |\n| CHICKEN; ROASTED; BREAST      3.0 OZ   |  86.00 |  0.9 |  73 | 0.010465116 |\n| PEANUT BUTTER                 1 TBSP   |  16.00 |  1.4 |   0 | 0.087500000 |\n| BEEF; CKD;CHUCK BLADE;LEANONLY2.2 OZ   |  62.00 |  3.9 |  66 | 0.062903226 |\n| BEEF STEAK;SIRLOIN;BROIL;LEAN 2.5 OZ   |  72.00 |  2.6 |  64 | 0.036111111 |\n| LAMB;CHOPS;LOIN;BROIL;LEAN    2.3 OZ   |  64.00 |  2.6 |  60 | 0.040625000 |\n| BEEF; CKD;BTTM ROUND;LEAN+ FAT3 OZ     |  85.00 |  4.8 |  81 | 0.056470588 |\n| TURKEY; ROASTED; LIGHT + DARK 3 PIECES |  85.00 |  1.4 |  65 | 0.016470588 |\n| TURKEY; ROASTED; LIGHT MEAT   2 PIECES |  85.00 |  0.9 |  59 | 0.010588235 |\n| BEEF ROAST; EYE O RND; LEAN   2.6 OZ   |  75.00 |  1.9 |  52 | 0.025333333 |\n| TURKEY; ROASTED; LIGHT + DARK 1 CUP    | 140.00 |  2.3 | 106 | 0.016428571 |\n| PORK CHOP; LOIN;PANFRY; LEAN  2.4 OZ   |  67.00 |  3.7 |  72 | 0.055223881 |\n| ⋮ | ⋮ | ⋮ | ⋮ | ⋮ |\n| TABLE SYRUP (CORN AND MAPLE)  2 TBSP   |  42.0 | 0.0 |  0 | 0.00000000 |\n| JELLIES                       1 PKT    |  14.0 | 0.0 |  0 | 0.00000000 |\n| GIN;RUM;VODKA;WHISKY 90-PROOF 1.5 F OZ |  42.0 | 0.0 |  0 | 0.00000000 |\n| GIN;RUM;VODKA;WHISKY 86-PROOF 1.5 F OZ |  42.0 | 0.0 |  0 | 0.00000000 |\n| IMITATN WHIPD TOPING;PWDRD;PRP1 TBSP   |   4.0 | 0.4 |  0 | 0.10000000 |\n| IMITATN WHIPD TOPING;PRESSRZD 1 TBSP   |   4.0 | 0.8 |  0 | 0.20000000 |\n| MAYONNAISE; IMITATION         1 TBSP   |  15.0 | 0.5 |  4 | 0.03333333 |\n| GIN;RUM;VODKA;WHISKY 80-PROOF 1.5 F OZ |  42.0 | 0.0 |  0 | 0.00000000 |\n| SOUR CREAM                    1 TBSP   |  12.0 | 1.6 |  5 | 0.13333333 |\n| LIGHT; COFFEE OR TABLE CREAM  1 TBSP   |  15.0 | 1.8 | 10 | 0.12000000 |\n| BAKING POWDER;SAS;CAPO4+CASO4 1 TSP    |   2.9 | 0.0 |  0 | 0.00000000 |\n| IMITATN SOUR DRESSING         1 TBSP   |  12.0 | 1.6 |  1 | 0.13333333 |\n| BAKING POWDER;SAS; CA PO4     1 TSP    |   3.0 | 0.0 |  0 | 0.00000000 |\n| FRENCH SALAD DRESSING; LOCALOR1 TBSP   |  16.0 | 0.2 |  0 | 0.01250000 |\n| HALF AND HALF; CREAM          1 TBSP   |  15.0 | 1.1 |  6 | 0.07333333 |\n| IMITATION CREAMERS; LIQUID FRZ1 TBSP   |  15.0 | 1.4 |  0 | 0.09333333 |\n| BAKING POWDER; STRGHT PHOSPHAT1 TSP    |   3.8 | 0.0 |  0 | 0.00000000 |\n| BAKING POWDER; LOW SODIUM     1 TSP    |   4.3 | 0.0 |  0 | 0.00000000 |\n| POPSICLE                      1 POPCLE |  95.0 | 0.0 |  0 | 0.00000000 |\n| PLUMS; RAW; 1-1/2-IN DIAM     1 PLUM   |  28.0 | 0.0 |  0 | 0.00000000 |\n| LIMEADE;CONCEN;FROZEN;DILUTED 6 FL OZ  | 185.0 | 0.0 |  0 | 0.00000000 |\n| ITALIAN SALAD DRESSING;LOCALOR1 TBSP   |  15.0 | 0.0 |  0 | 0.00000000 |\n| LEMON JUICE; CANNED           1 TBSP   |  15.0 | 0.0 |  0 | 0.00000000 |\n| TEA;INSTANT;PREPARD;SWEETENED 8 FL OZ  | 262.0 | 0.0 |  0 | 0.00000000 |\n| CLUB SODA                     12 FL OZ | 355.0 | 0.0 |  0 | 0.00000000 |\n| COFFEE; BREWED                6 FL OZ  | 180.0 | 0.0 |  0 | 0.00000000 |\n| TEA; BREWED                   8 FL OZ  | 240.0 | 0.0 |  0 | 0.00000000 |\n| TEA; INSTANT;PREPRD;UNSWEETEND8 FL OZ  | 241.0 | 0.0 |  0 | 0.00000000 |\n| LETTUCE; BUTTERHEAD; RAW;LEAVE1 LEAF   |  15.0 | 0.0 |  0 | 0.00000000 |\n| SALT                          1 TSP    |   5.5 | 0.0 |  0 | 0.00000000 |\n\n",
            "text/latex": "A spec\\_tbl\\_df: 961 × 5\n\\begin{tabular}{lllll}\n food item & weight\\_in\\_grams & saturated\\_fat & cholesterol & saturated\\_fat\\_per\\_gram\\\\\n <chr> & <dbl> & <dbl> & <dbl> & <dbl>\\\\\n\\hline\n\t GELATIN; DRY                  1 ENVELP &   7.00 &  0.0 &   0 & 0.000000000\\\\\n\t SEAWEED; SPIRULINA; DRIED     1 OZ     &  28.35 &  0.8 &   0 & 0.028218695\\\\\n\t YEAST; BAKERS; DRY; ACTIVE    1 PKG    &   7.00 &  0.0 &   0 & 0.000000000\\\\\n\t PARMESAN CHEESE; GRATED       1 OZ     &  28.35 &  5.4 &  22 & 0.190476190\\\\\n\t PARMESAN CHEESE; GRATED       1 CUP    & 100.00 & 19.1 &  79 & 0.191000000\\\\\n\t PARMESAN CHEESE; GRATED       1 TBSP   &   5.00 &  1.0 &   4 & 0.200000000\\\\\n\t YEAST; BREWERS; DRY           1 TBSP   &   8.00 &  0.0 &   0 & 0.000000000\\\\\n\t LAMB;CHOPS;ARM;BRAISED;LEAN   1.7 OZ   &  48.00 &  2.9 &  59 & 0.060416667\\\\\n\t TUNA; CANND; DRND;WATR; WHITE 3 OZ     &  85.00 &  0.3 &  48 & 0.003529412\\\\\n\t NONFAT DRY MILK; INSTANTIZED  1 CUP    &  68.00 &  0.3 &  12 & 0.004411765\\\\\n\t NONFAT DRY MILK; INSTANTIZED  1 ENVLPE &  91.00 &  0.4 &  17 & 0.004395604\\\\\n\t BUTTERMILK; DRIED             1 CUP    & 120.00 &  4.3 &  83 & 0.035833333\\\\\n\t BEEF; DRIED; CHIPPED          2.5 OZ   &  72.00 &  1.8 &  46 & 0.025000000\\\\\n\t PORK SHOULDER; BRAISD; LEAN   2.4 OZ   &  67.00 &  2.8 &  76 & 0.041791045\\\\\n\t BEEF; CKD;BTTM ROUND;LEAN ONLY2.8 OZ   &  78.00 &  2.7 &  75 & 0.034615385\\\\\n\t PORK CHOP; LOIN; BROIL; LEAN  2.5 OZ   &  72.00 &  2.6 &  71 & 0.036111111\\\\\n\t LAMB;CHOPS;ARM;BRAISED;LEAN+FT2.2 OZ   &  63.00 &  6.9 &  77 & 0.109523810\\\\\n\t CHICKEN; FRIED; FLOUR; BREAST 3.5 OZ   &  98.00 &  2.4 &  87 & 0.024489796\\\\\n\t PORK; CURED; BACON; REGUL;CKED3 SLICE  &  19.00 &  3.3 &  16 & 0.173684211\\\\\n\t CHICKEN; ROASTED; BREAST      3.0 OZ   &  86.00 &  0.9 &  73 & 0.010465116\\\\\n\t PEANUT BUTTER                 1 TBSP   &  16.00 &  1.4 &   0 & 0.087500000\\\\\n\t BEEF; CKD;CHUCK BLADE;LEANONLY2.2 OZ   &  62.00 &  3.9 &  66 & 0.062903226\\\\\n\t BEEF STEAK;SIRLOIN;BROIL;LEAN 2.5 OZ   &  72.00 &  2.6 &  64 & 0.036111111\\\\\n\t LAMB;CHOPS;LOIN;BROIL;LEAN    2.3 OZ   &  64.00 &  2.6 &  60 & 0.040625000\\\\\n\t BEEF; CKD;BTTM ROUND;LEAN+ FAT3 OZ     &  85.00 &  4.8 &  81 & 0.056470588\\\\\n\t TURKEY; ROASTED; LIGHT + DARK 3 PIECES &  85.00 &  1.4 &  65 & 0.016470588\\\\\n\t TURKEY; ROASTED; LIGHT MEAT   2 PIECES &  85.00 &  0.9 &  59 & 0.010588235\\\\\n\t BEEF ROAST; EYE O RND; LEAN   2.6 OZ   &  75.00 &  1.9 &  52 & 0.025333333\\\\\n\t TURKEY; ROASTED; LIGHT + DARK 1 CUP    & 140.00 &  2.3 & 106 & 0.016428571\\\\\n\t PORK CHOP; LOIN;PANFRY; LEAN  2.4 OZ   &  67.00 &  3.7 &  72 & 0.055223881\\\\\n\t ⋮ & ⋮ & ⋮ & ⋮ & ⋮\\\\\n\t TABLE SYRUP (CORN AND MAPLE)  2 TBSP   &  42.0 & 0.0 &  0 & 0.00000000\\\\\n\t JELLIES                       1 PKT    &  14.0 & 0.0 &  0 & 0.00000000\\\\\n\t GIN;RUM;VODKA;WHISKY 90-PROOF 1.5 F OZ &  42.0 & 0.0 &  0 & 0.00000000\\\\\n\t GIN;RUM;VODKA;WHISKY 86-PROOF 1.5 F OZ &  42.0 & 0.0 &  0 & 0.00000000\\\\\n\t IMITATN WHIPD TOPING;PWDRD;PRP1 TBSP   &   4.0 & 0.4 &  0 & 0.10000000\\\\\n\t IMITATN WHIPD TOPING;PRESSRZD 1 TBSP   &   4.0 & 0.8 &  0 & 0.20000000\\\\\n\t MAYONNAISE; IMITATION         1 TBSP   &  15.0 & 0.5 &  4 & 0.03333333\\\\\n\t GIN;RUM;VODKA;WHISKY 80-PROOF 1.5 F OZ &  42.0 & 0.0 &  0 & 0.00000000\\\\\n\t SOUR CREAM                    1 TBSP   &  12.0 & 1.6 &  5 & 0.13333333\\\\\n\t LIGHT; COFFEE OR TABLE CREAM  1 TBSP   &  15.0 & 1.8 & 10 & 0.12000000\\\\\n\t BAKING POWDER;SAS;CAPO4+CASO4 1 TSP    &   2.9 & 0.0 &  0 & 0.00000000\\\\\n\t IMITATN SOUR DRESSING         1 TBSP   &  12.0 & 1.6 &  1 & 0.13333333\\\\\n\t BAKING POWDER;SAS; CA PO4     1 TSP    &   3.0 & 0.0 &  0 & 0.00000000\\\\\n\t FRENCH SALAD DRESSING; LOCALOR1 TBSP   &  16.0 & 0.2 &  0 & 0.01250000\\\\\n\t HALF AND HALF; CREAM          1 TBSP   &  15.0 & 1.1 &  6 & 0.07333333\\\\\n\t IMITATION CREAMERS; LIQUID FRZ1 TBSP   &  15.0 & 1.4 &  0 & 0.09333333\\\\\n\t BAKING POWDER; STRGHT PHOSPHAT1 TSP    &   3.8 & 0.0 &  0 & 0.00000000\\\\\n\t BAKING POWDER; LOW SODIUM     1 TSP    &   4.3 & 0.0 &  0 & 0.00000000\\\\\n\t POPSICLE                      1 POPCLE &  95.0 & 0.0 &  0 & 0.00000000\\\\\n\t PLUMS; RAW; 1-1/2-IN DIAM     1 PLUM   &  28.0 & 0.0 &  0 & 0.00000000\\\\\n\t LIMEADE;CONCEN;FROZEN;DILUTED 6 FL OZ  & 185.0 & 0.0 &  0 & 0.00000000\\\\\n\t ITALIAN SALAD DRESSING;LOCALOR1 TBSP   &  15.0 & 0.0 &  0 & 0.00000000\\\\\n\t LEMON JUICE; CANNED           1 TBSP   &  15.0 & 0.0 &  0 & 0.00000000\\\\\n\t TEA;INSTANT;PREPARD;SWEETENED 8 FL OZ  & 262.0 & 0.0 &  0 & 0.00000000\\\\\n\t CLUB SODA                     12 FL OZ & 355.0 & 0.0 &  0 & 0.00000000\\\\\n\t COFFEE; BREWED                6 FL OZ  & 180.0 & 0.0 &  0 & 0.00000000\\\\\n\t TEA; BREWED                   8 FL OZ  & 240.0 & 0.0 &  0 & 0.00000000\\\\\n\t TEA; INSTANT;PREPRD;UNSWEETEND8 FL OZ  & 241.0 & 0.0 &  0 & 0.00000000\\\\\n\t LETTUCE; BUTTERHEAD; RAW;LEAVE1 LEAF   &  15.0 & 0.0 &  0 & 0.00000000\\\\\n\t SALT                          1 TSP    &   5.5 & 0.0 &  0 & 0.00000000\\\\\n\\end{tabular}\n",
            "text/plain": [
              "    food item                              weight_in_grams saturated_fat\n",
              "1   GELATIN; DRY                  1 ENVELP   7.00           0.0         \n",
              "2   SEAWEED; SPIRULINA; DRIED     1 OZ      28.35           0.8         \n",
              "3   YEAST; BAKERS; DRY; ACTIVE    1 PKG      7.00           0.0         \n",
              "4   PARMESAN CHEESE; GRATED       1 OZ      28.35           5.4         \n",
              "5   PARMESAN CHEESE; GRATED       1 CUP    100.00          19.1         \n",
              "6   PARMESAN CHEESE; GRATED       1 TBSP     5.00           1.0         \n",
              "7   YEAST; BREWERS; DRY           1 TBSP     8.00           0.0         \n",
              "8   LAMB;CHOPS;ARM;BRAISED;LEAN   1.7 OZ    48.00           2.9         \n",
              "9   TUNA; CANND; DRND;WATR; WHITE 3 OZ      85.00           0.3         \n",
              "10  NONFAT DRY MILK; INSTANTIZED  1 CUP     68.00           0.3         \n",
              "11  NONFAT DRY MILK; INSTANTIZED  1 ENVLPE  91.00           0.4         \n",
              "12  BUTTERMILK; DRIED             1 CUP    120.00           4.3         \n",
              "13  BEEF; DRIED; CHIPPED          2.5 OZ    72.00           1.8         \n",
              "14  PORK SHOULDER; BRAISD; LEAN   2.4 OZ    67.00           2.8         \n",
              "15  BEEF; CKD;BTTM ROUND;LEAN ONLY2.8 OZ    78.00           2.7         \n",
              "16  PORK CHOP; LOIN; BROIL; LEAN  2.5 OZ    72.00           2.6         \n",
              "17  LAMB;CHOPS;ARM;BRAISED;LEAN+FT2.2 OZ    63.00           6.9         \n",
              "18  CHICKEN; FRIED; FLOUR; BREAST 3.5 OZ    98.00           2.4         \n",
              "19  PORK; CURED; BACON; REGUL;CKED3 SLICE   19.00           3.3         \n",
              "20  CHICKEN; ROASTED; BREAST      3.0 OZ    86.00           0.9         \n",
              "21  PEANUT BUTTER                 1 TBSP    16.00           1.4         \n",
              "22  BEEF; CKD;CHUCK BLADE;LEANONLY2.2 OZ    62.00           3.9         \n",
              "23  BEEF STEAK;SIRLOIN;BROIL;LEAN 2.5 OZ    72.00           2.6         \n",
              "24  LAMB;CHOPS;LOIN;BROIL;LEAN    2.3 OZ    64.00           2.6         \n",
              "25  BEEF; CKD;BTTM ROUND;LEAN+ FAT3 OZ      85.00           4.8         \n",
              "26  TURKEY; ROASTED; LIGHT + DARK 3 PIECES  85.00           1.4         \n",
              "27  TURKEY; ROASTED; LIGHT MEAT   2 PIECES  85.00           0.9         \n",
              "28  BEEF ROAST; EYE O RND; LEAN   2.6 OZ    75.00           1.9         \n",
              "29  TURKEY; ROASTED; LIGHT + DARK 1 CUP    140.00           2.3         \n",
              "30  PORK CHOP; LOIN;PANFRY; LEAN  2.4 OZ    67.00           3.7         \n",
              "⋮   ⋮                                      ⋮               ⋮            \n",
              "932 TABLE SYRUP (CORN AND MAPLE)  2 TBSP    42.0           0.0          \n",
              "933 JELLIES                       1 PKT     14.0           0.0          \n",
              "934 GIN;RUM;VODKA;WHISKY 90-PROOF 1.5 F OZ  42.0           0.0          \n",
              "935 GIN;RUM;VODKA;WHISKY 86-PROOF 1.5 F OZ  42.0           0.0          \n",
              "936 IMITATN WHIPD TOPING;PWDRD;PRP1 TBSP     4.0           0.4          \n",
              "937 IMITATN WHIPD TOPING;PRESSRZD 1 TBSP     4.0           0.8          \n",
              "938 MAYONNAISE; IMITATION         1 TBSP    15.0           0.5          \n",
              "939 GIN;RUM;VODKA;WHISKY 80-PROOF 1.5 F OZ  42.0           0.0          \n",
              "940 SOUR CREAM                    1 TBSP    12.0           1.6          \n",
              "941 LIGHT; COFFEE OR TABLE CREAM  1 TBSP    15.0           1.8          \n",
              "942 BAKING POWDER;SAS;CAPO4+CASO4 1 TSP      2.9           0.0          \n",
              "943 IMITATN SOUR DRESSING         1 TBSP    12.0           1.6          \n",
              "944 BAKING POWDER;SAS; CA PO4     1 TSP      3.0           0.0          \n",
              "945 FRENCH SALAD DRESSING; LOCALOR1 TBSP    16.0           0.2          \n",
              "946 HALF AND HALF; CREAM          1 TBSP    15.0           1.1          \n",
              "947 IMITATION CREAMERS; LIQUID FRZ1 TBSP    15.0           1.4          \n",
              "948 BAKING POWDER; STRGHT PHOSPHAT1 TSP      3.8           0.0          \n",
              "949 BAKING POWDER; LOW SODIUM     1 TSP      4.3           0.0          \n",
              "950 POPSICLE                      1 POPCLE  95.0           0.0          \n",
              "951 PLUMS; RAW; 1-1/2-IN DIAM     1 PLUM    28.0           0.0          \n",
              "952 LIMEADE;CONCEN;FROZEN;DILUTED 6 FL OZ  185.0           0.0          \n",
              "953 ITALIAN SALAD DRESSING;LOCALOR1 TBSP    15.0           0.0          \n",
              "954 LEMON JUICE; CANNED           1 TBSP    15.0           0.0          \n",
              "955 TEA;INSTANT;PREPARD;SWEETENED 8 FL OZ  262.0           0.0          \n",
              "956 CLUB SODA                     12 FL OZ 355.0           0.0          \n",
              "957 COFFEE; BREWED                6 FL OZ  180.0           0.0          \n",
              "958 TEA; BREWED                   8 FL OZ  240.0           0.0          \n",
              "959 TEA; INSTANT;PREPRD;UNSWEETEND8 FL OZ  241.0           0.0          \n",
              "960 LETTUCE; BUTTERHEAD; RAW;LEAVE1 LEAF    15.0           0.0          \n",
              "961 SALT                          1 TSP      5.5           0.0          \n",
              "    cholesterol saturated_fat_per_gram\n",
              "1     0         0.000000000           \n",
              "2     0         0.028218695           \n",
              "3     0         0.000000000           \n",
              "4    22         0.190476190           \n",
              "5    79         0.191000000           \n",
              "6     4         0.200000000           \n",
              "7     0         0.000000000           \n",
              "8    59         0.060416667           \n",
              "9    48         0.003529412           \n",
              "10   12         0.004411765           \n",
              "11   17         0.004395604           \n",
              "12   83         0.035833333           \n",
              "13   46         0.025000000           \n",
              "14   76         0.041791045           \n",
              "15   75         0.034615385           \n",
              "16   71         0.036111111           \n",
              "17   77         0.109523810           \n",
              "18   87         0.024489796           \n",
              "19   16         0.173684211           \n",
              "20   73         0.010465116           \n",
              "21    0         0.087500000           \n",
              "22   66         0.062903226           \n",
              "23   64         0.036111111           \n",
              "24   60         0.040625000           \n",
              "25   81         0.056470588           \n",
              "26   65         0.016470588           \n",
              "27   59         0.010588235           \n",
              "28   52         0.025333333           \n",
              "29  106         0.016428571           \n",
              "30   72         0.055223881           \n",
              "⋮   ⋮           ⋮                     \n",
              "932  0          0.00000000            \n",
              "933  0          0.00000000            \n",
              "934  0          0.00000000            \n",
              "935  0          0.00000000            \n",
              "936  0          0.10000000            \n",
              "937  0          0.20000000            \n",
              "938  4          0.03333333            \n",
              "939  0          0.00000000            \n",
              "940  5          0.13333333            \n",
              "941 10          0.12000000            \n",
              "942  0          0.00000000            \n",
              "943  1          0.13333333            \n",
              "944  0          0.00000000            \n",
              "945  0          0.01250000            \n",
              "946  6          0.07333333            \n",
              "947  0          0.09333333            \n",
              "948  0          0.00000000            \n",
              "949  0          0.00000000            \n",
              "950  0          0.00000000            \n",
              "951  0          0.00000000            \n",
              "952  0          0.00000000            \n",
              "953  0          0.00000000            \n",
              "954  0          0.00000000            \n",
              "955  0          0.00000000            \n",
              "956  0          0.00000000            \n",
              "957  0          0.00000000            \n",
              "958  0          0.00000000            \n",
              "959  0          0.00000000            \n",
              "960  0          0.00000000            \n",
              "961  0          0.00000000            "
            ]
          },
          "metadata": {}
        }
      ]
    },
    {
      "cell_type": "code",
      "source": [
        "nutrition_DF <-nutrition_DF[order(nutrition_DF$saturated_fat_per_gram,decreasing=TRUE),]\n",
        "nutrition_DF"
      ],
      "metadata": {
        "colab": {
          "base_uri": "https://localhost:8080/",
          "height": 1000
        },
        "id": "9GYXnzqN_JmA",
        "outputId": "0d22ed90-a2ee-4369-bb41-99923e37e464"
      },
      "execution_count": 6,
      "outputs": [
        {
          "output_type": "display_data",
          "data": {
            "text/html": [
              "<table class=\"dataframe\">\n",
              "<caption>A tibble: 961 × 5</caption>\n",
              "<thead>\n",
              "\t<tr><th scope=col>food item</th><th scope=col>weight_in_grams</th><th scope=col>saturated_fat</th><th scope=col>cholesterol</th><th scope=col>saturated_fat_per_gram</th></tr>\n",
              "\t<tr><th scope=col>&lt;chr&gt;</th><th scope=col>&lt;dbl&gt;</th><th scope=col>&lt;dbl&gt;</th><th scope=col>&lt;dbl&gt;</th><th scope=col>&lt;dbl&gt;</th></tr>\n",
              "</thead>\n",
              "<tbody>\n",
              "\t<tr><td>BUTTER; SALTED                1 TBSP </td><td> 14.00</td><td> 7.1</td><td> 31</td><td>0.5071429</td></tr>\n",
              "\t<tr><td>BUTTER; UNSALTED              1 TBSP </td><td> 14.00</td><td> 7.1</td><td> 31</td><td>0.5071429</td></tr>\n",
              "\t<tr><td>BUTTER; SALTED                1/2 CUP</td><td>113.00</td><td>57.1</td><td>247</td><td>0.5053097</td></tr>\n",
              "\t<tr><td>BUTTER; UNSALTED              1/2 CUP</td><td>113.00</td><td>57.1</td><td>247</td><td>0.5053097</td></tr>\n",
              "\t<tr><td>BUTTER; SALTED                1 PAT  </td><td>  5.00</td><td> 2.5</td><td> 11</td><td>0.5000000</td></tr>\n",
              "\t<tr><td>BUTTER; UNSALTED              1 PAT  </td><td>  5.00</td><td> 2.5</td><td> 11</td><td>0.5000000</td></tr>\n",
              "\t<tr><td>LARD                          1 TBSP </td><td> 13.00</td><td> 5.1</td><td> 12</td><td>0.3923077</td></tr>\n",
              "\t<tr><td>LARD                          1 CUP  </td><td>205.00</td><td>80.4</td><td>195</td><td>0.3921951</td></tr>\n",
              "\t<tr><td>IMITATION CREAMERS; POWDERED  1 TSP  </td><td>  2.00</td><td> 0.7</td><td>  0</td><td>0.3500000</td></tr>\n",
              "\t<tr><td>CHOCOLATE; BITTER OT BAKING   1 OZ   </td><td> 28.35</td><td> 9.0</td><td>  0</td><td>0.3174603</td></tr>\n",
              "\t<tr><td>COCONUT; DRIED; SWEETND;SHREDD1 CUP  </td><td> 93.00</td><td>29.3</td><td>  0</td><td>0.3150538</td></tr>\n",
              "\t<tr><td>COCONUT; RAW; PIECE           1 PIECE</td><td> 45.00</td><td>13.4</td><td>  0</td><td>0.2977778</td></tr>\n",
              "\t<tr><td>COCONUT; RAW; SHREDDED        1 CUP  </td><td> 80.00</td><td>23.8</td><td>  0</td><td>0.2975000</td></tr>\n",
              "\t<tr><td>FATS; COOKING/VEGETBL SHORTENG1 TBSP </td><td> 13.00</td><td> 3.3</td><td>  0</td><td>0.2538462</td></tr>\n",
              "\t<tr><td>FATS; COOKING/VEGETBL SHORTENG1 CUP  </td><td>205.00</td><td>51.3</td><td>  0</td><td>0.2502439</td></tr>\n",
              "\t<tr><td>WHIPPING CREAM; UNWHIPED;HEAVY1 TBSP </td><td> 15.00</td><td> 3.5</td><td> 21</td><td>0.2333333</td></tr>\n",
              "\t<tr><td>WHIPPING CREAM; UNWHIPED;HEAVY1 CUP  </td><td>238.00</td><td>54.8</td><td>326</td><td>0.2302521</td></tr>\n",
              "\t<tr><td>IMITATION WHIPPED TOPPING;FRZN1 TBSP </td><td>  4.00</td><td> 0.9</td><td>  0</td><td>0.2250000</td></tr>\n",
              "\t<tr><td>CREAM CHEESE                  1 OZ   </td><td> 28.35</td><td> 6.2</td><td> 31</td><td>0.2186949</td></tr>\n",
              "\t<tr><td>IMITATION WHIPPED TOPPING;FRZN1 CUP  </td><td> 75.00</td><td>16.3</td><td>  0</td><td>0.2173333</td></tr>\n",
              "\t<tr><td>SEMISWEET CHOCOLATE           1 CUP  </td><td>170.00</td><td>36.2</td><td>  0</td><td>0.2129412</td></tr>\n",
              "\t<tr><td>CHEDDAR CHEESE                1 CU IN</td><td> 17.00</td><td> 3.6</td><td> 18</td><td>0.2117647</td></tr>\n",
              "\t<tr><td>CHEDDAR CHEESE                1 OZ   </td><td> 28.35</td><td> 6.0</td><td> 30</td><td>0.2116402</td></tr>\n",
              "\t<tr><td>CHEDDDAR CHEESE; SHREDDED     1 CUP  </td><td>113.00</td><td>23.8</td><td>119</td><td>0.2106195</td></tr>\n",
              "\t<tr><td>SWEET (DARK) CHOCOLATE        1 OZ   </td><td> 28.35</td><td> 5.9</td><td>  0</td><td>0.2081129</td></tr>\n",
              "\t<tr><td>PARMESAN CHEESE; GRATED       1 TBSP </td><td>  5.00</td><td> 1.0</td><td>  4</td><td>0.2000000</td></tr>\n",
              "\t<tr><td>IMITATN WHIPD TOPING;PRESSRZD 1 TBSP </td><td>  4.00</td><td> 0.8</td><td>  0</td><td>0.2000000</td></tr>\n",
              "\t<tr><td>PASTERZD PROCES CHEESE;AMERICN1 OZ   </td><td> 28.35</td><td> 5.6</td><td> 27</td><td>0.1975309</td></tr>\n",
              "\t<tr><td>WHIPPING CREAM; UNWHIPED;LIGHT1 TBSP </td><td> 15.00</td><td> 2.9</td><td> 17</td><td>0.1933333</td></tr>\n",
              "\t<tr><td>WHIPPING CREAM; UNWHIPED;LIGHT1 CUP  </td><td>239.00</td><td>46.2</td><td>265</td><td>0.1933054</td></tr>\n",
              "\t<tr><td>⋮</td><td>⋮</td><td>⋮</td><td>⋮</td><td>⋮</td></tr>\n",
              "\t<tr><td>COLA; REGULAR                 12 FL OZ</td><td>369.0</td><td>0</td><td>0</td><td>0</td></tr>\n",
              "\t<tr><td>ROOT BEER                     12 FL OZ</td><td>370.0</td><td>0</td><td>0</td><td>0</td></tr>\n",
              "\t<tr><td>LEMONADE;CONCEN;FRZEN;DILUTED 6 FL OZ </td><td>185.0</td><td>0</td><td>0</td><td>0</td></tr>\n",
              "\t<tr><td>SUGAR; WHITE; GRANULATED      1 CUP   </td><td>200.0</td><td>0</td><td>0</td><td>0</td></tr>\n",
              "\t<tr><td>GINGER ALE                    12 FL OZ</td><td>366.0</td><td>0</td><td>0</td><td>0</td></tr>\n",
              "\t<tr><td>PEPPER-TYPE SODA              12 FL OZ</td><td>369.0</td><td>0</td><td>0</td><td>0</td></tr>\n",
              "\t<tr><td>SUGAR; WHITE; GRANULATED      1 PKT   </td><td>  6.0</td><td>0</td><td>0</td><td>0</td></tr>\n",
              "\t<tr><td>SUGAR; POWDERED; SIFTED       1 CUP   </td><td>100.0</td><td>0</td><td>0</td><td>0</td></tr>\n",
              "\t<tr><td>SUGAR; WHITE; GRANULATED      1 TBSP  </td><td> 12.0</td><td>0</td><td>0</td><td>0</td></tr>\n",
              "\t<tr><td>TABLE SYRUP (CORN AND MAPLE)  2 TBSP  </td><td> 42.0</td><td>0</td><td>0</td><td>0</td></tr>\n",
              "\t<tr><td>JELLIES                       1 PKT   </td><td> 14.0</td><td>0</td><td>0</td><td>0</td></tr>\n",
              "\t<tr><td>GIN;RUM;VODKA;WHISKY 90-PROOF 1.5 F OZ</td><td> 42.0</td><td>0</td><td>0</td><td>0</td></tr>\n",
              "\t<tr><td>GIN;RUM;VODKA;WHISKY 86-PROOF 1.5 F OZ</td><td> 42.0</td><td>0</td><td>0</td><td>0</td></tr>\n",
              "\t<tr><td>GIN;RUM;VODKA;WHISKY 80-PROOF 1.5 F OZ</td><td> 42.0</td><td>0</td><td>0</td><td>0</td></tr>\n",
              "\t<tr><td>BAKING POWDER;SAS;CAPO4+CASO4 1 TSP   </td><td>  2.9</td><td>0</td><td>0</td><td>0</td></tr>\n",
              "\t<tr><td>BAKING POWDER;SAS; CA PO4     1 TSP   </td><td>  3.0</td><td>0</td><td>0</td><td>0</td></tr>\n",
              "\t<tr><td>BAKING POWDER; STRGHT PHOSPHAT1 TSP   </td><td>  3.8</td><td>0</td><td>0</td><td>0</td></tr>\n",
              "\t<tr><td>BAKING POWDER; LOW SODIUM     1 TSP   </td><td>  4.3</td><td>0</td><td>0</td><td>0</td></tr>\n",
              "\t<tr><td>POPSICLE                      1 POPCLE</td><td> 95.0</td><td>0</td><td>0</td><td>0</td></tr>\n",
              "\t<tr><td>PLUMS; RAW; 1-1/2-IN DIAM     1 PLUM  </td><td> 28.0</td><td>0</td><td>0</td><td>0</td></tr>\n",
              "\t<tr><td>LIMEADE;CONCEN;FROZEN;DILUTED 6 FL OZ </td><td>185.0</td><td>0</td><td>0</td><td>0</td></tr>\n",
              "\t<tr><td>ITALIAN SALAD DRESSING;LOCALOR1 TBSP  </td><td> 15.0</td><td>0</td><td>0</td><td>0</td></tr>\n",
              "\t<tr><td>LEMON JUICE; CANNED           1 TBSP  </td><td> 15.0</td><td>0</td><td>0</td><td>0</td></tr>\n",
              "\t<tr><td>TEA;INSTANT;PREPARD;SWEETENED 8 FL OZ </td><td>262.0</td><td>0</td><td>0</td><td>0</td></tr>\n",
              "\t<tr><td>CLUB SODA                     12 FL OZ</td><td>355.0</td><td>0</td><td>0</td><td>0</td></tr>\n",
              "\t<tr><td>COFFEE; BREWED                6 FL OZ </td><td>180.0</td><td>0</td><td>0</td><td>0</td></tr>\n",
              "\t<tr><td>TEA; BREWED                   8 FL OZ </td><td>240.0</td><td>0</td><td>0</td><td>0</td></tr>\n",
              "\t<tr><td>TEA; INSTANT;PREPRD;UNSWEETEND8 FL OZ </td><td>241.0</td><td>0</td><td>0</td><td>0</td></tr>\n",
              "\t<tr><td>LETTUCE; BUTTERHEAD; RAW;LEAVE1 LEAF  </td><td> 15.0</td><td>0</td><td>0</td><td>0</td></tr>\n",
              "\t<tr><td>SALT                          1 TSP   </td><td>  5.5</td><td>0</td><td>0</td><td>0</td></tr>\n",
              "</tbody>\n",
              "</table>\n"
            ],
            "text/markdown": "\nA tibble: 961 × 5\n\n| food item &lt;chr&gt; | weight_in_grams &lt;dbl&gt; | saturated_fat &lt;dbl&gt; | cholesterol &lt;dbl&gt; | saturated_fat_per_gram &lt;dbl&gt; |\n|---|---|---|---|---|\n| BUTTER; SALTED                1 TBSP  |  14.00 |  7.1 |  31 | 0.5071429 |\n| BUTTER; UNSALTED              1 TBSP  |  14.00 |  7.1 |  31 | 0.5071429 |\n| BUTTER; SALTED                1/2 CUP | 113.00 | 57.1 | 247 | 0.5053097 |\n| BUTTER; UNSALTED              1/2 CUP | 113.00 | 57.1 | 247 | 0.5053097 |\n| BUTTER; SALTED                1 PAT   |   5.00 |  2.5 |  11 | 0.5000000 |\n| BUTTER; UNSALTED              1 PAT   |   5.00 |  2.5 |  11 | 0.5000000 |\n| LARD                          1 TBSP  |  13.00 |  5.1 |  12 | 0.3923077 |\n| LARD                          1 CUP   | 205.00 | 80.4 | 195 | 0.3921951 |\n| IMITATION CREAMERS; POWDERED  1 TSP   |   2.00 |  0.7 |   0 | 0.3500000 |\n| CHOCOLATE; BITTER OT BAKING   1 OZ    |  28.35 |  9.0 |   0 | 0.3174603 |\n| COCONUT; DRIED; SWEETND;SHREDD1 CUP   |  93.00 | 29.3 |   0 | 0.3150538 |\n| COCONUT; RAW; PIECE           1 PIECE |  45.00 | 13.4 |   0 | 0.2977778 |\n| COCONUT; RAW; SHREDDED        1 CUP   |  80.00 | 23.8 |   0 | 0.2975000 |\n| FATS; COOKING/VEGETBL SHORTENG1 TBSP  |  13.00 |  3.3 |   0 | 0.2538462 |\n| FATS; COOKING/VEGETBL SHORTENG1 CUP   | 205.00 | 51.3 |   0 | 0.2502439 |\n| WHIPPING CREAM; UNWHIPED;HEAVY1 TBSP  |  15.00 |  3.5 |  21 | 0.2333333 |\n| WHIPPING CREAM; UNWHIPED;HEAVY1 CUP   | 238.00 | 54.8 | 326 | 0.2302521 |\n| IMITATION WHIPPED TOPPING;FRZN1 TBSP  |   4.00 |  0.9 |   0 | 0.2250000 |\n| CREAM CHEESE                  1 OZ    |  28.35 |  6.2 |  31 | 0.2186949 |\n| IMITATION WHIPPED TOPPING;FRZN1 CUP   |  75.00 | 16.3 |   0 | 0.2173333 |\n| SEMISWEET CHOCOLATE           1 CUP   | 170.00 | 36.2 |   0 | 0.2129412 |\n| CHEDDAR CHEESE                1 CU IN |  17.00 |  3.6 |  18 | 0.2117647 |\n| CHEDDAR CHEESE                1 OZ    |  28.35 |  6.0 |  30 | 0.2116402 |\n| CHEDDDAR CHEESE; SHREDDED     1 CUP   | 113.00 | 23.8 | 119 | 0.2106195 |\n| SWEET (DARK) CHOCOLATE        1 OZ    |  28.35 |  5.9 |   0 | 0.2081129 |\n| PARMESAN CHEESE; GRATED       1 TBSP  |   5.00 |  1.0 |   4 | 0.2000000 |\n| IMITATN WHIPD TOPING;PRESSRZD 1 TBSP  |   4.00 |  0.8 |   0 | 0.2000000 |\n| PASTERZD PROCES CHEESE;AMERICN1 OZ    |  28.35 |  5.6 |  27 | 0.1975309 |\n| WHIPPING CREAM; UNWHIPED;LIGHT1 TBSP  |  15.00 |  2.9 |  17 | 0.1933333 |\n| WHIPPING CREAM; UNWHIPED;LIGHT1 CUP   | 239.00 | 46.2 | 265 | 0.1933054 |\n| ⋮ | ⋮ | ⋮ | ⋮ | ⋮ |\n| COLA; REGULAR                 12 FL OZ | 369.0 | 0 | 0 | 0 |\n| ROOT BEER                     12 FL OZ | 370.0 | 0 | 0 | 0 |\n| LEMONADE;CONCEN;FRZEN;DILUTED 6 FL OZ  | 185.0 | 0 | 0 | 0 |\n| SUGAR; WHITE; GRANULATED      1 CUP    | 200.0 | 0 | 0 | 0 |\n| GINGER ALE                    12 FL OZ | 366.0 | 0 | 0 | 0 |\n| PEPPER-TYPE SODA              12 FL OZ | 369.0 | 0 | 0 | 0 |\n| SUGAR; WHITE; GRANULATED      1 PKT    |   6.0 | 0 | 0 | 0 |\n| SUGAR; POWDERED; SIFTED       1 CUP    | 100.0 | 0 | 0 | 0 |\n| SUGAR; WHITE; GRANULATED      1 TBSP   |  12.0 | 0 | 0 | 0 |\n| TABLE SYRUP (CORN AND MAPLE)  2 TBSP   |  42.0 | 0 | 0 | 0 |\n| JELLIES                       1 PKT    |  14.0 | 0 | 0 | 0 |\n| GIN;RUM;VODKA;WHISKY 90-PROOF 1.5 F OZ |  42.0 | 0 | 0 | 0 |\n| GIN;RUM;VODKA;WHISKY 86-PROOF 1.5 F OZ |  42.0 | 0 | 0 | 0 |\n| GIN;RUM;VODKA;WHISKY 80-PROOF 1.5 F OZ |  42.0 | 0 | 0 | 0 |\n| BAKING POWDER;SAS;CAPO4+CASO4 1 TSP    |   2.9 | 0 | 0 | 0 |\n| BAKING POWDER;SAS; CA PO4     1 TSP    |   3.0 | 0 | 0 | 0 |\n| BAKING POWDER; STRGHT PHOSPHAT1 TSP    |   3.8 | 0 | 0 | 0 |\n| BAKING POWDER; LOW SODIUM     1 TSP    |   4.3 | 0 | 0 | 0 |\n| POPSICLE                      1 POPCLE |  95.0 | 0 | 0 | 0 |\n| PLUMS; RAW; 1-1/2-IN DIAM     1 PLUM   |  28.0 | 0 | 0 | 0 |\n| LIMEADE;CONCEN;FROZEN;DILUTED 6 FL OZ  | 185.0 | 0 | 0 | 0 |\n| ITALIAN SALAD DRESSING;LOCALOR1 TBSP   |  15.0 | 0 | 0 | 0 |\n| LEMON JUICE; CANNED           1 TBSP   |  15.0 | 0 | 0 | 0 |\n| TEA;INSTANT;PREPARD;SWEETENED 8 FL OZ  | 262.0 | 0 | 0 | 0 |\n| CLUB SODA                     12 FL OZ | 355.0 | 0 | 0 | 0 |\n| COFFEE; BREWED                6 FL OZ  | 180.0 | 0 | 0 | 0 |\n| TEA; BREWED                   8 FL OZ  | 240.0 | 0 | 0 | 0 |\n| TEA; INSTANT;PREPRD;UNSWEETEND8 FL OZ  | 241.0 | 0 | 0 | 0 |\n| LETTUCE; BUTTERHEAD; RAW;LEAVE1 LEAF   |  15.0 | 0 | 0 | 0 |\n| SALT                          1 TSP    |   5.5 | 0 | 0 | 0 |\n\n",
            "text/latex": "A tibble: 961 × 5\n\\begin{tabular}{lllll}\n food item & weight\\_in\\_grams & saturated\\_fat & cholesterol & saturated\\_fat\\_per\\_gram\\\\\n <chr> & <dbl> & <dbl> & <dbl> & <dbl>\\\\\n\\hline\n\t BUTTER; SALTED                1 TBSP  &  14.00 &  7.1 &  31 & 0.5071429\\\\\n\t BUTTER; UNSALTED              1 TBSP  &  14.00 &  7.1 &  31 & 0.5071429\\\\\n\t BUTTER; SALTED                1/2 CUP & 113.00 & 57.1 & 247 & 0.5053097\\\\\n\t BUTTER; UNSALTED              1/2 CUP & 113.00 & 57.1 & 247 & 0.5053097\\\\\n\t BUTTER; SALTED                1 PAT   &   5.00 &  2.5 &  11 & 0.5000000\\\\\n\t BUTTER; UNSALTED              1 PAT   &   5.00 &  2.5 &  11 & 0.5000000\\\\\n\t LARD                          1 TBSP  &  13.00 &  5.1 &  12 & 0.3923077\\\\\n\t LARD                          1 CUP   & 205.00 & 80.4 & 195 & 0.3921951\\\\\n\t IMITATION CREAMERS; POWDERED  1 TSP   &   2.00 &  0.7 &   0 & 0.3500000\\\\\n\t CHOCOLATE; BITTER OT BAKING   1 OZ    &  28.35 &  9.0 &   0 & 0.3174603\\\\\n\t COCONUT; DRIED; SWEETND;SHREDD1 CUP   &  93.00 & 29.3 &   0 & 0.3150538\\\\\n\t COCONUT; RAW; PIECE           1 PIECE &  45.00 & 13.4 &   0 & 0.2977778\\\\\n\t COCONUT; RAW; SHREDDED        1 CUP   &  80.00 & 23.8 &   0 & 0.2975000\\\\\n\t FATS; COOKING/VEGETBL SHORTENG1 TBSP  &  13.00 &  3.3 &   0 & 0.2538462\\\\\n\t FATS; COOKING/VEGETBL SHORTENG1 CUP   & 205.00 & 51.3 &   0 & 0.2502439\\\\\n\t WHIPPING CREAM; UNWHIPED;HEAVY1 TBSP  &  15.00 &  3.5 &  21 & 0.2333333\\\\\n\t WHIPPING CREAM; UNWHIPED;HEAVY1 CUP   & 238.00 & 54.8 & 326 & 0.2302521\\\\\n\t IMITATION WHIPPED TOPPING;FRZN1 TBSP  &   4.00 &  0.9 &   0 & 0.2250000\\\\\n\t CREAM CHEESE                  1 OZ    &  28.35 &  6.2 &  31 & 0.2186949\\\\\n\t IMITATION WHIPPED TOPPING;FRZN1 CUP   &  75.00 & 16.3 &   0 & 0.2173333\\\\\n\t SEMISWEET CHOCOLATE           1 CUP   & 170.00 & 36.2 &   0 & 0.2129412\\\\\n\t CHEDDAR CHEESE                1 CU IN &  17.00 &  3.6 &  18 & 0.2117647\\\\\n\t CHEDDAR CHEESE                1 OZ    &  28.35 &  6.0 &  30 & 0.2116402\\\\\n\t CHEDDDAR CHEESE; SHREDDED     1 CUP   & 113.00 & 23.8 & 119 & 0.2106195\\\\\n\t SWEET (DARK) CHOCOLATE        1 OZ    &  28.35 &  5.9 &   0 & 0.2081129\\\\\n\t PARMESAN CHEESE; GRATED       1 TBSP  &   5.00 &  1.0 &   4 & 0.2000000\\\\\n\t IMITATN WHIPD TOPING;PRESSRZD 1 TBSP  &   4.00 &  0.8 &   0 & 0.2000000\\\\\n\t PASTERZD PROCES CHEESE;AMERICN1 OZ    &  28.35 &  5.6 &  27 & 0.1975309\\\\\n\t WHIPPING CREAM; UNWHIPED;LIGHT1 TBSP  &  15.00 &  2.9 &  17 & 0.1933333\\\\\n\t WHIPPING CREAM; UNWHIPED;LIGHT1 CUP   & 239.00 & 46.2 & 265 & 0.1933054\\\\\n\t ⋮ & ⋮ & ⋮ & ⋮ & ⋮\\\\\n\t COLA; REGULAR                 12 FL OZ & 369.0 & 0 & 0 & 0\\\\\n\t ROOT BEER                     12 FL OZ & 370.0 & 0 & 0 & 0\\\\\n\t LEMONADE;CONCEN;FRZEN;DILUTED 6 FL OZ  & 185.0 & 0 & 0 & 0\\\\\n\t SUGAR; WHITE; GRANULATED      1 CUP    & 200.0 & 0 & 0 & 0\\\\\n\t GINGER ALE                    12 FL OZ & 366.0 & 0 & 0 & 0\\\\\n\t PEPPER-TYPE SODA              12 FL OZ & 369.0 & 0 & 0 & 0\\\\\n\t SUGAR; WHITE; GRANULATED      1 PKT    &   6.0 & 0 & 0 & 0\\\\\n\t SUGAR; POWDERED; SIFTED       1 CUP    & 100.0 & 0 & 0 & 0\\\\\n\t SUGAR; WHITE; GRANULATED      1 TBSP   &  12.0 & 0 & 0 & 0\\\\\n\t TABLE SYRUP (CORN AND MAPLE)  2 TBSP   &  42.0 & 0 & 0 & 0\\\\\n\t JELLIES                       1 PKT    &  14.0 & 0 & 0 & 0\\\\\n\t GIN;RUM;VODKA;WHISKY 90-PROOF 1.5 F OZ &  42.0 & 0 & 0 & 0\\\\\n\t GIN;RUM;VODKA;WHISKY 86-PROOF 1.5 F OZ &  42.0 & 0 & 0 & 0\\\\\n\t GIN;RUM;VODKA;WHISKY 80-PROOF 1.5 F OZ &  42.0 & 0 & 0 & 0\\\\\n\t BAKING POWDER;SAS;CAPO4+CASO4 1 TSP    &   2.9 & 0 & 0 & 0\\\\\n\t BAKING POWDER;SAS; CA PO4     1 TSP    &   3.0 & 0 & 0 & 0\\\\\n\t BAKING POWDER; STRGHT PHOSPHAT1 TSP    &   3.8 & 0 & 0 & 0\\\\\n\t BAKING POWDER; LOW SODIUM     1 TSP    &   4.3 & 0 & 0 & 0\\\\\n\t POPSICLE                      1 POPCLE &  95.0 & 0 & 0 & 0\\\\\n\t PLUMS; RAW; 1-1/2-IN DIAM     1 PLUM   &  28.0 & 0 & 0 & 0\\\\\n\t LIMEADE;CONCEN;FROZEN;DILUTED 6 FL OZ  & 185.0 & 0 & 0 & 0\\\\\n\t ITALIAN SALAD DRESSING;LOCALOR1 TBSP   &  15.0 & 0 & 0 & 0\\\\\n\t LEMON JUICE; CANNED           1 TBSP   &  15.0 & 0 & 0 & 0\\\\\n\t TEA;INSTANT;PREPARD;SWEETENED 8 FL OZ  & 262.0 & 0 & 0 & 0\\\\\n\t CLUB SODA                     12 FL OZ & 355.0 & 0 & 0 & 0\\\\\n\t COFFEE; BREWED                6 FL OZ  & 180.0 & 0 & 0 & 0\\\\\n\t TEA; BREWED                   8 FL OZ  & 240.0 & 0 & 0 & 0\\\\\n\t TEA; INSTANT;PREPRD;UNSWEETEND8 FL OZ  & 241.0 & 0 & 0 & 0\\\\\n\t LETTUCE; BUTTERHEAD; RAW;LEAVE1 LEAF   &  15.0 & 0 & 0 & 0\\\\\n\t SALT                          1 TSP    &   5.5 & 0 & 0 & 0\\\\\n\\end{tabular}\n",
            "text/plain": [
              "    food item                              weight_in_grams saturated_fat\n",
              "1   BUTTER; SALTED                1 TBSP    14.00           7.1         \n",
              "2   BUTTER; UNSALTED              1 TBSP    14.00           7.1         \n",
              "3   BUTTER; SALTED                1/2 CUP  113.00          57.1         \n",
              "4   BUTTER; UNSALTED              1/2 CUP  113.00          57.1         \n",
              "5   BUTTER; SALTED                1 PAT      5.00           2.5         \n",
              "6   BUTTER; UNSALTED              1 PAT      5.00           2.5         \n",
              "7   LARD                          1 TBSP    13.00           5.1         \n",
              "8   LARD                          1 CUP    205.00          80.4         \n",
              "9   IMITATION CREAMERS; POWDERED  1 TSP      2.00           0.7         \n",
              "10  CHOCOLATE; BITTER OT BAKING   1 OZ      28.35           9.0         \n",
              "11  COCONUT; DRIED; SWEETND;SHREDD1 CUP     93.00          29.3         \n",
              "12  COCONUT; RAW; PIECE           1 PIECE   45.00          13.4         \n",
              "13  COCONUT; RAW; SHREDDED        1 CUP     80.00          23.8         \n",
              "14  FATS; COOKING/VEGETBL SHORTENG1 TBSP    13.00           3.3         \n",
              "15  FATS; COOKING/VEGETBL SHORTENG1 CUP    205.00          51.3         \n",
              "16  WHIPPING CREAM; UNWHIPED;HEAVY1 TBSP    15.00           3.5         \n",
              "17  WHIPPING CREAM; UNWHIPED;HEAVY1 CUP    238.00          54.8         \n",
              "18  IMITATION WHIPPED TOPPING;FRZN1 TBSP     4.00           0.9         \n",
              "19  CREAM CHEESE                  1 OZ      28.35           6.2         \n",
              "20  IMITATION WHIPPED TOPPING;FRZN1 CUP     75.00          16.3         \n",
              "21  SEMISWEET CHOCOLATE           1 CUP    170.00          36.2         \n",
              "22  CHEDDAR CHEESE                1 CU IN   17.00           3.6         \n",
              "23  CHEDDAR CHEESE                1 OZ      28.35           6.0         \n",
              "24  CHEDDDAR CHEESE; SHREDDED     1 CUP    113.00          23.8         \n",
              "25  SWEET (DARK) CHOCOLATE        1 OZ      28.35           5.9         \n",
              "26  PARMESAN CHEESE; GRATED       1 TBSP     5.00           1.0         \n",
              "27  IMITATN WHIPD TOPING;PRESSRZD 1 TBSP     4.00           0.8         \n",
              "28  PASTERZD PROCES CHEESE;AMERICN1 OZ      28.35           5.6         \n",
              "29  WHIPPING CREAM; UNWHIPED;LIGHT1 TBSP    15.00           2.9         \n",
              "30  WHIPPING CREAM; UNWHIPED;LIGHT1 CUP    239.00          46.2         \n",
              "⋮   ⋮                                      ⋮               ⋮            \n",
              "932 COLA; REGULAR                 12 FL OZ 369.0           0            \n",
              "933 ROOT BEER                     12 FL OZ 370.0           0            \n",
              "934 LEMONADE;CONCEN;FRZEN;DILUTED 6 FL OZ  185.0           0            \n",
              "935 SUGAR; WHITE; GRANULATED      1 CUP    200.0           0            \n",
              "936 GINGER ALE                    12 FL OZ 366.0           0            \n",
              "937 PEPPER-TYPE SODA              12 FL OZ 369.0           0            \n",
              "938 SUGAR; WHITE; GRANULATED      1 PKT      6.0           0            \n",
              "939 SUGAR; POWDERED; SIFTED       1 CUP    100.0           0            \n",
              "940 SUGAR; WHITE; GRANULATED      1 TBSP    12.0           0            \n",
              "941 TABLE SYRUP (CORN AND MAPLE)  2 TBSP    42.0           0            \n",
              "942 JELLIES                       1 PKT     14.0           0            \n",
              "943 GIN;RUM;VODKA;WHISKY 90-PROOF 1.5 F OZ  42.0           0            \n",
              "944 GIN;RUM;VODKA;WHISKY 86-PROOF 1.5 F OZ  42.0           0            \n",
              "945 GIN;RUM;VODKA;WHISKY 80-PROOF 1.5 F OZ  42.0           0            \n",
              "946 BAKING POWDER;SAS;CAPO4+CASO4 1 TSP      2.9           0            \n",
              "947 BAKING POWDER;SAS; CA PO4     1 TSP      3.0           0            \n",
              "948 BAKING POWDER; STRGHT PHOSPHAT1 TSP      3.8           0            \n",
              "949 BAKING POWDER; LOW SODIUM     1 TSP      4.3           0            \n",
              "950 POPSICLE                      1 POPCLE  95.0           0            \n",
              "951 PLUMS; RAW; 1-1/2-IN DIAM     1 PLUM    28.0           0            \n",
              "952 LIMEADE;CONCEN;FROZEN;DILUTED 6 FL OZ  185.0           0            \n",
              "953 ITALIAN SALAD DRESSING;LOCALOR1 TBSP    15.0           0            \n",
              "954 LEMON JUICE; CANNED           1 TBSP    15.0           0            \n",
              "955 TEA;INSTANT;PREPARD;SWEETENED 8 FL OZ  262.0           0            \n",
              "956 CLUB SODA                     12 FL OZ 355.0           0            \n",
              "957 COFFEE; BREWED                6 FL OZ  180.0           0            \n",
              "958 TEA; BREWED                   8 FL OZ  240.0           0            \n",
              "959 TEA; INSTANT;PREPRD;UNSWEETEND8 FL OZ  241.0           0            \n",
              "960 LETTUCE; BUTTERHEAD; RAW;LEAVE1 LEAF    15.0           0            \n",
              "961 SALT                          1 TSP      5.5           0            \n",
              "    cholesterol saturated_fat_per_gram\n",
              "1    31         0.5071429             \n",
              "2    31         0.5071429             \n",
              "3   247         0.5053097             \n",
              "4   247         0.5053097             \n",
              "5    11         0.5000000             \n",
              "6    11         0.5000000             \n",
              "7    12         0.3923077             \n",
              "8   195         0.3921951             \n",
              "9     0         0.3500000             \n",
              "10    0         0.3174603             \n",
              "11    0         0.3150538             \n",
              "12    0         0.2977778             \n",
              "13    0         0.2975000             \n",
              "14    0         0.2538462             \n",
              "15    0         0.2502439             \n",
              "16   21         0.2333333             \n",
              "17  326         0.2302521             \n",
              "18    0         0.2250000             \n",
              "19   31         0.2186949             \n",
              "20    0         0.2173333             \n",
              "21    0         0.2129412             \n",
              "22   18         0.2117647             \n",
              "23   30         0.2116402             \n",
              "24  119         0.2106195             \n",
              "25    0         0.2081129             \n",
              "26    4         0.2000000             \n",
              "27    0         0.2000000             \n",
              "28   27         0.1975309             \n",
              "29   17         0.1933333             \n",
              "30  265         0.1933054             \n",
              "⋮   ⋮           ⋮                     \n",
              "932 0           0                     \n",
              "933 0           0                     \n",
              "934 0           0                     \n",
              "935 0           0                     \n",
              "936 0           0                     \n",
              "937 0           0                     \n",
              "938 0           0                     \n",
              "939 0           0                     \n",
              "940 0           0                     \n",
              "941 0           0                     \n",
              "942 0           0                     \n",
              "943 0           0                     \n",
              "944 0           0                     \n",
              "945 0           0                     \n",
              "946 0           0                     \n",
              "947 0           0                     \n",
              "948 0           0                     \n",
              "949 0           0                     \n",
              "950 0           0                     \n",
              "951 0           0                     \n",
              "952 0           0                     \n",
              "953 0           0                     \n",
              "954 0           0                     \n",
              "955 0           0                     \n",
              "956 0           0                     \n",
              "957 0           0                     \n",
              "958 0           0                     \n",
              "959 0           0                     \n",
              "960 0           0                     \n",
              "961 0           0                     "
            ]
          },
          "metadata": {}
        }
      ]
    },
    {
      "cell_type": "markdown",
      "source": [
        "From the above output the top five food items with the highest saturated fat per gram are:\n",
        "\n",
        "1. BUTTER; SALTED 1 TBSP\n",
        "2. BUTTER; UNSALTED 1 TBSP\n",
        "3. BUTTER; UNSALTED 1/2 CUP\n",
        "4. BUTTER; SALTED 1/2 CUP\n",
        "5. BUTTER; UNSALTED 1 PAT\n",
        "And BUTTER; SALTED 1 TBSP has the highest saturated fat per gram"
      ],
      "metadata": {
        "id": "XihndgOT_Vnv"
      }
    },
    {
      "cell_type": "markdown",
      "source": [
        "**5.Standardize (zero mean) the field saturated fat pergram, and produce a listing of all the food items that are outliers at the high end of the scale. How many food items are outliers at the low end of the scale? Create a density plot for saturated fat_ per_gram**\n",
        "\n",
        "Standardize the column \"saturated_fat_per_gram\" Provide a list of food items that are outliers at the higher end of the scale Number of food items that are outliers at the lower end of the scale"
      ],
      "metadata": {
        "id": "eYZJYDF6_bX8"
      }
    },
    {
      "cell_type": "code",
      "source": [
        "# apply z-score to standardize saturated_fat_per_gram\n",
        "mean = mean(nutrition_DF$saturated_fat_per_gram)\n",
        "std = sd(nutrition_DF$saturated_fat_per_gram)\n",
        "nutrition_DF['scaled_saturated_fat_per_gram'] = (nutrition_DF$saturated_fat_per_gram-mean)/std\n",
        "nutrition_DF"
      ],
      "metadata": {
        "colab": {
          "base_uri": "https://localhost:8080/",
          "height": 1000
        },
        "id": "mzisgx8U_SM5",
        "outputId": "41a53570-831c-46ed-b8f2-ad071226a1bb"
      },
      "execution_count": 7,
      "outputs": [
        {
          "output_type": "display_data",
          "data": {
            "text/html": [
              "<table class=\"dataframe\">\n",
              "<caption>A tibble: 961 × 6</caption>\n",
              "<thead>\n",
              "\t<tr><th scope=col>food item</th><th scope=col>weight_in_grams</th><th scope=col>saturated_fat</th><th scope=col>cholesterol</th><th scope=col>saturated_fat_per_gram</th><th scope=col>scaled_saturated_fat_per_gram</th></tr>\n",
              "\t<tr><th scope=col>&lt;chr&gt;</th><th scope=col>&lt;dbl&gt;</th><th scope=col>&lt;dbl&gt;</th><th scope=col>&lt;dbl&gt;</th><th scope=col>&lt;dbl&gt;</th><th scope=col>&lt;dbl&gt;</th></tr>\n",
              "</thead>\n",
              "<tbody>\n",
              "\t<tr><td>BUTTER; SALTED                1 TBSP </td><td> 14.00</td><td> 7.1</td><td> 31</td><td>0.5071429</td><td>7.106775</td></tr>\n",
              "\t<tr><td>BUTTER; UNSALTED              1 TBSP </td><td> 14.00</td><td> 7.1</td><td> 31</td><td>0.5071429</td><td>7.106775</td></tr>\n",
              "\t<tr><td>BUTTER; SALTED                1/2 CUP</td><td>113.00</td><td>57.1</td><td>247</td><td>0.5053097</td><td>7.079055</td></tr>\n",
              "\t<tr><td>BUTTER; UNSALTED              1/2 CUP</td><td>113.00</td><td>57.1</td><td>247</td><td>0.5053097</td><td>7.079055</td></tr>\n",
              "\t<tr><td>BUTTER; SALTED                1 PAT  </td><td>  5.00</td><td> 2.5</td><td> 11</td><td>0.5000000</td><td>6.998763</td></tr>\n",
              "\t<tr><td>BUTTER; UNSALTED              1 PAT  </td><td>  5.00</td><td> 2.5</td><td> 11</td><td>0.5000000</td><td>6.998763</td></tr>\n",
              "\t<tr><td>LARD                          1 TBSP </td><td> 13.00</td><td> 5.1</td><td> 12</td><td>0.3923077</td><td>5.370282</td></tr>\n",
              "\t<tr><td>LARD                          1 CUP  </td><td>205.00</td><td>80.4</td><td>195</td><td>0.3921951</td><td>5.368580</td></tr>\n",
              "\t<tr><td>IMITATION CREAMERS; POWDERED  1 TSP  </td><td>  2.00</td><td> 0.7</td><td>  0</td><td>0.3500000</td><td>4.730522</td></tr>\n",
              "\t<tr><td>CHOCOLATE; BITTER OT BAKING   1 OZ   </td><td> 28.35</td><td> 9.0</td><td>  0</td><td>0.3174603</td><td>4.238469</td></tr>\n",
              "\t<tr><td>COCONUT; DRIED; SWEETND;SHREDD1 CUP  </td><td> 93.00</td><td>29.3</td><td>  0</td><td>0.3150538</td><td>4.202078</td></tr>\n",
              "\t<tr><td>COCONUT; RAW; PIECE           1 PIECE</td><td> 45.00</td><td>13.4</td><td>  0</td><td>0.2977778</td><td>3.940837</td></tr>\n",
              "\t<tr><td>COCONUT; RAW; SHREDDED        1 CUP  </td><td> 80.00</td><td>23.8</td><td>  0</td><td>0.2975000</td><td>3.936637</td></tr>\n",
              "\t<tr><td>FATS; COOKING/VEGETBL SHORTENG1 TBSP </td><td> 13.00</td><td> 3.3</td><td>  0</td><td>0.2538462</td><td>3.276520</td></tr>\n",
              "\t<tr><td>FATS; COOKING/VEGETBL SHORTENG1 CUP  </td><td>205.00</td><td>51.3</td><td>  0</td><td>0.2502439</td><td>3.222049</td></tr>\n",
              "\t<tr><td>WHIPPING CREAM; UNWHIPED;HEAVY1 TBSP </td><td> 15.00</td><td> 3.5</td><td> 21</td><td>0.2333333</td><td>2.966334</td></tr>\n",
              "\t<tr><td>WHIPPING CREAM; UNWHIPED;HEAVY1 CUP  </td><td>238.00</td><td>54.8</td><td>326</td><td>0.2302521</td><td>2.919740</td></tr>\n",
              "\t<tr><td>IMITATION WHIPPED TOPPING;FRZN1 TBSP </td><td>  4.00</td><td> 0.9</td><td>  0</td><td>0.2250000</td><td>2.840320</td></tr>\n",
              "\t<tr><td>CREAM CHEESE                  1 OZ   </td><td> 28.35</td><td> 6.2</td><td> 31</td><td>0.2186949</td><td>2.744977</td></tr>\n",
              "\t<tr><td>IMITATION WHIPPED TOPPING;FRZN1 CUP  </td><td> 75.00</td><td>16.3</td><td>  0</td><td>0.2173333</td><td>2.724388</td></tr>\n",
              "\t<tr><td>SEMISWEET CHOCOLATE           1 CUP  </td><td>170.00</td><td>36.2</td><td>  0</td><td>0.2129412</td><td>2.657971</td></tr>\n",
              "\t<tr><td>CHEDDAR CHEESE                1 CU IN</td><td> 17.00</td><td> 3.6</td><td> 18</td><td>0.2117647</td><td>2.640181</td></tr>\n",
              "\t<tr><td>CHEDDAR CHEESE                1 OZ   </td><td> 28.35</td><td> 6.0</td><td> 30</td><td>0.2116402</td><td>2.638299</td></tr>\n",
              "\t<tr><td>CHEDDDAR CHEESE; SHREDDED     1 CUP  </td><td>113.00</td><td>23.8</td><td>119</td><td>0.2106195</td><td>2.622863</td></tr>\n",
              "\t<tr><td>SWEET (DARK) CHOCOLATE        1 OZ   </td><td> 28.35</td><td> 5.9</td><td>  0</td><td>0.2081129</td><td>2.584960</td></tr>\n",
              "\t<tr><td>PARMESAN CHEESE; GRATED       1 TBSP </td><td>  5.00</td><td> 1.0</td><td>  4</td><td>0.2000000</td><td>2.462280</td></tr>\n",
              "\t<tr><td>IMITATN WHIPD TOPING;PRESSRZD 1 TBSP </td><td>  4.00</td><td> 0.8</td><td>  0</td><td>0.2000000</td><td>2.462280</td></tr>\n",
              "\t<tr><td>PASTERZD PROCES CHEESE;AMERICN1 OZ   </td><td> 28.35</td><td> 5.6</td><td> 27</td><td>0.1975309</td><td>2.424942</td></tr>\n",
              "\t<tr><td>WHIPPING CREAM; UNWHIPED;LIGHT1 TBSP </td><td> 15.00</td><td> 2.9</td><td> 17</td><td>0.1933333</td><td>2.361469</td></tr>\n",
              "\t<tr><td>WHIPPING CREAM; UNWHIPED;LIGHT1 CUP  </td><td>239.00</td><td>46.2</td><td>265</td><td>0.1933054</td><td>2.361047</td></tr>\n",
              "\t<tr><td>⋮</td><td>⋮</td><td>⋮</td><td>⋮</td><td>⋮</td><td>⋮</td></tr>\n",
              "\t<tr><td>COLA; REGULAR                 12 FL OZ</td><td>369.0</td><td>0</td><td>0</td><td>0</td><td>-0.5620426</td></tr>\n",
              "\t<tr><td>ROOT BEER                     12 FL OZ</td><td>370.0</td><td>0</td><td>0</td><td>0</td><td>-0.5620426</td></tr>\n",
              "\t<tr><td>LEMONADE;CONCEN;FRZEN;DILUTED 6 FL OZ </td><td>185.0</td><td>0</td><td>0</td><td>0</td><td>-0.5620426</td></tr>\n",
              "\t<tr><td>SUGAR; WHITE; GRANULATED      1 CUP   </td><td>200.0</td><td>0</td><td>0</td><td>0</td><td>-0.5620426</td></tr>\n",
              "\t<tr><td>GINGER ALE                    12 FL OZ</td><td>366.0</td><td>0</td><td>0</td><td>0</td><td>-0.5620426</td></tr>\n",
              "\t<tr><td>PEPPER-TYPE SODA              12 FL OZ</td><td>369.0</td><td>0</td><td>0</td><td>0</td><td>-0.5620426</td></tr>\n",
              "\t<tr><td>SUGAR; WHITE; GRANULATED      1 PKT   </td><td>  6.0</td><td>0</td><td>0</td><td>0</td><td>-0.5620426</td></tr>\n",
              "\t<tr><td>SUGAR; POWDERED; SIFTED       1 CUP   </td><td>100.0</td><td>0</td><td>0</td><td>0</td><td>-0.5620426</td></tr>\n",
              "\t<tr><td>SUGAR; WHITE; GRANULATED      1 TBSP  </td><td> 12.0</td><td>0</td><td>0</td><td>0</td><td>-0.5620426</td></tr>\n",
              "\t<tr><td>TABLE SYRUP (CORN AND MAPLE)  2 TBSP  </td><td> 42.0</td><td>0</td><td>0</td><td>0</td><td>-0.5620426</td></tr>\n",
              "\t<tr><td>JELLIES                       1 PKT   </td><td> 14.0</td><td>0</td><td>0</td><td>0</td><td>-0.5620426</td></tr>\n",
              "\t<tr><td>GIN;RUM;VODKA;WHISKY 90-PROOF 1.5 F OZ</td><td> 42.0</td><td>0</td><td>0</td><td>0</td><td>-0.5620426</td></tr>\n",
              "\t<tr><td>GIN;RUM;VODKA;WHISKY 86-PROOF 1.5 F OZ</td><td> 42.0</td><td>0</td><td>0</td><td>0</td><td>-0.5620426</td></tr>\n",
              "\t<tr><td>GIN;RUM;VODKA;WHISKY 80-PROOF 1.5 F OZ</td><td> 42.0</td><td>0</td><td>0</td><td>0</td><td>-0.5620426</td></tr>\n",
              "\t<tr><td>BAKING POWDER;SAS;CAPO4+CASO4 1 TSP   </td><td>  2.9</td><td>0</td><td>0</td><td>0</td><td>-0.5620426</td></tr>\n",
              "\t<tr><td>BAKING POWDER;SAS; CA PO4     1 TSP   </td><td>  3.0</td><td>0</td><td>0</td><td>0</td><td>-0.5620426</td></tr>\n",
              "\t<tr><td>BAKING POWDER; STRGHT PHOSPHAT1 TSP   </td><td>  3.8</td><td>0</td><td>0</td><td>0</td><td>-0.5620426</td></tr>\n",
              "\t<tr><td>BAKING POWDER; LOW SODIUM     1 TSP   </td><td>  4.3</td><td>0</td><td>0</td><td>0</td><td>-0.5620426</td></tr>\n",
              "\t<tr><td>POPSICLE                      1 POPCLE</td><td> 95.0</td><td>0</td><td>0</td><td>0</td><td>-0.5620426</td></tr>\n",
              "\t<tr><td>PLUMS; RAW; 1-1/2-IN DIAM     1 PLUM  </td><td> 28.0</td><td>0</td><td>0</td><td>0</td><td>-0.5620426</td></tr>\n",
              "\t<tr><td>LIMEADE;CONCEN;FROZEN;DILUTED 6 FL OZ </td><td>185.0</td><td>0</td><td>0</td><td>0</td><td>-0.5620426</td></tr>\n",
              "\t<tr><td>ITALIAN SALAD DRESSING;LOCALOR1 TBSP  </td><td> 15.0</td><td>0</td><td>0</td><td>0</td><td>-0.5620426</td></tr>\n",
              "\t<tr><td>LEMON JUICE; CANNED           1 TBSP  </td><td> 15.0</td><td>0</td><td>0</td><td>0</td><td>-0.5620426</td></tr>\n",
              "\t<tr><td>TEA;INSTANT;PREPARD;SWEETENED 8 FL OZ </td><td>262.0</td><td>0</td><td>0</td><td>0</td><td>-0.5620426</td></tr>\n",
              "\t<tr><td>CLUB SODA                     12 FL OZ</td><td>355.0</td><td>0</td><td>0</td><td>0</td><td>-0.5620426</td></tr>\n",
              "\t<tr><td>COFFEE; BREWED                6 FL OZ </td><td>180.0</td><td>0</td><td>0</td><td>0</td><td>-0.5620426</td></tr>\n",
              "\t<tr><td>TEA; BREWED                   8 FL OZ </td><td>240.0</td><td>0</td><td>0</td><td>0</td><td>-0.5620426</td></tr>\n",
              "\t<tr><td>TEA; INSTANT;PREPRD;UNSWEETEND8 FL OZ </td><td>241.0</td><td>0</td><td>0</td><td>0</td><td>-0.5620426</td></tr>\n",
              "\t<tr><td>LETTUCE; BUTTERHEAD; RAW;LEAVE1 LEAF  </td><td> 15.0</td><td>0</td><td>0</td><td>0</td><td>-0.5620426</td></tr>\n",
              "\t<tr><td>SALT                          1 TSP   </td><td>  5.5</td><td>0</td><td>0</td><td>0</td><td>-0.5620426</td></tr>\n",
              "</tbody>\n",
              "</table>\n"
            ],
            "text/markdown": "\nA tibble: 961 × 6\n\n| food item &lt;chr&gt; | weight_in_grams &lt;dbl&gt; | saturated_fat &lt;dbl&gt; | cholesterol &lt;dbl&gt; | saturated_fat_per_gram &lt;dbl&gt; | scaled_saturated_fat_per_gram &lt;dbl&gt; |\n|---|---|---|---|---|---|\n| BUTTER; SALTED                1 TBSP  |  14.00 |  7.1 |  31 | 0.5071429 | 7.106775 |\n| BUTTER; UNSALTED              1 TBSP  |  14.00 |  7.1 |  31 | 0.5071429 | 7.106775 |\n| BUTTER; SALTED                1/2 CUP | 113.00 | 57.1 | 247 | 0.5053097 | 7.079055 |\n| BUTTER; UNSALTED              1/2 CUP | 113.00 | 57.1 | 247 | 0.5053097 | 7.079055 |\n| BUTTER; SALTED                1 PAT   |   5.00 |  2.5 |  11 | 0.5000000 | 6.998763 |\n| BUTTER; UNSALTED              1 PAT   |   5.00 |  2.5 |  11 | 0.5000000 | 6.998763 |\n| LARD                          1 TBSP  |  13.00 |  5.1 |  12 | 0.3923077 | 5.370282 |\n| LARD                          1 CUP   | 205.00 | 80.4 | 195 | 0.3921951 | 5.368580 |\n| IMITATION CREAMERS; POWDERED  1 TSP   |   2.00 |  0.7 |   0 | 0.3500000 | 4.730522 |\n| CHOCOLATE; BITTER OT BAKING   1 OZ    |  28.35 |  9.0 |   0 | 0.3174603 | 4.238469 |\n| COCONUT; DRIED; SWEETND;SHREDD1 CUP   |  93.00 | 29.3 |   0 | 0.3150538 | 4.202078 |\n| COCONUT; RAW; PIECE           1 PIECE |  45.00 | 13.4 |   0 | 0.2977778 | 3.940837 |\n| COCONUT; RAW; SHREDDED        1 CUP   |  80.00 | 23.8 |   0 | 0.2975000 | 3.936637 |\n| FATS; COOKING/VEGETBL SHORTENG1 TBSP  |  13.00 |  3.3 |   0 | 0.2538462 | 3.276520 |\n| FATS; COOKING/VEGETBL SHORTENG1 CUP   | 205.00 | 51.3 |   0 | 0.2502439 | 3.222049 |\n| WHIPPING CREAM; UNWHIPED;HEAVY1 TBSP  |  15.00 |  3.5 |  21 | 0.2333333 | 2.966334 |\n| WHIPPING CREAM; UNWHIPED;HEAVY1 CUP   | 238.00 | 54.8 | 326 | 0.2302521 | 2.919740 |\n| IMITATION WHIPPED TOPPING;FRZN1 TBSP  |   4.00 |  0.9 |   0 | 0.2250000 | 2.840320 |\n| CREAM CHEESE                  1 OZ    |  28.35 |  6.2 |  31 | 0.2186949 | 2.744977 |\n| IMITATION WHIPPED TOPPING;FRZN1 CUP   |  75.00 | 16.3 |   0 | 0.2173333 | 2.724388 |\n| SEMISWEET CHOCOLATE           1 CUP   | 170.00 | 36.2 |   0 | 0.2129412 | 2.657971 |\n| CHEDDAR CHEESE                1 CU IN |  17.00 |  3.6 |  18 | 0.2117647 | 2.640181 |\n| CHEDDAR CHEESE                1 OZ    |  28.35 |  6.0 |  30 | 0.2116402 | 2.638299 |\n| CHEDDDAR CHEESE; SHREDDED     1 CUP   | 113.00 | 23.8 | 119 | 0.2106195 | 2.622863 |\n| SWEET (DARK) CHOCOLATE        1 OZ    |  28.35 |  5.9 |   0 | 0.2081129 | 2.584960 |\n| PARMESAN CHEESE; GRATED       1 TBSP  |   5.00 |  1.0 |   4 | 0.2000000 | 2.462280 |\n| IMITATN WHIPD TOPING;PRESSRZD 1 TBSP  |   4.00 |  0.8 |   0 | 0.2000000 | 2.462280 |\n| PASTERZD PROCES CHEESE;AMERICN1 OZ    |  28.35 |  5.6 |  27 | 0.1975309 | 2.424942 |\n| WHIPPING CREAM; UNWHIPED;LIGHT1 TBSP  |  15.00 |  2.9 |  17 | 0.1933333 | 2.361469 |\n| WHIPPING CREAM; UNWHIPED;LIGHT1 CUP   | 239.00 | 46.2 | 265 | 0.1933054 | 2.361047 |\n| ⋮ | ⋮ | ⋮ | ⋮ | ⋮ | ⋮ |\n| COLA; REGULAR                 12 FL OZ | 369.0 | 0 | 0 | 0 | -0.5620426 |\n| ROOT BEER                     12 FL OZ | 370.0 | 0 | 0 | 0 | -0.5620426 |\n| LEMONADE;CONCEN;FRZEN;DILUTED 6 FL OZ  | 185.0 | 0 | 0 | 0 | -0.5620426 |\n| SUGAR; WHITE; GRANULATED      1 CUP    | 200.0 | 0 | 0 | 0 | -0.5620426 |\n| GINGER ALE                    12 FL OZ | 366.0 | 0 | 0 | 0 | -0.5620426 |\n| PEPPER-TYPE SODA              12 FL OZ | 369.0 | 0 | 0 | 0 | -0.5620426 |\n| SUGAR; WHITE; GRANULATED      1 PKT    |   6.0 | 0 | 0 | 0 | -0.5620426 |\n| SUGAR; POWDERED; SIFTED       1 CUP    | 100.0 | 0 | 0 | 0 | -0.5620426 |\n| SUGAR; WHITE; GRANULATED      1 TBSP   |  12.0 | 0 | 0 | 0 | -0.5620426 |\n| TABLE SYRUP (CORN AND MAPLE)  2 TBSP   |  42.0 | 0 | 0 | 0 | -0.5620426 |\n| JELLIES                       1 PKT    |  14.0 | 0 | 0 | 0 | -0.5620426 |\n| GIN;RUM;VODKA;WHISKY 90-PROOF 1.5 F OZ |  42.0 | 0 | 0 | 0 | -0.5620426 |\n| GIN;RUM;VODKA;WHISKY 86-PROOF 1.5 F OZ |  42.0 | 0 | 0 | 0 | -0.5620426 |\n| GIN;RUM;VODKA;WHISKY 80-PROOF 1.5 F OZ |  42.0 | 0 | 0 | 0 | -0.5620426 |\n| BAKING POWDER;SAS;CAPO4+CASO4 1 TSP    |   2.9 | 0 | 0 | 0 | -0.5620426 |\n| BAKING POWDER;SAS; CA PO4     1 TSP    |   3.0 | 0 | 0 | 0 | -0.5620426 |\n| BAKING POWDER; STRGHT PHOSPHAT1 TSP    |   3.8 | 0 | 0 | 0 | -0.5620426 |\n| BAKING POWDER; LOW SODIUM     1 TSP    |   4.3 | 0 | 0 | 0 | -0.5620426 |\n| POPSICLE                      1 POPCLE |  95.0 | 0 | 0 | 0 | -0.5620426 |\n| PLUMS; RAW; 1-1/2-IN DIAM     1 PLUM   |  28.0 | 0 | 0 | 0 | -0.5620426 |\n| LIMEADE;CONCEN;FROZEN;DILUTED 6 FL OZ  | 185.0 | 0 | 0 | 0 | -0.5620426 |\n| ITALIAN SALAD DRESSING;LOCALOR1 TBSP   |  15.0 | 0 | 0 | 0 | -0.5620426 |\n| LEMON JUICE; CANNED           1 TBSP   |  15.0 | 0 | 0 | 0 | -0.5620426 |\n| TEA;INSTANT;PREPARD;SWEETENED 8 FL OZ  | 262.0 | 0 | 0 | 0 | -0.5620426 |\n| CLUB SODA                     12 FL OZ | 355.0 | 0 | 0 | 0 | -0.5620426 |\n| COFFEE; BREWED                6 FL OZ  | 180.0 | 0 | 0 | 0 | -0.5620426 |\n| TEA; BREWED                   8 FL OZ  | 240.0 | 0 | 0 | 0 | -0.5620426 |\n| TEA; INSTANT;PREPRD;UNSWEETEND8 FL OZ  | 241.0 | 0 | 0 | 0 | -0.5620426 |\n| LETTUCE; BUTTERHEAD; RAW;LEAVE1 LEAF   |  15.0 | 0 | 0 | 0 | -0.5620426 |\n| SALT                          1 TSP    |   5.5 | 0 | 0 | 0 | -0.5620426 |\n\n",
            "text/latex": "A tibble: 961 × 6\n\\begin{tabular}{llllll}\n food item & weight\\_in\\_grams & saturated\\_fat & cholesterol & saturated\\_fat\\_per\\_gram & scaled\\_saturated\\_fat\\_per\\_gram\\\\\n <chr> & <dbl> & <dbl> & <dbl> & <dbl> & <dbl>\\\\\n\\hline\n\t BUTTER; SALTED                1 TBSP  &  14.00 &  7.1 &  31 & 0.5071429 & 7.106775\\\\\n\t BUTTER; UNSALTED              1 TBSP  &  14.00 &  7.1 &  31 & 0.5071429 & 7.106775\\\\\n\t BUTTER; SALTED                1/2 CUP & 113.00 & 57.1 & 247 & 0.5053097 & 7.079055\\\\\n\t BUTTER; UNSALTED              1/2 CUP & 113.00 & 57.1 & 247 & 0.5053097 & 7.079055\\\\\n\t BUTTER; SALTED                1 PAT   &   5.00 &  2.5 &  11 & 0.5000000 & 6.998763\\\\\n\t BUTTER; UNSALTED              1 PAT   &   5.00 &  2.5 &  11 & 0.5000000 & 6.998763\\\\\n\t LARD                          1 TBSP  &  13.00 &  5.1 &  12 & 0.3923077 & 5.370282\\\\\n\t LARD                          1 CUP   & 205.00 & 80.4 & 195 & 0.3921951 & 5.368580\\\\\n\t IMITATION CREAMERS; POWDERED  1 TSP   &   2.00 &  0.7 &   0 & 0.3500000 & 4.730522\\\\\n\t CHOCOLATE; BITTER OT BAKING   1 OZ    &  28.35 &  9.0 &   0 & 0.3174603 & 4.238469\\\\\n\t COCONUT; DRIED; SWEETND;SHREDD1 CUP   &  93.00 & 29.3 &   0 & 0.3150538 & 4.202078\\\\\n\t COCONUT; RAW; PIECE           1 PIECE &  45.00 & 13.4 &   0 & 0.2977778 & 3.940837\\\\\n\t COCONUT; RAW; SHREDDED        1 CUP   &  80.00 & 23.8 &   0 & 0.2975000 & 3.936637\\\\\n\t FATS; COOKING/VEGETBL SHORTENG1 TBSP  &  13.00 &  3.3 &   0 & 0.2538462 & 3.276520\\\\\n\t FATS; COOKING/VEGETBL SHORTENG1 CUP   & 205.00 & 51.3 &   0 & 0.2502439 & 3.222049\\\\\n\t WHIPPING CREAM; UNWHIPED;HEAVY1 TBSP  &  15.00 &  3.5 &  21 & 0.2333333 & 2.966334\\\\\n\t WHIPPING CREAM; UNWHIPED;HEAVY1 CUP   & 238.00 & 54.8 & 326 & 0.2302521 & 2.919740\\\\\n\t IMITATION WHIPPED TOPPING;FRZN1 TBSP  &   4.00 &  0.9 &   0 & 0.2250000 & 2.840320\\\\\n\t CREAM CHEESE                  1 OZ    &  28.35 &  6.2 &  31 & 0.2186949 & 2.744977\\\\\n\t IMITATION WHIPPED TOPPING;FRZN1 CUP   &  75.00 & 16.3 &   0 & 0.2173333 & 2.724388\\\\\n\t SEMISWEET CHOCOLATE           1 CUP   & 170.00 & 36.2 &   0 & 0.2129412 & 2.657971\\\\\n\t CHEDDAR CHEESE                1 CU IN &  17.00 &  3.6 &  18 & 0.2117647 & 2.640181\\\\\n\t CHEDDAR CHEESE                1 OZ    &  28.35 &  6.0 &  30 & 0.2116402 & 2.638299\\\\\n\t CHEDDDAR CHEESE; SHREDDED     1 CUP   & 113.00 & 23.8 & 119 & 0.2106195 & 2.622863\\\\\n\t SWEET (DARK) CHOCOLATE        1 OZ    &  28.35 &  5.9 &   0 & 0.2081129 & 2.584960\\\\\n\t PARMESAN CHEESE; GRATED       1 TBSP  &   5.00 &  1.0 &   4 & 0.2000000 & 2.462280\\\\\n\t IMITATN WHIPD TOPING;PRESSRZD 1 TBSP  &   4.00 &  0.8 &   0 & 0.2000000 & 2.462280\\\\\n\t PASTERZD PROCES CHEESE;AMERICN1 OZ    &  28.35 &  5.6 &  27 & 0.1975309 & 2.424942\\\\\n\t WHIPPING CREAM; UNWHIPED;LIGHT1 TBSP  &  15.00 &  2.9 &  17 & 0.1933333 & 2.361469\\\\\n\t WHIPPING CREAM; UNWHIPED;LIGHT1 CUP   & 239.00 & 46.2 & 265 & 0.1933054 & 2.361047\\\\\n\t ⋮ & ⋮ & ⋮ & ⋮ & ⋮ & ⋮\\\\\n\t COLA; REGULAR                 12 FL OZ & 369.0 & 0 & 0 & 0 & -0.5620426\\\\\n\t ROOT BEER                     12 FL OZ & 370.0 & 0 & 0 & 0 & -0.5620426\\\\\n\t LEMONADE;CONCEN;FRZEN;DILUTED 6 FL OZ  & 185.0 & 0 & 0 & 0 & -0.5620426\\\\\n\t SUGAR; WHITE; GRANULATED      1 CUP    & 200.0 & 0 & 0 & 0 & -0.5620426\\\\\n\t GINGER ALE                    12 FL OZ & 366.0 & 0 & 0 & 0 & -0.5620426\\\\\n\t PEPPER-TYPE SODA              12 FL OZ & 369.0 & 0 & 0 & 0 & -0.5620426\\\\\n\t SUGAR; WHITE; GRANULATED      1 PKT    &   6.0 & 0 & 0 & 0 & -0.5620426\\\\\n\t SUGAR; POWDERED; SIFTED       1 CUP    & 100.0 & 0 & 0 & 0 & -0.5620426\\\\\n\t SUGAR; WHITE; GRANULATED      1 TBSP   &  12.0 & 0 & 0 & 0 & -0.5620426\\\\\n\t TABLE SYRUP (CORN AND MAPLE)  2 TBSP   &  42.0 & 0 & 0 & 0 & -0.5620426\\\\\n\t JELLIES                       1 PKT    &  14.0 & 0 & 0 & 0 & -0.5620426\\\\\n\t GIN;RUM;VODKA;WHISKY 90-PROOF 1.5 F OZ &  42.0 & 0 & 0 & 0 & -0.5620426\\\\\n\t GIN;RUM;VODKA;WHISKY 86-PROOF 1.5 F OZ &  42.0 & 0 & 0 & 0 & -0.5620426\\\\\n\t GIN;RUM;VODKA;WHISKY 80-PROOF 1.5 F OZ &  42.0 & 0 & 0 & 0 & -0.5620426\\\\\n\t BAKING POWDER;SAS;CAPO4+CASO4 1 TSP    &   2.9 & 0 & 0 & 0 & -0.5620426\\\\\n\t BAKING POWDER;SAS; CA PO4     1 TSP    &   3.0 & 0 & 0 & 0 & -0.5620426\\\\\n\t BAKING POWDER; STRGHT PHOSPHAT1 TSP    &   3.8 & 0 & 0 & 0 & -0.5620426\\\\\n\t BAKING POWDER; LOW SODIUM     1 TSP    &   4.3 & 0 & 0 & 0 & -0.5620426\\\\\n\t POPSICLE                      1 POPCLE &  95.0 & 0 & 0 & 0 & -0.5620426\\\\\n\t PLUMS; RAW; 1-1/2-IN DIAM     1 PLUM   &  28.0 & 0 & 0 & 0 & -0.5620426\\\\\n\t LIMEADE;CONCEN;FROZEN;DILUTED 6 FL OZ  & 185.0 & 0 & 0 & 0 & -0.5620426\\\\\n\t ITALIAN SALAD DRESSING;LOCALOR1 TBSP   &  15.0 & 0 & 0 & 0 & -0.5620426\\\\\n\t LEMON JUICE; CANNED           1 TBSP   &  15.0 & 0 & 0 & 0 & -0.5620426\\\\\n\t TEA;INSTANT;PREPARD;SWEETENED 8 FL OZ  & 262.0 & 0 & 0 & 0 & -0.5620426\\\\\n\t CLUB SODA                     12 FL OZ & 355.0 & 0 & 0 & 0 & -0.5620426\\\\\n\t COFFEE; BREWED                6 FL OZ  & 180.0 & 0 & 0 & 0 & -0.5620426\\\\\n\t TEA; BREWED                   8 FL OZ  & 240.0 & 0 & 0 & 0 & -0.5620426\\\\\n\t TEA; INSTANT;PREPRD;UNSWEETEND8 FL OZ  & 241.0 & 0 & 0 & 0 & -0.5620426\\\\\n\t LETTUCE; BUTTERHEAD; RAW;LEAVE1 LEAF   &  15.0 & 0 & 0 & 0 & -0.5620426\\\\\n\t SALT                          1 TSP    &   5.5 & 0 & 0 & 0 & -0.5620426\\\\\n\\end{tabular}\n",
            "text/plain": [
              "    food item                              weight_in_grams saturated_fat\n",
              "1   BUTTER; SALTED                1 TBSP    14.00           7.1         \n",
              "2   BUTTER; UNSALTED              1 TBSP    14.00           7.1         \n",
              "3   BUTTER; SALTED                1/2 CUP  113.00          57.1         \n",
              "4   BUTTER; UNSALTED              1/2 CUP  113.00          57.1         \n",
              "5   BUTTER; SALTED                1 PAT      5.00           2.5         \n",
              "6   BUTTER; UNSALTED              1 PAT      5.00           2.5         \n",
              "7   LARD                          1 TBSP    13.00           5.1         \n",
              "8   LARD                          1 CUP    205.00          80.4         \n",
              "9   IMITATION CREAMERS; POWDERED  1 TSP      2.00           0.7         \n",
              "10  CHOCOLATE; BITTER OT BAKING   1 OZ      28.35           9.0         \n",
              "11  COCONUT; DRIED; SWEETND;SHREDD1 CUP     93.00          29.3         \n",
              "12  COCONUT; RAW; PIECE           1 PIECE   45.00          13.4         \n",
              "13  COCONUT; RAW; SHREDDED        1 CUP     80.00          23.8         \n",
              "14  FATS; COOKING/VEGETBL SHORTENG1 TBSP    13.00           3.3         \n",
              "15  FATS; COOKING/VEGETBL SHORTENG1 CUP    205.00          51.3         \n",
              "16  WHIPPING CREAM; UNWHIPED;HEAVY1 TBSP    15.00           3.5         \n",
              "17  WHIPPING CREAM; UNWHIPED;HEAVY1 CUP    238.00          54.8         \n",
              "18  IMITATION WHIPPED TOPPING;FRZN1 TBSP     4.00           0.9         \n",
              "19  CREAM CHEESE                  1 OZ      28.35           6.2         \n",
              "20  IMITATION WHIPPED TOPPING;FRZN1 CUP     75.00          16.3         \n",
              "21  SEMISWEET CHOCOLATE           1 CUP    170.00          36.2         \n",
              "22  CHEDDAR CHEESE                1 CU IN   17.00           3.6         \n",
              "23  CHEDDAR CHEESE                1 OZ      28.35           6.0         \n",
              "24  CHEDDDAR CHEESE; SHREDDED     1 CUP    113.00          23.8         \n",
              "25  SWEET (DARK) CHOCOLATE        1 OZ      28.35           5.9         \n",
              "26  PARMESAN CHEESE; GRATED       1 TBSP     5.00           1.0         \n",
              "27  IMITATN WHIPD TOPING;PRESSRZD 1 TBSP     4.00           0.8         \n",
              "28  PASTERZD PROCES CHEESE;AMERICN1 OZ      28.35           5.6         \n",
              "29  WHIPPING CREAM; UNWHIPED;LIGHT1 TBSP    15.00           2.9         \n",
              "30  WHIPPING CREAM; UNWHIPED;LIGHT1 CUP    239.00          46.2         \n",
              "⋮   ⋮                                      ⋮               ⋮            \n",
              "932 COLA; REGULAR                 12 FL OZ 369.0           0            \n",
              "933 ROOT BEER                     12 FL OZ 370.0           0            \n",
              "934 LEMONADE;CONCEN;FRZEN;DILUTED 6 FL OZ  185.0           0            \n",
              "935 SUGAR; WHITE; GRANULATED      1 CUP    200.0           0            \n",
              "936 GINGER ALE                    12 FL OZ 366.0           0            \n",
              "937 PEPPER-TYPE SODA              12 FL OZ 369.0           0            \n",
              "938 SUGAR; WHITE; GRANULATED      1 PKT      6.0           0            \n",
              "939 SUGAR; POWDERED; SIFTED       1 CUP    100.0           0            \n",
              "940 SUGAR; WHITE; GRANULATED      1 TBSP    12.0           0            \n",
              "941 TABLE SYRUP (CORN AND MAPLE)  2 TBSP    42.0           0            \n",
              "942 JELLIES                       1 PKT     14.0           0            \n",
              "943 GIN;RUM;VODKA;WHISKY 90-PROOF 1.5 F OZ  42.0           0            \n",
              "944 GIN;RUM;VODKA;WHISKY 86-PROOF 1.5 F OZ  42.0           0            \n",
              "945 GIN;RUM;VODKA;WHISKY 80-PROOF 1.5 F OZ  42.0           0            \n",
              "946 BAKING POWDER;SAS;CAPO4+CASO4 1 TSP      2.9           0            \n",
              "947 BAKING POWDER;SAS; CA PO4     1 TSP      3.0           0            \n",
              "948 BAKING POWDER; STRGHT PHOSPHAT1 TSP      3.8           0            \n",
              "949 BAKING POWDER; LOW SODIUM     1 TSP      4.3           0            \n",
              "950 POPSICLE                      1 POPCLE  95.0           0            \n",
              "951 PLUMS; RAW; 1-1/2-IN DIAM     1 PLUM    28.0           0            \n",
              "952 LIMEADE;CONCEN;FROZEN;DILUTED 6 FL OZ  185.0           0            \n",
              "953 ITALIAN SALAD DRESSING;LOCALOR1 TBSP    15.0           0            \n",
              "954 LEMON JUICE; CANNED           1 TBSP    15.0           0            \n",
              "955 TEA;INSTANT;PREPARD;SWEETENED 8 FL OZ  262.0           0            \n",
              "956 CLUB SODA                     12 FL OZ 355.0           0            \n",
              "957 COFFEE; BREWED                6 FL OZ  180.0           0            \n",
              "958 TEA; BREWED                   8 FL OZ  240.0           0            \n",
              "959 TEA; INSTANT;PREPRD;UNSWEETEND8 FL OZ  241.0           0            \n",
              "960 LETTUCE; BUTTERHEAD; RAW;LEAVE1 LEAF    15.0           0            \n",
              "961 SALT                          1 TSP      5.5           0            \n",
              "    cholesterol saturated_fat_per_gram scaled_saturated_fat_per_gram\n",
              "1    31         0.5071429              7.106775                     \n",
              "2    31         0.5071429              7.106775                     \n",
              "3   247         0.5053097              7.079055                     \n",
              "4   247         0.5053097              7.079055                     \n",
              "5    11         0.5000000              6.998763                     \n",
              "6    11         0.5000000              6.998763                     \n",
              "7    12         0.3923077              5.370282                     \n",
              "8   195         0.3921951              5.368580                     \n",
              "9     0         0.3500000              4.730522                     \n",
              "10    0         0.3174603              4.238469                     \n",
              "11    0         0.3150538              4.202078                     \n",
              "12    0         0.2977778              3.940837                     \n",
              "13    0         0.2975000              3.936637                     \n",
              "14    0         0.2538462              3.276520                     \n",
              "15    0         0.2502439              3.222049                     \n",
              "16   21         0.2333333              2.966334                     \n",
              "17  326         0.2302521              2.919740                     \n",
              "18    0         0.2250000              2.840320                     \n",
              "19   31         0.2186949              2.744977                     \n",
              "20    0         0.2173333              2.724388                     \n",
              "21    0         0.2129412              2.657971                     \n",
              "22   18         0.2117647              2.640181                     \n",
              "23   30         0.2116402              2.638299                     \n",
              "24  119         0.2106195              2.622863                     \n",
              "25    0         0.2081129              2.584960                     \n",
              "26    4         0.2000000              2.462280                     \n",
              "27    0         0.2000000              2.462280                     \n",
              "28   27         0.1975309              2.424942                     \n",
              "29   17         0.1933333              2.361469                     \n",
              "30  265         0.1933054              2.361047                     \n",
              "⋮   ⋮           ⋮                      ⋮                            \n",
              "932 0           0                      -0.5620426                   \n",
              "933 0           0                      -0.5620426                   \n",
              "934 0           0                      -0.5620426                   \n",
              "935 0           0                      -0.5620426                   \n",
              "936 0           0                      -0.5620426                   \n",
              "937 0           0                      -0.5620426                   \n",
              "938 0           0                      -0.5620426                   \n",
              "939 0           0                      -0.5620426                   \n",
              "940 0           0                      -0.5620426                   \n",
              "941 0           0                      -0.5620426                   \n",
              "942 0           0                      -0.5620426                   \n",
              "943 0           0                      -0.5620426                   \n",
              "944 0           0                      -0.5620426                   \n",
              "945 0           0                      -0.5620426                   \n",
              "946 0           0                      -0.5620426                   \n",
              "947 0           0                      -0.5620426                   \n",
              "948 0           0                      -0.5620426                   \n",
              "949 0           0                      -0.5620426                   \n",
              "950 0           0                      -0.5620426                   \n",
              "951 0           0                      -0.5620426                   \n",
              "952 0           0                      -0.5620426                   \n",
              "953 0           0                      -0.5620426                   \n",
              "954 0           0                      -0.5620426                   \n",
              "955 0           0                      -0.5620426                   \n",
              "956 0           0                      -0.5620426                   \n",
              "957 0           0                      -0.5620426                   \n",
              "958 0           0                      -0.5620426                   \n",
              "959 0           0                      -0.5620426                   \n",
              "960 0           0                      -0.5620426                   \n",
              "961 0           0                      -0.5620426                   "
            ]
          },
          "metadata": {}
        }
      ]
    },
    {
      "cell_type": "code",
      "source": [
        "qtr1 <- quantile(nutrition_DF$scaled_saturated_fat_per_gram,0.25)\n",
        "qtr3 <- quantile(nutrition_DF$scaled_saturated_fat_per_gram,0.75)\n",
        "iqtr <- qtr3-qtr1\n",
        "lower_bound<-qtr1-(1.5 * iqtr)\n",
        "upper_bound<-qtr3 +(1.5 * iqtr)"
      ],
      "metadata": {
        "id": "RNzgjc7x_l0g"
      },
      "execution_count": 8,
      "outputs": []
    },
    {
      "cell_type": "code",
      "source": [
        "length(lower_bound)\n"
      ],
      "metadata": {
        "colab": {
          "base_uri": "https://localhost:8080/",
          "height": 34
        },
        "id": "CCRN3L3gAV6F",
        "outputId": "73e9bfbe-919b-49d4-cd82-1f28849a39ac"
      },
      "execution_count": 9,
      "outputs": [
        {
          "output_type": "display_data",
          "data": {
            "text/html": [
              "1"
            ],
            "text/markdown": "1",
            "text/latex": "1",
            "text/plain": [
              "[1] 1"
            ]
          },
          "metadata": {}
        }
      ]
    },
    {
      "cell_type": "code",
      "source": [
        "length(upper_bound)"
      ],
      "metadata": {
        "colab": {
          "base_uri": "https://localhost:8080/",
          "height": 34
        },
        "id": "gUAcobeaAXL8",
        "outputId": "ef38c068-e275-4a90-c7dc-f5b215bec211"
      },
      "execution_count": 10,
      "outputs": [
        {
          "output_type": "display_data",
          "data": {
            "text/html": [
              "1"
            ],
            "text/markdown": "1",
            "text/latex": "1",
            "text/plain": [
              "[1] 1"
            ]
          },
          "metadata": {}
        }
      ]
    },
    {
      "cell_type": "code",
      "source": [
        "nutrition_DF_scaled_saturated_fat_per_gram <- nutrition_DF[(nutrition_DF$scaled_saturated_fat_per_gram< lower_bound) | (nutrition_DF$scaled_saturated_fat_per_gram> upper_bound),]\n",
        "nutrition_DF_scaled_saturated_fat_per_gram"
      ],
      "metadata": {
        "colab": {
          "base_uri": "https://localhost:8080/",
          "height": 1000
        },
        "id": "-ptrkvCMAXsv",
        "outputId": "abd85aff-6255-46fc-a3cf-fbb5ae038353"
      },
      "execution_count": 11,
      "outputs": [
        {
          "output_type": "display_data",
          "data": {
            "text/html": [
              "<table class=\"dataframe\">\n",
              "<caption>A tibble: 85 × 6</caption>\n",
              "<thead>\n",
              "\t<tr><th scope=col>food item</th><th scope=col>weight_in_grams</th><th scope=col>saturated_fat</th><th scope=col>cholesterol</th><th scope=col>saturated_fat_per_gram</th><th scope=col>scaled_saturated_fat_per_gram</th></tr>\n",
              "\t<tr><th scope=col>&lt;chr&gt;</th><th scope=col>&lt;dbl&gt;</th><th scope=col>&lt;dbl&gt;</th><th scope=col>&lt;dbl&gt;</th><th scope=col>&lt;dbl&gt;</th><th scope=col>&lt;dbl&gt;</th></tr>\n",
              "</thead>\n",
              "<tbody>\n",
              "\t<tr><td>BUTTER; SALTED                1 TBSP </td><td> 14.00</td><td> 7.1</td><td> 31</td><td>0.5071429</td><td>7.106775</td></tr>\n",
              "\t<tr><td>BUTTER; UNSALTED              1 TBSP </td><td> 14.00</td><td> 7.1</td><td> 31</td><td>0.5071429</td><td>7.106775</td></tr>\n",
              "\t<tr><td>BUTTER; SALTED                1/2 CUP</td><td>113.00</td><td>57.1</td><td>247</td><td>0.5053097</td><td>7.079055</td></tr>\n",
              "\t<tr><td>BUTTER; UNSALTED              1/2 CUP</td><td>113.00</td><td>57.1</td><td>247</td><td>0.5053097</td><td>7.079055</td></tr>\n",
              "\t<tr><td>BUTTER; SALTED                1 PAT  </td><td>  5.00</td><td> 2.5</td><td> 11</td><td>0.5000000</td><td>6.998763</td></tr>\n",
              "\t<tr><td>BUTTER; UNSALTED              1 PAT  </td><td>  5.00</td><td> 2.5</td><td> 11</td><td>0.5000000</td><td>6.998763</td></tr>\n",
              "\t<tr><td>LARD                          1 TBSP </td><td> 13.00</td><td> 5.1</td><td> 12</td><td>0.3923077</td><td>5.370282</td></tr>\n",
              "\t<tr><td>LARD                          1 CUP  </td><td>205.00</td><td>80.4</td><td>195</td><td>0.3921951</td><td>5.368580</td></tr>\n",
              "\t<tr><td>IMITATION CREAMERS; POWDERED  1 TSP  </td><td>  2.00</td><td> 0.7</td><td>  0</td><td>0.3500000</td><td>4.730522</td></tr>\n",
              "\t<tr><td>CHOCOLATE; BITTER OT BAKING   1 OZ   </td><td> 28.35</td><td> 9.0</td><td>  0</td><td>0.3174603</td><td>4.238469</td></tr>\n",
              "\t<tr><td>COCONUT; DRIED; SWEETND;SHREDD1 CUP  </td><td> 93.00</td><td>29.3</td><td>  0</td><td>0.3150538</td><td>4.202078</td></tr>\n",
              "\t<tr><td>COCONUT; RAW; PIECE           1 PIECE</td><td> 45.00</td><td>13.4</td><td>  0</td><td>0.2977778</td><td>3.940837</td></tr>\n",
              "\t<tr><td>COCONUT; RAW; SHREDDED        1 CUP  </td><td> 80.00</td><td>23.8</td><td>  0</td><td>0.2975000</td><td>3.936637</td></tr>\n",
              "\t<tr><td>FATS; COOKING/VEGETBL SHORTENG1 TBSP </td><td> 13.00</td><td> 3.3</td><td>  0</td><td>0.2538462</td><td>3.276520</td></tr>\n",
              "\t<tr><td>FATS; COOKING/VEGETBL SHORTENG1 CUP  </td><td>205.00</td><td>51.3</td><td>  0</td><td>0.2502439</td><td>3.222049</td></tr>\n",
              "\t<tr><td>WHIPPING CREAM; UNWHIPED;HEAVY1 TBSP </td><td> 15.00</td><td> 3.5</td><td> 21</td><td>0.2333333</td><td>2.966334</td></tr>\n",
              "\t<tr><td>WHIPPING CREAM; UNWHIPED;HEAVY1 CUP  </td><td>238.00</td><td>54.8</td><td>326</td><td>0.2302521</td><td>2.919740</td></tr>\n",
              "\t<tr><td>IMITATION WHIPPED TOPPING;FRZN1 TBSP </td><td>  4.00</td><td> 0.9</td><td>  0</td><td>0.2250000</td><td>2.840320</td></tr>\n",
              "\t<tr><td>CREAM CHEESE                  1 OZ   </td><td> 28.35</td><td> 6.2</td><td> 31</td><td>0.2186949</td><td>2.744977</td></tr>\n",
              "\t<tr><td>IMITATION WHIPPED TOPPING;FRZN1 CUP  </td><td> 75.00</td><td>16.3</td><td>  0</td><td>0.2173333</td><td>2.724388</td></tr>\n",
              "\t<tr><td>SEMISWEET CHOCOLATE           1 CUP  </td><td>170.00</td><td>36.2</td><td>  0</td><td>0.2129412</td><td>2.657971</td></tr>\n",
              "\t<tr><td>CHEDDAR CHEESE                1 CU IN</td><td> 17.00</td><td> 3.6</td><td> 18</td><td>0.2117647</td><td>2.640181</td></tr>\n",
              "\t<tr><td>CHEDDAR CHEESE                1 OZ   </td><td> 28.35</td><td> 6.0</td><td> 30</td><td>0.2116402</td><td>2.638299</td></tr>\n",
              "\t<tr><td>CHEDDDAR CHEESE; SHREDDED     1 CUP  </td><td>113.00</td><td>23.8</td><td>119</td><td>0.2106195</td><td>2.622863</td></tr>\n",
              "\t<tr><td>SWEET (DARK) CHOCOLATE        1 OZ   </td><td> 28.35</td><td> 5.9</td><td>  0</td><td>0.2081129</td><td>2.584960</td></tr>\n",
              "\t<tr><td>PARMESAN CHEESE; GRATED       1 TBSP </td><td>  5.00</td><td> 1.0</td><td>  4</td><td>0.2000000</td><td>2.462280</td></tr>\n",
              "\t<tr><td>IMITATN WHIPD TOPING;PRESSRZD 1 TBSP </td><td>  4.00</td><td> 0.8</td><td>  0</td><td>0.2000000</td><td>2.462280</td></tr>\n",
              "\t<tr><td>PASTERZD PROCES CHEESE;AMERICN1 OZ   </td><td> 28.35</td><td> 5.6</td><td> 27</td><td>0.1975309</td><td>2.424942</td></tr>\n",
              "\t<tr><td>WHIPPING CREAM; UNWHIPED;LIGHT1 TBSP </td><td> 15.00</td><td> 2.9</td><td> 17</td><td>0.1933333</td><td>2.361469</td></tr>\n",
              "\t<tr><td>WHIPPING CREAM; UNWHIPED;LIGHT1 CUP  </td><td>239.00</td><td>46.2</td><td>265</td><td>0.1933054</td><td>2.361047</td></tr>\n",
              "\t<tr><td>⋮</td><td>⋮</td><td>⋮</td><td>⋮</td><td>⋮</td><td>⋮</td></tr>\n",
              "\t<tr><td>FETA CHEESE                   1 OZ    </td><td> 28.35</td><td> 4.2</td><td> 25</td><td>0.1481481</td><td>1.678196</td></tr>\n",
              "\t<tr><td>100% NATURAL CEREAL           1 OZ    </td><td> 28.35</td><td> 4.1</td><td>  0</td><td>0.1446208</td><td>1.624857</td></tr>\n",
              "\t<tr><td>MARGARINE; SPREAD;HARD;60% FAT1 TBSP  </td><td> 14.00</td><td> 2.0</td><td>  0</td><td>0.1428571</td><td>1.598188</td></tr>\n",
              "\t<tr><td>LAMB; RIB; ROASTED; LEAN + FAT3 OZ    </td><td> 85.00</td><td>12.1</td><td> 77</td><td>0.1423529</td><td>1.590563</td></tr>\n",
              "\t<tr><td>MARGARINE; SPREAD;HARD;60% FAT1/2 CUP </td><td>113.00</td><td>15.9</td><td>  0</td><td>0.1407080</td><td>1.565689</td></tr>\n",
              "\t<tr><td>MARGARINE; SPREAD;HARD;60% FAT1 PAT   </td><td>  5.00</td><td> 0.7</td><td>  0</td><td>0.1400000</td><td>1.554983</td></tr>\n",
              "\t<tr><td>WHIPPED TOPPING; PRESSURIZED  1 CUP   </td><td> 60.00</td><td> 8.3</td><td> 46</td><td>0.1383333</td><td>1.529780</td></tr>\n",
              "\t<tr><td>MARGARINE; REGULR;SOFT;80% FAT8 OZ    </td><td>227.00</td><td>31.3</td><td>  0</td><td>0.1378855</td><td>1.523008</td></tr>\n",
              "\t<tr><td>OLIVE OIL                     1 TBSP  </td><td> 14.00</td><td> 1.9</td><td>  0</td><td>0.1357143</td><td>1.490176</td></tr>\n",
              "\t<tr><td>MARGARINE; REGULR;SOFT;80% FAT1 TBSP  </td><td> 14.00</td><td> 1.9</td><td>  0</td><td>0.1357143</td><td>1.490176</td></tr>\n",
              "\t<tr><td>OLIVE OIL                     1 CUP   </td><td>216.00</td><td>29.2</td><td>  0</td><td>0.1351852</td><td>1.482175</td></tr>\n",
              "\t<tr><td>PASTERZD PROCES CHESE SPRED;AM1 OZ    </td><td> 28.35</td><td> 3.8</td><td> 16</td><td>0.1340388</td><td>1.464840</td></tr>\n",
              "\t<tr><td>WHIPPED TOPPING; PRESSURIZED  1 TBSP  </td><td>  3.00</td><td> 0.4</td><td>  2</td><td>0.1333333</td><td>1.454172</td></tr>\n",
              "\t<tr><td>SOUR CREAM                    1 TBSP  </td><td> 12.00</td><td> 1.6</td><td>  5</td><td>0.1333333</td><td>1.454172</td></tr>\n",
              "\t<tr><td>IMITATN SOUR DRESSING         1 TBSP  </td><td> 12.00</td><td> 1.6</td><td>  1</td><td>0.1333333</td><td>1.454172</td></tr>\n",
              "\t<tr><td>IMITATN SOUR DRESSING         1 CUP   </td><td>235.00</td><td>31.2</td><td> 13</td><td>0.1327660</td><td>1.445593</td></tr>\n",
              "\t<tr><td>QUICHE LORRAINE               1 SLICE </td><td>176.00</td><td>23.2</td><td>285</td><td>0.1318182</td><td>1.431261</td></tr>\n",
              "\t<tr><td>BROWN AND SERVE SAUSAGE;BRWND 1 LINK  </td><td> 13.00</td><td> 1.7</td><td>  9</td><td>0.1307692</td><td>1.415399</td></tr>\n",
              "\t<tr><td>MOZZARELLA CHEESE; WHOLE MILK 1 OZ    </td><td> 28.35</td><td> 3.7</td><td> 22</td><td>0.1305115</td><td>1.411501</td></tr>\n",
              "\t<tr><td>SOUR CREAM                    1 CUP   </td><td>230.00</td><td>30.0</td><td>102</td><td>0.1304348</td><td>1.410342</td></tr>\n",
              "\t<tr><td>CORN OIL                      1 TBSP  </td><td> 14.00</td><td> 1.8</td><td>  0</td><td>0.1285714</td><td>1.382165</td></tr>\n",
              "\t<tr><td>MARGARINE; SPREAD;SOFT;60% FAT1 TBSP  </td><td> 14.00</td><td> 1.8</td><td>  0</td><td>0.1285714</td><td>1.382165</td></tr>\n",
              "\t<tr><td>MARGARINE; SPREAD;SOFT;60% FAT8 OZ    </td><td>227.00</td><td>29.1</td><td>  0</td><td>0.1281938</td><td>1.376455</td></tr>\n",
              "\t<tr><td>CORN OIL                      1 CUP   </td><td>218.00</td><td>27.7</td><td>  0</td><td>0.1270642</td><td>1.359373</td></tr>\n",
              "\t<tr><td>BEEF; CKD;CHUCK BLADE;LEAN+FAT3 OZ    </td><td> 85.00</td><td>10.8</td><td> 87</td><td>0.1270588</td><td>1.359292</td></tr>\n",
              "\t<tr><td>BEEF ROAST; RIB; LEAN + FAT   3 OZ    </td><td> 85.00</td><td>10.8</td><td> 72</td><td>0.1270588</td><td>1.359292</td></tr>\n",
              "\t<tr><td>MAYONNAISE; REGULAR           1 TBSP  </td><td> 14.00</td><td> 1.7</td><td>  8</td><td>0.1214286</td><td>1.274153</td></tr>\n",
              "\t<tr><td>LIGHT; COFFEE OR TABLE CREAM  1 CUP   </td><td>240.00</td><td>28.8</td><td>159</td><td>0.1200000</td><td>1.252551</td></tr>\n",
              "\t<tr><td>LIGHT; COFFEE OR TABLE CREAM  1 TBSP  </td><td> 15.00</td><td> 1.8</td><td> 10</td><td>0.1200000</td><td>1.252551</td></tr>\n",
              "\t<tr><td>SALAMI; DRY TYPE              2 SLICES</td><td> 20.00</td><td> 2.4</td><td> 16</td><td>0.1200000</td><td>1.252551</td></tr>\n",
              "</tbody>\n",
              "</table>\n"
            ],
            "text/markdown": "\nA tibble: 85 × 6\n\n| food item &lt;chr&gt; | weight_in_grams &lt;dbl&gt; | saturated_fat &lt;dbl&gt; | cholesterol &lt;dbl&gt; | saturated_fat_per_gram &lt;dbl&gt; | scaled_saturated_fat_per_gram &lt;dbl&gt; |\n|---|---|---|---|---|---|\n| BUTTER; SALTED                1 TBSP  |  14.00 |  7.1 |  31 | 0.5071429 | 7.106775 |\n| BUTTER; UNSALTED              1 TBSP  |  14.00 |  7.1 |  31 | 0.5071429 | 7.106775 |\n| BUTTER; SALTED                1/2 CUP | 113.00 | 57.1 | 247 | 0.5053097 | 7.079055 |\n| BUTTER; UNSALTED              1/2 CUP | 113.00 | 57.1 | 247 | 0.5053097 | 7.079055 |\n| BUTTER; SALTED                1 PAT   |   5.00 |  2.5 |  11 | 0.5000000 | 6.998763 |\n| BUTTER; UNSALTED              1 PAT   |   5.00 |  2.5 |  11 | 0.5000000 | 6.998763 |\n| LARD                          1 TBSP  |  13.00 |  5.1 |  12 | 0.3923077 | 5.370282 |\n| LARD                          1 CUP   | 205.00 | 80.4 | 195 | 0.3921951 | 5.368580 |\n| IMITATION CREAMERS; POWDERED  1 TSP   |   2.00 |  0.7 |   0 | 0.3500000 | 4.730522 |\n| CHOCOLATE; BITTER OT BAKING   1 OZ    |  28.35 |  9.0 |   0 | 0.3174603 | 4.238469 |\n| COCONUT; DRIED; SWEETND;SHREDD1 CUP   |  93.00 | 29.3 |   0 | 0.3150538 | 4.202078 |\n| COCONUT; RAW; PIECE           1 PIECE |  45.00 | 13.4 |   0 | 0.2977778 | 3.940837 |\n| COCONUT; RAW; SHREDDED        1 CUP   |  80.00 | 23.8 |   0 | 0.2975000 | 3.936637 |\n| FATS; COOKING/VEGETBL SHORTENG1 TBSP  |  13.00 |  3.3 |   0 | 0.2538462 | 3.276520 |\n| FATS; COOKING/VEGETBL SHORTENG1 CUP   | 205.00 | 51.3 |   0 | 0.2502439 | 3.222049 |\n| WHIPPING CREAM; UNWHIPED;HEAVY1 TBSP  |  15.00 |  3.5 |  21 | 0.2333333 | 2.966334 |\n| WHIPPING CREAM; UNWHIPED;HEAVY1 CUP   | 238.00 | 54.8 | 326 | 0.2302521 | 2.919740 |\n| IMITATION WHIPPED TOPPING;FRZN1 TBSP  |   4.00 |  0.9 |   0 | 0.2250000 | 2.840320 |\n| CREAM CHEESE                  1 OZ    |  28.35 |  6.2 |  31 | 0.2186949 | 2.744977 |\n| IMITATION WHIPPED TOPPING;FRZN1 CUP   |  75.00 | 16.3 |   0 | 0.2173333 | 2.724388 |\n| SEMISWEET CHOCOLATE           1 CUP   | 170.00 | 36.2 |   0 | 0.2129412 | 2.657971 |\n| CHEDDAR CHEESE                1 CU IN |  17.00 |  3.6 |  18 | 0.2117647 | 2.640181 |\n| CHEDDAR CHEESE                1 OZ    |  28.35 |  6.0 |  30 | 0.2116402 | 2.638299 |\n| CHEDDDAR CHEESE; SHREDDED     1 CUP   | 113.00 | 23.8 | 119 | 0.2106195 | 2.622863 |\n| SWEET (DARK) CHOCOLATE        1 OZ    |  28.35 |  5.9 |   0 | 0.2081129 | 2.584960 |\n| PARMESAN CHEESE; GRATED       1 TBSP  |   5.00 |  1.0 |   4 | 0.2000000 | 2.462280 |\n| IMITATN WHIPD TOPING;PRESSRZD 1 TBSP  |   4.00 |  0.8 |   0 | 0.2000000 | 2.462280 |\n| PASTERZD PROCES CHEESE;AMERICN1 OZ    |  28.35 |  5.6 |  27 | 0.1975309 | 2.424942 |\n| WHIPPING CREAM; UNWHIPED;LIGHT1 TBSP  |  15.00 |  2.9 |  17 | 0.1933333 | 2.361469 |\n| WHIPPING CREAM; UNWHIPED;LIGHT1 CUP   | 239.00 | 46.2 | 265 | 0.1933054 | 2.361047 |\n| ⋮ | ⋮ | ⋮ | ⋮ | ⋮ | ⋮ |\n| FETA CHEESE                   1 OZ     |  28.35 |  4.2 |  25 | 0.1481481 | 1.678196 |\n| 100% NATURAL CEREAL           1 OZ     |  28.35 |  4.1 |   0 | 0.1446208 | 1.624857 |\n| MARGARINE; SPREAD;HARD;60% FAT1 TBSP   |  14.00 |  2.0 |   0 | 0.1428571 | 1.598188 |\n| LAMB; RIB; ROASTED; LEAN + FAT3 OZ     |  85.00 | 12.1 |  77 | 0.1423529 | 1.590563 |\n| MARGARINE; SPREAD;HARD;60% FAT1/2 CUP  | 113.00 | 15.9 |   0 | 0.1407080 | 1.565689 |\n| MARGARINE; SPREAD;HARD;60% FAT1 PAT    |   5.00 |  0.7 |   0 | 0.1400000 | 1.554983 |\n| WHIPPED TOPPING; PRESSURIZED  1 CUP    |  60.00 |  8.3 |  46 | 0.1383333 | 1.529780 |\n| MARGARINE; REGULR;SOFT;80% FAT8 OZ     | 227.00 | 31.3 |   0 | 0.1378855 | 1.523008 |\n| OLIVE OIL                     1 TBSP   |  14.00 |  1.9 |   0 | 0.1357143 | 1.490176 |\n| MARGARINE; REGULR;SOFT;80% FAT1 TBSP   |  14.00 |  1.9 |   0 | 0.1357143 | 1.490176 |\n| OLIVE OIL                     1 CUP    | 216.00 | 29.2 |   0 | 0.1351852 | 1.482175 |\n| PASTERZD PROCES CHESE SPRED;AM1 OZ     |  28.35 |  3.8 |  16 | 0.1340388 | 1.464840 |\n| WHIPPED TOPPING; PRESSURIZED  1 TBSP   |   3.00 |  0.4 |   2 | 0.1333333 | 1.454172 |\n| SOUR CREAM                    1 TBSP   |  12.00 |  1.6 |   5 | 0.1333333 | 1.454172 |\n| IMITATN SOUR DRESSING         1 TBSP   |  12.00 |  1.6 |   1 | 0.1333333 | 1.454172 |\n| IMITATN SOUR DRESSING         1 CUP    | 235.00 | 31.2 |  13 | 0.1327660 | 1.445593 |\n| QUICHE LORRAINE               1 SLICE  | 176.00 | 23.2 | 285 | 0.1318182 | 1.431261 |\n| BROWN AND SERVE SAUSAGE;BRWND 1 LINK   |  13.00 |  1.7 |   9 | 0.1307692 | 1.415399 |\n| MOZZARELLA CHEESE; WHOLE MILK 1 OZ     |  28.35 |  3.7 |  22 | 0.1305115 | 1.411501 |\n| SOUR CREAM                    1 CUP    | 230.00 | 30.0 | 102 | 0.1304348 | 1.410342 |\n| CORN OIL                      1 TBSP   |  14.00 |  1.8 |   0 | 0.1285714 | 1.382165 |\n| MARGARINE; SPREAD;SOFT;60% FAT1 TBSP   |  14.00 |  1.8 |   0 | 0.1285714 | 1.382165 |\n| MARGARINE; SPREAD;SOFT;60% FAT8 OZ     | 227.00 | 29.1 |   0 | 0.1281938 | 1.376455 |\n| CORN OIL                      1 CUP    | 218.00 | 27.7 |   0 | 0.1270642 | 1.359373 |\n| BEEF; CKD;CHUCK BLADE;LEAN+FAT3 OZ     |  85.00 | 10.8 |  87 | 0.1270588 | 1.359292 |\n| BEEF ROAST; RIB; LEAN + FAT   3 OZ     |  85.00 | 10.8 |  72 | 0.1270588 | 1.359292 |\n| MAYONNAISE; REGULAR           1 TBSP   |  14.00 |  1.7 |   8 | 0.1214286 | 1.274153 |\n| LIGHT; COFFEE OR TABLE CREAM  1 CUP    | 240.00 | 28.8 | 159 | 0.1200000 | 1.252551 |\n| LIGHT; COFFEE OR TABLE CREAM  1 TBSP   |  15.00 |  1.8 |  10 | 0.1200000 | 1.252551 |\n| SALAMI; DRY TYPE              2 SLICES |  20.00 |  2.4 |  16 | 0.1200000 | 1.252551 |\n\n",
            "text/latex": "A tibble: 85 × 6\n\\begin{tabular}{llllll}\n food item & weight\\_in\\_grams & saturated\\_fat & cholesterol & saturated\\_fat\\_per\\_gram & scaled\\_saturated\\_fat\\_per\\_gram\\\\\n <chr> & <dbl> & <dbl> & <dbl> & <dbl> & <dbl>\\\\\n\\hline\n\t BUTTER; SALTED                1 TBSP  &  14.00 &  7.1 &  31 & 0.5071429 & 7.106775\\\\\n\t BUTTER; UNSALTED              1 TBSP  &  14.00 &  7.1 &  31 & 0.5071429 & 7.106775\\\\\n\t BUTTER; SALTED                1/2 CUP & 113.00 & 57.1 & 247 & 0.5053097 & 7.079055\\\\\n\t BUTTER; UNSALTED              1/2 CUP & 113.00 & 57.1 & 247 & 0.5053097 & 7.079055\\\\\n\t BUTTER; SALTED                1 PAT   &   5.00 &  2.5 &  11 & 0.5000000 & 6.998763\\\\\n\t BUTTER; UNSALTED              1 PAT   &   5.00 &  2.5 &  11 & 0.5000000 & 6.998763\\\\\n\t LARD                          1 TBSP  &  13.00 &  5.1 &  12 & 0.3923077 & 5.370282\\\\\n\t LARD                          1 CUP   & 205.00 & 80.4 & 195 & 0.3921951 & 5.368580\\\\\n\t IMITATION CREAMERS; POWDERED  1 TSP   &   2.00 &  0.7 &   0 & 0.3500000 & 4.730522\\\\\n\t CHOCOLATE; BITTER OT BAKING   1 OZ    &  28.35 &  9.0 &   0 & 0.3174603 & 4.238469\\\\\n\t COCONUT; DRIED; SWEETND;SHREDD1 CUP   &  93.00 & 29.3 &   0 & 0.3150538 & 4.202078\\\\\n\t COCONUT; RAW; PIECE           1 PIECE &  45.00 & 13.4 &   0 & 0.2977778 & 3.940837\\\\\n\t COCONUT; RAW; SHREDDED        1 CUP   &  80.00 & 23.8 &   0 & 0.2975000 & 3.936637\\\\\n\t FATS; COOKING/VEGETBL SHORTENG1 TBSP  &  13.00 &  3.3 &   0 & 0.2538462 & 3.276520\\\\\n\t FATS; COOKING/VEGETBL SHORTENG1 CUP   & 205.00 & 51.3 &   0 & 0.2502439 & 3.222049\\\\\n\t WHIPPING CREAM; UNWHIPED;HEAVY1 TBSP  &  15.00 &  3.5 &  21 & 0.2333333 & 2.966334\\\\\n\t WHIPPING CREAM; UNWHIPED;HEAVY1 CUP   & 238.00 & 54.8 & 326 & 0.2302521 & 2.919740\\\\\n\t IMITATION WHIPPED TOPPING;FRZN1 TBSP  &   4.00 &  0.9 &   0 & 0.2250000 & 2.840320\\\\\n\t CREAM CHEESE                  1 OZ    &  28.35 &  6.2 &  31 & 0.2186949 & 2.744977\\\\\n\t IMITATION WHIPPED TOPPING;FRZN1 CUP   &  75.00 & 16.3 &   0 & 0.2173333 & 2.724388\\\\\n\t SEMISWEET CHOCOLATE           1 CUP   & 170.00 & 36.2 &   0 & 0.2129412 & 2.657971\\\\\n\t CHEDDAR CHEESE                1 CU IN &  17.00 &  3.6 &  18 & 0.2117647 & 2.640181\\\\\n\t CHEDDAR CHEESE                1 OZ    &  28.35 &  6.0 &  30 & 0.2116402 & 2.638299\\\\\n\t CHEDDDAR CHEESE; SHREDDED     1 CUP   & 113.00 & 23.8 & 119 & 0.2106195 & 2.622863\\\\\n\t SWEET (DARK) CHOCOLATE        1 OZ    &  28.35 &  5.9 &   0 & 0.2081129 & 2.584960\\\\\n\t PARMESAN CHEESE; GRATED       1 TBSP  &   5.00 &  1.0 &   4 & 0.2000000 & 2.462280\\\\\n\t IMITATN WHIPD TOPING;PRESSRZD 1 TBSP  &   4.00 &  0.8 &   0 & 0.2000000 & 2.462280\\\\\n\t PASTERZD PROCES CHEESE;AMERICN1 OZ    &  28.35 &  5.6 &  27 & 0.1975309 & 2.424942\\\\\n\t WHIPPING CREAM; UNWHIPED;LIGHT1 TBSP  &  15.00 &  2.9 &  17 & 0.1933333 & 2.361469\\\\\n\t WHIPPING CREAM; UNWHIPED;LIGHT1 CUP   & 239.00 & 46.2 & 265 & 0.1933054 & 2.361047\\\\\n\t ⋮ & ⋮ & ⋮ & ⋮ & ⋮ & ⋮\\\\\n\t FETA CHEESE                   1 OZ     &  28.35 &  4.2 &  25 & 0.1481481 & 1.678196\\\\\n\t 100\\% NATURAL CEREAL           1 OZ     &  28.35 &  4.1 &   0 & 0.1446208 & 1.624857\\\\\n\t MARGARINE; SPREAD;HARD;60\\% FAT1 TBSP   &  14.00 &  2.0 &   0 & 0.1428571 & 1.598188\\\\\n\t LAMB; RIB; ROASTED; LEAN + FAT3 OZ     &  85.00 & 12.1 &  77 & 0.1423529 & 1.590563\\\\\n\t MARGARINE; SPREAD;HARD;60\\% FAT1/2 CUP  & 113.00 & 15.9 &   0 & 0.1407080 & 1.565689\\\\\n\t MARGARINE; SPREAD;HARD;60\\% FAT1 PAT    &   5.00 &  0.7 &   0 & 0.1400000 & 1.554983\\\\\n\t WHIPPED TOPPING; PRESSURIZED  1 CUP    &  60.00 &  8.3 &  46 & 0.1383333 & 1.529780\\\\\n\t MARGARINE; REGULR;SOFT;80\\% FAT8 OZ     & 227.00 & 31.3 &   0 & 0.1378855 & 1.523008\\\\\n\t OLIVE OIL                     1 TBSP   &  14.00 &  1.9 &   0 & 0.1357143 & 1.490176\\\\\n\t MARGARINE; REGULR;SOFT;80\\% FAT1 TBSP   &  14.00 &  1.9 &   0 & 0.1357143 & 1.490176\\\\\n\t OLIVE OIL                     1 CUP    & 216.00 & 29.2 &   0 & 0.1351852 & 1.482175\\\\\n\t PASTERZD PROCES CHESE SPRED;AM1 OZ     &  28.35 &  3.8 &  16 & 0.1340388 & 1.464840\\\\\n\t WHIPPED TOPPING; PRESSURIZED  1 TBSP   &   3.00 &  0.4 &   2 & 0.1333333 & 1.454172\\\\\n\t SOUR CREAM                    1 TBSP   &  12.00 &  1.6 &   5 & 0.1333333 & 1.454172\\\\\n\t IMITATN SOUR DRESSING         1 TBSP   &  12.00 &  1.6 &   1 & 0.1333333 & 1.454172\\\\\n\t IMITATN SOUR DRESSING         1 CUP    & 235.00 & 31.2 &  13 & 0.1327660 & 1.445593\\\\\n\t QUICHE LORRAINE               1 SLICE  & 176.00 & 23.2 & 285 & 0.1318182 & 1.431261\\\\\n\t BROWN AND SERVE SAUSAGE;BRWND 1 LINK   &  13.00 &  1.7 &   9 & 0.1307692 & 1.415399\\\\\n\t MOZZARELLA CHEESE; WHOLE MILK 1 OZ     &  28.35 &  3.7 &  22 & 0.1305115 & 1.411501\\\\\n\t SOUR CREAM                    1 CUP    & 230.00 & 30.0 & 102 & 0.1304348 & 1.410342\\\\\n\t CORN OIL                      1 TBSP   &  14.00 &  1.8 &   0 & 0.1285714 & 1.382165\\\\\n\t MARGARINE; SPREAD;SOFT;60\\% FAT1 TBSP   &  14.00 &  1.8 &   0 & 0.1285714 & 1.382165\\\\\n\t MARGARINE; SPREAD;SOFT;60\\% FAT8 OZ     & 227.00 & 29.1 &   0 & 0.1281938 & 1.376455\\\\\n\t CORN OIL                      1 CUP    & 218.00 & 27.7 &   0 & 0.1270642 & 1.359373\\\\\n\t BEEF; CKD;CHUCK BLADE;LEAN+FAT3 OZ     &  85.00 & 10.8 &  87 & 0.1270588 & 1.359292\\\\\n\t BEEF ROAST; RIB; LEAN + FAT   3 OZ     &  85.00 & 10.8 &  72 & 0.1270588 & 1.359292\\\\\n\t MAYONNAISE; REGULAR           1 TBSP   &  14.00 &  1.7 &   8 & 0.1214286 & 1.274153\\\\\n\t LIGHT; COFFEE OR TABLE CREAM  1 CUP    & 240.00 & 28.8 & 159 & 0.1200000 & 1.252551\\\\\n\t LIGHT; COFFEE OR TABLE CREAM  1 TBSP   &  15.00 &  1.8 &  10 & 0.1200000 & 1.252551\\\\\n\t SALAMI; DRY TYPE              2 SLICES &  20.00 &  2.4 &  16 & 0.1200000 & 1.252551\\\\\n\\end{tabular}\n",
            "text/plain": [
              "   food item                              weight_in_grams saturated_fat\n",
              "1  BUTTER; SALTED                1 TBSP    14.00           7.1         \n",
              "2  BUTTER; UNSALTED              1 TBSP    14.00           7.1         \n",
              "3  BUTTER; SALTED                1/2 CUP  113.00          57.1         \n",
              "4  BUTTER; UNSALTED              1/2 CUP  113.00          57.1         \n",
              "5  BUTTER; SALTED                1 PAT      5.00           2.5         \n",
              "6  BUTTER; UNSALTED              1 PAT      5.00           2.5         \n",
              "7  LARD                          1 TBSP    13.00           5.1         \n",
              "8  LARD                          1 CUP    205.00          80.4         \n",
              "9  IMITATION CREAMERS; POWDERED  1 TSP      2.00           0.7         \n",
              "10 CHOCOLATE; BITTER OT BAKING   1 OZ      28.35           9.0         \n",
              "11 COCONUT; DRIED; SWEETND;SHREDD1 CUP     93.00          29.3         \n",
              "12 COCONUT; RAW; PIECE           1 PIECE   45.00          13.4         \n",
              "13 COCONUT; RAW; SHREDDED        1 CUP     80.00          23.8         \n",
              "14 FATS; COOKING/VEGETBL SHORTENG1 TBSP    13.00           3.3         \n",
              "15 FATS; COOKING/VEGETBL SHORTENG1 CUP    205.00          51.3         \n",
              "16 WHIPPING CREAM; UNWHIPED;HEAVY1 TBSP    15.00           3.5         \n",
              "17 WHIPPING CREAM; UNWHIPED;HEAVY1 CUP    238.00          54.8         \n",
              "18 IMITATION WHIPPED TOPPING;FRZN1 TBSP     4.00           0.9         \n",
              "19 CREAM CHEESE                  1 OZ      28.35           6.2         \n",
              "20 IMITATION WHIPPED TOPPING;FRZN1 CUP     75.00          16.3         \n",
              "21 SEMISWEET CHOCOLATE           1 CUP    170.00          36.2         \n",
              "22 CHEDDAR CHEESE                1 CU IN   17.00           3.6         \n",
              "23 CHEDDAR CHEESE                1 OZ      28.35           6.0         \n",
              "24 CHEDDDAR CHEESE; SHREDDED     1 CUP    113.00          23.8         \n",
              "25 SWEET (DARK) CHOCOLATE        1 OZ      28.35           5.9         \n",
              "26 PARMESAN CHEESE; GRATED       1 TBSP     5.00           1.0         \n",
              "27 IMITATN WHIPD TOPING;PRESSRZD 1 TBSP     4.00           0.8         \n",
              "28 PASTERZD PROCES CHEESE;AMERICN1 OZ      28.35           5.6         \n",
              "29 WHIPPING CREAM; UNWHIPED;LIGHT1 TBSP    15.00           2.9         \n",
              "30 WHIPPING CREAM; UNWHIPED;LIGHT1 CUP    239.00          46.2         \n",
              "⋮  ⋮                                      ⋮               ⋮            \n",
              "56 FETA CHEESE                   1 OZ      28.35           4.2         \n",
              "57 100% NATURAL CEREAL           1 OZ      28.35           4.1         \n",
              "58 MARGARINE; SPREAD;HARD;60% FAT1 TBSP    14.00           2.0         \n",
              "59 LAMB; RIB; ROASTED; LEAN + FAT3 OZ      85.00          12.1         \n",
              "60 MARGARINE; SPREAD;HARD;60% FAT1/2 CUP  113.00          15.9         \n",
              "61 MARGARINE; SPREAD;HARD;60% FAT1 PAT      5.00           0.7         \n",
              "62 WHIPPED TOPPING; PRESSURIZED  1 CUP     60.00           8.3         \n",
              "63 MARGARINE; REGULR;SOFT;80% FAT8 OZ     227.00          31.3         \n",
              "64 OLIVE OIL                     1 TBSP    14.00           1.9         \n",
              "65 MARGARINE; REGULR;SOFT;80% FAT1 TBSP    14.00           1.9         \n",
              "66 OLIVE OIL                     1 CUP    216.00          29.2         \n",
              "67 PASTERZD PROCES CHESE SPRED;AM1 OZ      28.35           3.8         \n",
              "68 WHIPPED TOPPING; PRESSURIZED  1 TBSP     3.00           0.4         \n",
              "69 SOUR CREAM                    1 TBSP    12.00           1.6         \n",
              "70 IMITATN SOUR DRESSING         1 TBSP    12.00           1.6         \n",
              "71 IMITATN SOUR DRESSING         1 CUP    235.00          31.2         \n",
              "72 QUICHE LORRAINE               1 SLICE  176.00          23.2         \n",
              "73 BROWN AND SERVE SAUSAGE;BRWND 1 LINK    13.00           1.7         \n",
              "74 MOZZARELLA CHEESE; WHOLE MILK 1 OZ      28.35           3.7         \n",
              "75 SOUR CREAM                    1 CUP    230.00          30.0         \n",
              "76 CORN OIL                      1 TBSP    14.00           1.8         \n",
              "77 MARGARINE; SPREAD;SOFT;60% FAT1 TBSP    14.00           1.8         \n",
              "78 MARGARINE; SPREAD;SOFT;60% FAT8 OZ     227.00          29.1         \n",
              "79 CORN OIL                      1 CUP    218.00          27.7         \n",
              "80 BEEF; CKD;CHUCK BLADE;LEAN+FAT3 OZ      85.00          10.8         \n",
              "81 BEEF ROAST; RIB; LEAN + FAT   3 OZ      85.00          10.8         \n",
              "82 MAYONNAISE; REGULAR           1 TBSP    14.00           1.7         \n",
              "83 LIGHT; COFFEE OR TABLE CREAM  1 CUP    240.00          28.8         \n",
              "84 LIGHT; COFFEE OR TABLE CREAM  1 TBSP    15.00           1.8         \n",
              "85 SALAMI; DRY TYPE              2 SLICES  20.00           2.4         \n",
              "   cholesterol saturated_fat_per_gram scaled_saturated_fat_per_gram\n",
              "1   31         0.5071429              7.106775                     \n",
              "2   31         0.5071429              7.106775                     \n",
              "3  247         0.5053097              7.079055                     \n",
              "4  247         0.5053097              7.079055                     \n",
              "5   11         0.5000000              6.998763                     \n",
              "6   11         0.5000000              6.998763                     \n",
              "7   12         0.3923077              5.370282                     \n",
              "8  195         0.3921951              5.368580                     \n",
              "9    0         0.3500000              4.730522                     \n",
              "10   0         0.3174603              4.238469                     \n",
              "11   0         0.3150538              4.202078                     \n",
              "12   0         0.2977778              3.940837                     \n",
              "13   0         0.2975000              3.936637                     \n",
              "14   0         0.2538462              3.276520                     \n",
              "15   0         0.2502439              3.222049                     \n",
              "16  21         0.2333333              2.966334                     \n",
              "17 326         0.2302521              2.919740                     \n",
              "18   0         0.2250000              2.840320                     \n",
              "19  31         0.2186949              2.744977                     \n",
              "20   0         0.2173333              2.724388                     \n",
              "21   0         0.2129412              2.657971                     \n",
              "22  18         0.2117647              2.640181                     \n",
              "23  30         0.2116402              2.638299                     \n",
              "24 119         0.2106195              2.622863                     \n",
              "25   0         0.2081129              2.584960                     \n",
              "26   4         0.2000000              2.462280                     \n",
              "27   0         0.2000000              2.462280                     \n",
              "28  27         0.1975309              2.424942                     \n",
              "29  17         0.1933333              2.361469                     \n",
              "30 265         0.1933054              2.361047                     \n",
              "⋮  ⋮           ⋮                      ⋮                            \n",
              "56  25         0.1481481              1.678196                     \n",
              "57   0         0.1446208              1.624857                     \n",
              "58   0         0.1428571              1.598188                     \n",
              "59  77         0.1423529              1.590563                     \n",
              "60   0         0.1407080              1.565689                     \n",
              "61   0         0.1400000              1.554983                     \n",
              "62  46         0.1383333              1.529780                     \n",
              "63   0         0.1378855              1.523008                     \n",
              "64   0         0.1357143              1.490176                     \n",
              "65   0         0.1357143              1.490176                     \n",
              "66   0         0.1351852              1.482175                     \n",
              "67  16         0.1340388              1.464840                     \n",
              "68   2         0.1333333              1.454172                     \n",
              "69   5         0.1333333              1.454172                     \n",
              "70   1         0.1333333              1.454172                     \n",
              "71  13         0.1327660              1.445593                     \n",
              "72 285         0.1318182              1.431261                     \n",
              "73   9         0.1307692              1.415399                     \n",
              "74  22         0.1305115              1.411501                     \n",
              "75 102         0.1304348              1.410342                     \n",
              "76   0         0.1285714              1.382165                     \n",
              "77   0         0.1285714              1.382165                     \n",
              "78   0         0.1281938              1.376455                     \n",
              "79   0         0.1270642              1.359373                     \n",
              "80  87         0.1270588              1.359292                     \n",
              "81  72         0.1270588              1.359292                     \n",
              "82   8         0.1214286              1.274153                     \n",
              "83 159         0.1200000              1.252551                     \n",
              "84  10         0.1200000              1.252551                     \n",
              "85  16         0.1200000              1.252551                     "
            ]
          },
          "metadata": {}
        }
      ]
    },
    {
      "cell_type": "code",
      "source": [
        "#Density Plot for  df_saturated_fat_per_gram\n",
        "par(mfrow=c(1,1))\n",
        "saturated_fat_per_gram <- density(nutrition_DF$saturated_fat_per_gram) \n",
        "plot(saturated_fat_per_gram, main=\"Density plot for saturated_fat_per_gram\") \n",
        "polygon(saturated_fat_per_gram, col=\"white\", border=\"blue\")"
      ],
      "metadata": {
        "colab": {
          "base_uri": "https://localhost:8080/",
          "height": 437
        },
        "id": "YWzjYkwnAv-g",
        "outputId": "45abc3df-9bcd-4eb5-bc45-0b773ee57d44"
      },
      "execution_count": 12,
      "outputs": [
        {
          "output_type": "display_data",
          "data": {
            "text/plain": [
              "Plot with title “Density plot for saturated_fat_per_gram”"
            ],
            "image/png": "[encoded data removed]"
          },
          "metadata": {
            "image/png": {
              "width": 420,
              "height": 420
            }
          }
        }
      ]
    },
    {
      "cell_type": "code",
      "source": [
        "#Density Plot for  df_saturated_fat_per_gram\n",
        "par(mfrow=c(1,1))\n",
        "scaled_saturated_fat_per_gram <- density(nutrition_DF$scaled_saturated_fat_per_gram) \n",
        "plot(scaled_saturated_fat_per_gram, main=\"Density plot for scaled saturated_fat_per_gram\") \n",
        "polygon(scaled_saturated_fat_per_gram, col=\"white\", border=\"blue\")"
      ],
      "metadata": {
        "colab": {
          "base_uri": "https://localhost:8080/",
          "height": 437
        },
        "id": "qqdSZQiRDmp4",
        "outputId": "bb5c5a4b-1d7d-40c5-cbb4-fe4ec5fef738"
      },
      "execution_count": 13,
      "outputs": [
        {
          "output_type": "display_data",
          "data": {
            "text/plain": [
              "Plot with title “Density plot for scaled saturated_fat_per_gram”"
            ],
            "image/png": "[encoded data removed]"
          },
          "metadata": {
            "image/png": {
              "width": 420,
              "height": 420
            }
          }
        }
      ]
    },
    {
      "cell_type": "markdown",
      "source": [
        "# 7. Standardize (zero mean) the numeric variables, and determine if there are any outliers."
      ],
      "metadata": {
        "id": "9226RlXEDvW5"
      }
    },
    {
      "cell_type": "code",
      "source": [
        "# apply z-score to standardize saturated_fat_per_gram\n",
        "mean = mean(nutrition_DF$weight_in_grams)\n",
        "std = sd(nutrition_DF$weight_in_grams)\n",
        "nutrition_DF$weight_in_grams = (nutrition_DF$weight_in_grams-mean)/std\n"
      ],
      "metadata": {
        "id": "xLkZzF82DryI"
      },
      "execution_count": 14,
      "outputs": []
    },
    {
      "cell_type": "code",
      "source": [
        "q1 <- quantile(nutrition_DF$weight_in_grams,0.25)\n",
        "q3 <- quantile(nutrition_DF$weight_in_grams,0.75)\n",
        "IQR <- q3-q1\n",
        "lower_bound<-q1-(1.5 * IQR)\n",
        "upper_bound<-q3 +(1.5 * IQR)\n",
        "length(lower_bound)\n",
        "length(upper_bound)"
      ],
      "metadata": {
        "colab": {
          "base_uri": "https://localhost:8080/",
          "height": 52
        },
        "id": "WqmU_K7EEAcH",
        "outputId": "4bd1439f-5203-4183-e79a-19f2cbce2072"
      },
      "execution_count": 15,
      "outputs": [
        {
          "output_type": "display_data",
          "data": {
            "text/html": [
              "1"
            ],
            "text/markdown": "1",
            "text/latex": "1",
            "text/plain": [
              "[1] 1"
            ]
          },
          "metadata": {}
        },
        {
          "output_type": "display_data",
          "data": {
            "text/html": [
              "1"
            ],
            "text/markdown": "1",
            "text/latex": "1",
            "text/plain": [
              "[1] 1"
            ]
          },
          "metadata": {}
        }
      ]
    },
    {
      "cell_type": "code",
      "source": [
        "# apply z-score to standardize saturated_fat_per_gram\n",
        "mean = mean(nutrition_DF$cholesterol)\n",
        "std = sd(nutrition_DF$cholesterol)\n",
        "nutrition_DF$cholesterol = (nutrition_DF$cholesterol-mean)/std\n"
      ],
      "metadata": {
        "id": "xKhRQBxzEQol"
      },
      "execution_count": 16,
      "outputs": []
    },
    {
      "cell_type": "code",
      "source": [
        "q1 <- quantile(nutrition_DF$cholesterol,0.25)\n",
        "q3 <- quantile(nutrition_DF$cholesterol,0.75)\n",
        "IQR <- q3-q1\n",
        "lower_bound<-q1-(1.5 * IQR)\n",
        "upper_bound<-q3 +(1.5 * IQR)\n",
        "length(lower_bound)\n",
        "length(upper_bound)"
      ],
      "metadata": {
        "colab": {
          "base_uri": "https://localhost:8080/",
          "height": 52
        },
        "id": "PNsy5ePqETrm",
        "outputId": "aa907932-9b92-40ca-a48d-9ffce361c1ba"
      },
      "execution_count": 17,
      "outputs": [
        {
          "output_type": "display_data",
          "data": {
            "text/html": [
              "1"
            ],
            "text/markdown": "1",
            "text/latex": "1",
            "text/plain": [
              "[1] 1"
            ]
          },
          "metadata": {}
        },
        {
          "output_type": "display_data",
          "data": {
            "text/html": [
              "1"
            ],
            "text/markdown": "1",
            "text/latex": "1",
            "text/plain": [
              "[1] 1"
            ]
          },
          "metadata": {}
        }
      ]
    },
    {
      "cell_type": "markdown",
      "source": [
        "**Summary**\n",
        "1. For saturated data set found by using the asceding value found the top highest five items *Created a new variable saturated_fat_per_gram and found the highest saturated items and which food has the highest saturated fat per gram i.e., BUTTER; SALTED 1 TBSP\n",
        "2. By using standardize (zero mean) found all the outliers for all the numerical data and the density plot of saturated fat per gram"
      ],
      "metadata": {
        "id": "CMwJhWJhEf1I"
      }
    },
    {
      "cell_type": "code",
      "source": [
        ""
      ],
      "metadata": {
        "id": "8cHRqdKyEn18"
      },
      "execution_count": null,
      "outputs": []
    }
  ]
}