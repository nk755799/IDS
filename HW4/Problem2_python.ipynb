{
  "nbformat": 4,
  "nbformat_minor": 0,
  "metadata": {
    "colab": {
      "name": "Problem2_python.ipynb",
      "provenance": [],
      "authorship_tag": "ABX9TyP73dRDKbn1+JAJzHm5qLhq",
      "include_colab_link": true
    },
    "kernelspec": {
      "name": "python3",
      "display_name": "Python 3"
    },
    "language_info": {
      "name": "python"
    }
  },
  "cells": [
    {
      "cell_type": "markdown",
      "metadata": {
        "id": "view-in-github",
        "colab_type": "text"
      },
      "source": [
        "<a href=\"https://colab.research.google.com/github/nk755799/IDS/blob/main/HW4/Problem2_python.ipynb\" target=\"_parent\"><img src=\"https://colab.research.google.com/assets/colab-badge.svg\" alt=\"Open In Colab\"/></a>"
      ]
    },
    {
      "cell_type": "markdown",
      "source": [
        "Project4 (HW4)\n",
        "\n",
        "Naresh Kalluri (10755799)\n",
        "\n",
        "Github repository:https://github.com/nk755799/IDS/tree/main/HW4"
      ],
      "metadata": {
        "id": "DP-aUzZznhGq"
      }
    },
    {
      "cell_type": "markdown",
      "source": [
        "\n",
        "Python is told to introduce the pandas data analysis library into your present environment by the import pandas section of the code. The as pd part of the code instructs Python to give pandas the alias pd."
      ],
      "metadata": {
        "id": "UUKXhvmznv8D"
      }
    },
    {
      "cell_type": "code",
      "source": [
        "#Using the pandas library to analyze quantitative data\n",
        "import pandas as pd"
      ],
      "metadata": {
        "id": "vJGiIXNTn4j_"
      },
      "execution_count": 1,
      "outputs": []
    },
    {
      "cell_type": "markdown",
      "source": [
        "1.Using the following nutrition dataset: https://github.com/bforoura/IDS/blob/main/HW4/nutrition_subset.csv\n",
        "\n",
        "used the data and saved in my repository \"https://raw.githubusercontent.com/nk755799/IDS/main/HW4/nutrition_subset.csv\"\n",
        "\n",
        "Importing the dataframe from nutrition_subset.csv file in my repository"
      ],
      "metadata": {
        "id": "KhAf56DjoHze"
      }
    },
    {
      "cell_type": "code",
      "source": [
        "# Importing nutrition_subset.csv file from Github using Pandas library\n",
        "nutrition_DF = pd.read_csv(\"https://raw.githubusercontent.com/nk755799/IDS/main/HW4/nutrition_subset.csv\");\n",
        "nutrition_DF"
      ],
      "metadata": {
        "colab": {
          "base_uri": "https://localhost:8080/",
          "height": 423
        },
        "id": "oNxbVHItogdk",
        "outputId": "8ba7bac7-77b7-44ee-c674-f12fc45fdeea"
      },
      "execution_count": 3,
      "outputs": [
        {
          "output_type": "execute_result",
          "data": {
            "text/plain": [
              "                                  food item  weight_in_grams  saturated_fat  \\\n",
              "0    GELATIN; DRY                  1 ENVELP             7.00            0.0   \n",
              "1    SEAWEED; SPIRULINA; DRIED     1 OZ                28.35            0.8   \n",
              "2    YEAST; BAKERS; DRY; ACTIVE    1 PKG                7.00            0.0   \n",
              "3    PARMESAN CHEESE; GRATED       1 OZ                28.35            5.4   \n",
              "4    PARMESAN CHEESE; GRATED       1 CUP              100.00           19.1   \n",
              "..                                      ...              ...            ...   \n",
              "956  COFFEE; BREWED                6 FL OZ            180.00            0.0   \n",
              "957  TEA; BREWED                   8 FL OZ            240.00            0.0   \n",
              "958  TEA; INSTANT;PREPRD;UNSWEETEND8 FL OZ            241.00            0.0   \n",
              "959  LETTUCE; BUTTERHEAD; RAW;LEAVE1 LEAF              15.00            0.0   \n",
              "960  SALT                          1 TSP                5.50            0.0   \n",
              "\n",
              "     cholesterol  \n",
              "0              0  \n",
              "1              0  \n",
              "2              0  \n",
              "3             22  \n",
              "4             79  \n",
              "..           ...  \n",
              "956            0  \n",
              "957            0  \n",
              "958            0  \n",
              "959            0  \n",
              "960            0  \n",
              "\n",
              "[961 rows x 4 columns]"
            ],
            "text/html": [
              "\n",
              "  <div id=\"df-4cb777a6-3d31-4308-adf7-d1f17f8576d3\">\n",
              "    <div class=\"colab-df-container\">\n",
              "      <div>\n",
              "<style scoped>\n",
              "    .dataframe tbody tr th:only-of-type {\n",
              "        vertical-align: middle;\n",
              "    }\n",
              "\n",
              "    .dataframe tbody tr th {\n",
              "        vertical-align: top;\n",
              "    }\n",
              "\n",
              "    .dataframe thead th {\n",
              "        text-align: right;\n",
              "    }\n",
              "</style>\n",
              "<table border=\"1\" class=\"dataframe\">\n",
              "  <thead>\n",
              "    <tr style=\"text-align: right;\">\n",
              "      <th></th>\n",
              "      <th>food item</th>\n",
              "      <th>weight_in_grams</th>\n",
              "      <th>saturated_fat</th>\n",
              "      <th>cholesterol</th>\n",
              "    </tr>\n",
              "  </thead>\n",
              "  <tbody>\n",
              "    <tr>\n",
              "      <th>0</th>\n",
              "      <td>GELATIN; DRY                  1 ENVELP</td>\n",
              "      <td>7.00</td>\n",
              "      <td>0.0</td>\n",
              "      <td>0</td>\n",
              "    </tr>\n",
              "    <tr>\n",
              "      <th>1</th>\n",
              "      <td>SEAWEED; SPIRULINA; DRIED     1 OZ</td>\n",
              "      <td>28.35</td>\n",
              "      <td>0.8</td>\n",
              "      <td>0</td>\n",
              "    </tr>\n",
              "    <tr>\n",
              "      <th>2</th>\n",
              "      <td>YEAST; BAKERS; DRY; ACTIVE    1 PKG</td>\n",
              "      <td>7.00</td>\n",
              "      <td>0.0</td>\n",
              "      <td>0</td>\n",
              "    </tr>\n",
              "    <tr>\n",
              "      <th>3</th>\n",
              "      <td>PARMESAN CHEESE; GRATED       1 OZ</td>\n",
              "      <td>28.35</td>\n",
              "      <td>5.4</td>\n",
              "      <td>22</td>\n",
              "    </tr>\n",
              "    <tr>\n",
              "      <th>4</th>\n",
              "      <td>PARMESAN CHEESE; GRATED       1 CUP</td>\n",
              "      <td>100.00</td>\n",
              "      <td>19.1</td>\n",
              "      <td>79</td>\n",
              "    </tr>\n",
              "    <tr>\n",
              "      <th>...</th>\n",
              "      <td>...</td>\n",
              "      <td>...</td>\n",
              "      <td>...</td>\n",
              "      <td>...</td>\n",
              "    </tr>\n",
              "    <tr>\n",
              "      <th>956</th>\n",
              "      <td>COFFEE; BREWED                6 FL OZ</td>\n",
              "      <td>180.00</td>\n",
              "      <td>0.0</td>\n",
              "      <td>0</td>\n",
              "    </tr>\n",
              "    <tr>\n",
              "      <th>957</th>\n",
              "      <td>TEA; BREWED                   8 FL OZ</td>\n",
              "      <td>240.00</td>\n",
              "      <td>0.0</td>\n",
              "      <td>0</td>\n",
              "    </tr>\n",
              "    <tr>\n",
              "      <th>958</th>\n",
              "      <td>TEA; INSTANT;PREPRD;UNSWEETEND8 FL OZ</td>\n",
              "      <td>241.00</td>\n",
              "      <td>0.0</td>\n",
              "      <td>0</td>\n",
              "    </tr>\n",
              "    <tr>\n",
              "      <th>959</th>\n",
              "      <td>LETTUCE; BUTTERHEAD; RAW;LEAVE1 LEAF</td>\n",
              "      <td>15.00</td>\n",
              "      <td>0.0</td>\n",
              "      <td>0</td>\n",
              "    </tr>\n",
              "    <tr>\n",
              "      <th>960</th>\n",
              "      <td>SALT                          1 TSP</td>\n",
              "      <td>5.50</td>\n",
              "      <td>0.0</td>\n",
              "      <td>0</td>\n",
              "    </tr>\n",
              "  </tbody>\n",
              "</table>\n",
              "<p>961 rows × 4 columns</p>\n",
              "</div>\n",
              "      <button class=\"colab-df-convert\" onclick=\"convertToInteractive('df-4cb777a6-3d31-4308-adf7-d1f17f8576d3')\"\n",
              "              title=\"Convert this dataframe to an interactive table.\"\n",
              "              style=\"display:none;\">\n",
              "        \n",
              "  <svg xmlns=\"http://www.w3.org/2000/svg\" height=\"24px\"viewBox=\"0 0 24 24\"\n",
              "       width=\"24px\">\n",
              "    <path d=\"M0 0h24v24H0V0z\" fill=\"none\"/>\n",
              "    <path d=\"M18.56 5.44l.94 2.06.94-2.06 2.06-.94-2.06-.94-.94-2.06-.94 2.06-2.06.94zm-11 1L8.5 8.5l.94-2.06 2.06-.94-2.06-.94L8.5 2.5l-.94 2.06-2.06.94zm10 10l.94 2.06.94-2.06 2.06-.94-2.06-.94-.94-2.06-.94 2.06-2.06.94z\"/><path d=\"M17.41 7.96l-1.37-1.37c-.4-.4-.92-.59-1.43-.59-.52 0-1.04.2-1.43.59L10.3 9.45l-7.72 7.72c-.78.78-.78 2.05 0 2.83L4 21.41c.39.39.9.59 1.41.59.51 0 1.02-.2 1.41-.59l7.78-7.78 2.81-2.81c.8-.78.8-2.07 0-2.86zM5.41 20L4 18.59l7.72-7.72 1.47 1.35L5.41 20z\"/>\n",
              "  </svg>\n",
              "      </button>\n",
              "      \n",
              "  <style>\n",
              "    .colab-df-container {\n",
              "      display:flex;\n",
              "      flex-wrap:wrap;\n",
              "      gap: 12px;\n",
              "    }\n",
              "\n",
              "    .colab-df-convert {\n",
              "      background-color: #E8F0FE;\n",
              "      border: none;\n",
              "      border-radius: 50%;\n",
              "      cursor: pointer;\n",
              "      display: none;\n",
              "      fill: #1967D2;\n",
              "      height: 32px;\n",
              "      padding: 0 0 0 0;\n",
              "      width: 32px;\n",
              "    }\n",
              "\n",
              "    .colab-df-convert:hover {\n",
              "      background-color: #E2EBFA;\n",
              "      box-shadow: 0px 1px 2px rgba(60, 64, 67, 0.3), 0px 1px 3px 1px rgba(60, 64, 67, 0.15);\n",
              "      fill: #174EA6;\n",
              "    }\n",
              "\n",
              "    [theme=dark] .colab-df-convert {\n",
              "      background-color: #3B4455;\n",
              "      fill: #D2E3FC;\n",
              "    }\n",
              "\n",
              "    [theme=dark] .colab-df-convert:hover {\n",
              "      background-color: #434B5C;\n",
              "      box-shadow: 0px 1px 3px 1px rgba(0, 0, 0, 0.15);\n",
              "      filter: drop-shadow(0px 1px 2px rgba(0, 0, 0, 0.3));\n",
              "      fill: #FFFFFF;\n",
              "    }\n",
              "  </style>\n",
              "\n",
              "      <script>\n",
              "        const buttonEl =\n",
              "          document.querySelector('#df-4cb777a6-3d31-4308-adf7-d1f17f8576d3 button.colab-df-convert');\n",
              "        buttonEl.style.display =\n",
              "          google.colab.kernel.accessAllowed ? 'block' : 'none';\n",
              "\n",
              "        async function convertToInteractive(key) {\n",
              "          const element = document.querySelector('#df-4cb777a6-3d31-4308-adf7-d1f17f8576d3');\n",
              "          const dataTable =\n",
              "            await google.colab.kernel.invokeFunction('convertToInteractive',\n",
              "                                                     [key], {});\n",
              "          if (!dataTable) return;\n",
              "\n",
              "          const docLinkHtml = 'Like what you see? Visit the ' +\n",
              "            '<a target=\"_blank\" href=https://colab.research.google.com/notebooks/data_table.ipynb>data table notebook</a>'\n",
              "            + ' to learn more about interactive tables.';\n",
              "          element.innerHTML = '';\n",
              "          dataTable['output_type'] = 'display_data';\n",
              "          await google.colab.output.renderOutput(dataTable, element);\n",
              "          const docLink = document.createElement('div');\n",
              "          docLink.innerHTML = docLinkHtml;\n",
              "          element.appendChild(docLink);\n",
              "        }\n",
              "      </script>\n",
              "    </div>\n",
              "  </div>\n",
              "  "
            ]
          },
          "metadata": {},
          "execution_count": 3
        }
      ]
    },
    {
      "cell_type": "markdown",
      "source": [
        "**2.The elements in the data set are food items of various sizes, ranging from a teaspoon of cinnamon to an entire carrot cake.**\n"
      ],
      "metadata": {
        "id": "QVLja3Wpqaex"
      }
    },
    {
      "cell_type": "code",
      "source": [
        "#displaying all the food items in the dataframe\n",
        "nutrition_DF['food item']"
      ],
      "metadata": {
        "colab": {
          "base_uri": "https://localhost:8080/"
        },
        "id": "s9t4DesFvVqf",
        "outputId": "2a1ae569-0dc4-4b53-eaf4-943528051326"
      },
      "execution_count": 10,
      "outputs": [
        {
          "output_type": "execute_result",
          "data": {
            "text/plain": [
              "0      GELATIN; DRY                  1 ENVELP\n",
              "1      SEAWEED; SPIRULINA; DRIED     1 OZ    \n",
              "2      YEAST; BAKERS; DRY; ACTIVE    1 PKG   \n",
              "3      PARMESAN CHEESE; GRATED       1 OZ    \n",
              "4      PARMESAN CHEESE; GRATED       1 CUP   \n",
              "                        ...                  \n",
              "956    COFFEE; BREWED                6 FL OZ \n",
              "957    TEA; BREWED                   8 FL OZ \n",
              "958    TEA; INSTANT;PREPRD;UNSWEETEND8 FL OZ \n",
              "959    LETTUCE; BUTTERHEAD; RAW;LEAVE1 LEAF  \n",
              "960    SALT                          1 TSP   \n",
              "Name: food item, Length: 961, dtype: object"
            ]
          },
          "metadata": {},
          "execution_count": 10
        }
      ]
    },
    {
      "cell_type": "markdown",
      "source": [
        "\n",
        "yes from above data we are showig that in this data set is about various food items with different sizes ranging from a teasppon of cinnamon to an entire carrot cake.\n"
      ],
      "metadata": {
        "id": "ozQOEckyvqMR"
      }
    },
    {
      "cell_type": "markdown",
      "source": [
        "**3.Sort the data set by saturated_ fat and produce a listing of the five food items highest in saturated fat. Comment on the validity of comparing food items of different sizes.**"
      ],
      "metadata": {
        "id": "Kk1oKtzWuYCY"
      }
    },
    {
      "cell_type": "code",
      "source": [
        "# Sorting the saturated_fat and displaying the highest first 5 rows\n",
        "\n",
        "nutrition_DF.sort_values(by=['saturated_fat'], ascending=False).iloc[0:5]"
      ],
      "metadata": {
        "colab": {
          "base_uri": "https://localhost:8080/",
          "height": 206
        },
        "id": "mU8abXzopUhf",
        "outputId": "31bab33a-214b-464f-fdf8-1236368f8288"
      },
      "execution_count": 4,
      "outputs": [
        {
          "output_type": "execute_result",
          "data": {
            "text/plain": [
              "                                  food item  weight_in_grams  saturated_fat  \\\n",
              "378  CHEESECAKE                    1 CAKE             1110.0          119.9   \n",
              "535  ICE CREAM; VANLLA; RICH 16% FT1/2 GAL            1188.0          118.3   \n",
              "458  YELLOWCAKE W/ CHOCFRSTNG;COMML1 CAKE             1108.0           92.0   \n",
              "581  CREME PIE                     1 PIE               910.0           90.1   \n",
              "890  LARD                          1 CUP               205.0           80.4   \n",
              "\n",
              "     cholesterol  \n",
              "378         2053  \n",
              "535          703  \n",
              "458          609  \n",
              "581           46  \n",
              "890          195  "
            ],
            "text/html": [
              "\n",
              "  <div id=\"df-30082e71-25f4-4f28-b78f-6a2187241300\">\n",
              "    <div class=\"colab-df-container\">\n",
              "      <div>\n",
              "<style scoped>\n",
              "    .dataframe tbody tr th:only-of-type {\n",
              "        vertical-align: middle;\n",
              "    }\n",
              "\n",
              "    .dataframe tbody tr th {\n",
              "        vertical-align: top;\n",
              "    }\n",
              "\n",
              "    .dataframe thead th {\n",
              "        text-align: right;\n",
              "    }\n",
              "</style>\n",
              "<table border=\"1\" class=\"dataframe\">\n",
              "  <thead>\n",
              "    <tr style=\"text-align: right;\">\n",
              "      <th></th>\n",
              "      <th>food item</th>\n",
              "      <th>weight_in_grams</th>\n",
              "      <th>saturated_fat</th>\n",
              "      <th>cholesterol</th>\n",
              "    </tr>\n",
              "  </thead>\n",
              "  <tbody>\n",
              "    <tr>\n",
              "      <th>378</th>\n",
              "      <td>CHEESECAKE                    1 CAKE</td>\n",
              "      <td>1110.0</td>\n",
              "      <td>119.9</td>\n",
              "      <td>2053</td>\n",
              "    </tr>\n",
              "    <tr>\n",
              "      <th>535</th>\n",
              "      <td>ICE CREAM; VANLLA; RICH 16% FT1/2 GAL</td>\n",
              "      <td>1188.0</td>\n",
              "      <td>118.3</td>\n",
              "      <td>703</td>\n",
              "    </tr>\n",
              "    <tr>\n",
              "      <th>458</th>\n",
              "      <td>YELLOWCAKE W/ CHOCFRSTNG;COMML1 CAKE</td>\n",
              "      <td>1108.0</td>\n",
              "      <td>92.0</td>\n",
              "      <td>609</td>\n",
              "    </tr>\n",
              "    <tr>\n",
              "      <th>581</th>\n",
              "      <td>CREME PIE                     1 PIE</td>\n",
              "      <td>910.0</td>\n",
              "      <td>90.1</td>\n",
              "      <td>46</td>\n",
              "    </tr>\n",
              "    <tr>\n",
              "      <th>890</th>\n",
              "      <td>LARD                          1 CUP</td>\n",
              "      <td>205.0</td>\n",
              "      <td>80.4</td>\n",
              "      <td>195</td>\n",
              "    </tr>\n",
              "  </tbody>\n",
              "</table>\n",
              "</div>\n",
              "      <button class=\"colab-df-convert\" onclick=\"convertToInteractive('df-30082e71-25f4-4f28-b78f-6a2187241300')\"\n",
              "              title=\"Convert this dataframe to an interactive table.\"\n",
              "              style=\"display:none;\">\n",
              "        \n",
              "  <svg xmlns=\"http://www.w3.org/2000/svg\" height=\"24px\"viewBox=\"0 0 24 24\"\n",
              "       width=\"24px\">\n",
              "    <path d=\"M0 0h24v24H0V0z\" fill=\"none\"/>\n",
              "    <path d=\"M18.56 5.44l.94 2.06.94-2.06 2.06-.94-2.06-.94-.94-2.06-.94 2.06-2.06.94zm-11 1L8.5 8.5l.94-2.06 2.06-.94-2.06-.94L8.5 2.5l-.94 2.06-2.06.94zm10 10l.94 2.06.94-2.06 2.06-.94-2.06-.94-.94-2.06-.94 2.06-2.06.94z\"/><path d=\"M17.41 7.96l-1.37-1.37c-.4-.4-.92-.59-1.43-.59-.52 0-1.04.2-1.43.59L10.3 9.45l-7.72 7.72c-.78.78-.78 2.05 0 2.83L4 21.41c.39.39.9.59 1.41.59.51 0 1.02-.2 1.41-.59l7.78-7.78 2.81-2.81c.8-.78.8-2.07 0-2.86zM5.41 20L4 18.59l7.72-7.72 1.47 1.35L5.41 20z\"/>\n",
              "  </svg>\n",
              "      </button>\n",
              "      \n",
              "  <style>\n",
              "    .colab-df-container {\n",
              "      display:flex;\n",
              "      flex-wrap:wrap;\n",
              "      gap: 12px;\n",
              "    }\n",
              "\n",
              "    .colab-df-convert {\n",
              "      background-color: #E8F0FE;\n",
              "      border: none;\n",
              "      border-radius: 50%;\n",
              "      cursor: pointer;\n",
              "      display: none;\n",
              "      fill: #1967D2;\n",
              "      height: 32px;\n",
              "      padding: 0 0 0 0;\n",
              "      width: 32px;\n",
              "    }\n",
              "\n",
              "    .colab-df-convert:hover {\n",
              "      background-color: #E2EBFA;\n",
              "      box-shadow: 0px 1px 2px rgba(60, 64, 67, 0.3), 0px 1px 3px 1px rgba(60, 64, 67, 0.15);\n",
              "      fill: #174EA6;\n",
              "    }\n",
              "\n",
              "    [theme=dark] .colab-df-convert {\n",
              "      background-color: #3B4455;\n",
              "      fill: #D2E3FC;\n",
              "    }\n",
              "\n",
              "    [theme=dark] .colab-df-convert:hover {\n",
              "      background-color: #434B5C;\n",
              "      box-shadow: 0px 1px 3px 1px rgba(0, 0, 0, 0.15);\n",
              "      filter: drop-shadow(0px 1px 2px rgba(0, 0, 0, 0.3));\n",
              "      fill: #FFFFFF;\n",
              "    }\n",
              "  </style>\n",
              "\n",
              "      <script>\n",
              "        const buttonEl =\n",
              "          document.querySelector('#df-30082e71-25f4-4f28-b78f-6a2187241300 button.colab-df-convert');\n",
              "        buttonEl.style.display =\n",
              "          google.colab.kernel.accessAllowed ? 'block' : 'none';\n",
              "\n",
              "        async function convertToInteractive(key) {\n",
              "          const element = document.querySelector('#df-30082e71-25f4-4f28-b78f-6a2187241300');\n",
              "          const dataTable =\n",
              "            await google.colab.kernel.invokeFunction('convertToInteractive',\n",
              "                                                     [key], {});\n",
              "          if (!dataTable) return;\n",
              "\n",
              "          const docLinkHtml = 'Like what you see? Visit the ' +\n",
              "            '<a target=\"_blank\" href=https://colab.research.google.com/notebooks/data_table.ipynb>data table notebook</a>'\n",
              "            + ' to learn more about interactive tables.';\n",
              "          element.innerHTML = '';\n",
              "          dataTable['output_type'] = 'display_data';\n",
              "          await google.colab.output.renderOutput(dataTable, element);\n",
              "          const docLink = document.createElement('div');\n",
              "          docLink.innerHTML = docLinkHtml;\n",
              "          element.appendChild(docLink);\n",
              "        }\n",
              "      </script>\n",
              "    </div>\n",
              "  </div>\n",
              "  "
            ]
          },
          "metadata": {},
          "execution_count": 4
        }
      ]
    },
    {
      "cell_type": "markdown",
      "source": [
        "As a result, the first five foods with the greatest saturated fat content are:\n",
        "\n",
        "1. CHEESECAKE 1 CAKE\t\n",
        "2. ICE CREAM; VANLLA; RICH 16% FT1/2 GAL\t\n",
        "3. YELLOWCAKE W/ CHOCFRSTNG;COMML1 CAKE\t\n",
        "4. CREME PIE 1 PIE\n",
        "5. LARD 1 CUP\n",
        "\n",
        "And CHEESECAKE 1 CAKE has the highest saturated fat."
      ],
      "metadata": {
        "id": "qgWSw0Oiplfw"
      }
    },
    {
      "cell_type": "markdown",
      "source": [
        "**4.Create a new variable, saturated_ fat_ per_gram, by dividing the amount of saturated fat  by the weight in grams. Sort the data set by saturated_ fat_ per_gram and produce a listing of the five food  items highest in saturated fat per gram. Which food has the most saturated fat per gram?**"
      ],
      "metadata": {
        "id": "tyIMX-unqV4g"
      }
    },
    {
      "cell_type": "markdown",
      "source": [
        "Creating  a new variable in the dataframe called \"saturated_fat_per_gram\" by dividing the amount of saturated fat by the weight in grams.\n",
        "\n",
        "Sorting  the entire dataframe based on the variable \"saturated_fat_per_gram\" and provide a list of the five food items with the highest content of saturated fat per gram."
      ],
      "metadata": {
        "id": "Hhv-LKIMrDWW"
      }
    },
    {
      "cell_type": "code",
      "source": [
        "# creating a new variable and diving the amount of saturated fat by weight in grams.\n",
        "nutrition_DF[\"saturated_fat_per_gram\"] = nutrition_DF[\"saturated_fat\"] /nutrition_DF[\"weight_in_grams\"] \n",
        "# sorting values\n",
        "nutrition_DF.sort_values (by=\"saturated_fat_per_gram\",ascending=False, ).iloc[0:10]"
      ],
      "metadata": {
        "colab": {
          "base_uri": "https://localhost:8080/",
          "height": 363
        },
        "id": "6qy4EIj8qskq",
        "outputId": "88593378-3fc2-4eea-f045-6f22fc90c6d4"
      },
      "execution_count": 11,
      "outputs": [
        {
          "output_type": "execute_result",
          "data": {
            "text/plain": [
              "                                  food item  weight_in_grams  saturated_fat  \\\n",
              "908  BUTTER; SALTED                1 TBSP              14.00            7.1   \n",
              "909  BUTTER; UNSALTED              1 TBSP              14.00            7.1   \n",
              "710  BUTTER; UNSALTED              1/2 CUP            113.00           57.1   \n",
              "709  BUTTER; SALTED                1/2 CUP            113.00           57.1   \n",
              "913  BUTTER; UNSALTED              1 PAT                5.00            2.5   \n",
              "912  BUTTER; SALTED                1 PAT                5.00            2.5   \n",
              "899  LARD                          1 TBSP              13.00            5.1   \n",
              "890  LARD                          1 CUP              205.00           80.4   \n",
              "920  IMITATION CREAMERS; POWDERED  1 TSP                2.00            0.7   \n",
              "210  CHOCOLATE; BITTER OT BAKING   1 OZ                28.35            9.0   \n",
              "\n",
              "     cholesterol  saturated_fat_per_gram  \n",
              "908           31                0.507143  \n",
              "909           31                0.507143  \n",
              "710          247                0.505310  \n",
              "709          247                0.505310  \n",
              "913           11                0.500000  \n",
              "912           11                0.500000  \n",
              "899           12                0.392308  \n",
              "890          195                0.392195  \n",
              "920            0                0.350000  \n",
              "210            0                0.317460  "
            ],
            "text/html": [
              "\n",
              "  <div id=\"df-7b5f7315-ff90-4b75-9bce-70342117176a\">\n",
              "    <div class=\"colab-df-container\">\n",
              "      <div>\n",
              "<style scoped>\n",
              "    .dataframe tbody tr th:only-of-type {\n",
              "        vertical-align: middle;\n",
              "    }\n",
              "\n",
              "    .dataframe tbody tr th {\n",
              "        vertical-align: top;\n",
              "    }\n",
              "\n",
              "    .dataframe thead th {\n",
              "        text-align: right;\n",
              "    }\n",
              "</style>\n",
              "<table border=\"1\" class=\"dataframe\">\n",
              "  <thead>\n",
              "    <tr style=\"text-align: right;\">\n",
              "      <th></th>\n",
              "      <th>food item</th>\n",
              "      <th>weight_in_grams</th>\n",
              "      <th>saturated_fat</th>\n",
              "      <th>cholesterol</th>\n",
              "      <th>saturated_fat_per_gram</th>\n",
              "    </tr>\n",
              "  </thead>\n",
              "  <tbody>\n",
              "    <tr>\n",
              "      <th>908</th>\n",
              "      <td>BUTTER; SALTED                1 TBSP</td>\n",
              "      <td>14.00</td>\n",
              "      <td>7.1</td>\n",
              "      <td>31</td>\n",
              "      <td>0.507143</td>\n",
              "    </tr>\n",
              "    <tr>\n",
              "      <th>909</th>\n",
              "      <td>BUTTER; UNSALTED              1 TBSP</td>\n",
              "      <td>14.00</td>\n",
              "      <td>7.1</td>\n",
              "      <td>31</td>\n",
              "      <td>0.507143</td>\n",
              "    </tr>\n",
              "    <tr>\n",
              "      <th>710</th>\n",
              "      <td>BUTTER; UNSALTED              1/2 CUP</td>\n",
              "      <td>113.00</td>\n",
              "      <td>57.1</td>\n",
              "      <td>247</td>\n",
              "      <td>0.505310</td>\n",
              "    </tr>\n",
              "    <tr>\n",
              "      <th>709</th>\n",
              "      <td>BUTTER; SALTED                1/2 CUP</td>\n",
              "      <td>113.00</td>\n",
              "      <td>57.1</td>\n",
              "      <td>247</td>\n",
              "      <td>0.505310</td>\n",
              "    </tr>\n",
              "    <tr>\n",
              "      <th>913</th>\n",
              "      <td>BUTTER; UNSALTED              1 PAT</td>\n",
              "      <td>5.00</td>\n",
              "      <td>2.5</td>\n",
              "      <td>11</td>\n",
              "      <td>0.500000</td>\n",
              "    </tr>\n",
              "    <tr>\n",
              "      <th>912</th>\n",
              "      <td>BUTTER; SALTED                1 PAT</td>\n",
              "      <td>5.00</td>\n",
              "      <td>2.5</td>\n",
              "      <td>11</td>\n",
              "      <td>0.500000</td>\n",
              "    </tr>\n",
              "    <tr>\n",
              "      <th>899</th>\n",
              "      <td>LARD                          1 TBSP</td>\n",
              "      <td>13.00</td>\n",
              "      <td>5.1</td>\n",
              "      <td>12</td>\n",
              "      <td>0.392308</td>\n",
              "    </tr>\n",
              "    <tr>\n",
              "      <th>890</th>\n",
              "      <td>LARD                          1 CUP</td>\n",
              "      <td>205.00</td>\n",
              "      <td>80.4</td>\n",
              "      <td>195</td>\n",
              "      <td>0.392195</td>\n",
              "    </tr>\n",
              "    <tr>\n",
              "      <th>920</th>\n",
              "      <td>IMITATION CREAMERS; POWDERED  1 TSP</td>\n",
              "      <td>2.00</td>\n",
              "      <td>0.7</td>\n",
              "      <td>0</td>\n",
              "      <td>0.350000</td>\n",
              "    </tr>\n",
              "    <tr>\n",
              "      <th>210</th>\n",
              "      <td>CHOCOLATE; BITTER OT BAKING   1 OZ</td>\n",
              "      <td>28.35</td>\n",
              "      <td>9.0</td>\n",
              "      <td>0</td>\n",
              "      <td>0.317460</td>\n",
              "    </tr>\n",
              "  </tbody>\n",
              "</table>\n",
              "</div>\n",
              "      <button class=\"colab-df-convert\" onclick=\"convertToInteractive('df-7b5f7315-ff90-4b75-9bce-70342117176a')\"\n",
              "              title=\"Convert this dataframe to an interactive table.\"\n",
              "              style=\"display:none;\">\n",
              "        \n",
              "  <svg xmlns=\"http://www.w3.org/2000/svg\" height=\"24px\"viewBox=\"0 0 24 24\"\n",
              "       width=\"24px\">\n",
              "    <path d=\"M0 0h24v24H0V0z\" fill=\"none\"/>\n",
              "    <path d=\"M18.56 5.44l.94 2.06.94-2.06 2.06-.94-2.06-.94-.94-2.06-.94 2.06-2.06.94zm-11 1L8.5 8.5l.94-2.06 2.06-.94-2.06-.94L8.5 2.5l-.94 2.06-2.06.94zm10 10l.94 2.06.94-2.06 2.06-.94-2.06-.94-.94-2.06-.94 2.06-2.06.94z\"/><path d=\"M17.41 7.96l-1.37-1.37c-.4-.4-.92-.59-1.43-.59-.52 0-1.04.2-1.43.59L10.3 9.45l-7.72 7.72c-.78.78-.78 2.05 0 2.83L4 21.41c.39.39.9.59 1.41.59.51 0 1.02-.2 1.41-.59l7.78-7.78 2.81-2.81c.8-.78.8-2.07 0-2.86zM5.41 20L4 18.59l7.72-7.72 1.47 1.35L5.41 20z\"/>\n",
              "  </svg>\n",
              "      </button>\n",
              "      \n",
              "  <style>\n",
              "    .colab-df-container {\n",
              "      display:flex;\n",
              "      flex-wrap:wrap;\n",
              "      gap: 12px;\n",
              "    }\n",
              "\n",
              "    .colab-df-convert {\n",
              "      background-color: #E8F0FE;\n",
              "      border: none;\n",
              "      border-radius: 50%;\n",
              "      cursor: pointer;\n",
              "      display: none;\n",
              "      fill: #1967D2;\n",
              "      height: 32px;\n",
              "      padding: 0 0 0 0;\n",
              "      width: 32px;\n",
              "    }\n",
              "\n",
              "    .colab-df-convert:hover {\n",
              "      background-color: #E2EBFA;\n",
              "      box-shadow: 0px 1px 2px rgba(60, 64, 67, 0.3), 0px 1px 3px 1px rgba(60, 64, 67, 0.15);\n",
              "      fill: #174EA6;\n",
              "    }\n",
              "\n",
              "    [theme=dark] .colab-df-convert {\n",
              "      background-color: #3B4455;\n",
              "      fill: #D2E3FC;\n",
              "    }\n",
              "\n",
              "    [theme=dark] .colab-df-convert:hover {\n",
              "      background-color: #434B5C;\n",
              "      box-shadow: 0px 1px 3px 1px rgba(0, 0, 0, 0.15);\n",
              "      filter: drop-shadow(0px 1px 2px rgba(0, 0, 0, 0.3));\n",
              "      fill: #FFFFFF;\n",
              "    }\n",
              "  </style>\n",
              "\n",
              "      <script>\n",
              "        const buttonEl =\n",
              "          document.querySelector('#df-7b5f7315-ff90-4b75-9bce-70342117176a button.colab-df-convert');\n",
              "        buttonEl.style.display =\n",
              "          google.colab.kernel.accessAllowed ? 'block' : 'none';\n",
              "\n",
              "        async function convertToInteractive(key) {\n",
              "          const element = document.querySelector('#df-7b5f7315-ff90-4b75-9bce-70342117176a');\n",
              "          const dataTable =\n",
              "            await google.colab.kernel.invokeFunction('convertToInteractive',\n",
              "                                                     [key], {});\n",
              "          if (!dataTable) return;\n",
              "\n",
              "          const docLinkHtml = 'Like what you see? Visit the ' +\n",
              "            '<a target=\"_blank\" href=https://colab.research.google.com/notebooks/data_table.ipynb>data table notebook</a>'\n",
              "            + ' to learn more about interactive tables.';\n",
              "          element.innerHTML = '';\n",
              "          dataTable['output_type'] = 'display_data';\n",
              "          await google.colab.output.renderOutput(dataTable, element);\n",
              "          const docLink = document.createElement('div');\n",
              "          docLink.innerHTML = docLinkHtml;\n",
              "          element.appendChild(docLink);\n",
              "        }\n",
              "      </script>\n",
              "    </div>\n",
              "  </div>\n",
              "  "
            ]
          },
          "metadata": {},
          "execution_count": 11
        }
      ]
    },
    {
      "cell_type": "markdown",
      "source": [
        "From the above output the top five  food items with the highest saturated  fat per gram are:\n",
        "\n",
        "1. BUTTER; SALTED 1 TBSP\n",
        "2. BUTTER; UNSALTED 1 TBSP\t\n",
        "3. BUTTER; UNSALTED 1/2 CUP\n",
        "4. BUTTER; SALTED 1/2 CUP\n",
        "5. BUTTER; UNSALTED 1 PAT\n",
        "\n",
        "And BUTTER; SALTED 1 TBSP has the highest saturated fat per gram\n",
        "\n"
      ],
      "metadata": {
        "id": "eZoqzAzjsdcG"
      }
    },
    {
      "cell_type": "markdown",
      "source": [
        "**5.Standardize (zero mean) the field saturated_ fat_ per_gram, and produce a listing of all the food items that are outliers at the high end of the scale. How many food items are outliers at the low end of the scale? Create a density plot for saturated_ fat_ per_gram**"
      ],
      "metadata": {
        "id": "t705OyRPv9J3"
      }
    },
    {
      "cell_type": "markdown",
      "source": [
        "Standardize the column \"saturated_fat_per_gram\"\n",
        "Provide a list of food items that are outliers at the higher end of the scale\n",
        "Number of food items that are outliers at the lower end of the scale"
      ],
      "metadata": {
        "id": "oSHb6Z2yw58R"
      }
    },
    {
      "cell_type": "code",
      "source": [
        "##importing the scipy. stats module specializes in random variables and probability distributions. \n",
        "from scipy import stats"
      ],
      "metadata": {
        "id": "MA-1gnZ2w-Tw"
      },
      "execution_count": 42,
      "outputs": []
    },
    {
      "cell_type": "code",
      "source": [
        " #The as np portion of the code then tells Python to give NumPy the alias of np\n",
        "import numpy as np"
      ],
      "metadata": {
        "id": "y4Ag2Kc92qsY"
      },
      "execution_count": 14,
      "outputs": []
    },
    {
      "cell_type": "code",
      "source": [
        "#Seaborn is a library for making statistical graphics in Python. \n",
        "# It builds on top of matplotlib and integrates closely with pandas data structures.\n",
        "import seaborn as sns\n",
        "sns.boxplot(nutrition_DF['saturated_fat_per_gram'])"
      ],
      "metadata": {
        "colab": {
          "base_uri": "https://localhost:8080/",
          "height": 352
        },
        "id": "-XeTvnAL2ZDO",
        "outputId": "69eaef01-1245-40a8-c5c1-5dd422f5664c"
      },
      "execution_count": 20,
      "outputs": [
        {
          "output_type": "stream",
          "name": "stderr",
          "text": [
            "/usr/local/lib/python3.7/dist-packages/seaborn/_decorators.py:43: FutureWarning: Pass the following variable as a keyword arg: x. From version 0.12, the only valid positional argument will be `data`, and passing other arguments without an explicit keyword will result in an error or misinterpretation.\n",
            "  FutureWarning\n"
          ]
        },
        {
          "output_type": "execute_result",
          "data": {
            "text/plain": [
              "<matplotlib.axes._subplots.AxesSubplot at 0x7fc3416f8390>"
            ]
          },
          "metadata": {},
          "execution_count": 20
        },
        {
          "output_type": "display_data",
          "data": {
            "text/plain": [
              "<Figure size 432x288 with 1 Axes>"
            ],
            "image/png": "[encoded data removed]"
          },
          "metadata": {
            "needs_background": "light"
          }
        }
      ]
    },
    {
      "cell_type": "code",
      "source": [
        "# apply z-score to standardize saturated_fat_per_gram\n",
        "mean = nutrition_DF.saturated_fat_per_gram.mean()\n",
        "std = nutrition_DF.saturated_fat_per_gram.std()\n",
        "nutrition_DF.saturated_fat_per_gram = (nutrition_DF.saturated_fat_per_gram-mean)/std\n",
        "nutrition_DF"
      ],
      "metadata": {
        "colab": {
          "base_uri": "https://localhost:8080/",
          "height": 423
        },
        "id": "3pn3wVZN4YBM",
        "outputId": "95f84478-b0a8-4b9e-eb5e-e9ffc66dd8c7"
      },
      "execution_count": 23,
      "outputs": [
        {
          "output_type": "execute_result",
          "data": {
            "text/plain": [
              "                                  food item  weight_in_grams  saturated_fat  \\\n",
              "0    GELATIN; DRY                  1 ENVELP             7.00            0.0   \n",
              "1    SEAWEED; SPIRULINA; DRIED     1 OZ                28.35            0.8   \n",
              "2    YEAST; BAKERS; DRY; ACTIVE    1 PKG                7.00            0.0   \n",
              "3    PARMESAN CHEESE; GRATED       1 OZ                28.35            5.4   \n",
              "4    PARMESAN CHEESE; GRATED       1 CUP              100.00           19.1   \n",
              "..                                      ...              ...            ...   \n",
              "956  COFFEE; BREWED                6 FL OZ            180.00            0.0   \n",
              "957  TEA; BREWED                   8 FL OZ            240.00            0.0   \n",
              "958  TEA; INSTANT;PREPRD;UNSWEETEND8 FL OZ            241.00            0.0   \n",
              "959  LETTUCE; BUTTERHEAD; RAW;LEAVE1 LEAF              15.00            0.0   \n",
              "960  SALT                          1 TSP                5.50            0.0   \n",
              "\n",
              "     cholesterol  saturated_fat_per_gram  \n",
              "0              0               -0.562043  \n",
              "1              0               -0.135330  \n",
              "2              0               -0.562043  \n",
              "3             22                2.318264  \n",
              "4             79                2.326185  \n",
              "..           ...                     ...  \n",
              "956            0               -0.562043  \n",
              "957            0               -0.562043  \n",
              "958            0               -0.562043  \n",
              "959            0               -0.562043  \n",
              "960            0               -0.562043  \n",
              "\n",
              "[961 rows x 5 columns]"
            ],
            "text/html": [
              "\n",
              "  <div id=\"df-728da289-4b60-4ae6-9aef-170ba5aff1a5\">\n",
              "    <div class=\"colab-df-container\">\n",
              "      <div>\n",
              "<style scoped>\n",
              "    .dataframe tbody tr th:only-of-type {\n",
              "        vertical-align: middle;\n",
              "    }\n",
              "\n",
              "    .dataframe tbody tr th {\n",
              "        vertical-align: top;\n",
              "    }\n",
              "\n",
              "    .dataframe thead th {\n",
              "        text-align: right;\n",
              "    }\n",
              "</style>\n",
              "<table border=\"1\" class=\"dataframe\">\n",
              "  <thead>\n",
              "    <tr style=\"text-align: right;\">\n",
              "      <th></th>\n",
              "      <th>food item</th>\n",
              "      <th>weight_in_grams</th>\n",
              "      <th>saturated_fat</th>\n",
              "      <th>cholesterol</th>\n",
              "      <th>saturated_fat_per_gram</th>\n",
              "    </tr>\n",
              "  </thead>\n",
              "  <tbody>\n",
              "    <tr>\n",
              "      <th>0</th>\n",
              "      <td>GELATIN; DRY                  1 ENVELP</td>\n",
              "      <td>7.00</td>\n",
              "      <td>0.0</td>\n",
              "      <td>0</td>\n",
              "      <td>-0.562043</td>\n",
              "    </tr>\n",
              "    <tr>\n",
              "      <th>1</th>\n",
              "      <td>SEAWEED; SPIRULINA; DRIED     1 OZ</td>\n",
              "      <td>28.35</td>\n",
              "      <td>0.8</td>\n",
              "      <td>0</td>\n",
              "      <td>-0.135330</td>\n",
              "    </tr>\n",
              "    <tr>\n",
              "      <th>2</th>\n",
              "      <td>YEAST; BAKERS; DRY; ACTIVE    1 PKG</td>\n",
              "      <td>7.00</td>\n",
              "      <td>0.0</td>\n",
              "      <td>0</td>\n",
              "      <td>-0.562043</td>\n",
              "    </tr>\n",
              "    <tr>\n",
              "      <th>3</th>\n",
              "      <td>PARMESAN CHEESE; GRATED       1 OZ</td>\n",
              "      <td>28.35</td>\n",
              "      <td>5.4</td>\n",
              "      <td>22</td>\n",
              "      <td>2.318264</td>\n",
              "    </tr>\n",
              "    <tr>\n",
              "      <th>4</th>\n",
              "      <td>PARMESAN CHEESE; GRATED       1 CUP</td>\n",
              "      <td>100.00</td>\n",
              "      <td>19.1</td>\n",
              "      <td>79</td>\n",
              "      <td>2.326185</td>\n",
              "    </tr>\n",
              "    <tr>\n",
              "      <th>...</th>\n",
              "      <td>...</td>\n",
              "      <td>...</td>\n",
              "      <td>...</td>\n",
              "      <td>...</td>\n",
              "      <td>...</td>\n",
              "    </tr>\n",
              "    <tr>\n",
              "      <th>956</th>\n",
              "      <td>COFFEE; BREWED                6 FL OZ</td>\n",
              "      <td>180.00</td>\n",
              "      <td>0.0</td>\n",
              "      <td>0</td>\n",
              "      <td>-0.562043</td>\n",
              "    </tr>\n",
              "    <tr>\n",
              "      <th>957</th>\n",
              "      <td>TEA; BREWED                   8 FL OZ</td>\n",
              "      <td>240.00</td>\n",
              "      <td>0.0</td>\n",
              "      <td>0</td>\n",
              "      <td>-0.562043</td>\n",
              "    </tr>\n",
              "    <tr>\n",
              "      <th>958</th>\n",
              "      <td>TEA; INSTANT;PREPRD;UNSWEETEND8 FL OZ</td>\n",
              "      <td>241.00</td>\n",
              "      <td>0.0</td>\n",
              "      <td>0</td>\n",
              "      <td>-0.562043</td>\n",
              "    </tr>\n",
              "    <tr>\n",
              "      <th>959</th>\n",
              "      <td>LETTUCE; BUTTERHEAD; RAW;LEAVE1 LEAF</td>\n",
              "      <td>15.00</td>\n",
              "      <td>0.0</td>\n",
              "      <td>0</td>\n",
              "      <td>-0.562043</td>\n",
              "    </tr>\n",
              "    <tr>\n",
              "      <th>960</th>\n",
              "      <td>SALT                          1 TSP</td>\n",
              "      <td>5.50</td>\n",
              "      <td>0.0</td>\n",
              "      <td>0</td>\n",
              "      <td>-0.562043</td>\n",
              "    </tr>\n",
              "  </tbody>\n",
              "</table>\n",
              "<p>961 rows × 5 columns</p>\n",
              "</div>\n",
              "      <button class=\"colab-df-convert\" onclick=\"convertToInteractive('df-728da289-4b60-4ae6-9aef-170ba5aff1a5')\"\n",
              "              title=\"Convert this dataframe to an interactive table.\"\n",
              "              style=\"display:none;\">\n",
              "        \n",
              "  <svg xmlns=\"http://www.w3.org/2000/svg\" height=\"24px\"viewBox=\"0 0 24 24\"\n",
              "       width=\"24px\">\n",
              "    <path d=\"M0 0h24v24H0V0z\" fill=\"none\"/>\n",
              "    <path d=\"M18.56 5.44l.94 2.06.94-2.06 2.06-.94-2.06-.94-.94-2.06-.94 2.06-2.06.94zm-11 1L8.5 8.5l.94-2.06 2.06-.94-2.06-.94L8.5 2.5l-.94 2.06-2.06.94zm10 10l.94 2.06.94-2.06 2.06-.94-2.06-.94-.94-2.06-.94 2.06-2.06.94z\"/><path d=\"M17.41 7.96l-1.37-1.37c-.4-.4-.92-.59-1.43-.59-.52 0-1.04.2-1.43.59L10.3 9.45l-7.72 7.72c-.78.78-.78 2.05 0 2.83L4 21.41c.39.39.9.59 1.41.59.51 0 1.02-.2 1.41-.59l7.78-7.78 2.81-2.81c.8-.78.8-2.07 0-2.86zM5.41 20L4 18.59l7.72-7.72 1.47 1.35L5.41 20z\"/>\n",
              "  </svg>\n",
              "      </button>\n",
              "      \n",
              "  <style>\n",
              "    .colab-df-container {\n",
              "      display:flex;\n",
              "      flex-wrap:wrap;\n",
              "      gap: 12px;\n",
              "    }\n",
              "\n",
              "    .colab-df-convert {\n",
              "      background-color: #E8F0FE;\n",
              "      border: none;\n",
              "      border-radius: 50%;\n",
              "      cursor: pointer;\n",
              "      display: none;\n",
              "      fill: #1967D2;\n",
              "      height: 32px;\n",
              "      padding: 0 0 0 0;\n",
              "      width: 32px;\n",
              "    }\n",
              "\n",
              "    .colab-df-convert:hover {\n",
              "      background-color: #E2EBFA;\n",
              "      box-shadow: 0px 1px 2px rgba(60, 64, 67, 0.3), 0px 1px 3px 1px rgba(60, 64, 67, 0.15);\n",
              "      fill: #174EA6;\n",
              "    }\n",
              "\n",
              "    [theme=dark] .colab-df-convert {\n",
              "      background-color: #3B4455;\n",
              "      fill: #D2E3FC;\n",
              "    }\n",
              "\n",
              "    [theme=dark] .colab-df-convert:hover {\n",
              "      background-color: #434B5C;\n",
              "      box-shadow: 0px 1px 3px 1px rgba(0, 0, 0, 0.15);\n",
              "      filter: drop-shadow(0px 1px 2px rgba(0, 0, 0, 0.3));\n",
              "      fill: #FFFFFF;\n",
              "    }\n",
              "  </style>\n",
              "\n",
              "      <script>\n",
              "        const buttonEl =\n",
              "          document.querySelector('#df-728da289-4b60-4ae6-9aef-170ba5aff1a5 button.colab-df-convert');\n",
              "        buttonEl.style.display =\n",
              "          google.colab.kernel.accessAllowed ? 'block' : 'none';\n",
              "\n",
              "        async function convertToInteractive(key) {\n",
              "          const element = document.querySelector('#df-728da289-4b60-4ae6-9aef-170ba5aff1a5');\n",
              "          const dataTable =\n",
              "            await google.colab.kernel.invokeFunction('convertToInteractive',\n",
              "                                                     [key], {});\n",
              "          if (!dataTable) return;\n",
              "\n",
              "          const docLinkHtml = 'Like what you see? Visit the ' +\n",
              "            '<a target=\"_blank\" href=https://colab.research.google.com/notebooks/data_table.ipynb>data table notebook</a>'\n",
              "            + ' to learn more about interactive tables.';\n",
              "          element.innerHTML = '';\n",
              "          dataTable['output_type'] = 'display_data';\n",
              "          await google.colab.output.renderOutput(dataTable, element);\n",
              "          const docLink = document.createElement('div');\n",
              "          docLink.innerHTML = docLinkHtml;\n",
              "          element.appendChild(docLink);\n",
              "        }\n",
              "      </script>\n",
              "    </div>\n",
              "  </div>\n",
              "  "
            ]
          },
          "metadata": {},
          "execution_count": 23
        }
      ]
    },
    {
      "cell_type": "code",
      "source": [
        "# The as np portion of the code then tells Python to give NumPy the alias of np\n",
        "import numpy as np\n",
        "qtr1,qtr3 = np.percentile(nutrition_DF.saturated_fat_per_gram,[25,75])\n"
      ],
      "metadata": {
        "id": "2f68YBQpAZ-E"
      },
      "execution_count": 28,
      "outputs": []
    },
    {
      "cell_type": "code",
      "source": [
        "#computing the iqr value\n",
        "iqr=qtr3-qtr1"
      ],
      "metadata": {
        "id": "UOA4rssjBPuN"
      },
      "execution_count": 29,
      "outputs": []
    },
    {
      "cell_type": "code",
      "source": [
        "#displaying the iqr value\n",
        "iqr"
      ],
      "metadata": {
        "colab": {
          "base_uri": "https://localhost:8080/"
        },
        "id": "eLCg-PqpBZ44",
        "outputId": "f3e6f32a-5fa7-45d2-82d1-1e9777e32a1a"
      },
      "execution_count": 30,
      "outputs": [
        {
          "output_type": "execute_result",
          "data": {
            "text/plain": [
              "0.7159620336105643"
            ]
          },
          "metadata": {},
          "execution_count": 30
        }
      ]
    },
    {
      "cell_type": "code",
      "source": [
        "#lower and upper bound of outliers\n",
        "lower_bound=qtr1-(1.5 * iqr)\n",
        "upper_bound=qtr3 +(1.5 * iqr)\n"
      ],
      "metadata": {
        "id": "Jpxw1y-iCADJ"
      },
      "execution_count": 32,
      "outputs": []
    },
    {
      "cell_type": "code",
      "source": [
        "#computing the lower bound\n",
        "lower_bound"
      ],
      "metadata": {
        "colab": {
          "base_uri": "https://localhost:8080/"
        },
        "id": "akgkrZrnCKCN",
        "outputId": "5ea328c0-a28f-44fb-91b6-f5464a392dec"
      },
      "execution_count": 33,
      "outputs": [
        {
          "output_type": "execute_result",
          "data": {
            "text/plain": [
              "-1.6359856281662282"
            ]
          },
          "metadata": {},
          "execution_count": 33
        }
      ]
    },
    {
      "cell_type": "code",
      "source": [
        "# computing the upper bound\n",
        "upper_bound"
      ],
      "metadata": {
        "colab": {
          "base_uri": "https://localhost:8080/"
        },
        "id": "XnZv7UOkCLEB",
        "outputId": "52a6747e-6eea-4cfb-d681-d34ad0ba61c3"
      },
      "execution_count": 34,
      "outputs": [
        {
          "output_type": "execute_result",
          "data": {
            "text/plain": [
              "1.227862506276029"
            ]
          },
          "metadata": {},
          "execution_count": 34
        }
      ]
    },
    {
      "cell_type": "code",
      "source": [
        "# items displaying the low and high end scale\n",
        "nutrition_DF.loc[(nutrition_DF.saturated_fat_per_gram<lower_bound) | (nutrition_DF.saturated_fat_per_gram> upper_bound) ]"
      ],
      "metadata": {
        "colab": {
          "base_uri": "https://localhost:8080/",
          "height": 423
        },
        "id": "maAS9I_hHzOp",
        "outputId": "81ad2055-8abc-47d1-e198-0380a8c54beb"
      },
      "execution_count": 39,
      "outputs": [
        {
          "output_type": "execute_result",
          "data": {
            "text/plain": [
              "                                  food item  weight_in_grams  saturated_fat  \\\n",
              "3    PARMESAN CHEESE; GRATED       1 OZ                28.35            5.4   \n",
              "4    PARMESAN CHEESE; GRATED       1 CUP              100.00           19.1   \n",
              "5    PARMESAN CHEESE; GRATED       1 TBSP               5.00            1.0   \n",
              "18   PORK; CURED; BACON; REGUL;CKED3 SLICE             19.00            3.3   \n",
              "36   SWISS CHEESE                  1 OZ                28.35            5.0   \n",
              "..                                      ...              ...            ...   \n",
              "930  WHIPPING CREAM; UNWHIPED;LIGHT1 TBSP              15.00            2.9   \n",
              "936  IMITATN WHIPD TOPING;PRESSRZD 1 TBSP               4.00            0.8   \n",
              "939  SOUR CREAM                    1 TBSP              12.00            1.6   \n",
              "940  LIGHT; COFFEE OR TABLE CREAM  1 TBSP              15.00            1.8   \n",
              "942  IMITATN SOUR DRESSING         1 TBSP              12.00            1.6   \n",
              "\n",
              "     cholesterol  saturated_fat_per_gram  \n",
              "3             22                2.318264  \n",
              "4             79                2.326185  \n",
              "5              4                2.462280  \n",
              "18            16                2.064343  \n",
              "36            26                2.104908  \n",
              "..           ...                     ...  \n",
              "930           17                2.361469  \n",
              "936            0                2.462280  \n",
              "939            5                1.454172  \n",
              "940           10                1.252551  \n",
              "942            1                1.454172  \n",
              "\n",
              "[85 rows x 5 columns]"
            ],
            "text/html": [
              "\n",
              "  <div id=\"df-2a97f739-1da8-4eae-ac85-d10c001c5341\">\n",
              "    <div class=\"colab-df-container\">\n",
              "      <div>\n",
              "<style scoped>\n",
              "    .dataframe tbody tr th:only-of-type {\n",
              "        vertical-align: middle;\n",
              "    }\n",
              "\n",
              "    .dataframe tbody tr th {\n",
              "        vertical-align: top;\n",
              "    }\n",
              "\n",
              "    .dataframe thead th {\n",
              "        text-align: right;\n",
              "    }\n",
              "</style>\n",
              "<table border=\"1\" class=\"dataframe\">\n",
              "  <thead>\n",
              "    <tr style=\"text-align: right;\">\n",
              "      <th></th>\n",
              "      <th>food item</th>\n",
              "      <th>weight_in_grams</th>\n",
              "      <th>saturated_fat</th>\n",
              "      <th>cholesterol</th>\n",
              "      <th>saturated_fat_per_gram</th>\n",
              "    </tr>\n",
              "  </thead>\n",
              "  <tbody>\n",
              "    <tr>\n",
              "      <th>3</th>\n",
              "      <td>PARMESAN CHEESE; GRATED       1 OZ</td>\n",
              "      <td>28.35</td>\n",
              "      <td>5.4</td>\n",
              "      <td>22</td>\n",
              "      <td>2.318264</td>\n",
              "    </tr>\n",
              "    <tr>\n",
              "      <th>4</th>\n",
              "      <td>PARMESAN CHEESE; GRATED       1 CUP</td>\n",
              "      <td>100.00</td>\n",
              "      <td>19.1</td>\n",
              "      <td>79</td>\n",
              "      <td>2.326185</td>\n",
              "    </tr>\n",
              "    <tr>\n",
              "      <th>5</th>\n",
              "      <td>PARMESAN CHEESE; GRATED       1 TBSP</td>\n",
              "      <td>5.00</td>\n",
              "      <td>1.0</td>\n",
              "      <td>4</td>\n",
              "      <td>2.462280</td>\n",
              "    </tr>\n",
              "    <tr>\n",
              "      <th>18</th>\n",
              "      <td>PORK; CURED; BACON; REGUL;CKED3 SLICE</td>\n",
              "      <td>19.00</td>\n",
              "      <td>3.3</td>\n",
              "      <td>16</td>\n",
              "      <td>2.064343</td>\n",
              "    </tr>\n",
              "    <tr>\n",
              "      <th>36</th>\n",
              "      <td>SWISS CHEESE                  1 OZ</td>\n",
              "      <td>28.35</td>\n",
              "      <td>5.0</td>\n",
              "      <td>26</td>\n",
              "      <td>2.104908</td>\n",
              "    </tr>\n",
              "    <tr>\n",
              "      <th>...</th>\n",
              "      <td>...</td>\n",
              "      <td>...</td>\n",
              "      <td>...</td>\n",
              "      <td>...</td>\n",
              "      <td>...</td>\n",
              "    </tr>\n",
              "    <tr>\n",
              "      <th>930</th>\n",
              "      <td>WHIPPING CREAM; UNWHIPED;LIGHT1 TBSP</td>\n",
              "      <td>15.00</td>\n",
              "      <td>2.9</td>\n",
              "      <td>17</td>\n",
              "      <td>2.361469</td>\n",
              "    </tr>\n",
              "    <tr>\n",
              "      <th>936</th>\n",
              "      <td>IMITATN WHIPD TOPING;PRESSRZD 1 TBSP</td>\n",
              "      <td>4.00</td>\n",
              "      <td>0.8</td>\n",
              "      <td>0</td>\n",
              "      <td>2.462280</td>\n",
              "    </tr>\n",
              "    <tr>\n",
              "      <th>939</th>\n",
              "      <td>SOUR CREAM                    1 TBSP</td>\n",
              "      <td>12.00</td>\n",
              "      <td>1.6</td>\n",
              "      <td>5</td>\n",
              "      <td>1.454172</td>\n",
              "    </tr>\n",
              "    <tr>\n",
              "      <th>940</th>\n",
              "      <td>LIGHT; COFFEE OR TABLE CREAM  1 TBSP</td>\n",
              "      <td>15.00</td>\n",
              "      <td>1.8</td>\n",
              "      <td>10</td>\n",
              "      <td>1.252551</td>\n",
              "    </tr>\n",
              "    <tr>\n",
              "      <th>942</th>\n",
              "      <td>IMITATN SOUR DRESSING         1 TBSP</td>\n",
              "      <td>12.00</td>\n",
              "      <td>1.6</td>\n",
              "      <td>1</td>\n",
              "      <td>1.454172</td>\n",
              "    </tr>\n",
              "  </tbody>\n",
              "</table>\n",
              "<p>85 rows × 5 columns</p>\n",
              "</div>\n",
              "      <button class=\"colab-df-convert\" onclick=\"convertToInteractive('df-2a97f739-1da8-4eae-ac85-d10c001c5341')\"\n",
              "              title=\"Convert this dataframe to an interactive table.\"\n",
              "              style=\"display:none;\">\n",
              "        \n",
              "  <svg xmlns=\"http://www.w3.org/2000/svg\" height=\"24px\"viewBox=\"0 0 24 24\"\n",
              "       width=\"24px\">\n",
              "    <path d=\"M0 0h24v24H0V0z\" fill=\"none\"/>\n",
              "    <path d=\"M18.56 5.44l.94 2.06.94-2.06 2.06-.94-2.06-.94-.94-2.06-.94 2.06-2.06.94zm-11 1L8.5 8.5l.94-2.06 2.06-.94-2.06-.94L8.5 2.5l-.94 2.06-2.06.94zm10 10l.94 2.06.94-2.06 2.06-.94-2.06-.94-.94-2.06-.94 2.06-2.06.94z\"/><path d=\"M17.41 7.96l-1.37-1.37c-.4-.4-.92-.59-1.43-.59-.52 0-1.04.2-1.43.59L10.3 9.45l-7.72 7.72c-.78.78-.78 2.05 0 2.83L4 21.41c.39.39.9.59 1.41.59.51 0 1.02-.2 1.41-.59l7.78-7.78 2.81-2.81c.8-.78.8-2.07 0-2.86zM5.41 20L4 18.59l7.72-7.72 1.47 1.35L5.41 20z\"/>\n",
              "  </svg>\n",
              "      </button>\n",
              "      \n",
              "  <style>\n",
              "    .colab-df-container {\n",
              "      display:flex;\n",
              "      flex-wrap:wrap;\n",
              "      gap: 12px;\n",
              "    }\n",
              "\n",
              "    .colab-df-convert {\n",
              "      background-color: #E8F0FE;\n",
              "      border: none;\n",
              "      border-radius: 50%;\n",
              "      cursor: pointer;\n",
              "      display: none;\n",
              "      fill: #1967D2;\n",
              "      height: 32px;\n",
              "      padding: 0 0 0 0;\n",
              "      width: 32px;\n",
              "    }\n",
              "\n",
              "    .colab-df-convert:hover {\n",
              "      background-color: #E2EBFA;\n",
              "      box-shadow: 0px 1px 2px rgba(60, 64, 67, 0.3), 0px 1px 3px 1px rgba(60, 64, 67, 0.15);\n",
              "      fill: #174EA6;\n",
              "    }\n",
              "\n",
              "    [theme=dark] .colab-df-convert {\n",
              "      background-color: #3B4455;\n",
              "      fill: #D2E3FC;\n",
              "    }\n",
              "\n",
              "    [theme=dark] .colab-df-convert:hover {\n",
              "      background-color: #434B5C;\n",
              "      box-shadow: 0px 1px 3px 1px rgba(0, 0, 0, 0.15);\n",
              "      filter: drop-shadow(0px 1px 2px rgba(0, 0, 0, 0.3));\n",
              "      fill: #FFFFFF;\n",
              "    }\n",
              "  </style>\n",
              "\n",
              "      <script>\n",
              "        const buttonEl =\n",
              "          document.querySelector('#df-2a97f739-1da8-4eae-ac85-d10c001c5341 button.colab-df-convert');\n",
              "        buttonEl.style.display =\n",
              "          google.colab.kernel.accessAllowed ? 'block' : 'none';\n",
              "\n",
              "        async function convertToInteractive(key) {\n",
              "          const element = document.querySelector('#df-2a97f739-1da8-4eae-ac85-d10c001c5341');\n",
              "          const dataTable =\n",
              "            await google.colab.kernel.invokeFunction('convertToInteractive',\n",
              "                                                     [key], {});\n",
              "          if (!dataTable) return;\n",
              "\n",
              "          const docLinkHtml = 'Like what you see? Visit the ' +\n",
              "            '<a target=\"_blank\" href=https://colab.research.google.com/notebooks/data_table.ipynb>data table notebook</a>'\n",
              "            + ' to learn more about interactive tables.';\n",
              "          element.innerHTML = '';\n",
              "          dataTable['output_type'] = 'display_data';\n",
              "          await google.colab.output.renderOutput(dataTable, element);\n",
              "          const docLink = document.createElement('div');\n",
              "          docLink.innerHTML = docLinkHtml;\n",
              "          element.appendChild(docLink);\n",
              "        }\n",
              "      </script>\n",
              "    </div>\n",
              "  </div>\n",
              "  "
            ]
          },
          "metadata": {},
          "execution_count": 39
        }
      ]
    },
    {
      "cell_type": "code",
      "source": [
        "# matplotlib. pyplot is a collection of command style functions that make matplotlib work like MATLAB\n",
        "import matplotlib.pyplot as plt"
      ],
      "metadata": {
        "id": "rLQZlbwnJBHc"
      },
      "execution_count": 45,
      "outputs": []
    },
    {
      "cell_type": "code",
      "source": [
        "# Plotting for scaled saturated fat per gram\n",
        "nutrition_DF.saturated_fat_per_gram.plot.density(color=\"navy\")\n",
        "plt.title('plot for scaled saturated_fat_per_gram')\n",
        "plt.show()"
      ],
      "metadata": {
        "colab": {
          "base_uri": "https://localhost:8080/",
          "height": 281
        },
        "id": "ynROJL9AJj-0",
        "outputId": "85251eb1-96a7-4b43-987c-fdcadade98be"
      },
      "execution_count": 51,
      "outputs": [
        {
          "output_type": "display_data",
          "data": {
            "text/plain": [
              "<Figure size 432x288 with 1 Axes>"
            ],
            "image/png": "[encoded data removed]"
          },
          "metadata": {
            "needs_background": "light"
          }
        }
      ]
    },
    {
      "cell_type": "code",
      "source": [
        "# plotting the unscaled saturated fat per gram\n",
        "nutrition_DF.saturated_fat_per_gram.plot.density(color=\"purple\")\n",
        "plt.title('plot for Unscaled saturated_fat_per_gram')\n",
        "plt.show()\n",
        "\n"
      ],
      "metadata": {
        "colab": {
          "base_uri": "https://localhost:8080/",
          "height": 281
        },
        "id": "flVX5ThiIgj_",
        "outputId": "5cb33175-8877-4398-8add-35404092cb4e"
      },
      "execution_count": 47,
      "outputs": [
        {
          "output_type": "display_data",
          "data": {
            "text/plain": [
              "<Figure size 432x288 with 1 Axes>"
            ],
            "image/png": "[encoded data removed]"
          },
          "metadata": {
            "needs_background": "light"
          }
        }
      ]
    },
    {
      "cell_type": "markdown",
      "source": [
        "**6.Are there any missing values? If so, impute as necessary and explain your approach.**"
      ],
      "metadata": {
        "id": "TXFgjEVPKArC"
      }
    },
    {
      "cell_type": "code",
      "source": [
        "# checking if there is null values\n",
        "nutrition_DF.isnull().sum()"
      ],
      "metadata": {
        "colab": {
          "base_uri": "https://localhost:8080/"
        },
        "id": "vzdYkqFUKEoC",
        "outputId": "7a20ae70-9900-4018-91b8-98928f4f879f"
      },
      "execution_count": 52,
      "outputs": [
        {
          "output_type": "execute_result",
          "data": {
            "text/plain": [
              "food item                 0\n",
              "weight_in_grams           0\n",
              "saturated_fat             0\n",
              "cholesterol               0\n",
              "saturated_fat_per_gram    0\n",
              "dtype: int64"
            ]
          },
          "metadata": {},
          "execution_count": 52
        }
      ]
    },
    {
      "cell_type": "markdown",
      "source": [
        "From the above we can clearly say that there is no null values ."
      ],
      "metadata": {
        "id": "aARGtEwwKPn1"
      }
    },
    {
      "cell_type": "markdown",
      "source": [
        "**7.Standardize (zero mean) the numeric variables, and determine if there are any outliers.**"
      ],
      "metadata": {
        "id": "svfcNZNPKPkf"
      }
    },
    {
      "cell_type": "markdown",
      "source": [
        "Here im applying the Standardize (zero mean) for all the numeric values in the data. hence, im doing for all the columns which contain numeric values like weight_in_grams,\t\n",
        "\tcholesterol,    \n",
        "saturated_fat_per_gram"
      ],
      "metadata": {
        "id": "qz2-LotFKjhA"
      }
    },
    {
      "cell_type": "code",
      "source": [
        "# apply z-score to standardize weight in gram\n",
        "mean = nutrition_DF.weight_in_grams.mean()\n",
        "std = nutrition_DF.weight_in_grams.std()\n",
        "nutrition_DF.weight_in_grams = (nutrition_DF.weight_in_grams-mean)/std\n",
        "nutrition_DF\n"
      ],
      "metadata": {
        "colab": {
          "base_uri": "https://localhost:8080/",
          "height": 423
        },
        "id": "SvP1ELNmMUhE",
        "outputId": "81f754bd-93d9-4b1e-8074-de5ba2774dfa"
      },
      "execution_count": 53,
      "outputs": [
        {
          "output_type": "execute_result",
          "data": {
            "text/plain": [
              "                                  food item  weight_in_grams  saturated_fat  \\\n",
              "0    GELATIN; DRY                  1 ENVELP        -0.809561            0.0   \n",
              "1    SEAWEED; SPIRULINA; DRIED     1 OZ            -0.688192            0.8   \n",
              "2    YEAST; BAKERS; DRY; ACTIVE    1 PKG           -0.809561            0.0   \n",
              "3    PARMESAN CHEESE; GRATED       1 OZ            -0.688192            5.4   \n",
              "4    PARMESAN CHEESE; GRATED       1 CUP           -0.280880           19.1   \n",
              "..                                      ...              ...            ...   \n",
              "956  COFFEE; BREWED                6 FL OZ          0.173900            0.0   \n",
              "957  TEA; BREWED                   8 FL OZ          0.514985            0.0   \n",
              "958  TEA; INSTANT;PREPRD;UNSWEETEND8 FL OZ          0.520669            0.0   \n",
              "959  LETTUCE; BUTTERHEAD; RAW;LEAVE1 LEAF          -0.764083            0.0   \n",
              "960  SALT                          1 TSP           -0.818088            0.0   \n",
              "\n",
              "     cholesterol  saturated_fat_per_gram  \n",
              "0              0               -0.562043  \n",
              "1              0               -0.135330  \n",
              "2              0               -0.562043  \n",
              "3             22                2.318264  \n",
              "4             79                2.326185  \n",
              "..           ...                     ...  \n",
              "956            0               -0.562043  \n",
              "957            0               -0.562043  \n",
              "958            0               -0.562043  \n",
              "959            0               -0.562043  \n",
              "960            0               -0.562043  \n",
              "\n",
              "[961 rows x 5 columns]"
            ],
            "text/html": [
              "\n",
              "  <div id=\"df-27d3782a-90fe-40a4-9795-ea194e4dd037\">\n",
              "    <div class=\"colab-df-container\">\n",
              "      <div>\n",
              "<style scoped>\n",
              "    .dataframe tbody tr th:only-of-type {\n",
              "        vertical-align: middle;\n",
              "    }\n",
              "\n",
              "    .dataframe tbody tr th {\n",
              "        vertical-align: top;\n",
              "    }\n",
              "\n",
              "    .dataframe thead th {\n",
              "        text-align: right;\n",
              "    }\n",
              "</style>\n",
              "<table border=\"1\" class=\"dataframe\">\n",
              "  <thead>\n",
              "    <tr style=\"text-align: right;\">\n",
              "      <th></th>\n",
              "      <th>food item</th>\n",
              "      <th>weight_in_grams</th>\n",
              "      <th>saturated_fat</th>\n",
              "      <th>cholesterol</th>\n",
              "      <th>saturated_fat_per_gram</th>\n",
              "    </tr>\n",
              "  </thead>\n",
              "  <tbody>\n",
              "    <tr>\n",
              "      <th>0</th>\n",
              "      <td>GELATIN; DRY                  1 ENVELP</td>\n",
              "      <td>-0.809561</td>\n",
              "      <td>0.0</td>\n",
              "      <td>0</td>\n",
              "      <td>-0.562043</td>\n",
              "    </tr>\n",
              "    <tr>\n",
              "      <th>1</th>\n",
              "      <td>SEAWEED; SPIRULINA; DRIED     1 OZ</td>\n",
              "      <td>-0.688192</td>\n",
              "      <td>0.8</td>\n",
              "      <td>0</td>\n",
              "      <td>-0.135330</td>\n",
              "    </tr>\n",
              "    <tr>\n",
              "      <th>2</th>\n",
              "      <td>YEAST; BAKERS; DRY; ACTIVE    1 PKG</td>\n",
              "      <td>-0.809561</td>\n",
              "      <td>0.0</td>\n",
              "      <td>0</td>\n",
              "      <td>-0.562043</td>\n",
              "    </tr>\n",
              "    <tr>\n",
              "      <th>3</th>\n",
              "      <td>PARMESAN CHEESE; GRATED       1 OZ</td>\n",
              "      <td>-0.688192</td>\n",
              "      <td>5.4</td>\n",
              "      <td>22</td>\n",
              "      <td>2.318264</td>\n",
              "    </tr>\n",
              "    <tr>\n",
              "      <th>4</th>\n",
              "      <td>PARMESAN CHEESE; GRATED       1 CUP</td>\n",
              "      <td>-0.280880</td>\n",
              "      <td>19.1</td>\n",
              "      <td>79</td>\n",
              "      <td>2.326185</td>\n",
              "    </tr>\n",
              "    <tr>\n",
              "      <th>...</th>\n",
              "      <td>...</td>\n",
              "      <td>...</td>\n",
              "      <td>...</td>\n",
              "      <td>...</td>\n",
              "      <td>...</td>\n",
              "    </tr>\n",
              "    <tr>\n",
              "      <th>956</th>\n",
              "      <td>COFFEE; BREWED                6 FL OZ</td>\n",
              "      <td>0.173900</td>\n",
              "      <td>0.0</td>\n",
              "      <td>0</td>\n",
              "      <td>-0.562043</td>\n",
              "    </tr>\n",
              "    <tr>\n",
              "      <th>957</th>\n",
              "      <td>TEA; BREWED                   8 FL OZ</td>\n",
              "      <td>0.514985</td>\n",
              "      <td>0.0</td>\n",
              "      <td>0</td>\n",
              "      <td>-0.562043</td>\n",
              "    </tr>\n",
              "    <tr>\n",
              "      <th>958</th>\n",
              "      <td>TEA; INSTANT;PREPRD;UNSWEETEND8 FL OZ</td>\n",
              "      <td>0.520669</td>\n",
              "      <td>0.0</td>\n",
              "      <td>0</td>\n",
              "      <td>-0.562043</td>\n",
              "    </tr>\n",
              "    <tr>\n",
              "      <th>959</th>\n",
              "      <td>LETTUCE; BUTTERHEAD; RAW;LEAVE1 LEAF</td>\n",
              "      <td>-0.764083</td>\n",
              "      <td>0.0</td>\n",
              "      <td>0</td>\n",
              "      <td>-0.562043</td>\n",
              "    </tr>\n",
              "    <tr>\n",
              "      <th>960</th>\n",
              "      <td>SALT                          1 TSP</td>\n",
              "      <td>-0.818088</td>\n",
              "      <td>0.0</td>\n",
              "      <td>0</td>\n",
              "      <td>-0.562043</td>\n",
              "    </tr>\n",
              "  </tbody>\n",
              "</table>\n",
              "<p>961 rows × 5 columns</p>\n",
              "</div>\n",
              "      <button class=\"colab-df-convert\" onclick=\"convertToInteractive('df-27d3782a-90fe-40a4-9795-ea194e4dd037')\"\n",
              "              title=\"Convert this dataframe to an interactive table.\"\n",
              "              style=\"display:none;\">\n",
              "        \n",
              "  <svg xmlns=\"http://www.w3.org/2000/svg\" height=\"24px\"viewBox=\"0 0 24 24\"\n",
              "       width=\"24px\">\n",
              "    <path d=\"M0 0h24v24H0V0z\" fill=\"none\"/>\n",
              "    <path d=\"M18.56 5.44l.94 2.06.94-2.06 2.06-.94-2.06-.94-.94-2.06-.94 2.06-2.06.94zm-11 1L8.5 8.5l.94-2.06 2.06-.94-2.06-.94L8.5 2.5l-.94 2.06-2.06.94zm10 10l.94 2.06.94-2.06 2.06-.94-2.06-.94-.94-2.06-.94 2.06-2.06.94z\"/><path d=\"M17.41 7.96l-1.37-1.37c-.4-.4-.92-.59-1.43-.59-.52 0-1.04.2-1.43.59L10.3 9.45l-7.72 7.72c-.78.78-.78 2.05 0 2.83L4 21.41c.39.39.9.59 1.41.59.51 0 1.02-.2 1.41-.59l7.78-7.78 2.81-2.81c.8-.78.8-2.07 0-2.86zM5.41 20L4 18.59l7.72-7.72 1.47 1.35L5.41 20z\"/>\n",
              "  </svg>\n",
              "      </button>\n",
              "      \n",
              "  <style>\n",
              "    .colab-df-container {\n",
              "      display:flex;\n",
              "      flex-wrap:wrap;\n",
              "      gap: 12px;\n",
              "    }\n",
              "\n",
              "    .colab-df-convert {\n",
              "      background-color: #E8F0FE;\n",
              "      border: none;\n",
              "      border-radius: 50%;\n",
              "      cursor: pointer;\n",
              "      display: none;\n",
              "      fill: #1967D2;\n",
              "      height: 32px;\n",
              "      padding: 0 0 0 0;\n",
              "      width: 32px;\n",
              "    }\n",
              "\n",
              "    .colab-df-convert:hover {\n",
              "      background-color: #E2EBFA;\n",
              "      box-shadow: 0px 1px 2px rgba(60, 64, 67, 0.3), 0px 1px 3px 1px rgba(60, 64, 67, 0.15);\n",
              "      fill: #174EA6;\n",
              "    }\n",
              "\n",
              "    [theme=dark] .colab-df-convert {\n",
              "      background-color: #3B4455;\n",
              "      fill: #D2E3FC;\n",
              "    }\n",
              "\n",
              "    [theme=dark] .colab-df-convert:hover {\n",
              "      background-color: #434B5C;\n",
              "      box-shadow: 0px 1px 3px 1px rgba(0, 0, 0, 0.15);\n",
              "      filter: drop-shadow(0px 1px 2px rgba(0, 0, 0, 0.3));\n",
              "      fill: #FFFFFF;\n",
              "    }\n",
              "  </style>\n",
              "\n",
              "      <script>\n",
              "        const buttonEl =\n",
              "          document.querySelector('#df-27d3782a-90fe-40a4-9795-ea194e4dd037 button.colab-df-convert');\n",
              "        buttonEl.style.display =\n",
              "          google.colab.kernel.accessAllowed ? 'block' : 'none';\n",
              "\n",
              "        async function convertToInteractive(key) {\n",
              "          const element = document.querySelector('#df-27d3782a-90fe-40a4-9795-ea194e4dd037');\n",
              "          const dataTable =\n",
              "            await google.colab.kernel.invokeFunction('convertToInteractive',\n",
              "                                                     [key], {});\n",
              "          if (!dataTable) return;\n",
              "\n",
              "          const docLinkHtml = 'Like what you see? Visit the ' +\n",
              "            '<a target=\"_blank\" href=https://colab.research.google.com/notebooks/data_table.ipynb>data table notebook</a>'\n",
              "            + ' to learn more about interactive tables.';\n",
              "          element.innerHTML = '';\n",
              "          dataTable['output_type'] = 'display_data';\n",
              "          await google.colab.output.renderOutput(dataTable, element);\n",
              "          const docLink = document.createElement('div');\n",
              "          docLink.innerHTML = docLinkHtml;\n",
              "          element.appendChild(docLink);\n",
              "        }\n",
              "      </script>\n",
              "    </div>\n",
              "  </div>\n",
              "  "
            ]
          },
          "metadata": {},
          "execution_count": 53
        }
      ]
    },
    {
      "cell_type": "code",
      "source": [
        "#computing the iqr value\n",
        "qtr1,qtr3 = np.percentile(nutrition_DF.weight_in_grams,[25,75])\n",
        "iqr=qtr3-qtr1\n",
        "iqr"
      ],
      "metadata": {
        "colab": {
          "base_uri": "https://localhost:8080/"
        },
        "id": "AiFlC6LmMb4U",
        "outputId": "50932178-4af7-4d3c-ea29-2d5c01ebca2a"
      },
      "execution_count": 54,
      "outputs": [
        {
          "output_type": "execute_result",
          "data": {
            "text/plain": [
              "1.0573627439533382"
            ]
          },
          "metadata": {},
          "execution_count": 54
        }
      ]
    },
    {
      "cell_type": "code",
      "source": [
        "#lower and upper bound of outliers\n",
        "lower_bound=qtr1-(1.5 * iqr)\n",
        "upper_bound=qtr3 +(1.5 * iqr)"
      ],
      "metadata": {
        "id": "xbAyqru-Mc7K"
      },
      "execution_count": 55,
      "outputs": []
    },
    {
      "cell_type": "code",
      "source": [
        "# computing the lower bound\n",
        "lower_bound"
      ],
      "metadata": {
        "colab": {
          "base_uri": "https://localhost:8080/"
        },
        "id": "oNTDYHydMifs",
        "outputId": "2d310cf2-3f7a-4553-c55f-d6e2797ac17a"
      },
      "execution_count": 56,
      "outputs": [
        {
          "output_type": "execute_result",
          "data": {
            "text/plain": [
              "-2.2534865277621754"
            ]
          },
          "metadata": {},
          "execution_count": 56
        }
      ]
    },
    {
      "cell_type": "code",
      "source": [
        "# computing the upper bound\n",
        "upper_bound"
      ],
      "metadata": {
        "colab": {
          "base_uri": "https://localhost:8080/"
        },
        "id": "AdNL8kdbMk4S",
        "outputId": "dba7c6f5-f600-4a9b-fe5b-2a1779309eb4"
      },
      "execution_count": 57,
      "outputs": [
        {
          "output_type": "execute_result",
          "data": {
            "text/plain": [
              "1.975964448051177"
            ]
          },
          "metadata": {},
          "execution_count": 57
        }
      ]
    },
    {
      "cell_type": "code",
      "source": [
        "# items displaying the low and high end scale in weight in grams\n",
        "nutrition_DF.loc[(nutrition_DF.weight_in_grams<lower_bound) | (nutrition_DF.weight_in_grams> upper_bound)]"
      ],
      "metadata": {
        "colab": {
          "base_uri": "https://localhost:8080/",
          "height": 896
        },
        "id": "DV4FZ4QxMv7O",
        "outputId": "94763758-6d74-4a43-eb15-4358dfba9725"
      },
      "execution_count": 59,
      "outputs": [
        {
          "output_type": "execute_result",
          "data": {
            "text/plain": [
              "                                  food item  weight_in_grams  saturated_fat  \\\n",
              "351  POUND CAKE; FROM HOME RECIPE  1 LOAF           2.072605           21.1   \n",
              "361  CUSTARD PIE                   1 PIE            4.323765           33.7   \n",
              "365  ANGELFOOD CAKE; FROM MIX      1 CAKE           2.760459            0.4   \n",
              "376  FRUITCAKE;DARK; FROM HOMERECIP1 CAKE           6.887585           47.6   \n",
              "378  CHEESECAKE                    1 CAKE           5.460714          119.9   \n",
              "384  POUND CAKE; COMMERCIAL        1 LOAF           1.993019           52.0   \n",
              "386  PECAN PIE                     1 PIE            3.840561           28.1   \n",
              "406  SHEETCAKE W/O FRSTNG;HOMERECIP1 CAKE           3.567693           29.5   \n",
              "410  DEVIL'S FOOD CAKE;CHOCFRST;FMX1 CAKE           5.443659           55.6   \n",
              "422  CARROT CAKE;CREMCHESE FRST;REC1 CAKE           7.882415           66.0   \n",
              "423  YELLOW CAKE W/ CHOC FRST;FRMIX1 CAKE           5.449344           47.8   \n",
              "430  PUMPKIN PIE                   1 PIE            4.323765           38.2   \n",
              "433  ICE MILK; VANILLA; 4% FAT     1/2 GAL          5.108259           28.1   \n",
              "445  WHITE CAKE W/ WHT FRSTNG;COMML1 CAKE           5.631256           33.1   \n",
              "452  LEMON MERINGUE PIE            1 PIE            3.925832           26.0   \n",
              "458  YELLOWCAKE W/ CHOCFRSTNG;COMML1 CAKE           5.449344           92.0   \n",
              "466  ICE CREAM; VANLLA; REGULR 11% 1/2 GALN         5.199215           71.3   \n",
              "479  SHEETCAKE;W/ WHFRSTNG;HOMERCIP1 CAKE           5.381127           41.6   \n",
              "504  GINGERBREAD CAKE; FROM MIX    1 CAKE           2.390951            9.6   \n",
              "535  ICE CREAM; VANLLA; RICH 16% FT1/2 GAL          5.904124          118.3   \n",
              "539  CHERRY PIE                    1 PIE            4.522731           28.4   \n",
              "545  PEACH PIE                     1 PIE            4.522731           24.6   \n",
              "556  BLUEBERRY PIE                 1 PIE            4.522731           25.5   \n",
              "579  APPLE PIE                     1 PIE            4.522731           27.4   \n",
              "581  CREME PIE                     1 PIE            4.323765           90.1   \n",
              "696  SHERBET; 2% FAT               1/2 GAL          7.916524           19.0   \n",
              "707  LETTUCE; CRISPHEAD; RAW; HEAD 1 HEAD           2.214724            0.1   \n",
              "\n",
              "     cholesterol  saturated_fat_per_gram  \n",
              "351          555                0.058708  \n",
              "361         1010               -0.002044  \n",
              "365            0               -0.552517  \n",
              "376          640               -0.033175  \n",
              "378         2053                1.071364  \n",
              "384         1100                1.010605  \n",
              "386          569               -0.046991  \n",
              "406          552                0.012073  \n",
              "410          598                0.197453  \n",
              "422         1183                0.087714  \n",
              "423          576                0.090316  \n",
              "430          655                0.072733  \n",
              "433          146               -0.156587  \n",
              "445           46               -0.122985  \n",
              "452          857               -0.093993  \n",
              "458          609                0.693543  \n",
              "466          476                0.451276  \n",
              "479          636                0.011916  \n",
              "504            6               -0.307363  \n",
              "535          703                0.943754  \n",
              "539            0               -0.107594  \n",
              "545            0               -0.168401  \n",
              "556            0               -0.153999  \n",
              "579            0               -0.123596  \n",
              "581           46                0.935163  \n",
              "696          113               -0.375719  \n",
              "707            0               -0.559237  "
            ],
            "text/html": [
              "\n",
              "  <div id=\"df-232939cb-2d72-4e38-99fe-d14beb81012d\">\n",
              "    <div class=\"colab-df-container\">\n",
              "      <div>\n",
              "<style scoped>\n",
              "    .dataframe tbody tr th:only-of-type {\n",
              "        vertical-align: middle;\n",
              "    }\n",
              "\n",
              "    .dataframe tbody tr th {\n",
              "        vertical-align: top;\n",
              "    }\n",
              "\n",
              "    .dataframe thead th {\n",
              "        text-align: right;\n",
              "    }\n",
              "</style>\n",
              "<table border=\"1\" class=\"dataframe\">\n",
              "  <thead>\n",
              "    <tr style=\"text-align: right;\">\n",
              "      <th></th>\n",
              "      <th>food item</th>\n",
              "      <th>weight_in_grams</th>\n",
              "      <th>saturated_fat</th>\n",
              "      <th>cholesterol</th>\n",
              "      <th>saturated_fat_per_gram</th>\n",
              "    </tr>\n",
              "  </thead>\n",
              "  <tbody>\n",
              "    <tr>\n",
              "      <th>351</th>\n",
              "      <td>POUND CAKE; FROM HOME RECIPE  1 LOAF</td>\n",
              "      <td>2.072605</td>\n",
              "      <td>21.1</td>\n",
              "      <td>555</td>\n",
              "      <td>0.058708</td>\n",
              "    </tr>\n",
              "    <tr>\n",
              "      <th>361</th>\n",
              "      <td>CUSTARD PIE                   1 PIE</td>\n",
              "      <td>4.323765</td>\n",
              "      <td>33.7</td>\n",
              "      <td>1010</td>\n",
              "      <td>-0.002044</td>\n",
              "    </tr>\n",
              "    <tr>\n",
              "      <th>365</th>\n",
              "      <td>ANGELFOOD CAKE; FROM MIX      1 CAKE</td>\n",
              "      <td>2.760459</td>\n",
              "      <td>0.4</td>\n",
              "      <td>0</td>\n",
              "      <td>-0.552517</td>\n",
              "    </tr>\n",
              "    <tr>\n",
              "      <th>376</th>\n",
              "      <td>FRUITCAKE;DARK; FROM HOMERECIP1 CAKE</td>\n",
              "      <td>6.887585</td>\n",
              "      <td>47.6</td>\n",
              "      <td>640</td>\n",
              "      <td>-0.033175</td>\n",
              "    </tr>\n",
              "    <tr>\n",
              "      <th>378</th>\n",
              "      <td>CHEESECAKE                    1 CAKE</td>\n",
              "      <td>5.460714</td>\n",
              "      <td>119.9</td>\n",
              "      <td>2053</td>\n",
              "      <td>1.071364</td>\n",
              "    </tr>\n",
              "    <tr>\n",
              "      <th>384</th>\n",
              "      <td>POUND CAKE; COMMERCIAL        1 LOAF</td>\n",
              "      <td>1.993019</td>\n",
              "      <td>52.0</td>\n",
              "      <td>1100</td>\n",
              "      <td>1.010605</td>\n",
              "    </tr>\n",
              "    <tr>\n",
              "      <th>386</th>\n",
              "      <td>PECAN PIE                     1 PIE</td>\n",
              "      <td>3.840561</td>\n",
              "      <td>28.1</td>\n",
              "      <td>569</td>\n",
              "      <td>-0.046991</td>\n",
              "    </tr>\n",
              "    <tr>\n",
              "      <th>406</th>\n",
              "      <td>SHEETCAKE W/O FRSTNG;HOMERECIP1 CAKE</td>\n",
              "      <td>3.567693</td>\n",
              "      <td>29.5</td>\n",
              "      <td>552</td>\n",
              "      <td>0.012073</td>\n",
              "    </tr>\n",
              "    <tr>\n",
              "      <th>410</th>\n",
              "      <td>DEVIL'S FOOD CAKE;CHOCFRST;FMX1 CAKE</td>\n",
              "      <td>5.443659</td>\n",
              "      <td>55.6</td>\n",
              "      <td>598</td>\n",
              "      <td>0.197453</td>\n",
              "    </tr>\n",
              "    <tr>\n",
              "      <th>422</th>\n",
              "      <td>CARROT CAKE;CREMCHESE FRST;REC1 CAKE</td>\n",
              "      <td>7.882415</td>\n",
              "      <td>66.0</td>\n",
              "      <td>1183</td>\n",
              "      <td>0.087714</td>\n",
              "    </tr>\n",
              "    <tr>\n",
              "      <th>423</th>\n",
              "      <td>YELLOW CAKE W/ CHOC FRST;FRMIX1 CAKE</td>\n",
              "      <td>5.449344</td>\n",
              "      <td>47.8</td>\n",
              "      <td>576</td>\n",
              "      <td>0.090316</td>\n",
              "    </tr>\n",
              "    <tr>\n",
              "      <th>430</th>\n",
              "      <td>PUMPKIN PIE                   1 PIE</td>\n",
              "      <td>4.323765</td>\n",
              "      <td>38.2</td>\n",
              "      <td>655</td>\n",
              "      <td>0.072733</td>\n",
              "    </tr>\n",
              "    <tr>\n",
              "      <th>433</th>\n",
              "      <td>ICE MILK; VANILLA; 4% FAT     1/2 GAL</td>\n",
              "      <td>5.108259</td>\n",
              "      <td>28.1</td>\n",
              "      <td>146</td>\n",
              "      <td>-0.156587</td>\n",
              "    </tr>\n",
              "    <tr>\n",
              "      <th>445</th>\n",
              "      <td>WHITE CAKE W/ WHT FRSTNG;COMML1 CAKE</td>\n",
              "      <td>5.631256</td>\n",
              "      <td>33.1</td>\n",
              "      <td>46</td>\n",
              "      <td>-0.122985</td>\n",
              "    </tr>\n",
              "    <tr>\n",
              "      <th>452</th>\n",
              "      <td>LEMON MERINGUE PIE            1 PIE</td>\n",
              "      <td>3.925832</td>\n",
              "      <td>26.0</td>\n",
              "      <td>857</td>\n",
              "      <td>-0.093993</td>\n",
              "    </tr>\n",
              "    <tr>\n",
              "      <th>458</th>\n",
              "      <td>YELLOWCAKE W/ CHOCFRSTNG;COMML1 CAKE</td>\n",
              "      <td>5.449344</td>\n",
              "      <td>92.0</td>\n",
              "      <td>609</td>\n",
              "      <td>0.693543</td>\n",
              "    </tr>\n",
              "    <tr>\n",
              "      <th>466</th>\n",
              "      <td>ICE CREAM; VANLLA; REGULR 11% 1/2 GALN</td>\n",
              "      <td>5.199215</td>\n",
              "      <td>71.3</td>\n",
              "      <td>476</td>\n",
              "      <td>0.451276</td>\n",
              "    </tr>\n",
              "    <tr>\n",
              "      <th>479</th>\n",
              "      <td>SHEETCAKE;W/ WHFRSTNG;HOMERCIP1 CAKE</td>\n",
              "      <td>5.381127</td>\n",
              "      <td>41.6</td>\n",
              "      <td>636</td>\n",
              "      <td>0.011916</td>\n",
              "    </tr>\n",
              "    <tr>\n",
              "      <th>504</th>\n",
              "      <td>GINGERBREAD CAKE; FROM MIX    1 CAKE</td>\n",
              "      <td>2.390951</td>\n",
              "      <td>9.6</td>\n",
              "      <td>6</td>\n",
              "      <td>-0.307363</td>\n",
              "    </tr>\n",
              "    <tr>\n",
              "      <th>535</th>\n",
              "      <td>ICE CREAM; VANLLA; RICH 16% FT1/2 GAL</td>\n",
              "      <td>5.904124</td>\n",
              "      <td>118.3</td>\n",
              "      <td>703</td>\n",
              "      <td>0.943754</td>\n",
              "    </tr>\n",
              "    <tr>\n",
              "      <th>539</th>\n",
              "      <td>CHERRY PIE                    1 PIE</td>\n",
              "      <td>4.522731</td>\n",
              "      <td>28.4</td>\n",
              "      <td>0</td>\n",
              "      <td>-0.107594</td>\n",
              "    </tr>\n",
              "    <tr>\n",
              "      <th>545</th>\n",
              "      <td>PEACH PIE                     1 PIE</td>\n",
              "      <td>4.522731</td>\n",
              "      <td>24.6</td>\n",
              "      <td>0</td>\n",
              "      <td>-0.168401</td>\n",
              "    </tr>\n",
              "    <tr>\n",
              "      <th>556</th>\n",
              "      <td>BLUEBERRY PIE                 1 PIE</td>\n",
              "      <td>4.522731</td>\n",
              "      <td>25.5</td>\n",
              "      <td>0</td>\n",
              "      <td>-0.153999</td>\n",
              "    </tr>\n",
              "    <tr>\n",
              "      <th>579</th>\n",
              "      <td>APPLE PIE                     1 PIE</td>\n",
              "      <td>4.522731</td>\n",
              "      <td>27.4</td>\n",
              "      <td>0</td>\n",
              "      <td>-0.123596</td>\n",
              "    </tr>\n",
              "    <tr>\n",
              "      <th>581</th>\n",
              "      <td>CREME PIE                     1 PIE</td>\n",
              "      <td>4.323765</td>\n",
              "      <td>90.1</td>\n",
              "      <td>46</td>\n",
              "      <td>0.935163</td>\n",
              "    </tr>\n",
              "    <tr>\n",
              "      <th>696</th>\n",
              "      <td>SHERBET; 2% FAT               1/2 GAL</td>\n",
              "      <td>7.916524</td>\n",
              "      <td>19.0</td>\n",
              "      <td>113</td>\n",
              "      <td>-0.375719</td>\n",
              "    </tr>\n",
              "    <tr>\n",
              "      <th>707</th>\n",
              "      <td>LETTUCE; CRISPHEAD; RAW; HEAD 1 HEAD</td>\n",
              "      <td>2.214724</td>\n",
              "      <td>0.1</td>\n",
              "      <td>0</td>\n",
              "      <td>-0.559237</td>\n",
              "    </tr>\n",
              "  </tbody>\n",
              "</table>\n",
              "</div>\n",
              "      <button class=\"colab-df-convert\" onclick=\"convertToInteractive('df-232939cb-2d72-4e38-99fe-d14beb81012d')\"\n",
              "              title=\"Convert this dataframe to an interactive table.\"\n",
              "              style=\"display:none;\">\n",
              "        \n",
              "  <svg xmlns=\"http://www.w3.org/2000/svg\" height=\"24px\"viewBox=\"0 0 24 24\"\n",
              "       width=\"24px\">\n",
              "    <path d=\"M0 0h24v24H0V0z\" fill=\"none\"/>\n",
              "    <path d=\"M18.56 5.44l.94 2.06.94-2.06 2.06-.94-2.06-.94-.94-2.06-.94 2.06-2.06.94zm-11 1L8.5 8.5l.94-2.06 2.06-.94-2.06-.94L8.5 2.5l-.94 2.06-2.06.94zm10 10l.94 2.06.94-2.06 2.06-.94-2.06-.94-.94-2.06-.94 2.06-2.06.94z\"/><path d=\"M17.41 7.96l-1.37-1.37c-.4-.4-.92-.59-1.43-.59-.52 0-1.04.2-1.43.59L10.3 9.45l-7.72 7.72c-.78.78-.78 2.05 0 2.83L4 21.41c.39.39.9.59 1.41.59.51 0 1.02-.2 1.41-.59l7.78-7.78 2.81-2.81c.8-.78.8-2.07 0-2.86zM5.41 20L4 18.59l7.72-7.72 1.47 1.35L5.41 20z\"/>\n",
              "  </svg>\n",
              "      </button>\n",
              "      \n",
              "  <style>\n",
              "    .colab-df-container {\n",
              "      display:flex;\n",
              "      flex-wrap:wrap;\n",
              "      gap: 12px;\n",
              "    }\n",
              "\n",
              "    .colab-df-convert {\n",
              "      background-color: #E8F0FE;\n",
              "      border: none;\n",
              "      border-radius: 50%;\n",
              "      cursor: pointer;\n",
              "      display: none;\n",
              "      fill: #1967D2;\n",
              "      height: 32px;\n",
              "      padding: 0 0 0 0;\n",
              "      width: 32px;\n",
              "    }\n",
              "\n",
              "    .colab-df-convert:hover {\n",
              "      background-color: #E2EBFA;\n",
              "      box-shadow: 0px 1px 2px rgba(60, 64, 67, 0.3), 0px 1px 3px 1px rgba(60, 64, 67, 0.15);\n",
              "      fill: #174EA6;\n",
              "    }\n",
              "\n",
              "    [theme=dark] .colab-df-convert {\n",
              "      background-color: #3B4455;\n",
              "      fill: #D2E3FC;\n",
              "    }\n",
              "\n",
              "    [theme=dark] .colab-df-convert:hover {\n",
              "      background-color: #434B5C;\n",
              "      box-shadow: 0px 1px 3px 1px rgba(0, 0, 0, 0.15);\n",
              "      filter: drop-shadow(0px 1px 2px rgba(0, 0, 0, 0.3));\n",
              "      fill: #FFFFFF;\n",
              "    }\n",
              "  </style>\n",
              "\n",
              "      <script>\n",
              "        const buttonEl =\n",
              "          document.querySelector('#df-232939cb-2d72-4e38-99fe-d14beb81012d button.colab-df-convert');\n",
              "        buttonEl.style.display =\n",
              "          google.colab.kernel.accessAllowed ? 'block' : 'none';\n",
              "\n",
              "        async function convertToInteractive(key) {\n",
              "          const element = document.querySelector('#df-232939cb-2d72-4e38-99fe-d14beb81012d');\n",
              "          const dataTable =\n",
              "            await google.colab.kernel.invokeFunction('convertToInteractive',\n",
              "                                                     [key], {});\n",
              "          if (!dataTable) return;\n",
              "\n",
              "          const docLinkHtml = 'Like what you see? Visit the ' +\n",
              "            '<a target=\"_blank\" href=https://colab.research.google.com/notebooks/data_table.ipynb>data table notebook</a>'\n",
              "            + ' to learn more about interactive tables.';\n",
              "          element.innerHTML = '';\n",
              "          dataTable['output_type'] = 'display_data';\n",
              "          await google.colab.output.renderOutput(dataTable, element);\n",
              "          const docLink = document.createElement('div');\n",
              "          docLink.innerHTML = docLinkHtml;\n",
              "          element.appendChild(docLink);\n",
              "        }\n",
              "      </script>\n",
              "    </div>\n",
              "  </div>\n",
              "  "
            ]
          },
          "metadata": {},
          "execution_count": 59
        }
      ]
    },
    {
      "cell_type": "markdown",
      "source": [
        "For Cholesterol"
      ],
      "metadata": {
        "id": "KZLzylSeSrbv"
      }
    },
    {
      "cell_type": "code",
      "source": [
        "#  apply z-score to standardize cholesterol\n",
        "mean = nutrition_DF.cholesterol.mean()\n",
        "std = nutrition_DF.cholesterol.std()\n",
        "nutrition_DF.cholesterol = (nutrition_DF.cholesterol-mean)/std\n",
        "nutrition_DF\n",
        "\n"
      ],
      "metadata": {
        "colab": {
          "base_uri": "https://localhost:8080/",
          "height": 423
        },
        "id": "tHaPej_sM6Y3",
        "outputId": "166dc13c-3f22-485f-8dc7-ff897ba17a59"
      },
      "execution_count": 61,
      "outputs": [
        {
          "output_type": "execute_result",
          "data": {
            "text/plain": [
              "                                  food item  weight_in_grams  saturated_fat  \\\n",
              "0    GELATIN; DRY                  1 ENVELP        -0.809561            0.0   \n",
              "1    SEAWEED; SPIRULINA; DRIED     1 OZ            -0.688192            0.8   \n",
              "2    YEAST; BAKERS; DRY; ACTIVE    1 PKG           -0.809561            0.0   \n",
              "3    PARMESAN CHEESE; GRATED       1 OZ            -0.688192            5.4   \n",
              "4    PARMESAN CHEESE; GRATED       1 CUP           -0.280880           19.1   \n",
              "..                                      ...              ...            ...   \n",
              "956  COFFEE; BREWED                6 FL OZ          0.173900            0.0   \n",
              "957  TEA; BREWED                   8 FL OZ          0.514985            0.0   \n",
              "958  TEA; INSTANT;PREPRD;UNSWEETEND8 FL OZ          0.520669            0.0   \n",
              "959  LETTUCE; BUTTERHEAD; RAW;LEAVE1 LEAF          -0.764083            0.0   \n",
              "960  SALT                          1 TSP           -0.818088            0.0   \n",
              "\n",
              "     cholesterol  saturated_fat_per_gram  \n",
              "0      -0.271369               -0.562043  \n",
              "1      -0.271369               -0.135330  \n",
              "2      -0.271369               -0.562043  \n",
              "3      -0.087975                2.318264  \n",
              "4       0.387181                2.326185  \n",
              "..           ...                     ...  \n",
              "956    -0.271369               -0.562043  \n",
              "957    -0.271369               -0.562043  \n",
              "958    -0.271369               -0.562043  \n",
              "959    -0.271369               -0.562043  \n",
              "960    -0.271369               -0.562043  \n",
              "\n",
              "[961 rows x 5 columns]"
            ],
            "text/html": [
              "\n",
              "  <div id=\"df-36153b47-f6ed-43ab-91c9-3c03fcb2374d\">\n",
              "    <div class=\"colab-df-container\">\n",
              "      <div>\n",
              "<style scoped>\n",
              "    .dataframe tbody tr th:only-of-type {\n",
              "        vertical-align: middle;\n",
              "    }\n",
              "\n",
              "    .dataframe tbody tr th {\n",
              "        vertical-align: top;\n",
              "    }\n",
              "\n",
              "    .dataframe thead th {\n",
              "        text-align: right;\n",
              "    }\n",
              "</style>\n",
              "<table border=\"1\" class=\"dataframe\">\n",
              "  <thead>\n",
              "    <tr style=\"text-align: right;\">\n",
              "      <th></th>\n",
              "      <th>food item</th>\n",
              "      <th>weight_in_grams</th>\n",
              "      <th>saturated_fat</th>\n",
              "      <th>cholesterol</th>\n",
              "      <th>saturated_fat_per_gram</th>\n",
              "    </tr>\n",
              "  </thead>\n",
              "  <tbody>\n",
              "    <tr>\n",
              "      <th>0</th>\n",
              "      <td>GELATIN; DRY                  1 ENVELP</td>\n",
              "      <td>-0.809561</td>\n",
              "      <td>0.0</td>\n",
              "      <td>-0.271369</td>\n",
              "      <td>-0.562043</td>\n",
              "    </tr>\n",
              "    <tr>\n",
              "      <th>1</th>\n",
              "      <td>SEAWEED; SPIRULINA; DRIED     1 OZ</td>\n",
              "      <td>-0.688192</td>\n",
              "      <td>0.8</td>\n",
              "      <td>-0.271369</td>\n",
              "      <td>-0.135330</td>\n",
              "    </tr>\n",
              "    <tr>\n",
              "      <th>2</th>\n",
              "      <td>YEAST; BAKERS; DRY; ACTIVE    1 PKG</td>\n",
              "      <td>-0.809561</td>\n",
              "      <td>0.0</td>\n",
              "      <td>-0.271369</td>\n",
              "      <td>-0.562043</td>\n",
              "    </tr>\n",
              "    <tr>\n",
              "      <th>3</th>\n",
              "      <td>PARMESAN CHEESE; GRATED       1 OZ</td>\n",
              "      <td>-0.688192</td>\n",
              "      <td>5.4</td>\n",
              "      <td>-0.087975</td>\n",
              "      <td>2.318264</td>\n",
              "    </tr>\n",
              "    <tr>\n",
              "      <th>4</th>\n",
              "      <td>PARMESAN CHEESE; GRATED       1 CUP</td>\n",
              "      <td>-0.280880</td>\n",
              "      <td>19.1</td>\n",
              "      <td>0.387181</td>\n",
              "      <td>2.326185</td>\n",
              "    </tr>\n",
              "    <tr>\n",
              "      <th>...</th>\n",
              "      <td>...</td>\n",
              "      <td>...</td>\n",
              "      <td>...</td>\n",
              "      <td>...</td>\n",
              "      <td>...</td>\n",
              "    </tr>\n",
              "    <tr>\n",
              "      <th>956</th>\n",
              "      <td>COFFEE; BREWED                6 FL OZ</td>\n",
              "      <td>0.173900</td>\n",
              "      <td>0.0</td>\n",
              "      <td>-0.271369</td>\n",
              "      <td>-0.562043</td>\n",
              "    </tr>\n",
              "    <tr>\n",
              "      <th>957</th>\n",
              "      <td>TEA; BREWED                   8 FL OZ</td>\n",
              "      <td>0.514985</td>\n",
              "      <td>0.0</td>\n",
              "      <td>-0.271369</td>\n",
              "      <td>-0.562043</td>\n",
              "    </tr>\n",
              "    <tr>\n",
              "      <th>958</th>\n",
              "      <td>TEA; INSTANT;PREPRD;UNSWEETEND8 FL OZ</td>\n",
              "      <td>0.520669</td>\n",
              "      <td>0.0</td>\n",
              "      <td>-0.271369</td>\n",
              "      <td>-0.562043</td>\n",
              "    </tr>\n",
              "    <tr>\n",
              "      <th>959</th>\n",
              "      <td>LETTUCE; BUTTERHEAD; RAW;LEAVE1 LEAF</td>\n",
              "      <td>-0.764083</td>\n",
              "      <td>0.0</td>\n",
              "      <td>-0.271369</td>\n",
              "      <td>-0.562043</td>\n",
              "    </tr>\n",
              "    <tr>\n",
              "      <th>960</th>\n",
              "      <td>SALT                          1 TSP</td>\n",
              "      <td>-0.818088</td>\n",
              "      <td>0.0</td>\n",
              "      <td>-0.271369</td>\n",
              "      <td>-0.562043</td>\n",
              "    </tr>\n",
              "  </tbody>\n",
              "</table>\n",
              "<p>961 rows × 5 columns</p>\n",
              "</div>\n",
              "      <button class=\"colab-df-convert\" onclick=\"convertToInteractive('df-36153b47-f6ed-43ab-91c9-3c03fcb2374d')\"\n",
              "              title=\"Convert this dataframe to an interactive table.\"\n",
              "              style=\"display:none;\">\n",
              "        \n",
              "  <svg xmlns=\"http://www.w3.org/2000/svg\" height=\"24px\"viewBox=\"0 0 24 24\"\n",
              "       width=\"24px\">\n",
              "    <path d=\"M0 0h24v24H0V0z\" fill=\"none\"/>\n",
              "    <path d=\"M18.56 5.44l.94 2.06.94-2.06 2.06-.94-2.06-.94-.94-2.06-.94 2.06-2.06.94zm-11 1L8.5 8.5l.94-2.06 2.06-.94-2.06-.94L8.5 2.5l-.94 2.06-2.06.94zm10 10l.94 2.06.94-2.06 2.06-.94-2.06-.94-.94-2.06-.94 2.06-2.06.94z\"/><path d=\"M17.41 7.96l-1.37-1.37c-.4-.4-.92-.59-1.43-.59-.52 0-1.04.2-1.43.59L10.3 9.45l-7.72 7.72c-.78.78-.78 2.05 0 2.83L4 21.41c.39.39.9.59 1.41.59.51 0 1.02-.2 1.41-.59l7.78-7.78 2.81-2.81c.8-.78.8-2.07 0-2.86zM5.41 20L4 18.59l7.72-7.72 1.47 1.35L5.41 20z\"/>\n",
              "  </svg>\n",
              "      </button>\n",
              "      \n",
              "  <style>\n",
              "    .colab-df-container {\n",
              "      display:flex;\n",
              "      flex-wrap:wrap;\n",
              "      gap: 12px;\n",
              "    }\n",
              "\n",
              "    .colab-df-convert {\n",
              "      background-color: #E8F0FE;\n",
              "      border: none;\n",
              "      border-radius: 50%;\n",
              "      cursor: pointer;\n",
              "      display: none;\n",
              "      fill: #1967D2;\n",
              "      height: 32px;\n",
              "      padding: 0 0 0 0;\n",
              "      width: 32px;\n",
              "    }\n",
              "\n",
              "    .colab-df-convert:hover {\n",
              "      background-color: #E2EBFA;\n",
              "      box-shadow: 0px 1px 2px rgba(60, 64, 67, 0.3), 0px 1px 3px 1px rgba(60, 64, 67, 0.15);\n",
              "      fill: #174EA6;\n",
              "    }\n",
              "\n",
              "    [theme=dark] .colab-df-convert {\n",
              "      background-color: #3B4455;\n",
              "      fill: #D2E3FC;\n",
              "    }\n",
              "\n",
              "    [theme=dark] .colab-df-convert:hover {\n",
              "      background-color: #434B5C;\n",
              "      box-shadow: 0px 1px 3px 1px rgba(0, 0, 0, 0.15);\n",
              "      filter: drop-shadow(0px 1px 2px rgba(0, 0, 0, 0.3));\n",
              "      fill: #FFFFFF;\n",
              "    }\n",
              "  </style>\n",
              "\n",
              "      <script>\n",
              "        const buttonEl =\n",
              "          document.querySelector('#df-36153b47-f6ed-43ab-91c9-3c03fcb2374d button.colab-df-convert');\n",
              "        buttonEl.style.display =\n",
              "          google.colab.kernel.accessAllowed ? 'block' : 'none';\n",
              "\n",
              "        async function convertToInteractive(key) {\n",
              "          const element = document.querySelector('#df-36153b47-f6ed-43ab-91c9-3c03fcb2374d');\n",
              "          const dataTable =\n",
              "            await google.colab.kernel.invokeFunction('convertToInteractive',\n",
              "                                                     [key], {});\n",
              "          if (!dataTable) return;\n",
              "\n",
              "          const docLinkHtml = 'Like what you see? Visit the ' +\n",
              "            '<a target=\"_blank\" href=https://colab.research.google.com/notebooks/data_table.ipynb>data table notebook</a>'\n",
              "            + ' to learn more about interactive tables.';\n",
              "          element.innerHTML = '';\n",
              "          dataTable['output_type'] = 'display_data';\n",
              "          await google.colab.output.renderOutput(dataTable, element);\n",
              "          const docLink = document.createElement('div');\n",
              "          docLink.innerHTML = docLinkHtml;\n",
              "          element.appendChild(docLink);\n",
              "        }\n",
              "      </script>\n",
              "    </div>\n",
              "  </div>\n",
              "  "
            ]
          },
          "metadata": {},
          "execution_count": 61
        }
      ]
    },
    {
      "cell_type": "code",
      "source": [
        "#computing iqr values\n",
        "qtr1,qtr3 = np.percentile(nutrition_DF.cholesterol,[25,75])\n",
        "\n",
        "iqr=qtr3-qtr1\n",
        "iqr"
      ],
      "metadata": {
        "colab": {
          "base_uri": "https://localhost:8080/"
        },
        "id": "EMMYrwRSNNP_",
        "outputId": "4881e0b0-17ca-42cd-97ca-501e0a63b163"
      },
      "execution_count": 62,
      "outputs": [
        {
          "output_type": "execute_result",
          "data": {
            "text/plain": [
              "0.16672142037923005"
            ]
          },
          "metadata": {},
          "execution_count": 62
        }
      ]
    },
    {
      "cell_type": "code",
      "source": [
        "#lower and upper bound of outliers\n",
        "lower_bound=qtr1-(1.5 * iqr)\n",
        "upper_bound=qtr3 +(1.5 * iqr)"
      ],
      "metadata": {
        "id": "_IMHFBiyNQa2"
      },
      "execution_count": 63,
      "outputs": []
    },
    {
      "cell_type": "code",
      "source": [
        "# computing lower bound\n",
        "lower_bound"
      ],
      "metadata": {
        "colab": {
          "base_uri": "https://localhost:8080/"
        },
        "id": "9HnWWLLINRNO",
        "outputId": "966e0953-4507-46c5-990f-4403a148b8cb"
      },
      "execution_count": 64,
      "outputs": [
        {
          "output_type": "execute_result",
          "data": {
            "text/plain": [
              "-0.5214511688177438"
            ]
          },
          "metadata": {},
          "execution_count": 64
        }
      ]
    },
    {
      "cell_type": "code",
      "source": [
        "#computing upper bound\n",
        "upper_bound"
      ],
      "metadata": {
        "colab": {
          "base_uri": "https://localhost:8080/"
        },
        "id": "qly7T8K-NRZw",
        "outputId": "ceda1343-971b-4b96-88dd-c7a820dbb496"
      },
      "execution_count": 65,
      "outputs": [
        {
          "output_type": "execute_result",
          "data": {
            "text/plain": [
              "0.14543451269917645"
            ]
          },
          "metadata": {},
          "execution_count": 65
        }
      ]
    },
    {
      "cell_type": "code",
      "source": [
        "#  items displaying the low and high end scale in cholesterol\n",
        "nutrition_DF.loc[(nutrition_DF.cholesterol<lower_bound) | (nutrition_DF.cholesterol> upper_bound) ]"
      ],
      "metadata": {
        "colab": {
          "base_uri": "https://localhost:8080/",
          "height": 423
        },
        "id": "VQ25wOdlNRpj",
        "outputId": "0a428f05-4580-4bd5-bb97-d05fb0b4bef9"
      },
      "execution_count": 66,
      "outputs": [
        {
          "output_type": "execute_result",
          "data": {
            "text/plain": [
              "                                  food item  weight_in_grams  saturated_fat  \\\n",
              "4    PARMESAN CHEESE; GRATED       1 CUP           -0.280880           19.1   \n",
              "7    LAMB;CHOPS;ARM;BRAISED;LEAN   1.7 OZ          -0.576486            2.9   \n",
              "11   BUTTERMILK; DRIED             1 CUP           -0.167185            4.3   \n",
              "13   PORK SHOULDER; BRAISD; LEAN   2.4 OZ          -0.468476            2.8   \n",
              "14   BEEF; CKD;BTTM ROUND;LEAN ONLY2.8 OZ          -0.405944            2.7   \n",
              "..                                      ...              ...            ...   \n",
              "599  HOLLANDAISE SCE; W/ H2O;FRM MX1 CUP            0.622995           11.6   \n",
              "696  SHERBET; 2% FAT               1/2 GAL          7.916524           19.0   \n",
              "709  BUTTER; SALTED                1/2 CUP         -0.206978           57.1   \n",
              "710  BUTTER; UNSALTED              1/2 CUP         -0.206978           57.1   \n",
              "890  LARD                          1 CUP            0.316019           80.4   \n",
              "\n",
              "     cholesterol  saturated_fat_per_gram  \n",
              "4       0.387181                2.326185  \n",
              "7       0.220459                0.351555  \n",
              "11      0.420525               -0.020185  \n",
              "13      0.362172                0.069905  \n",
              "14      0.353836               -0.038602  \n",
              "..           ...                     ...  \n",
              "599     0.162107                0.115219  \n",
              "696     0.670607               -0.375719  \n",
              "709     1.787641                7.079055  \n",
              "710     1.787641                7.079055  \n",
              "890     1.354165                5.368580  \n",
              "\n",
              "[146 rows x 5 columns]"
            ],
            "text/html": [
              "\n",
              "  <div id=\"df-9d335ff7-0a3d-4527-9c8b-f7986beeb0b5\">\n",
              "    <div class=\"colab-df-container\">\n",
              "      <div>\n",
              "<style scoped>\n",
              "    .dataframe tbody tr th:only-of-type {\n",
              "        vertical-align: middle;\n",
              "    }\n",
              "\n",
              "    .dataframe tbody tr th {\n",
              "        vertical-align: top;\n",
              "    }\n",
              "\n",
              "    .dataframe thead th {\n",
              "        text-align: right;\n",
              "    }\n",
              "</style>\n",
              "<table border=\"1\" class=\"dataframe\">\n",
              "  <thead>\n",
              "    <tr style=\"text-align: right;\">\n",
              "      <th></th>\n",
              "      <th>food item</th>\n",
              "      <th>weight_in_grams</th>\n",
              "      <th>saturated_fat</th>\n",
              "      <th>cholesterol</th>\n",
              "      <th>saturated_fat_per_gram</th>\n",
              "    </tr>\n",
              "  </thead>\n",
              "  <tbody>\n",
              "    <tr>\n",
              "      <th>4</th>\n",
              "      <td>PARMESAN CHEESE; GRATED       1 CUP</td>\n",
              "      <td>-0.280880</td>\n",
              "      <td>19.1</td>\n",
              "      <td>0.387181</td>\n",
              "      <td>2.326185</td>\n",
              "    </tr>\n",
              "    <tr>\n",
              "      <th>7</th>\n",
              "      <td>LAMB;CHOPS;ARM;BRAISED;LEAN   1.7 OZ</td>\n",
              "      <td>-0.576486</td>\n",
              "      <td>2.9</td>\n",
              "      <td>0.220459</td>\n",
              "      <td>0.351555</td>\n",
              "    </tr>\n",
              "    <tr>\n",
              "      <th>11</th>\n",
              "      <td>BUTTERMILK; DRIED             1 CUP</td>\n",
              "      <td>-0.167185</td>\n",
              "      <td>4.3</td>\n",
              "      <td>0.420525</td>\n",
              "      <td>-0.020185</td>\n",
              "    </tr>\n",
              "    <tr>\n",
              "      <th>13</th>\n",
              "      <td>PORK SHOULDER; BRAISD; LEAN   2.4 OZ</td>\n",
              "      <td>-0.468476</td>\n",
              "      <td>2.8</td>\n",
              "      <td>0.362172</td>\n",
              "      <td>0.069905</td>\n",
              "    </tr>\n",
              "    <tr>\n",
              "      <th>14</th>\n",
              "      <td>BEEF; CKD;BTTM ROUND;LEAN ONLY2.8 OZ</td>\n",
              "      <td>-0.405944</td>\n",
              "      <td>2.7</td>\n",
              "      <td>0.353836</td>\n",
              "      <td>-0.038602</td>\n",
              "    </tr>\n",
              "    <tr>\n",
              "      <th>...</th>\n",
              "      <td>...</td>\n",
              "      <td>...</td>\n",
              "      <td>...</td>\n",
              "      <td>...</td>\n",
              "      <td>...</td>\n",
              "    </tr>\n",
              "    <tr>\n",
              "      <th>599</th>\n",
              "      <td>HOLLANDAISE SCE; W/ H2O;FRM MX1 CUP</td>\n",
              "      <td>0.622995</td>\n",
              "      <td>11.6</td>\n",
              "      <td>0.162107</td>\n",
              "      <td>0.115219</td>\n",
              "    </tr>\n",
              "    <tr>\n",
              "      <th>696</th>\n",
              "      <td>SHERBET; 2% FAT               1/2 GAL</td>\n",
              "      <td>7.916524</td>\n",
              "      <td>19.0</td>\n",
              "      <td>0.670607</td>\n",
              "      <td>-0.375719</td>\n",
              "    </tr>\n",
              "    <tr>\n",
              "      <th>709</th>\n",
              "      <td>BUTTER; SALTED                1/2 CUP</td>\n",
              "      <td>-0.206978</td>\n",
              "      <td>57.1</td>\n",
              "      <td>1.787641</td>\n",
              "      <td>7.079055</td>\n",
              "    </tr>\n",
              "    <tr>\n",
              "      <th>710</th>\n",
              "      <td>BUTTER; UNSALTED              1/2 CUP</td>\n",
              "      <td>-0.206978</td>\n",
              "      <td>57.1</td>\n",
              "      <td>1.787641</td>\n",
              "      <td>7.079055</td>\n",
              "    </tr>\n",
              "    <tr>\n",
              "      <th>890</th>\n",
              "      <td>LARD                          1 CUP</td>\n",
              "      <td>0.316019</td>\n",
              "      <td>80.4</td>\n",
              "      <td>1.354165</td>\n",
              "      <td>5.368580</td>\n",
              "    </tr>\n",
              "  </tbody>\n",
              "</table>\n",
              "<p>146 rows × 5 columns</p>\n",
              "</div>\n",
              "      <button class=\"colab-df-convert\" onclick=\"convertToInteractive('df-9d335ff7-0a3d-4527-9c8b-f7986beeb0b5')\"\n",
              "              title=\"Convert this dataframe to an interactive table.\"\n",
              "              style=\"display:none;\">\n",
              "        \n",
              "  <svg xmlns=\"http://www.w3.org/2000/svg\" height=\"24px\"viewBox=\"0 0 24 24\"\n",
              "       width=\"24px\">\n",
              "    <path d=\"M0 0h24v24H0V0z\" fill=\"none\"/>\n",
              "    <path d=\"M18.56 5.44l.94 2.06.94-2.06 2.06-.94-2.06-.94-.94-2.06-.94 2.06-2.06.94zm-11 1L8.5 8.5l.94-2.06 2.06-.94-2.06-.94L8.5 2.5l-.94 2.06-2.06.94zm10 10l.94 2.06.94-2.06 2.06-.94-2.06-.94-.94-2.06-.94 2.06-2.06.94z\"/><path d=\"M17.41 7.96l-1.37-1.37c-.4-.4-.92-.59-1.43-.59-.52 0-1.04.2-1.43.59L10.3 9.45l-7.72 7.72c-.78.78-.78 2.05 0 2.83L4 21.41c.39.39.9.59 1.41.59.51 0 1.02-.2 1.41-.59l7.78-7.78 2.81-2.81c.8-.78.8-2.07 0-2.86zM5.41 20L4 18.59l7.72-7.72 1.47 1.35L5.41 20z\"/>\n",
              "  </svg>\n",
              "      </button>\n",
              "      \n",
              "  <style>\n",
              "    .colab-df-container {\n",
              "      display:flex;\n",
              "      flex-wrap:wrap;\n",
              "      gap: 12px;\n",
              "    }\n",
              "\n",
              "    .colab-df-convert {\n",
              "      background-color: #E8F0FE;\n",
              "      border: none;\n",
              "      border-radius: 50%;\n",
              "      cursor: pointer;\n",
              "      display: none;\n",
              "      fill: #1967D2;\n",
              "      height: 32px;\n",
              "      padding: 0 0 0 0;\n",
              "      width: 32px;\n",
              "    }\n",
              "\n",
              "    .colab-df-convert:hover {\n",
              "      background-color: #E2EBFA;\n",
              "      box-shadow: 0px 1px 2px rgba(60, 64, 67, 0.3), 0px 1px 3px 1px rgba(60, 64, 67, 0.15);\n",
              "      fill: #174EA6;\n",
              "    }\n",
              "\n",
              "    [theme=dark] .colab-df-convert {\n",
              "      background-color: #3B4455;\n",
              "      fill: #D2E3FC;\n",
              "    }\n",
              "\n",
              "    [theme=dark] .colab-df-convert:hover {\n",
              "      background-color: #434B5C;\n",
              "      box-shadow: 0px 1px 3px 1px rgba(0, 0, 0, 0.15);\n",
              "      filter: drop-shadow(0px 1px 2px rgba(0, 0, 0, 0.3));\n",
              "      fill: #FFFFFF;\n",
              "    }\n",
              "  </style>\n",
              "\n",
              "      <script>\n",
              "        const buttonEl =\n",
              "          document.querySelector('#df-9d335ff7-0a3d-4527-9c8b-f7986beeb0b5 button.colab-df-convert');\n",
              "        buttonEl.style.display =\n",
              "          google.colab.kernel.accessAllowed ? 'block' : 'none';\n",
              "\n",
              "        async function convertToInteractive(key) {\n",
              "          const element = document.querySelector('#df-9d335ff7-0a3d-4527-9c8b-f7986beeb0b5');\n",
              "          const dataTable =\n",
              "            await google.colab.kernel.invokeFunction('convertToInteractive',\n",
              "                                                     [key], {});\n",
              "          if (!dataTable) return;\n",
              "\n",
              "          const docLinkHtml = 'Like what you see? Visit the ' +\n",
              "            '<a target=\"_blank\" href=https://colab.research.google.com/notebooks/data_table.ipynb>data table notebook</a>'\n",
              "            + ' to learn more about interactive tables.';\n",
              "          element.innerHTML = '';\n",
              "          dataTable['output_type'] = 'display_data';\n",
              "          await google.colab.output.renderOutput(dataTable, element);\n",
              "          const docLink = document.createElement('div');\n",
              "          docLink.innerHTML = docLinkHtml;\n",
              "          element.appendChild(docLink);\n",
              "        }\n",
              "      </script>\n",
              "    </div>\n",
              "  </div>\n",
              "  "
            ]
          },
          "metadata": {},
          "execution_count": 66
        }
      ]
    },
    {
      "cell_type": "markdown",
      "source": [
        "For the Saturated_fat"
      ],
      "metadata": {
        "id": "Ex3c59KTN5Te"
      }
    },
    {
      "cell_type": "code",
      "source": [
        "# # apply z-score to standardize saturated_fat\n",
        "mean = nutrition_DF.saturated_fat.mean()\n",
        "std = nutrition_DF.saturated_fat.std()\n",
        "nutrition_DF.saturated_fat = (nutrition_DF.saturated_fat-mean)/std\n",
        "nutrition_DF\n"
      ],
      "metadata": {
        "colab": {
          "base_uri": "https://localhost:8080/",
          "height": 423
        },
        "id": "qgbS110LO1Ik",
        "outputId": "afa90a6d-f5ec-4af7-f358-1906f15cd37b"
      },
      "execution_count": 67,
      "outputs": [
        {
          "output_type": "execute_result",
          "data": {
            "text/plain": [
              "                                  food item  weight_in_grams  saturated_fat  \\\n",
              "0    GELATIN; DRY                  1 ENVELP        -0.809561      -0.371136   \n",
              "1    SEAWEED; SPIRULINA; DRIED     1 OZ            -0.688192      -0.296678   \n",
              "2    YEAST; BAKERS; DRY; ACTIVE    1 PKG           -0.809561      -0.371136   \n",
              "3    PARMESAN CHEESE; GRATED       1 OZ            -0.688192       0.131453   \n",
              "4    PARMESAN CHEESE; GRATED       1 CUP           -0.280880       1.406541   \n",
              "..                                      ...              ...            ...   \n",
              "956  COFFEE; BREWED                6 FL OZ          0.173900      -0.371136   \n",
              "957  TEA; BREWED                   8 FL OZ          0.514985      -0.371136   \n",
              "958  TEA; INSTANT;PREPRD;UNSWEETEND8 FL OZ          0.520669      -0.371136   \n",
              "959  LETTUCE; BUTTERHEAD; RAW;LEAVE1 LEAF          -0.764083      -0.371136   \n",
              "960  SALT                          1 TSP           -0.818088      -0.371136   \n",
              "\n",
              "     cholesterol  saturated_fat_per_gram  \n",
              "0      -0.271369               -0.562043  \n",
              "1      -0.271369               -0.135330  \n",
              "2      -0.271369               -0.562043  \n",
              "3      -0.087975                2.318264  \n",
              "4       0.387181                2.326185  \n",
              "..           ...                     ...  \n",
              "956    -0.271369               -0.562043  \n",
              "957    -0.271369               -0.562043  \n",
              "958    -0.271369               -0.562043  \n",
              "959    -0.271369               -0.562043  \n",
              "960    -0.271369               -0.562043  \n",
              "\n",
              "[961 rows x 5 columns]"
            ],
            "text/html": [
              "\n",
              "  <div id=\"df-22e4a404-a525-401b-be9b-28465532f5e9\">\n",
              "    <div class=\"colab-df-container\">\n",
              "      <div>\n",
              "<style scoped>\n",
              "    .dataframe tbody tr th:only-of-type {\n",
              "        vertical-align: middle;\n",
              "    }\n",
              "\n",
              "    .dataframe tbody tr th {\n",
              "        vertical-align: top;\n",
              "    }\n",
              "\n",
              "    .dataframe thead th {\n",
              "        text-align: right;\n",
              "    }\n",
              "</style>\n",
              "<table border=\"1\" class=\"dataframe\">\n",
              "  <thead>\n",
              "    <tr style=\"text-align: right;\">\n",
              "      <th></th>\n",
              "      <th>food item</th>\n",
              "      <th>weight_in_grams</th>\n",
              "      <th>saturated_fat</th>\n",
              "      <th>cholesterol</th>\n",
              "      <th>saturated_fat_per_gram</th>\n",
              "    </tr>\n",
              "  </thead>\n",
              "  <tbody>\n",
              "    <tr>\n",
              "      <th>0</th>\n",
              "      <td>GELATIN; DRY                  1 ENVELP</td>\n",
              "      <td>-0.809561</td>\n",
              "      <td>-0.371136</td>\n",
              "      <td>-0.271369</td>\n",
              "      <td>-0.562043</td>\n",
              "    </tr>\n",
              "    <tr>\n",
              "      <th>1</th>\n",
              "      <td>SEAWEED; SPIRULINA; DRIED     1 OZ</td>\n",
              "      <td>-0.688192</td>\n",
              "      <td>-0.296678</td>\n",
              "      <td>-0.271369</td>\n",
              "      <td>-0.135330</td>\n",
              "    </tr>\n",
              "    <tr>\n",
              "      <th>2</th>\n",
              "      <td>YEAST; BAKERS; DRY; ACTIVE    1 PKG</td>\n",
              "      <td>-0.809561</td>\n",
              "      <td>-0.371136</td>\n",
              "      <td>-0.271369</td>\n",
              "      <td>-0.562043</td>\n",
              "    </tr>\n",
              "    <tr>\n",
              "      <th>3</th>\n",
              "      <td>PARMESAN CHEESE; GRATED       1 OZ</td>\n",
              "      <td>-0.688192</td>\n",
              "      <td>0.131453</td>\n",
              "      <td>-0.087975</td>\n",
              "      <td>2.318264</td>\n",
              "    </tr>\n",
              "    <tr>\n",
              "      <th>4</th>\n",
              "      <td>PARMESAN CHEESE; GRATED       1 CUP</td>\n",
              "      <td>-0.280880</td>\n",
              "      <td>1.406541</td>\n",
              "      <td>0.387181</td>\n",
              "      <td>2.326185</td>\n",
              "    </tr>\n",
              "    <tr>\n",
              "      <th>...</th>\n",
              "      <td>...</td>\n",
              "      <td>...</td>\n",
              "      <td>...</td>\n",
              "      <td>...</td>\n",
              "      <td>...</td>\n",
              "    </tr>\n",
              "    <tr>\n",
              "      <th>956</th>\n",
              "      <td>COFFEE; BREWED                6 FL OZ</td>\n",
              "      <td>0.173900</td>\n",
              "      <td>-0.371136</td>\n",
              "      <td>-0.271369</td>\n",
              "      <td>-0.562043</td>\n",
              "    </tr>\n",
              "    <tr>\n",
              "      <th>957</th>\n",
              "      <td>TEA; BREWED                   8 FL OZ</td>\n",
              "      <td>0.514985</td>\n",
              "      <td>-0.371136</td>\n",
              "      <td>-0.271369</td>\n",
              "      <td>-0.562043</td>\n",
              "    </tr>\n",
              "    <tr>\n",
              "      <th>958</th>\n",
              "      <td>TEA; INSTANT;PREPRD;UNSWEETEND8 FL OZ</td>\n",
              "      <td>0.520669</td>\n",
              "      <td>-0.371136</td>\n",
              "      <td>-0.271369</td>\n",
              "      <td>-0.562043</td>\n",
              "    </tr>\n",
              "    <tr>\n",
              "      <th>959</th>\n",
              "      <td>LETTUCE; BUTTERHEAD; RAW;LEAVE1 LEAF</td>\n",
              "      <td>-0.764083</td>\n",
              "      <td>-0.371136</td>\n",
              "      <td>-0.271369</td>\n",
              "      <td>-0.562043</td>\n",
              "    </tr>\n",
              "    <tr>\n",
              "      <th>960</th>\n",
              "      <td>SALT                          1 TSP</td>\n",
              "      <td>-0.818088</td>\n",
              "      <td>-0.371136</td>\n",
              "      <td>-0.271369</td>\n",
              "      <td>-0.562043</td>\n",
              "    </tr>\n",
              "  </tbody>\n",
              "</table>\n",
              "<p>961 rows × 5 columns</p>\n",
              "</div>\n",
              "      <button class=\"colab-df-convert\" onclick=\"convertToInteractive('df-22e4a404-a525-401b-be9b-28465532f5e9')\"\n",
              "              title=\"Convert this dataframe to an interactive table.\"\n",
              "              style=\"display:none;\">\n",
              "        \n",
              "  <svg xmlns=\"http://www.w3.org/2000/svg\" height=\"24px\"viewBox=\"0 0 24 24\"\n",
              "       width=\"24px\">\n",
              "    <path d=\"M0 0h24v24H0V0z\" fill=\"none\"/>\n",
              "    <path d=\"M18.56 5.44l.94 2.06.94-2.06 2.06-.94-2.06-.94-.94-2.06-.94 2.06-2.06.94zm-11 1L8.5 8.5l.94-2.06 2.06-.94-2.06-.94L8.5 2.5l-.94 2.06-2.06.94zm10 10l.94 2.06.94-2.06 2.06-.94-2.06-.94-.94-2.06-.94 2.06-2.06.94z\"/><path d=\"M17.41 7.96l-1.37-1.37c-.4-.4-.92-.59-1.43-.59-.52 0-1.04.2-1.43.59L10.3 9.45l-7.72 7.72c-.78.78-.78 2.05 0 2.83L4 21.41c.39.39.9.59 1.41.59.51 0 1.02-.2 1.41-.59l7.78-7.78 2.81-2.81c.8-.78.8-2.07 0-2.86zM5.41 20L4 18.59l7.72-7.72 1.47 1.35L5.41 20z\"/>\n",
              "  </svg>\n",
              "      </button>\n",
              "      \n",
              "  <style>\n",
              "    .colab-df-container {\n",
              "      display:flex;\n",
              "      flex-wrap:wrap;\n",
              "      gap: 12px;\n",
              "    }\n",
              "\n",
              "    .colab-df-convert {\n",
              "      background-color: #E8F0FE;\n",
              "      border: none;\n",
              "      border-radius: 50%;\n",
              "      cursor: pointer;\n",
              "      display: none;\n",
              "      fill: #1967D2;\n",
              "      height: 32px;\n",
              "      padding: 0 0 0 0;\n",
              "      width: 32px;\n",
              "    }\n",
              "\n",
              "    .colab-df-convert:hover {\n",
              "      background-color: #E2EBFA;\n",
              "      box-shadow: 0px 1px 2px rgba(60, 64, 67, 0.3), 0px 1px 3px 1px rgba(60, 64, 67, 0.15);\n",
              "      fill: #174EA6;\n",
              "    }\n",
              "\n",
              "    [theme=dark] .colab-df-convert {\n",
              "      background-color: #3B4455;\n",
              "      fill: #D2E3FC;\n",
              "    }\n",
              "\n",
              "    [theme=dark] .colab-df-convert:hover {\n",
              "      background-color: #434B5C;\n",
              "      box-shadow: 0px 1px 3px 1px rgba(0, 0, 0, 0.15);\n",
              "      filter: drop-shadow(0px 1px 2px rgba(0, 0, 0, 0.3));\n",
              "      fill: #FFFFFF;\n",
              "    }\n",
              "  </style>\n",
              "\n",
              "      <script>\n",
              "        const buttonEl =\n",
              "          document.querySelector('#df-22e4a404-a525-401b-be9b-28465532f5e9 button.colab-df-convert');\n",
              "        buttonEl.style.display =\n",
              "          google.colab.kernel.accessAllowed ? 'block' : 'none';\n",
              "\n",
              "        async function convertToInteractive(key) {\n",
              "          const element = document.querySelector('#df-22e4a404-a525-401b-be9b-28465532f5e9');\n",
              "          const dataTable =\n",
              "            await google.colab.kernel.invokeFunction('convertToInteractive',\n",
              "                                                     [key], {});\n",
              "          if (!dataTable) return;\n",
              "\n",
              "          const docLinkHtml = 'Like what you see? Visit the ' +\n",
              "            '<a target=\"_blank\" href=https://colab.research.google.com/notebooks/data_table.ipynb>data table notebook</a>'\n",
              "            + ' to learn more about interactive tables.';\n",
              "          element.innerHTML = '';\n",
              "          dataTable['output_type'] = 'display_data';\n",
              "          await google.colab.output.renderOutput(dataTable, element);\n",
              "          const docLink = document.createElement('div');\n",
              "          docLink.innerHTML = docLinkHtml;\n",
              "          element.appendChild(docLink);\n",
              "        }\n",
              "      </script>\n",
              "    </div>\n",
              "  </div>\n",
              "  "
            ]
          },
          "metadata": {},
          "execution_count": 67
        }
      ]
    },
    {
      "cell_type": "code",
      "source": [
        "# computing iqr values\n",
        "qtr1,qtr3 = np.percentile(nutrition_DF.saturated_fat,[25,75])\n",
        "\n",
        "iqr=qtr3-qtr1\n",
        "iqr"
      ],
      "metadata": {
        "colab": {
          "base_uri": "https://localhost:8080/"
        },
        "id": "Q4PD2EYePGuz",
        "outputId": "c0e00fc4-3fbb-48f1-c8f7-5cdbe84f7de4"
      },
      "execution_count": 68,
      "outputs": [
        {
          "output_type": "execute_result",
          "data": {
            "text/plain": [
              "0.3071379097845457"
            ]
          },
          "metadata": {},
          "execution_count": 68
        }
      ]
    },
    {
      "cell_type": "code",
      "source": [
        "\n",
        "#lower and upper bound of outliers\n",
        "lower_bound=qtr1-(1.5 * iqr)\n",
        "upper_bound=qtr3 +(1.5 * iqr)"
      ],
      "metadata": {
        "id": "kYDb3YiNPIA2"
      },
      "execution_count": 69,
      "outputs": []
    },
    {
      "cell_type": "code",
      "source": [
        "# computing lower bound\n",
        "lower_bound"
      ],
      "metadata": {
        "colab": {
          "base_uri": "https://localhost:8080/"
        },
        "id": "Xd-wM4KBPJxF",
        "outputId": "3a15b5f5-a335-4f61-fc20-ec498b181597"
      },
      "execution_count": 70,
      "outputs": [
        {
          "output_type": "execute_result",
          "data": {
            "text/plain": [
              "-0.8318427345362942"
            ]
          },
          "metadata": {},
          "execution_count": 70
        }
      ]
    },
    {
      "cell_type": "code",
      "source": [
        "E# computing upper bound\n",
        "upper_bound"
      ],
      "metadata": {
        "colab": {
          "base_uri": "https://localhost:8080/"
        },
        "id": "_UFUAD0kPQGg",
        "outputId": "20cffd62-d50f-47bc-cf19-8ccebc5b3f1d"
      },
      "execution_count": 71,
      "outputs": [
        {
          "output_type": "execute_result",
          "data": {
            "text/plain": [
              "0.3967089046018885"
            ]
          },
          "metadata": {},
          "execution_count": 71
        }
      ]
    },
    {
      "cell_type": "code",
      "source": [
        "# items displaying the low and high end scale in cholesterol\n",
        "nutrition_DF.loc[(nutrition_DF.saturated_fat<lower_bound) | (nutrition_DF.saturated_fat> upper_bound) ]"
      ],
      "metadata": {
        "colab": {
          "base_uri": "https://localhost:8080/",
          "height": 423
        },
        "id": "PoKQAn6APQUp",
        "outputId": "ac46cac6-6195-4e43-ed20-e267cd1713bf"
      },
      "execution_count": 72,
      "outputs": [
        {
          "output_type": "execute_result",
          "data": {
            "text/plain": [
              "                                  food item  weight_in_grams  saturated_fat  \\\n",
              "4    PARMESAN CHEESE; GRATED       1 CUP           -0.280880       1.406541   \n",
              "51   PEANUTS; OIL ROASTED; SALTED  1 CUP           -0.025066       0.550278   \n",
              "52   PEANUTS; OIL ROASTED; UNSALTED1 CUP           -0.025066       0.550278   \n",
              "56   BEEF; CKD;CHUCK BLADE;LEAN+FAT3 OZ            -0.366151       0.634043   \n",
              "63   CHEDDDAR CHEESE; SHREDDED     1 CUP           -0.206978       1.843980   \n",
              "..                                      ...              ...            ...   \n",
              "903  SAFFLOWER OIL                 1 CUP            0.389920       1.471692   \n",
              "904  SOYBEAN OIL; HYDROGENATED     1 CUP            0.389920       2.653707   \n",
              "905  SOYBEAN-COTTONSEED OIL; HYDRGN1 CUP            0.389920       3.277290   \n",
              "906  SUNFLOWER OIL                 1 CUP            0.389920       1.722986   \n",
              "907  FATS; COOKING/VEGETBL SHORTENG1 CUP            0.316019       4.403463   \n",
              "\n",
              "     cholesterol  saturated_fat_per_gram  \n",
              "4       0.387181                2.326185  \n",
              "51     -0.271369                0.470399  \n",
              "52     -0.271369                0.470399  \n",
              "56      0.453869                1.359292  \n",
              "63      0.720623                2.622863  \n",
              "..           ...                     ...  \n",
              "903    -0.271369                0.811388  \n",
              "904    -0.271369                1.692326  \n",
              "905    -0.271369                2.157073  \n",
              "906    -0.271369                0.998674  \n",
              "907    -0.271369                3.222049  \n",
              "\n",
              "[96 rows x 5 columns]"
            ],
            "text/html": [
              "\n",
              "  <div id=\"df-ea235844-fcbd-4ded-9cb0-78a2231ab928\">\n",
              "    <div class=\"colab-df-container\">\n",
              "      <div>\n",
              "<style scoped>\n",
              "    .dataframe tbody tr th:only-of-type {\n",
              "        vertical-align: middle;\n",
              "    }\n",
              "\n",
              "    .dataframe tbody tr th {\n",
              "        vertical-align: top;\n",
              "    }\n",
              "\n",
              "    .dataframe thead th {\n",
              "        text-align: right;\n",
              "    }\n",
              "</style>\n",
              "<table border=\"1\" class=\"dataframe\">\n",
              "  <thead>\n",
              "    <tr style=\"text-align: right;\">\n",
              "      <th></th>\n",
              "      <th>food item</th>\n",
              "      <th>weight_in_grams</th>\n",
              "      <th>saturated_fat</th>\n",
              "      <th>cholesterol</th>\n",
              "      <th>saturated_fat_per_gram</th>\n",
              "    </tr>\n",
              "  </thead>\n",
              "  <tbody>\n",
              "    <tr>\n",
              "      <th>4</th>\n",
              "      <td>PARMESAN CHEESE; GRATED       1 CUP</td>\n",
              "      <td>-0.280880</td>\n",
              "      <td>1.406541</td>\n",
              "      <td>0.387181</td>\n",
              "      <td>2.326185</td>\n",
              "    </tr>\n",
              "    <tr>\n",
              "      <th>51</th>\n",
              "      <td>PEANUTS; OIL ROASTED; SALTED  1 CUP</td>\n",
              "      <td>-0.025066</td>\n",
              "      <td>0.550278</td>\n",
              "      <td>-0.271369</td>\n",
              "      <td>0.470399</td>\n",
              "    </tr>\n",
              "    <tr>\n",
              "      <th>52</th>\n",
              "      <td>PEANUTS; OIL ROASTED; UNSALTED1 CUP</td>\n",
              "      <td>-0.025066</td>\n",
              "      <td>0.550278</td>\n",
              "      <td>-0.271369</td>\n",
              "      <td>0.470399</td>\n",
              "    </tr>\n",
              "    <tr>\n",
              "      <th>56</th>\n",
              "      <td>BEEF; CKD;CHUCK BLADE;LEAN+FAT3 OZ</td>\n",
              "      <td>-0.366151</td>\n",
              "      <td>0.634043</td>\n",
              "      <td>0.453869</td>\n",
              "      <td>1.359292</td>\n",
              "    </tr>\n",
              "    <tr>\n",
              "      <th>63</th>\n",
              "      <td>CHEDDDAR CHEESE; SHREDDED     1 CUP</td>\n",
              "      <td>-0.206978</td>\n",
              "      <td>1.843980</td>\n",
              "      <td>0.720623</td>\n",
              "      <td>2.622863</td>\n",
              "    </tr>\n",
              "    <tr>\n",
              "      <th>...</th>\n",
              "      <td>...</td>\n",
              "      <td>...</td>\n",
              "      <td>...</td>\n",
              "      <td>...</td>\n",
              "      <td>...</td>\n",
              "    </tr>\n",
              "    <tr>\n",
              "      <th>903</th>\n",
              "      <td>SAFFLOWER OIL                 1 CUP</td>\n",
              "      <td>0.389920</td>\n",
              "      <td>1.471692</td>\n",
              "      <td>-0.271369</td>\n",
              "      <td>0.811388</td>\n",
              "    </tr>\n",
              "    <tr>\n",
              "      <th>904</th>\n",
              "      <td>SOYBEAN OIL; HYDROGENATED     1 CUP</td>\n",
              "      <td>0.389920</td>\n",
              "      <td>2.653707</td>\n",
              "      <td>-0.271369</td>\n",
              "      <td>1.692326</td>\n",
              "    </tr>\n",
              "    <tr>\n",
              "      <th>905</th>\n",
              "      <td>SOYBEAN-COTTONSEED OIL; HYDRGN1 CUP</td>\n",
              "      <td>0.389920</td>\n",
              "      <td>3.277290</td>\n",
              "      <td>-0.271369</td>\n",
              "      <td>2.157073</td>\n",
              "    </tr>\n",
              "    <tr>\n",
              "      <th>906</th>\n",
              "      <td>SUNFLOWER OIL                 1 CUP</td>\n",
              "      <td>0.389920</td>\n",
              "      <td>1.722986</td>\n",
              "      <td>-0.271369</td>\n",
              "      <td>0.998674</td>\n",
              "    </tr>\n",
              "    <tr>\n",
              "      <th>907</th>\n",
              "      <td>FATS; COOKING/VEGETBL SHORTENG1 CUP</td>\n",
              "      <td>0.316019</td>\n",
              "      <td>4.403463</td>\n",
              "      <td>-0.271369</td>\n",
              "      <td>3.222049</td>\n",
              "    </tr>\n",
              "  </tbody>\n",
              "</table>\n",
              "<p>96 rows × 5 columns</p>\n",
              "</div>\n",
              "      <button class=\"colab-df-convert\" onclick=\"convertToInteractive('df-ea235844-fcbd-4ded-9cb0-78a2231ab928')\"\n",
              "              title=\"Convert this dataframe to an interactive table.\"\n",
              "              style=\"display:none;\">\n",
              "        \n",
              "  <svg xmlns=\"http://www.w3.org/2000/svg\" height=\"24px\"viewBox=\"0 0 24 24\"\n",
              "       width=\"24px\">\n",
              "    <path d=\"M0 0h24v24H0V0z\" fill=\"none\"/>\n",
              "    <path d=\"M18.56 5.44l.94 2.06.94-2.06 2.06-.94-2.06-.94-.94-2.06-.94 2.06-2.06.94zm-11 1L8.5 8.5l.94-2.06 2.06-.94-2.06-.94L8.5 2.5l-.94 2.06-2.06.94zm10 10l.94 2.06.94-2.06 2.06-.94-2.06-.94-.94-2.06-.94 2.06-2.06.94z\"/><path d=\"M17.41 7.96l-1.37-1.37c-.4-.4-.92-.59-1.43-.59-.52 0-1.04.2-1.43.59L10.3 9.45l-7.72 7.72c-.78.78-.78 2.05 0 2.83L4 21.41c.39.39.9.59 1.41.59.51 0 1.02-.2 1.41-.59l7.78-7.78 2.81-2.81c.8-.78.8-2.07 0-2.86zM5.41 20L4 18.59l7.72-7.72 1.47 1.35L5.41 20z\"/>\n",
              "  </svg>\n",
              "      </button>\n",
              "      \n",
              "  <style>\n",
              "    .colab-df-container {\n",
              "      display:flex;\n",
              "      flex-wrap:wrap;\n",
              "      gap: 12px;\n",
              "    }\n",
              "\n",
              "    .colab-df-convert {\n",
              "      background-color: #E8F0FE;\n",
              "      border: none;\n",
              "      border-radius: 50%;\n",
              "      cursor: pointer;\n",
              "      display: none;\n",
              "      fill: #1967D2;\n",
              "      height: 32px;\n",
              "      padding: 0 0 0 0;\n",
              "      width: 32px;\n",
              "    }\n",
              "\n",
              "    .colab-df-convert:hover {\n",
              "      background-color: #E2EBFA;\n",
              "      box-shadow: 0px 1px 2px rgba(60, 64, 67, 0.3), 0px 1px 3px 1px rgba(60, 64, 67, 0.15);\n",
              "      fill: #174EA6;\n",
              "    }\n",
              "\n",
              "    [theme=dark] .colab-df-convert {\n",
              "      background-color: #3B4455;\n",
              "      fill: #D2E3FC;\n",
              "    }\n",
              "\n",
              "    [theme=dark] .colab-df-convert:hover {\n",
              "      background-color: #434B5C;\n",
              "      box-shadow: 0px 1px 3px 1px rgba(0, 0, 0, 0.15);\n",
              "      filter: drop-shadow(0px 1px 2px rgba(0, 0, 0, 0.3));\n",
              "      fill: #FFFFFF;\n",
              "    }\n",
              "  </style>\n",
              "\n",
              "      <script>\n",
              "        const buttonEl =\n",
              "          document.querySelector('#df-ea235844-fcbd-4ded-9cb0-78a2231ab928 button.colab-df-convert');\n",
              "        buttonEl.style.display =\n",
              "          google.colab.kernel.accessAllowed ? 'block' : 'none';\n",
              "\n",
              "        async function convertToInteractive(key) {\n",
              "          const element = document.querySelector('#df-ea235844-fcbd-4ded-9cb0-78a2231ab928');\n",
              "          const dataTable =\n",
              "            await google.colab.kernel.invokeFunction('convertToInteractive',\n",
              "                                                     [key], {});\n",
              "          if (!dataTable) return;\n",
              "\n",
              "          const docLinkHtml = 'Like what you see? Visit the ' +\n",
              "            '<a target=\"_blank\" href=https://colab.research.google.com/notebooks/data_table.ipynb>data table notebook</a>'\n",
              "            + ' to learn more about interactive tables.';\n",
              "          element.innerHTML = '';\n",
              "          dataTable['output_type'] = 'display_data';\n",
              "          await google.colab.output.renderOutput(dataTable, element);\n",
              "          const docLink = document.createElement('div');\n",
              "          docLink.innerHTML = docLinkHtml;\n",
              "          element.appendChild(docLink);\n",
              "        }\n",
              "      </script>\n",
              "    </div>\n",
              "  </div>\n",
              "  "
            ]
          },
          "metadata": {},
          "execution_count": 72
        }
      ]
    },
    {
      "cell_type": "markdown",
      "source": [
        "For saturated_fat_per_gram i already did in the fifth question"
      ],
      "metadata": {
        "id": "7YGK3a3-PZoo"
      }
    },
    {
      "cell_type": "code",
      "source": [
        "# Seaborn is a library for making statistical graphics in Python. \n",
        "# It builds on top of matplotlib and integrates closely with pandas data structures.\n",
        "import seaborn as sns\n",
        "sns.boxplot(nutrition_DF['weight_in_grams'])"
      ],
      "metadata": {
        "colab": {
          "base_uri": "https://localhost:8080/",
          "height": 352
        },
        "id": "v23eSjZiPlZC",
        "outputId": "97346d0f-b604-418f-87fa-a9e3a04414f2"
      },
      "execution_count": 73,
      "outputs": [
        {
          "output_type": "stream",
          "name": "stderr",
          "text": [
            "/usr/local/lib/python3.7/dist-packages/seaborn/_decorators.py:43: FutureWarning: Pass the following variable as a keyword arg: x. From version 0.12, the only valid positional argument will be `data`, and passing other arguments without an explicit keyword will result in an error or misinterpretation.\n",
            "  FutureWarning\n"
          ]
        },
        {
          "output_type": "execute_result",
          "data": {
            "text/plain": [
              "<matplotlib.axes._subplots.AxesSubplot at 0x7fc33eedd050>"
            ]
          },
          "metadata": {},
          "execution_count": 73
        },
        {
          "output_type": "display_data",
          "data": {
            "text/plain": [
              "<Figure size 432x288 with 1 Axes>"
            ],
            "image/png": "[encoded data removed]"
          },
          "metadata": {
            "needs_background": "light"
          }
        }
      ]
    },
    {
      "cell_type": "code",
      "source": [
        "# Seaborn is a library for making statistical graphics in Python. \n",
        "# It builds on top of matplotlib and integrates closely with pandas data structures.\n",
        "import seaborn as sns\n",
        "sns.boxplot(nutrition_DF['saturated_fat'])"
      ],
      "metadata": {
        "colab": {
          "base_uri": "https://localhost:8080/",
          "height": 352
        },
        "id": "dAiaBhfjPxUT",
        "outputId": "b9d2df7f-14ac-42b5-f85d-bff74470d687"
      },
      "execution_count": 74,
      "outputs": [
        {
          "output_type": "stream",
          "name": "stderr",
          "text": [
            "/usr/local/lib/python3.7/dist-packages/seaborn/_decorators.py:43: FutureWarning: Pass the following variable as a keyword arg: x. From version 0.12, the only valid positional argument will be `data`, and passing other arguments without an explicit keyword will result in an error or misinterpretation.\n",
            "  FutureWarning\n"
          ]
        },
        {
          "output_type": "execute_result",
          "data": {
            "text/plain": [
              "<matplotlib.axes._subplots.AxesSubplot at 0x7fc33eec8cd0>"
            ]
          },
          "metadata": {},
          "execution_count": 74
        },
        {
          "output_type": "display_data",
          "data": {
            "text/plain": [
              "<Figure size 432x288 with 1 Axes>"
            ],
            "image/png": "[encoded data removed]"
          },
          "metadata": {
            "needs_background": "light"
          }
        }
      ]
    },
    {
      "cell_type": "code",
      "source": [
        "# Seaborn is a library for making statistical graphics in Python. \n",
        "# It builds on top of matplotlib and integrates closely with pandas data structures.\n",
        "import seaborn as sns\n",
        "sns.boxplot(nutrition_DF['cholesterol'])"
      ],
      "metadata": {
        "colab": {
          "base_uri": "https://localhost:8080/",
          "height": 351
        },
        "id": "G2fBP2_jPx3o",
        "outputId": "acbbdeb6-049f-45b9-f80e-c08a8d55ecd2"
      },
      "execution_count": 75,
      "outputs": [
        {
          "output_type": "stream",
          "name": "stderr",
          "text": [
            "/usr/local/lib/python3.7/dist-packages/seaborn/_decorators.py:43: FutureWarning: Pass the following variable as a keyword arg: x. From version 0.12, the only valid positional argument will be `data`, and passing other arguments without an explicit keyword will result in an error or misinterpretation.\n",
            "  FutureWarning\n"
          ]
        },
        {
          "output_type": "execute_result",
          "data": {
            "text/plain": [
              "<matplotlib.axes._subplots.AxesSubplot at 0x7fc33ee31410>"
            ]
          },
          "metadata": {},
          "execution_count": 75
        },
        {
          "output_type": "display_data",
          "data": {
            "text/plain": [
              "<Figure size 432x288 with 1 Axes>"
            ],
            "image/png": "[encoded data removed]"
          },
          "metadata": {
            "needs_background": "light"
          }
        }
      ]
    },
    {
      "cell_type": "code",
      "source": [
        "# Seaborn is a library for making statistical graphics in Python. \n",
        "# It builds on top of matplotlib and integrates closely with pandas data structures.\n",
        "import seaborn as sns\n",
        "sns.boxplot(nutrition_DF['saturated_fat_per_gram'])"
      ],
      "metadata": {
        "colab": {
          "base_uri": "https://localhost:8080/",
          "height": 352
        },
        "id": "wUyeCnIAPyT1",
        "outputId": "aea180be-7d73-4cb3-fe39-8f4859430c9e"
      },
      "execution_count": 76,
      "outputs": [
        {
          "output_type": "stream",
          "name": "stderr",
          "text": [
            "/usr/local/lib/python3.7/dist-packages/seaborn/_decorators.py:43: FutureWarning: Pass the following variable as a keyword arg: x. From version 0.12, the only valid positional argument will be `data`, and passing other arguments without an explicit keyword will result in an error or misinterpretation.\n",
            "  FutureWarning\n"
          ]
        },
        {
          "output_type": "execute_result",
          "data": {
            "text/plain": [
              "<matplotlib.axes._subplots.AxesSubplot at 0x7fc33edb2550>"
            ]
          },
          "metadata": {},
          "execution_count": 76
        },
        {
          "output_type": "display_data",
          "data": {
            "text/plain": [
              "<Figure size 432x288 with 1 Axes>"
            ],
            "image/png": "[encoded data removed]"
          },
          "metadata": {
            "needs_background": "light"
          }
        }
      ]
    },
    {
      "cell_type": "markdown",
      "source": [
        "**References:**\n",
        "\n",
        "\n",
        "\n",
        "*  https://medium.datadriveninvestor.com/finding-outliers-in-dataset-using-python-efc3fce6ce32  \n",
        "\n",
        "used for the findind the outliers and standardizing.\n",
        "\n"
      ],
      "metadata": {
        "id": "Ql4h4V2-QZ_a"
      }
    },
    {
      "cell_type": "markdown",
      "source": [
        "**Summary of my Findings:**\n",
        "\n",
        "* For saturated data set found by using the asceding value found the top highest five items\n",
        "*Created a new variable saturated_fat_per_gram and found the highest saturated items and which food has the highest saturated fat per gram i.e., BUTTER; SALTED 1 TBSP\n",
        "* By using standardize (zero mean) found all the outliers for all the numerical data and the density plot of saturated fat per gram"
      ],
      "metadata": {
        "id": "DcCyu1vcQcD0"
      }
    }
  ]
}